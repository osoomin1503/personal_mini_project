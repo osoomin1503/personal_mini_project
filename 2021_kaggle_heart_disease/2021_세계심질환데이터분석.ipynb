{
 "cells": [
  {
   "cell_type": "code",
   "execution_count": 1,
   "id": "digital-vegetarian",
   "metadata": {
    "_cell_guid": "b1076dfc-b9ad-4769-8c92-a6c4dae69d19",
    "_uuid": "8f2839f25d086af736a60e9eeb907d3b93b6e0e5",
    "execution": {
     "iopub.execute_input": "2021-12-16T07:13:13.773745Z",
     "iopub.status.busy": "2021-12-16T07:13:13.769621Z",
     "iopub.status.idle": "2021-12-16T07:13:13.791921Z",
     "shell.execute_reply": "2021-12-16T07:13:13.791077Z",
     "shell.execute_reply.started": "2021-06-17T12:06:35.488092Z"
    },
    "papermill": {
     "duration": 0.085584,
     "end_time": "2021-12-16T07:13:13.792131",
     "exception": false,
     "start_time": "2021-12-16T07:13:13.706547",
     "status": "completed"
    },
    "tags": []
   },
   "outputs": [
    {
     "name": "stdout",
     "output_type": "stream",
     "text": [
      "/kaggle/input/heart-disease-uci/heart.csv\n"
     ]
    }
   ],
   "source": [
    "# This Python 3 environment comes with many helpful analytics libraries installed\n",
    "# It is defined by the kaggle/python Docker image: https://github.com/kaggle/docker-python\n",
    "# For example, here's several helpful packages to load\n",
    "\n",
    "import numpy as np # linear algebra\n",
    "import pandas as pd # data processing, CSV file I/O (e.g. pd.read_csv)\n",
    "\n",
    "# Input data files are available in the read-only \"../input/\" directory\n",
    "# For example, running this (by clicking run or pressing Shift+Enter) will list all files under the input directory\n",
    "\n",
    "import os\n",
    "for dirname, _, filenames in os.walk('/kaggle/input'):\n",
    "    for filename in filenames:\n",
    "        print(os.path.join(dirname, filename))\n",
    "\n",
    "# You can write up to 20GB to the current directory (/kaggle/working/) that gets preserved as output when you create a version using \"Save & Run All\" \n",
    "# You can also write temporary files to /kaggle/temp/, but they won't be saved outside of the current session"
   ]
  },
  {
   "cell_type": "code",
   "execution_count": 2,
   "id": "curious-closer",
   "metadata": {
    "execution": {
     "iopub.execute_input": "2021-12-16T07:13:13.900251Z",
     "iopub.status.busy": "2021-12-16T07:13:13.899532Z",
     "iopub.status.idle": "2021-12-16T07:13:18.482929Z",
     "shell.execute_reply": "2021-12-16T07:13:18.483782Z",
     "shell.execute_reply.started": "2021-06-17T12:06:37.380906Z"
    },
    "papermill": {
     "duration": 4.63879,
     "end_time": "2021-12-16T07:13:18.484020",
     "exception": false,
     "start_time": "2021-12-16T07:13:13.845230",
     "status": "completed"
    },
    "tags": []
   },
   "outputs": [],
   "source": [
    "#라이브러리와 app 데이터 세트 로딩\n",
    "import numpy as np\n",
    "import pandas as pd\n",
    "import gc\n",
    "import time\n",
    "\n",
    "%matplotlib inline\n",
    "\n",
    "# Suppress warnings \n",
    "import warnings\n",
    "warnings.filterwarnings('ignore')\n",
    "\n",
    "# matplotlib and seaborn for plotting\n",
    "import matplotlib.pyplot as plt\n",
    "import seaborn as sns\n",
    "import plotly.express as px\n",
    "import plotly\n",
    "import plotly.figure_factory as ff\n",
    "import plotly.graph_objects as go\n",
    "from plotly.offline import iplot\n",
    "\n",
    "# 화면크기 설정\n",
    "pd.set_option('display.max_rows', 100)\n",
    "pd.set_option('display.max_columns', 200)"
   ]
  },
  {
   "cell_type": "code",
   "execution_count": 3,
   "id": "simplified-borough",
   "metadata": {
    "execution": {
     "iopub.execute_input": "2021-12-16T07:13:18.606723Z",
     "iopub.status.busy": "2021-12-16T07:13:18.606041Z",
     "iopub.status.idle": "2021-12-16T07:13:18.677607Z",
     "shell.execute_reply": "2021-12-16T07:13:18.678166Z",
     "shell.execute_reply.started": "2021-06-17T12:06:40.284615Z"
    },
    "papermill": {
     "duration": 0.132258,
     "end_time": "2021-12-16T07:13:18.678423",
     "exception": false,
     "start_time": "2021-12-16T07:13:18.546165",
     "status": "completed"
    },
    "tags": []
   },
   "outputs": [
    {
     "name": "stdout",
     "output_type": "stream",
     "text": [
      "Testing data shape: (303, 14)\n"
     ]
    },
    {
     "data": {
      "text/html": [
       "<div>\n",
       "<style scoped>\n",
       "    .dataframe tbody tr th:only-of-type {\n",
       "        vertical-align: middle;\n",
       "    }\n",
       "\n",
       "    .dataframe tbody tr th {\n",
       "        vertical-align: top;\n",
       "    }\n",
       "\n",
       "    .dataframe thead th {\n",
       "        text-align: right;\n",
       "    }\n",
       "</style>\n",
       "<table border=\"1\" class=\"dataframe\">\n",
       "  <thead>\n",
       "    <tr style=\"text-align: right;\">\n",
       "      <th></th>\n",
       "      <th>age</th>\n",
       "      <th>sex</th>\n",
       "      <th>cp</th>\n",
       "      <th>trestbps</th>\n",
       "      <th>chol</th>\n",
       "      <th>fbs</th>\n",
       "      <th>restecg</th>\n",
       "      <th>thalach</th>\n",
       "      <th>exang</th>\n",
       "      <th>oldpeak</th>\n",
       "      <th>slope</th>\n",
       "      <th>ca</th>\n",
       "      <th>thal</th>\n",
       "      <th>target</th>\n",
       "    </tr>\n",
       "  </thead>\n",
       "  <tbody>\n",
       "    <tr>\n",
       "      <th>0</th>\n",
       "      <td>63</td>\n",
       "      <td>1</td>\n",
       "      <td>3</td>\n",
       "      <td>145</td>\n",
       "      <td>233</td>\n",
       "      <td>1</td>\n",
       "      <td>0</td>\n",
       "      <td>150</td>\n",
       "      <td>0</td>\n",
       "      <td>2.3</td>\n",
       "      <td>0</td>\n",
       "      <td>0</td>\n",
       "      <td>1</td>\n",
       "      <td>1</td>\n",
       "    </tr>\n",
       "    <tr>\n",
       "      <th>1</th>\n",
       "      <td>37</td>\n",
       "      <td>1</td>\n",
       "      <td>2</td>\n",
       "      <td>130</td>\n",
       "      <td>250</td>\n",
       "      <td>0</td>\n",
       "      <td>1</td>\n",
       "      <td>187</td>\n",
       "      <td>0</td>\n",
       "      <td>3.5</td>\n",
       "      <td>0</td>\n",
       "      <td>0</td>\n",
       "      <td>2</td>\n",
       "      <td>1</td>\n",
       "    </tr>\n",
       "    <tr>\n",
       "      <th>2</th>\n",
       "      <td>41</td>\n",
       "      <td>0</td>\n",
       "      <td>1</td>\n",
       "      <td>130</td>\n",
       "      <td>204</td>\n",
       "      <td>0</td>\n",
       "      <td>0</td>\n",
       "      <td>172</td>\n",
       "      <td>0</td>\n",
       "      <td>1.4</td>\n",
       "      <td>2</td>\n",
       "      <td>0</td>\n",
       "      <td>2</td>\n",
       "      <td>1</td>\n",
       "    </tr>\n",
       "    <tr>\n",
       "      <th>3</th>\n",
       "      <td>56</td>\n",
       "      <td>1</td>\n",
       "      <td>1</td>\n",
       "      <td>120</td>\n",
       "      <td>236</td>\n",
       "      <td>0</td>\n",
       "      <td>1</td>\n",
       "      <td>178</td>\n",
       "      <td>0</td>\n",
       "      <td>0.8</td>\n",
       "      <td>2</td>\n",
       "      <td>0</td>\n",
       "      <td>2</td>\n",
       "      <td>1</td>\n",
       "    </tr>\n",
       "    <tr>\n",
       "      <th>4</th>\n",
       "      <td>57</td>\n",
       "      <td>0</td>\n",
       "      <td>0</td>\n",
       "      <td>120</td>\n",
       "      <td>354</td>\n",
       "      <td>0</td>\n",
       "      <td>1</td>\n",
       "      <td>163</td>\n",
       "      <td>1</td>\n",
       "      <td>0.6</td>\n",
       "      <td>2</td>\n",
       "      <td>0</td>\n",
       "      <td>2</td>\n",
       "      <td>1</td>\n",
       "    </tr>\n",
       "  </tbody>\n",
       "</table>\n",
       "</div>"
      ],
      "text/plain": [
       "   age  sex  cp  trestbps  chol  fbs  restecg  thalach  exang  oldpeak  slope  \\\n",
       "0   63    1   3       145   233    1        0      150      0      2.3      0   \n",
       "1   37    1   2       130   250    0        1      187      0      3.5      0   \n",
       "2   41    0   1       130   204    0        0      172      0      1.4      2   \n",
       "3   56    1   1       120   236    0        1      178      0      0.8      2   \n",
       "4   57    0   0       120   354    0        1      163      1      0.6      2   \n",
       "\n",
       "   ca  thal  target  \n",
       "0   0     1       1  \n",
       "1   0     2       1  \n",
       "2   0     2       1  \n",
       "3   0     2       1  \n",
       "4   0     2       1  "
      ]
     },
     "execution_count": 3,
     "metadata": {},
     "output_type": "execute_result"
    }
   ],
   "source": [
    "# 파일 읽어오기\n",
    "\n",
    "heart=pd.read_csv(\"../input/heart-disease-uci/heart.csv\")\n",
    "print('Testing data shape:', heart.shape)\n",
    "heart.head()"
   ]
  },
  {
   "cell_type": "code",
   "execution_count": 4,
   "id": "smaller-sandwich",
   "metadata": {
    "execution": {
     "iopub.execute_input": "2021-12-16T07:13:18.810416Z",
     "iopub.status.busy": "2021-12-16T07:13:18.809408Z",
     "iopub.status.idle": "2021-12-16T07:13:18.818815Z",
     "shell.execute_reply": "2021-12-16T07:13:18.819637Z",
     "shell.execute_reply.started": "2021-06-17T12:06:43.949599Z"
    },
    "papermill": {
     "duration": 0.083711,
     "end_time": "2021-12-16T07:13:18.819959",
     "exception": false,
     "start_time": "2021-12-16T07:13:18.736248",
     "status": "completed"
    },
    "tags": []
   },
   "outputs": [
    {
     "data": {
      "text/plain": [
       "Index(['age', 'sex', 'cp', 'trestbps', 'chol', 'fbs', 'restecg', 'thalach',\n",
       "       'exang', 'oldpeak', 'slope', 'ca', 'thal', 'target'],\n",
       "      dtype='object')"
      ]
     },
     "execution_count": 4,
     "metadata": {},
     "output_type": "execute_result"
    }
   ],
   "source": [
    "heart.columns"
   ]
  },
  {
   "attachments": {},
   "cell_type": "markdown",
   "id": "express-charity",
   "metadata": {
    "papermill": {
     "duration": 0.05374,
     "end_time": "2021-12-16T07:13:18.936188",
     "exception": false,
     "start_time": "2021-12-16T07:13:18.882448",
     "status": "completed"
    },
    "tags": []
   },
   "source": [
    "### -columns 값 정의 - \n",
    "<span style=\"font-size:14px\"> 1. age : 연령 <br> 2. sex : 성(1=남자, 0=여자) <br> 3. cp : 가슴 통증 유형 (1-4) <br> 4. trestbps : 휴식 혈압 <br> 5. chol : mg/dl의 혈청 콜레스트랄 <br> 6. fbs : 금식 혈당 > 120 mg/dl <br> 7. restecg : 휴식 심전도 결과 (값 0,1,2) <br> 8. thalach : 최대 심박수 달성 <br> 9. exang : 운동 유도 협심증 <br> 10. oldpeak : 올드피크 = ST 우울증은 휴식에 상대적인 운동에 의해 유도<br> 11. slope : 피크 연습 ST 세그먼트의 경사 <br> 12. ca : 밀가루에 의해 착색 된 주요 선박 (0-3)의 수 <br> 13. thal : thal: 3 = 정상; 6 = 고정 결함; 7 = 뒤집을 수 있는 결함 <br> 14. target : 심장마비 발생유무 (1=발생, 0=미발생) </span>"
   ]
  },
  {
   "cell_type": "code",
   "execution_count": 5,
   "id": "applicable-warning",
   "metadata": {
    "execution": {
     "iopub.execute_input": "2021-12-16T07:13:19.076479Z",
     "iopub.status.busy": "2021-12-16T07:13:19.049365Z",
     "iopub.status.idle": "2021-12-16T07:13:19.081555Z",
     "shell.execute_reply": "2021-12-16T07:13:19.082423Z",
     "shell.execute_reply.started": "2021-06-17T12:09:17.056176Z"
    },
    "papermill": {
     "duration": 0.092594,
     "end_time": "2021-12-16T07:13:19.082695",
     "exception": false,
     "start_time": "2021-12-16T07:13:18.990101",
     "status": "completed"
    },
    "tags": []
   },
   "outputs": [
    {
     "name": "stdout",
     "output_type": "stream",
     "text": [
      "<class 'pandas.core.frame.DataFrame'>\n",
      "RangeIndex: 303 entries, 0 to 302\n",
      "Data columns (total 14 columns):\n",
      " #   Column    Non-Null Count  Dtype  \n",
      "---  ------    --------------  -----  \n",
      " 0   age       303 non-null    int64  \n",
      " 1   sex       303 non-null    int64  \n",
      " 2   cp        303 non-null    int64  \n",
      " 3   trestbps  303 non-null    int64  \n",
      " 4   chol      303 non-null    int64  \n",
      " 5   fbs       303 non-null    int64  \n",
      " 6   restecg   303 non-null    int64  \n",
      " 7   thalach   303 non-null    int64  \n",
      " 8   exang     303 non-null    int64  \n",
      " 9   oldpeak   303 non-null    float64\n",
      " 10  slope     303 non-null    int64  \n",
      " 11  ca        303 non-null    int64  \n",
      " 12  thal      303 non-null    int64  \n",
      " 13  target    303 non-null    int64  \n",
      "dtypes: float64(1), int64(13)\n",
      "memory usage: 33.3 KB\n"
     ]
    }
   ],
   "source": [
    "heart.info()\n",
    "#모든 변수에 대해 결측치가 없음을 확인함 --> 결측치 처리 불필요함"
   ]
  },
  {
   "cell_type": "code",
   "execution_count": 64,
   "id": "first-large",
   "metadata": {
    "execution": {
     "iopub.execute_input": "2021-12-16T07:13:19.207388Z",
     "iopub.status.busy": "2021-12-16T07:13:19.206588Z",
     "iopub.status.idle": "2021-12-16T07:13:19.213553Z",
     "shell.execute_reply": "2021-12-16T07:13:19.214186Z",
     "shell.execute_reply.started": "2021-06-17T12:09:21.050606Z"
    },
    "papermill": {
     "duration": 0.066918,
     "end_time": "2021-12-16T07:13:19.214379",
     "exception": false,
     "start_time": "2021-12-16T07:13:19.147461",
     "status": "completed"
    },
    "tags": []
   },
   "outputs": [],
   "source": [
    "# 시각화를 했을 때의 가독성을 위해 column의 이름을 자세히 재구성한다.\n",
    "\n",
    "heart.columns = ['age','sex','chest_pain','resting_blood_pressure','cholesterol',\n",
    "                 'fasting_blood_sugar','rest_ecg','max_heart_rate','exercise_angina',\n",
    "                 'st_depression','st_slope','num_major_vessels','thalassemia','target']"
   ]
  },
  {
   "cell_type": "code",
   "execution_count": 65,
   "id": "american-preview",
   "metadata": {
    "execution": {
     "iopub.execute_input": "2021-12-16T07:13:19.323685Z",
     "iopub.status.busy": "2021-12-16T07:13:19.323014Z",
     "iopub.status.idle": "2021-12-16T07:13:19.339698Z",
     "shell.execute_reply": "2021-12-16T07:13:19.340324Z",
     "shell.execute_reply.started": "2021-06-17T12:09:22.368971Z"
    },
    "papermill": {
     "duration": 0.071974,
     "end_time": "2021-12-16T07:13:19.340502",
     "exception": false,
     "start_time": "2021-12-16T07:13:19.268528",
     "status": "completed"
    },
    "tags": []
   },
   "outputs": [
    {
     "data": {
      "text/html": [
       "<div>\n",
       "<style scoped>\n",
       "    .dataframe tbody tr th:only-of-type {\n",
       "        vertical-align: middle;\n",
       "    }\n",
       "\n",
       "    .dataframe tbody tr th {\n",
       "        vertical-align: top;\n",
       "    }\n",
       "\n",
       "    .dataframe thead th {\n",
       "        text-align: right;\n",
       "    }\n",
       "</style>\n",
       "<table border=\"1\" class=\"dataframe\">\n",
       "  <thead>\n",
       "    <tr style=\"text-align: right;\">\n",
       "      <th></th>\n",
       "      <th>age</th>\n",
       "      <th>sex</th>\n",
       "      <th>chest_pain</th>\n",
       "      <th>resting_blood_pressure</th>\n",
       "      <th>cholesterol</th>\n",
       "      <th>fasting_blood_sugar</th>\n",
       "      <th>rest_ecg</th>\n",
       "      <th>max_heart_rate</th>\n",
       "      <th>exercise_angina</th>\n",
       "      <th>st_depression</th>\n",
       "      <th>st_slope</th>\n",
       "      <th>num_major_vessels</th>\n",
       "      <th>thalassemia</th>\n",
       "      <th>target</th>\n",
       "    </tr>\n",
       "  </thead>\n",
       "  <tbody>\n",
       "    <tr>\n",
       "      <th>0</th>\n",
       "      <td>63</td>\n",
       "      <td>1</td>\n",
       "      <td>3</td>\n",
       "      <td>145</td>\n",
       "      <td>233</td>\n",
       "      <td>1</td>\n",
       "      <td>0</td>\n",
       "      <td>150</td>\n",
       "      <td>0</td>\n",
       "      <td>2.3</td>\n",
       "      <td>0</td>\n",
       "      <td>0</td>\n",
       "      <td>1</td>\n",
       "      <td>1</td>\n",
       "    </tr>\n",
       "    <tr>\n",
       "      <th>1</th>\n",
       "      <td>37</td>\n",
       "      <td>1</td>\n",
       "      <td>2</td>\n",
       "      <td>130</td>\n",
       "      <td>250</td>\n",
       "      <td>0</td>\n",
       "      <td>1</td>\n",
       "      <td>187</td>\n",
       "      <td>0</td>\n",
       "      <td>3.5</td>\n",
       "      <td>0</td>\n",
       "      <td>0</td>\n",
       "      <td>2</td>\n",
       "      <td>1</td>\n",
       "    </tr>\n",
       "    <tr>\n",
       "      <th>2</th>\n",
       "      <td>41</td>\n",
       "      <td>0</td>\n",
       "      <td>1</td>\n",
       "      <td>130</td>\n",
       "      <td>204</td>\n",
       "      <td>0</td>\n",
       "      <td>0</td>\n",
       "      <td>172</td>\n",
       "      <td>0</td>\n",
       "      <td>1.4</td>\n",
       "      <td>2</td>\n",
       "      <td>0</td>\n",
       "      <td>2</td>\n",
       "      <td>1</td>\n",
       "    </tr>\n",
       "    <tr>\n",
       "      <th>3</th>\n",
       "      <td>56</td>\n",
       "      <td>1</td>\n",
       "      <td>1</td>\n",
       "      <td>120</td>\n",
       "      <td>236</td>\n",
       "      <td>0</td>\n",
       "      <td>1</td>\n",
       "      <td>178</td>\n",
       "      <td>0</td>\n",
       "      <td>0.8</td>\n",
       "      <td>2</td>\n",
       "      <td>0</td>\n",
       "      <td>2</td>\n",
       "      <td>1</td>\n",
       "    </tr>\n",
       "    <tr>\n",
       "      <th>4</th>\n",
       "      <td>57</td>\n",
       "      <td>0</td>\n",
       "      <td>0</td>\n",
       "      <td>120</td>\n",
       "      <td>354</td>\n",
       "      <td>0</td>\n",
       "      <td>1</td>\n",
       "      <td>163</td>\n",
       "      <td>1</td>\n",
       "      <td>0.6</td>\n",
       "      <td>2</td>\n",
       "      <td>0</td>\n",
       "      <td>2</td>\n",
       "      <td>1</td>\n",
       "    </tr>\n",
       "  </tbody>\n",
       "</table>\n",
       "</div>"
      ],
      "text/plain": [
       "   age  sex  chest_pain  resting_blood_pressure  cholesterol  \\\n",
       "0   63    1           3                     145          233   \n",
       "1   37    1           2                     130          250   \n",
       "2   41    0           1                     130          204   \n",
       "3   56    1           1                     120          236   \n",
       "4   57    0           0                     120          354   \n",
       "\n",
       "   fasting_blood_sugar  rest_ecg  max_heart_rate  exercise_angina  \\\n",
       "0                    1         0             150                0   \n",
       "1                    0         1             187                0   \n",
       "2                    0         0             172                0   \n",
       "3                    0         1             178                0   \n",
       "4                    0         1             163                1   \n",
       "\n",
       "   st_depression  st_slope  num_major_vessels  thalassemia  target  \n",
       "0            2.3         0                  0            1       1  \n",
       "1            3.5         0                  0            2       1  \n",
       "2            1.4         2                  0            2       1  \n",
       "3            0.8         2                  0            2       1  \n",
       "4            0.6         2                  0            2       1  "
      ]
     },
     "execution_count": 65,
     "metadata": {},
     "output_type": "execute_result"
    }
   ],
   "source": [
    "heart.head()"
   ]
  },
  {
   "cell_type": "code",
   "execution_count": 8,
   "id": "regulated-number",
   "metadata": {
    "execution": {
     "iopub.execute_input": "2021-12-16T07:13:19.448980Z",
     "iopub.status.busy": "2021-12-16T07:13:19.448267Z",
     "iopub.status.idle": "2021-12-16T07:13:19.452714Z",
     "shell.execute_reply": "2021-12-16T07:13:19.453268Z",
     "shell.execute_reply.started": "2021-06-17T12:09:24.057623Z"
    },
    "papermill": {
     "duration": 0.059193,
     "end_time": "2021-12-16T07:13:19.453449",
     "exception": false,
     "start_time": "2021-12-16T07:13:19.394256",
     "status": "completed"
    },
    "tags": []
   },
   "outputs": [],
   "source": [
    "heart1 = heart.copy() # 숫자로 이루어진 파일 복사본"
   ]
  },
  {
   "cell_type": "code",
   "execution_count": 68,
   "id": "swiss-witness",
   "metadata": {
    "execution": {
     "iopub.execute_input": "2021-12-16T07:13:19.564635Z",
     "iopub.status.busy": "2021-12-16T07:13:19.563941Z",
     "iopub.status.idle": "2021-12-16T07:13:19.582350Z",
     "shell.execute_reply": "2021-12-16T07:13:19.582941Z",
     "shell.execute_reply.started": "2021-06-17T12:09:29.688506Z"
    },
    "papermill": {
     "duration": 0.075933,
     "end_time": "2021-12-16T07:13:19.583129",
     "exception": false,
     "start_time": "2021-12-16T07:13:19.507196",
     "status": "completed"
    },
    "tags": []
   },
   "outputs": [],
   "source": [
    "#heart의 각 속성에 맞게 숫자에 해당하는 문자열을 대체한다.\n",
    "\n",
    "heart.sex = heart.sex.map({0:'female',1:'male'})\n",
    "heart.chest_pain = heart.chest_pain.map({1:'angina pectoris',2:'atypical angina', 3:'non-anginal pain',4:'SMI', 0:'absent'})\n",
    "heart.fasting_blood_sugar = heart.fasting_blood_sugar.map({0:'lower than 120mg/ml',1:'greater than 120mg/ml'})\n",
    "heart.exercise_angina = heart.exercise_angina.map({0:'no', 1:'yes'})\n",
    "heart.st_slope = heart.st_slope.map({1:'upsloping', 2:'horizontal',3:'downsloping', 0:'absent'})\n",
    "heart.thalassemia = heart.thalassemia.map({1:'normal', 2:'fixed defect', 3:'reversable defect',0:'absent'})\n",
    "heart.target = heart.target.map({0:'No Heart Disease',1:'Heart Disease'})"
   ]
  },
  {
   "cell_type": "code",
   "execution_count": 69,
   "id": "protective-reply",
   "metadata": {
    "execution": {
     "iopub.execute_input": "2021-12-16T07:13:19.692769Z",
     "iopub.status.busy": "2021-12-16T07:13:19.692105Z",
     "iopub.status.idle": "2021-12-16T07:13:19.710149Z",
     "shell.execute_reply": "2021-12-16T07:13:19.710705Z",
     "shell.execute_reply.started": "2021-06-17T12:09:37.209108Z"
    },
    "papermill": {
     "duration": 0.076571,
     "end_time": "2021-12-16T07:13:19.710903",
     "exception": false,
     "start_time": "2021-12-16T07:13:19.634332",
     "status": "completed"
    },
    "tags": []
   },
   "outputs": [
    {
     "data": {
      "text/html": [
       "<div>\n",
       "<style scoped>\n",
       "    .dataframe tbody tr th:only-of-type {\n",
       "        vertical-align: middle;\n",
       "    }\n",
       "\n",
       "    .dataframe tbody tr th {\n",
       "        vertical-align: top;\n",
       "    }\n",
       "\n",
       "    .dataframe thead th {\n",
       "        text-align: right;\n",
       "    }\n",
       "</style>\n",
       "<table border=\"1\" class=\"dataframe\">\n",
       "  <thead>\n",
       "    <tr style=\"text-align: right;\">\n",
       "      <th></th>\n",
       "      <th>age</th>\n",
       "      <th>sex</th>\n",
       "      <th>chest_pain</th>\n",
       "      <th>resting_blood_pressure</th>\n",
       "      <th>cholesterol</th>\n",
       "      <th>fasting_blood_sugar</th>\n",
       "      <th>rest_ecg</th>\n",
       "      <th>max_heart_rate</th>\n",
       "      <th>exercise_angina</th>\n",
       "      <th>st_depression</th>\n",
       "      <th>st_slope</th>\n",
       "      <th>num_major_vessels</th>\n",
       "      <th>thalassemia</th>\n",
       "      <th>target</th>\n",
       "    </tr>\n",
       "  </thead>\n",
       "  <tbody>\n",
       "    <tr>\n",
       "      <th>0</th>\n",
       "      <td>63</td>\n",
       "      <td>male</td>\n",
       "      <td>non-anginal pain</td>\n",
       "      <td>145</td>\n",
       "      <td>233</td>\n",
       "      <td>greater than 120mg/ml</td>\n",
       "      <td>0</td>\n",
       "      <td>150</td>\n",
       "      <td>no</td>\n",
       "      <td>2.3</td>\n",
       "      <td>absent</td>\n",
       "      <td>0</td>\n",
       "      <td>normal</td>\n",
       "      <td>Heart Disease</td>\n",
       "    </tr>\n",
       "    <tr>\n",
       "      <th>1</th>\n",
       "      <td>37</td>\n",
       "      <td>male</td>\n",
       "      <td>atypical angina</td>\n",
       "      <td>130</td>\n",
       "      <td>250</td>\n",
       "      <td>lower than 120mg/ml</td>\n",
       "      <td>1</td>\n",
       "      <td>187</td>\n",
       "      <td>no</td>\n",
       "      <td>3.5</td>\n",
       "      <td>absent</td>\n",
       "      <td>0</td>\n",
       "      <td>fixed defect</td>\n",
       "      <td>Heart Disease</td>\n",
       "    </tr>\n",
       "    <tr>\n",
       "      <th>2</th>\n",
       "      <td>41</td>\n",
       "      <td>female</td>\n",
       "      <td>angina pectoris</td>\n",
       "      <td>130</td>\n",
       "      <td>204</td>\n",
       "      <td>lower than 120mg/ml</td>\n",
       "      <td>0</td>\n",
       "      <td>172</td>\n",
       "      <td>no</td>\n",
       "      <td>1.4</td>\n",
       "      <td>horizontal</td>\n",
       "      <td>0</td>\n",
       "      <td>fixed defect</td>\n",
       "      <td>Heart Disease</td>\n",
       "    </tr>\n",
       "    <tr>\n",
       "      <th>3</th>\n",
       "      <td>56</td>\n",
       "      <td>male</td>\n",
       "      <td>angina pectoris</td>\n",
       "      <td>120</td>\n",
       "      <td>236</td>\n",
       "      <td>lower than 120mg/ml</td>\n",
       "      <td>1</td>\n",
       "      <td>178</td>\n",
       "      <td>no</td>\n",
       "      <td>0.8</td>\n",
       "      <td>horizontal</td>\n",
       "      <td>0</td>\n",
       "      <td>fixed defect</td>\n",
       "      <td>Heart Disease</td>\n",
       "    </tr>\n",
       "    <tr>\n",
       "      <th>4</th>\n",
       "      <td>57</td>\n",
       "      <td>female</td>\n",
       "      <td>absent</td>\n",
       "      <td>120</td>\n",
       "      <td>354</td>\n",
       "      <td>lower than 120mg/ml</td>\n",
       "      <td>1</td>\n",
       "      <td>163</td>\n",
       "      <td>yes</td>\n",
       "      <td>0.6</td>\n",
       "      <td>horizontal</td>\n",
       "      <td>0</td>\n",
       "      <td>fixed defect</td>\n",
       "      <td>Heart Disease</td>\n",
       "    </tr>\n",
       "  </tbody>\n",
       "</table>\n",
       "</div>"
      ],
      "text/plain": [
       "   age     sex        chest_pain  resting_blood_pressure  cholesterol  \\\n",
       "0   63    male  non-anginal pain                     145          233   \n",
       "1   37    male   atypical angina                     130          250   \n",
       "2   41  female   angina pectoris                     130          204   \n",
       "3   56    male   angina pectoris                     120          236   \n",
       "4   57  female            absent                     120          354   \n",
       "\n",
       "     fasting_blood_sugar  rest_ecg  max_heart_rate exercise_angina  \\\n",
       "0  greater than 120mg/ml         0             150              no   \n",
       "1    lower than 120mg/ml         1             187              no   \n",
       "2    lower than 120mg/ml         0             172              no   \n",
       "3    lower than 120mg/ml         1             178              no   \n",
       "4    lower than 120mg/ml         1             163             yes   \n",
       "\n",
       "   st_depression    st_slope  num_major_vessels   thalassemia         target  \n",
       "0            2.3      absent                  0        normal  Heart Disease  \n",
       "1            3.5      absent                  0  fixed defect  Heart Disease  \n",
       "2            1.4  horizontal                  0  fixed defect  Heart Disease  \n",
       "3            0.8  horizontal                  0  fixed defect  Heart Disease  \n",
       "4            0.6  horizontal                  0  fixed defect  Heart Disease  "
      ]
     },
     "execution_count": 69,
     "metadata": {},
     "output_type": "execute_result"
    }
   ],
   "source": [
    "heart.head()"
   ]
  },
  {
   "cell_type": "code",
   "execution_count": 12,
   "id": "annual-skirt",
   "metadata": {
    "execution": {
     "iopub.execute_input": "2021-12-16T07:13:19.824415Z",
     "iopub.status.busy": "2021-12-16T07:13:19.823666Z",
     "iopub.status.idle": "2021-12-16T07:13:20.058864Z",
     "shell.execute_reply": "2021-12-16T07:13:20.059400Z",
     "shell.execute_reply.started": "2021-06-17T12:09:35.50663Z"
    },
    "papermill": {
     "duration": 0.294041,
     "end_time": "2021-12-16T07:13:20.059604",
     "exception": false,
     "start_time": "2021-12-16T07:13:19.765563",
     "status": "completed"
    },
    "tags": []
   },
   "outputs": [
    {
     "data": {
      "image/png": "[encoded data removed]",
      "text/plain": [
       "<Figure size 400x300 with 1 Axes>"
      ]
     },
     "metadata": {},
     "output_type": "display_data"
    }
   ],
   "source": [
    "#심장질환 발병전체건수\n",
    "plt.figure(figsize=(4,3))\n",
    "sns.countplot(x=\"target\", data=heart, hue=\"target\")\n",
    "plt.show()"
   ]
  },
  {
   "attachments": {},
   "cell_type": "markdown",
   "id": "fitting-setup",
   "metadata": {
    "papermill": {
     "duration": 0.052644,
     "end_time": "2021-12-16T07:13:20.166894",
     "exception": false,
     "start_time": "2021-12-16T07:13:20.114250",
     "status": "completed"
    },
    "tags": []
   },
   "source": [
    "#### Age, Sex 열"
   ]
  },
  {
   "cell_type": "code",
   "execution_count": 12,
   "id": "decent-sweden",
   "metadata": {
    "execution": {
     "iopub.execute_input": "2021-12-16T07:13:20.287142Z",
     "iopub.status.busy": "2021-12-16T07:13:20.286082Z",
     "iopub.status.idle": "2021-12-16T07:13:20.427779Z",
     "shell.execute_reply": "2021-12-16T07:13:20.427211Z",
     "shell.execute_reply.started": "2021-06-17T12:10:33.683167Z"
    },
    "papermill": {
     "duration": 0.207035,
     "end_time": "2021-12-16T07:13:20.427938",
     "exception": false,
     "start_time": "2021-12-16T07:13:20.220903",
     "status": "completed"
    },
    "tags": []
   },
   "outputs": [
    {
     "data": {
      "image/png": "[encoded data removed]",
      "text/plain": [
       "<Figure size 432x288 with 1 Axes>"
      ]
     },
     "metadata": {
      "needs_background": "light"
     },
     "output_type": "display_data"
    }
   ],
   "source": [
    "#성별에 따른 심장질환 발병건수\n",
    "plt.figure(figsize=(4,3))\n",
    "sns.countplot(x=\"sex\", data=heart, hue=\"target\")\n",
    "plt.show()"
   ]
  },
  {
   "cell_type": "code",
   "execution_count": 13,
   "id": "introductory-imagination",
   "metadata": {
    "execution": {
     "iopub.execute_input": "2021-12-16T07:13:20.540958Z",
     "iopub.status.busy": "2021-12-16T07:13:20.540221Z",
     "iopub.status.idle": "2021-12-16T07:13:20.711385Z",
     "shell.execute_reply": "2021-12-16T07:13:20.710762Z",
     "shell.execute_reply.started": "2021-06-17T12:10:52.810482Z"
    },
    "papermill": {
     "duration": 0.228342,
     "end_time": "2021-12-16T07:13:20.711533",
     "exception": false,
     "start_time": "2021-12-16T07:13:20.483191",
     "status": "completed"
    },
    "tags": []
   },
   "outputs": [
    {
     "data": {
      "application/vnd.plotly.v1+json": {
       "config": {
        "plotlyServerURL": "https://plot.ly"
       },
       "data": [
        {
         "autobinx": false,
         "histnorm": "probability density",
         "legendgroup": "age",
         "marker": {
          "color": "rgb(31, 119, 180)"
         },
         "name": "age",
         "opacity": 0.7,
         "type": "histogram",
         "x": [
          63,
          37,
          41,
          56,
          57,
          57,
          56,
          44,
          52,
          57,
          54,
          48,
          49,
          64,
          58,
          50,
          58,
          66,
          43,
          69,
          59,
          44,
          42,
          61,
          40,
          71,
          59,
          51,
          65,
          53,
          41,
          65,
          44,
          54,
          51,
          46,
          54,
          54,
          65,
          65,
          51,
          48,
          45,
          53,
          39,
          52,
          44,
          47,
          53,
          53,
          51,
          66,
          62,
          44,
          63,
          52,
          48,
          45,
          34,
          57,
          71,
          54,
          52,
          41,
          58,
          35,
          51,
          45,
          44,
          62,
          54,
          51,
          29,
          51,
          43,
          55,
          51,
          59,
          52,
          58,
          41,
          45,
          60,
          52,
          42,
          67,
          68,
          46,
          54,
          58,
          48,
          57,
          52,
          54,
          45,
          53,
          62,
          52,
          43,
          53,
          42,
          59,
          63,
          42,
          50,
          68,
          69,
          45,
          50,
          50,
          64,
          57,
          64,
          43,
          55,
          37,
          41,
          56,
          46,
          46,
          64,
          59,
          41,
          54,
          39,
          34,
          47,
          67,
          52,
          74,
          54,
          49,
          42,
          41,
          41,
          49,
          60,
          62,
          57,
          64,
          51,
          43,
          42,
          67,
          76,
          70,
          44,
          60,
          44,
          42,
          66,
          71,
          64,
          66,
          39,
          58,
          47,
          35,
          58,
          56,
          56,
          55,
          41,
          38,
          38,
          67,
          67,
          62,
          63,
          53,
          56,
          48,
          58,
          58,
          60,
          40,
          60,
          64,
          43,
          57,
          55,
          65,
          61,
          58,
          50,
          44,
          60,
          54,
          50,
          41,
          51,
          58,
          54,
          60,
          60,
          59,
          46,
          67,
          62,
          65,
          44,
          60,
          58,
          68,
          62,
          52,
          59,
          60,
          49,
          59,
          57,
          61,
          39,
          61,
          56,
          43,
          62,
          63,
          65,
          48,
          63,
          55,
          65,
          56,
          54,
          70,
          62,
          35,
          59,
          64,
          47,
          57,
          55,
          64,
          70,
          51,
          58,
          60,
          77,
          35,
          70,
          59,
          64,
          57,
          56,
          48,
          56,
          66,
          54,
          69,
          51,
          43,
          62,
          67,
          59,
          45,
          58,
          50,
          62,
          38,
          66,
          52,
          53,
          63,
          54,
          66,
          55,
          49,
          54,
          56,
          46,
          61,
          67,
          58,
          47,
          52,
          58,
          57,
          58,
          61,
          42,
          52,
          59,
          40,
          61,
          46,
          59,
          57,
          57,
          55,
          61,
          58,
          58,
          67,
          44,
          63,
          63,
          59,
          57,
          45,
          68,
          57,
          57
         ],
         "xaxis": "x",
         "xbins": {
          "end": 77,
          "size": 10,
          "start": 29
         },
         "yaxis": "y"
        },
        {
         "legendgroup": "age",
         "marker": {
          "color": "rgb(31, 119, 180)"
         },
         "mode": "lines",
         "name": "age",
         "showlegend": false,
         "type": "scatter",
         "x": [
          29,
          29.096,
          29.192,
          29.288,
          29.384,
          29.48,
          29.576,
          29.672,
          29.768,
          29.864,
          29.96,
          30.056,
          30.152,
          30.248,
          30.344,
          30.44,
          30.536,
          30.632,
          30.728,
          30.824,
          30.92,
          31.016,
          31.112000000000002,
          31.208,
          31.304,
          31.4,
          31.496,
          31.592,
          31.688,
          31.784,
          31.88,
          31.976,
          32.072,
          32.168,
          32.264,
          32.36,
          32.456,
          32.552,
          32.648,
          32.744,
          32.84,
          32.936,
          33.032,
          33.128,
          33.224000000000004,
          33.32,
          33.416,
          33.512,
          33.608,
          33.704,
          33.8,
          33.896,
          33.992,
          34.088,
          34.184,
          34.28,
          34.376,
          34.472,
          34.568,
          34.664,
          34.76,
          34.856,
          34.952,
          35.048,
          35.144,
          35.24,
          35.336,
          35.432,
          35.528,
          35.624,
          35.72,
          35.816,
          35.912,
          36.008,
          36.104,
          36.2,
          36.296,
          36.392,
          36.488,
          36.584,
          36.68,
          36.775999999999996,
          36.872,
          36.968,
          37.064,
          37.16,
          37.256,
          37.352000000000004,
          37.448,
          37.544,
          37.64,
          37.736000000000004,
          37.832,
          37.928,
          38.024,
          38.12,
          38.216,
          38.312,
          38.408,
          38.504,
          38.6,
          38.696,
          38.792,
          38.888,
          38.984,
          39.08,
          39.176,
          39.272,
          39.368,
          39.464,
          39.56,
          39.656,
          39.752,
          39.848,
          39.944,
          40.04,
          40.135999999999996,
          40.232,
          40.328,
          40.424,
          40.519999999999996,
          40.616,
          40.712,
          40.808,
          40.903999999999996,
          41,
          41.096000000000004,
          41.192,
          41.288,
          41.384,
          41.480000000000004,
          41.576,
          41.672,
          41.768,
          41.864000000000004,
          41.96,
          42.056,
          42.152,
          42.248,
          42.344,
          42.44,
          42.536,
          42.632,
          42.728,
          42.824,
          42.92,
          43.016,
          43.112,
          43.208,
          43.304,
          43.4,
          43.496,
          43.592,
          43.688,
          43.784,
          43.88,
          43.976,
          44.072,
          44.168,
          44.263999999999996,
          44.36,
          44.456,
          44.552,
          44.647999999999996,
          44.744,
          44.84,
          44.936,
          45.032,
          45.128,
          45.224000000000004,
          45.32,
          45.416,
          45.512,
          45.608000000000004,
          45.704,
          45.8,
          45.896,
          45.992000000000004,
          46.088,
          46.184,
          46.28,
          46.376000000000005,
          46.472,
          46.568,
          46.664,
          46.760000000000005,
          46.856,
          46.952,
          47.048,
          47.144,
          47.239999999999995,
          47.336,
          47.432,
          47.528,
          47.623999999999995,
          47.72,
          47.816,
          47.912,
          48.007999999999996,
          48.104,
          48.2,
          48.296,
          48.391999999999996,
          48.488,
          48.584,
          48.68,
          48.775999999999996,
          48.872,
          48.968,
          49.064,
          49.16,
          49.256,
          49.352000000000004,
          49.448,
          49.544,
          49.64,
          49.736000000000004,
          49.832,
          49.928,
          50.024,
          50.120000000000005,
          50.216,
          50.312,
          50.408,
          50.504000000000005,
          50.6,
          50.696,
          50.792,
          50.888000000000005,
          50.984,
          51.08,
          51.176,
          51.272,
          51.367999999999995,
          51.464,
          51.56,
          51.656,
          51.751999999999995,
          51.848,
          51.944,
          52.04,
          52.135999999999996,
          52.232,
          52.328,
          52.424,
          52.519999999999996,
          52.616,
          52.712,
          52.808,
          52.903999999999996,
          53,
          53.096000000000004,
          53.192,
          53.288,
          53.384,
          53.480000000000004,
          53.576,
          53.672,
          53.768,
          53.864000000000004,
          53.96,
          54.056,
          54.152,
          54.248000000000005,
          54.344,
          54.44,
          54.536,
          54.632000000000005,
          54.728,
          54.824,
          54.92,
          55.016,
          55.111999999999995,
          55.208,
          55.304,
          55.4,
          55.495999999999995,
          55.592,
          55.688,
          55.784,
          55.879999999999995,
          55.976,
          56.072,
          56.168,
          56.263999999999996,
          56.36,
          56.456,
          56.552,
          56.647999999999996,
          56.744,
          56.84,
          56.936,
          57.032,
          57.128,
          57.224000000000004,
          57.32,
          57.416,
          57.512,
          57.608000000000004,
          57.704,
          57.8,
          57.896,
          57.992000000000004,
          58.088,
          58.184,
          58.28,
          58.376000000000005,
          58.472,
          58.568,
          58.664,
          58.760000000000005,
          58.856,
          58.952,
          59.048,
          59.144,
          59.239999999999995,
          59.336,
          59.432,
          59.528,
          59.623999999999995,
          59.72,
          59.816,
          59.912,
          60.007999999999996,
          60.104,
          60.2,
          60.296,
          60.391999999999996,
          60.488,
          60.584,
          60.68,
          60.775999999999996,
          60.872,
          60.968,
          61.064,
          61.16,
          61.256,
          61.352,
          61.448,
          61.544,
          61.64,
          61.736,
          61.832,
          61.928,
          62.024,
          62.12,
          62.216,
          62.312,
          62.408,
          62.504,
          62.6,
          62.696,
          62.792,
          62.888,
          62.984,
          63.08,
          63.176,
          63.272,
          63.368,
          63.464,
          63.56,
          63.656,
          63.752,
          63.848,
          63.944,
          64.03999999999999,
          64.136,
          64.232,
          64.328,
          64.424,
          64.52000000000001,
          64.616,
          64.712,
          64.80799999999999,
          64.904,
          65,
          65.096,
          65.19200000000001,
          65.288,
          65.384,
          65.47999999999999,
          65.576,
          65.672,
          65.768,
          65.864,
          65.96000000000001,
          66.056,
          66.152,
          66.24799999999999,
          66.344,
          66.44,
          66.536,
          66.632,
          66.72800000000001,
          66.824,
          66.92,
          67.01599999999999,
          67.112,
          67.208,
          67.304,
          67.4,
          67.49600000000001,
          67.592,
          67.688,
          67.78399999999999,
          67.88,
          67.976,
          68.072,
          68.168,
          68.26400000000001,
          68.36,
          68.456,
          68.55199999999999,
          68.648,
          68.744,
          68.84,
          68.936,
          69.032,
          69.128,
          69.22399999999999,
          69.32,
          69.416,
          69.512,
          69.608,
          69.70400000000001,
          69.8,
          69.896,
          69.99199999999999,
          70.088,
          70.184,
          70.28,
          70.376,
          70.47200000000001,
          70.568,
          70.664,
          70.75999999999999,
          70.856,
          70.952,
          71.048,
          71.144,
          71.24000000000001,
          71.336,
          71.432,
          71.52799999999999,
          71.624,
          71.72,
          71.816,
          71.912,
          72.00800000000001,
          72.104,
          72.2,
          72.29599999999999,
          72.392,
          72.488,
          72.584,
          72.68,
          72.77600000000001,
          72.872,
          72.968,
          73.064,
          73.16,
          73.256,
          73.352,
          73.44800000000001,
          73.544,
          73.64,
          73.73599999999999,
          73.832,
          73.928,
          74.024,
          74.12,
          74.21600000000001,
          74.312,
          74.408,
          74.50399999999999,
          74.6,
          74.696,
          74.792,
          74.888,
          74.98400000000001,
          75.08,
          75.176,
          75.27199999999999,
          75.368,
          75.464,
          75.56,
          75.656,
          75.75200000000001,
          75.848,
          75.944,
          76.03999999999999,
          76.136,
          76.232,
          76.328,
          76.424,
          76.52000000000001,
          76.616,
          76.712,
          76.80799999999999,
          76.904
         ],
         "xaxis": "x",
         "y": [
          0.0009099964106332645,
          0.0009406348929687059,
          0.0009723768144354315,
          0.0010052703487991497,
          0.0010393640624148529,
          0.0010747067134812352,
          0.0011113470442591737,
          0.0011493335678767226,
          0.0011887143514592103,
          0.001229536797425735,
          0.0012718474248811288,
          0.0013156916531036158,
          0.0013611135891817532,
          0.0014081558218882741,
          0.0014568592238925527,
          0.0015072627644060915,
          0.0015594033343267458,
          0.0016133155858962021,
          0.001669031788811941,
          0.0017265817046391038,
          0.001785992481249922,
          0.0018472885688791637,
          0.001910491659223932,
          0.001975620648836838,
          0.0020426916278633864,
          0.0021117178949598848,
          0.0021827099989984735,
          0.0022556758079229997,
          0.0023306206048660464,
          0.0024075472113750645,
          0.0024864561373275137,
          0.002567345756843368,
          0.0026502125092308453,
          0.002735051123731182,
          0.0028218548665627664,
          0.0029106158085072218,
          0.0030013251110330504,
          0.003093973328717801,
          0.0031885507255122606,
          0.003285047602189278,
          0.0033834546321412935,
          0.003483763202533528,
          0.003585965757688159,
          0.0036900561414694986,
          0.0037960299353625195,
          0.003903884788888861,
          0.004013620738985917,
          0.004125240514986767,
          0.004238749825881523,
          0.004354157626614998,
          0.004471476360278832,
          0.00459072217319142,
          0.004711915100020781,
          0.004835079216296644,
          0.004960242755874181,
          0.005087438191152545,
          0.0052167022741141066,
          0.00534807603653356,
          0.005481604748005785,
          0.005617337830756855,
          0.0057553287305298515,
          0.005895634743173508,
          0.0060383167969047385,
          0.006183439190562112,
          0.006331069288514118,
          0.006481277173229887,
          0.0066341352568584245,
          0.0067897178534928534,
          0.006948100714114524,
          0.0071093605265181055,
          0.007273574382807056,
          0.007440819217320623,
          0.007611171218103248,
          0.007784705215255836,
          0.007961494049712612,
          0.008141607926165782,
          0.008325113754013385,
          0.0085120744803301,
          0.008702548418958603,
          0.008896588579886958,
          0.009094242003118511,
          0.009295549101251105,
          0.009500543014967196,
          0.009709248985590318,
          0.009921683748793396,
          0.01013785495344591,
          0.010357760609464126,
          0.010581388568383412,
          0.010808716040200898,
          0.01103970914984905,
          0.01127432253644984,
          0.011512498998273573,
          0.01175416918608416,
          0.011999251347295212,
          0.012247651123093487,
          0.012499261400407193,
          0.012753962220310142,
          0.013011620744157393,
          0.013272091278453088,
          0.013535215359146398,
          0.013800821895753265,
          0.014068727375398441,
          0.01433873612657479,
          0.014610640642121319,
          0.014884221960634237,
          0.015159250105240812,
          0.01543548457839486,
          0.015712674911085606,
          0.01599056126460124,
          0.016268875082743082,
          0.01654733979216017,
          0.016825671548255663,
          0.017103580023915863,
          0.017380769238124594,
          0.017656938421354025,
          0.0179317829144661,
          0.018204995097717596,
          0.018476265346337766,
          0.018745283009037356,
          0.01901173740571692,
          0.01927531884056429,
          0.019535719626669872,
          0.01979263511824509,
          0.020045764746498485,
          0.02029481305520844,
          0.02053949073203307,
          0.020779515631611418,
          0.0210146137865377,
          0.021244520402332913,
          0.02146898083259011,
          0.021687751530540103,
          0.021900600973357973,
          0.02210731055562504,
          0.022307675448457166,
          0.022501505420925688,
          0.022688625620513114,
          0.022868877309480975,
          0.023042118554160666,
          0.02320822486433063,
          0.02336708977999723,
          0.023518625403057238,
          0.023662762871497676,
          0.02379945277396,
          0.023928665502685333,
          0.024050391543047726,
          0.024164641698080736,
          0.02427144724660677,
          0.02437086003379056,
          0.02446295249315065,
          0.02454781759928929,
          0.024625568750822373,
          0.024696339583226624,
          0.024760283711554837,
          0.02481757440321231,
          0.024868404181229434,
          0.0249129843587143,
          0.024951544505420573,
          0.024984331847615785,
          0.025011610602693253,
          0.025033661250222917,
          0.02505077974139596,
          0.025063276649070213,
          0.02507147626087922,
          0.025075715618120446,
          0.025076343503382996,
          0.02507371938012399,
          0.025068212287636924,
          0.02506019969508862,
          0.02505006631852511,
          0.025038202904959336,
          0.025025004987858805,
          0.025010871618539224,
          0.024996204078151566,
          0.024981404575107776,
          0.024966874932941186,
          0.024953015273720684,
          0.024940222702251554,
          0.02492888999637921,
          0.02491940430878304,
          0.0249121458856854,
          0.02490748680792569,
          0.024905789759835494,
          0.024907406831324464,
          0.02491267835852032,
          0.024921931808221002,
          0.024935480711298273,
          0.024953623650044724,
          0.024976643304280965,
          0.025004805560834058,
          0.025038358690760817,
          0.025077532598427505,
          0.02512253814626132,
          0.02517356655867003,
          0.025230788908273658,
          0.02529435568722007,
          0.02536439646595425,
          0.025441019641389288,
          0.02552431227598051,
          0.025614340028742754,
          0.02571114717876718,
          0.02581475674130081,
          0.025925170675941696,
          0.02604237018598863,
          0.026166316107459446,
          0.026296949385768625,
          0.02643419163752907,
          0.026577945794422964,
          0.026728096825574216,
          0.02688451253435351,
          0.027047044425063685,
          0.027215528634482317,
          0.027389786922801106,
          0.02756962771807863,
          0.027754847207942905,
          0.027945230471923654,
          0.028140552647481755,
          0.028340580122530473,
          0.028545071747011305,
          0.028753780055906706,
          0.028966452495936955,
          0.029182832648108465,
          0.029402661438251425,
          0.029625678327713095,
          0.02985162247645706,
          0.030080233870957915,
          0.03031125440948484,
          0.030544428937615452,
          0.030779506227142726,
          0.031016239891902556,
          0.0312543892344736,
          0.03149372001817628,
          0.0317340051593248,
          0.03197502533525687,
          0.03221656950428054,
          0.03245843533433483,
          0.032700429537845806,
          0.03294236811098491,
          0.033184076476276976,
          0.033425389528268123,
          0.033666151582747945,
          0.03390621623079625,
          0.0341454460997172,
          0.03438371252370192,
          0.03462089512782864,
          0.03485688132976069,
          0.03509156576422596,
          0.03532484963605436,
          0.035556640008203126,
          0.035786849031810536,
          0.03601539312587389,
          0.03624219211465119,
          0.03646716833132334,
          0.03669024569682904,
          0.03691134878307799,
          0.037130401869982,
          0.0373473280058814,
          0.03756204808101274,
          0.037774479923643065,
          0.0379845374283919,
          0.03819212972607074,
          0.03839716040409746,
          0.03859952678618007,
          0.03879911927952598,
          0.03899582079730705,
          0.03918950626351867,
          0.039380042206694325,
          0.03956728644820611,
          0.039751087890080236,
          0.03993128640640444,
          0.04010771284150394,
          0.04028018911712081,
          0.04044852844986105,
          0.04061253567917516,
          0.040772007705130967,
          0.04092673403422066,
          0.04107649743043504,
          0.041221074667841716,
          0.04136023737993208,
          0.041493753000062,
          0.041621385786419496,
          0.04174289792410039,
          0.04185805069609743,
          0.04196660571428547,
          0.04206832620084949,
          0.042162978310042336,
          0.04225033247969079,
          0.04233016480149333,
          0.04240225839887629,
          0.042466404800998954,
          0.042522405301425745,
          0.04257007229001826,
          0.04260923054673822,
          0.042639718486292444,
          0.04266138934289971,
          0.04267411228490305,
          0.0426777734494891,
          0.04267227688840772,
          0.042657545416302005,
          0.04263352135404544,
          0.04260016716035098,
          0.04255746594583438,
          0.04250542186469476,
          0.04244406038018995,
          0.04237342840113593,
          0.0422935942877352,
          0.042204647726121806,
          0.0421066994720989,
          0.0419998809656222,
          0.04188434381864065,
          0.04176025917993351,
          0.041627816981574035,
          0.041487225072587106,
          0.04133870824625516,
          0.041182507168341945,
          0.04101887721425037,
          0.040848087223798554,
          0.04067041818287903,
          0.04048616184176242,
          0.04029561928020808,
          0.04009909942985193,
          0.039896917564552534,
          0.03968939376949399,
          0.03947685139986,
          0.0392596155398217,
          0.039038011472412926,
          0.03881236317061329,
          0.03858299181961827,
          0.038350214379859755,
          0.038114342199848134,
          0.037875679687348694,
          0.03763452304678873,
          0.03739115909011939,
          0.03714586412764366,
          0.036898902944566686,
          0.03665052786824802,
          0.03640097793032952,
          0.03615047812710262,
          0.03589923878065783,
          0.03564745500254682,
          0.035395306260879666,
          0.03514295605099687,
          0.03489055166909214,
          0.034638224087429594,
          0.03438608792910623,
          0.03413424153965354,
          0.0338827671521665,
          0.033631731142086174,
          0.033381184367257705,
          0.033131162588430935,
          0.032881686964977015,
          0.03263276462025474,
          0.03238438927077972,
          0.03213654191312802,
          0.031889191562338944,
          0.03164229603547203,
          0.03139580277391677,
          0.031149649698049665,
          0.030903766087877902,
          0.030658073483398364,
          0.030412486598536216,
          0.03016691424269908,
          0.029921260244192487,
          0.029675424369982772,
          0.02942930323656262,
          0.029182791206968928,
          0.02893578126931635,
          0.02868816589253912,
          0.028439837855381556,
          0.02819069104502656,
          0.027940621222115266,
          0.02768952674927061,
          0.02743730928060369,
          0.027183874410038146,
          0.02692913227664691,
          0.026672998125539884,
          0.026415392823181113,
          0.026156243326339798,
          0.02589548310419375,
          0.025633052513402917,
          0.025368899126254958,
          0.02510297801225338,
          0.02483525197376772,
          0.024565691736599844,
          0.0242942760965345,
          0.024020992023139436,
          0.02374583472225719,
          0.023468807658791318,
          0.023189922541529823,
          0.022909199271871402,
          0.022626665858423458,
          0.022342358299528922,
          0.022056320435844566,
          0.02176860377514898,
          0.02147926729158921,
          0.02118837720159658,
          0.020896006718702884,
          0.020602235789477057,
          0.020307150812775333,
          0.020010844344456505,
          0.019713414789660544,
          0.01941496608468387,
          0.01911560737040408,
          0.01881545265912206,
          0.018514620496589248,
          0.018213233620883527,
          0.017911418619679893,
          0.01760930558734722,
          0.01730702778317145,
          0.017004721291880083,
          0.01670252468750918,
          0.016400578701521805,
          0.016099025895952468,
          0.015798010342222033,
          0.015497677306136631,
          0.015198172939461487,
          0.014899643978338739,
          0.014602237448708052,
          0.01430610037878214,
          0.014011379518534208,
          0.013718221066070083,
          0.013426770400680159,
          0.013137171822307007,
          0.012849568297111449,
          0.012564101208783722,
          0.012280910115222608,
          0.01200013251019367,
          0.011721903589581499,
          0.011446356021867152,
          0.011173619722488967,
          0.010903821631789453,
          0.010637085496299874,
          0.010373531653180596,
          0.010113276817706192,
          0.009856433873766293,
          0.00960311166744079,
          0.009353414803801759,
          0.009107443447191716,
          0.008865293125327344,
          0.00862705453767775,
          0.008392813368666058,
          0.008162650106337608,
          0.007936639867230904,
          0.0077148522282711055,
          0.007497351066584505,
          0.007284194408198255,
          0.00707543428664867,
          0.00687111661256484,
          0.006671281055327334,
          0.006475960937918943,
          0.006285183146089094,
          0.006098968052939667,
          0.0059173294600149565,
          0.005740274555933809,
          0.005567803893544423,
          0.0053999113865084505,
          0.00523658432613312,
          0.005077803419167434,
          0.004923542847164282,
          0.0047737703478825675,
          0.004628447319066856,
          0.004487528944794315,
          0.004350964344425833,
          0.00421869674403652,
          0.004090663670037584,
          0.003966797164533883,
          0.003847024021794288,
          0.0037312660450460103,
          0.0036194403226400386,
          0.0035114595224780987,
          0.0034072322034383543,
          0.003306663142395213,
          0.003209653675294766,
          0.0031161020506254937,
          0.0030259037935151346,
          0.0029389520785890622,
          0.0028551381096458095,
          0.0027743515041405323,
          0.00269648068041952,
          0.002621413245618481,
          0.0025490363821229446,
          0.0024792372304938766,
          0.0024119032667824255,
          0.002346922672196483,
          0.0022841846931364322,
          0.0022235799896893763,
          0.0021650009707570505,
          0.002108342114094096,
          0.0020535002696476876,
          0.002000374944715926,
          0.0019488685695803704,
          0.0018988867424147922,
          0.001850338452427619,
          0.0018031362803576465,
          0.0017571965756088867,
          0.001712439609481409,
          0.0016687897041268956,
          0.0016261753370303868,
          0.0015845292209910383,
          0.001543788359743432,
          0.0015038940795252874
         ],
         "yaxis": "y"
        }
       ],
       "layout": {
        "barmode": "overlay",
        "hovermode": "closest",
        "legend": {
         "traceorder": "reversed"
        },
        "template": {
         "data": {
          "bar": [
           {
            "error_x": {
             "color": "#2a3f5f"
            },
            "error_y": {
             "color": "#2a3f5f"
            },
            "marker": {
             "line": {
              "color": "#E5ECF6",
              "width": 0.5
             },
             "pattern": {
              "fillmode": "overlay",
              "size": 10,
              "solidity": 0.2
             }
            },
            "type": "bar"
           }
          ],
          "barpolar": [
           {
            "marker": {
             "line": {
              "color": "#E5ECF6",
              "width": 0.5
             },
             "pattern": {
              "fillmode": "overlay",
              "size": 10,
              "solidity": 0.2
             }
            },
            "type": "barpolar"
           }
          ],
          "carpet": [
           {
            "aaxis": {
             "endlinecolor": "#2a3f5f",
             "gridcolor": "white",
             "linecolor": "white",
             "minorgridcolor": "white",
             "startlinecolor": "#2a3f5f"
            },
            "baxis": {
             "endlinecolor": "#2a3f5f",
             "gridcolor": "white",
             "linecolor": "white",
             "minorgridcolor": "white",
             "startlinecolor": "#2a3f5f"
            },
            "type": "carpet"
           }
          ],
          "choropleth": [
           {
            "colorbar": {
             "outlinewidth": 0,
             "ticks": ""
            },
            "type": "choropleth"
           }
          ],
          "contour": [
           {
            "colorbar": {
             "outlinewidth": 0,
             "ticks": ""
            },
            "colorscale": [
             [
              0,
              "#0d0887"
             ],
             [
              0.1111111111111111,
              "#46039f"
             ],
             [
              0.2222222222222222,
              "#7201a8"
             ],
             [
              0.3333333333333333,
              "#9c179e"
             ],
             [
              0.4444444444444444,
              "#bd3786"
             ],
             [
              0.5555555555555556,
              "#d8576b"
             ],
             [
              0.6666666666666666,
              "#ed7953"
             ],
             [
              0.7777777777777778,
              "#fb9f3a"
             ],
             [
              0.8888888888888888,
              "#fdca26"
             ],
             [
              1,
              "#f0f921"
             ]
            ],
            "type": "contour"
           }
          ],
          "contourcarpet": [
           {
            "colorbar": {
             "outlinewidth": 0,
             "ticks": ""
            },
            "type": "contourcarpet"
           }
          ],
          "heatmap": [
           {
            "colorbar": {
             "outlinewidth": 0,
             "ticks": ""
            },
            "colorscale": [
             [
              0,
              "#0d0887"
             ],
             [
              0.1111111111111111,
              "#46039f"
             ],
             [
              0.2222222222222222,
              "#7201a8"
             ],
             [
              0.3333333333333333,
              "#9c179e"
             ],
             [
              0.4444444444444444,
              "#bd3786"
             ],
             [
              0.5555555555555556,
              "#d8576b"
             ],
             [
              0.6666666666666666,
              "#ed7953"
             ],
             [
              0.7777777777777778,
              "#fb9f3a"
             ],
             [
              0.8888888888888888,
              "#fdca26"
             ],
             [
              1,
              "#f0f921"
             ]
            ],
            "type": "heatmap"
           }
          ],
          "heatmapgl": [
           {
            "colorbar": {
             "outlinewidth": 0,
             "ticks": ""
            },
            "colorscale": [
             [
              0,
              "#0d0887"
             ],
             [
              0.1111111111111111,
              "#46039f"
             ],
             [
              0.2222222222222222,
              "#7201a8"
             ],
             [
              0.3333333333333333,
              "#9c179e"
             ],
             [
              0.4444444444444444,
              "#bd3786"
             ],
             [
              0.5555555555555556,
              "#d8576b"
             ],
             [
              0.6666666666666666,
              "#ed7953"
             ],
             [
              0.7777777777777778,
              "#fb9f3a"
             ],
             [
              0.8888888888888888,
              "#fdca26"
             ],
             [
              1,
              "#f0f921"
             ]
            ],
            "type": "heatmapgl"
           }
          ],
          "histogram": [
           {
            "marker": {
             "pattern": {
              "fillmode": "overlay",
              "size": 10,
              "solidity": 0.2
             }
            },
            "type": "histogram"
           }
          ],
          "histogram2d": [
           {
            "colorbar": {
             "outlinewidth": 0,
             "ticks": ""
            },
            "colorscale": [
             [
              0,
              "#0d0887"
             ],
             [
              0.1111111111111111,
              "#46039f"
             ],
             [
              0.2222222222222222,
              "#7201a8"
             ],
             [
              0.3333333333333333,
              "#9c179e"
             ],
             [
              0.4444444444444444,
              "#bd3786"
             ],
             [
              0.5555555555555556,
              "#d8576b"
             ],
             [
              0.6666666666666666,
              "#ed7953"
             ],
             [
              0.7777777777777778,
              "#fb9f3a"
             ],
             [
              0.8888888888888888,
              "#fdca26"
             ],
             [
              1,
              "#f0f921"
             ]
            ],
            "type": "histogram2d"
           }
          ],
          "histogram2dcontour": [
           {
            "colorbar": {
             "outlinewidth": 0,
             "ticks": ""
            },
            "colorscale": [
             [
              0,
              "#0d0887"
             ],
             [
              0.1111111111111111,
              "#46039f"
             ],
             [
              0.2222222222222222,
              "#7201a8"
             ],
             [
              0.3333333333333333,
              "#9c179e"
             ],
             [
              0.4444444444444444,
              "#bd3786"
             ],
             [
              0.5555555555555556,
              "#d8576b"
             ],
             [
              0.6666666666666666,
              "#ed7953"
             ],
             [
              0.7777777777777778,
              "#fb9f3a"
             ],
             [
              0.8888888888888888,
              "#fdca26"
             ],
             [
              1,
              "#f0f921"
             ]
            ],
            "type": "histogram2dcontour"
           }
          ],
          "mesh3d": [
           {
            "colorbar": {
             "outlinewidth": 0,
             "ticks": ""
            },
            "type": "mesh3d"
           }
          ],
          "parcoords": [
           {
            "line": {
             "colorbar": {
              "outlinewidth": 0,
              "ticks": ""
             }
            },
            "type": "parcoords"
           }
          ],
          "pie": [
           {
            "automargin": true,
            "type": "pie"
           }
          ],
          "scatter": [
           {
            "fillpattern": {
             "fillmode": "overlay",
             "size": 10,
             "solidity": 0.2
            },
            "type": "scatter"
           }
          ],
          "scatter3d": [
           {
            "line": {
             "colorbar": {
              "outlinewidth": 0,
              "ticks": ""
             }
            },
            "marker": {
             "colorbar": {
              "outlinewidth": 0,
              "ticks": ""
             }
            },
            "type": "scatter3d"
           }
          ],
          "scattercarpet": [
           {
            "marker": {
             "colorbar": {
              "outlinewidth": 0,
              "ticks": ""
             }
            },
            "type": "scattercarpet"
           }
          ],
          "scattergeo": [
           {
            "marker": {
             "colorbar": {
              "outlinewidth": 0,
              "ticks": ""
             }
            },
            "type": "scattergeo"
           }
          ],
          "scattergl": [
           {
            "marker": {
             "colorbar": {
              "outlinewidth": 0,
              "ticks": ""
             }
            },
            "type": "scattergl"
           }
          ],
          "scattermapbox": [
           {
            "marker": {
             "colorbar": {
              "outlinewidth": 0,
              "ticks": ""
             }
            },
            "type": "scattermapbox"
           }
          ],
          "scatterpolar": [
           {
            "marker": {
             "colorbar": {
              "outlinewidth": 0,
              "ticks": ""
             }
            },
            "type": "scatterpolar"
           }
          ],
          "scatterpolargl": [
           {
            "marker": {
             "colorbar": {
              "outlinewidth": 0,
              "ticks": ""
             }
            },
            "type": "scatterpolargl"
           }
          ],
          "scatterternary": [
           {
            "marker": {
             "colorbar": {
              "outlinewidth": 0,
              "ticks": ""
             }
            },
            "type": "scatterternary"
           }
          ],
          "surface": [
           {
            "colorbar": {
             "outlinewidth": 0,
             "ticks": ""
            },
            "colorscale": [
             [
              0,
              "#0d0887"
             ],
             [
              0.1111111111111111,
              "#46039f"
             ],
             [
              0.2222222222222222,
              "#7201a8"
             ],
             [
              0.3333333333333333,
              "#9c179e"
             ],
             [
              0.4444444444444444,
              "#bd3786"
             ],
             [
              0.5555555555555556,
              "#d8576b"
             ],
             [
              0.6666666666666666,
              "#ed7953"
             ],
             [
              0.7777777777777778,
              "#fb9f3a"
             ],
             [
              0.8888888888888888,
              "#fdca26"
             ],
             [
              1,
              "#f0f921"
             ]
            ],
            "type": "surface"
           }
          ],
          "table": [
           {
            "cells": {
             "fill": {
              "color": "#EBF0F8"
             },
             "line": {
              "color": "white"
             }
            },
            "header": {
             "fill": {
              "color": "#C8D4E3"
             },
             "line": {
              "color": "white"
             }
            },
            "type": "table"
           }
          ]
         },
         "layout": {
          "annotationdefaults": {
           "arrowcolor": "#2a3f5f",
           "arrowhead": 0,
           "arrowwidth": 1
          },
          "autotypenumbers": "strict",
          "coloraxis": {
           "colorbar": {
            "outlinewidth": 0,
            "ticks": ""
           }
          },
          "colorscale": {
           "diverging": [
            [
             0,
             "#8e0152"
            ],
            [
             0.1,
             "#c51b7d"
            ],
            [
             0.2,
             "#de77ae"
            ],
            [
             0.3,
             "#f1b6da"
            ],
            [
             0.4,
             "#fde0ef"
            ],
            [
             0.5,
             "#f7f7f7"
            ],
            [
             0.6,
             "#e6f5d0"
            ],
            [
             0.7,
             "#b8e186"
            ],
            [
             0.8,
             "#7fbc41"
            ],
            [
             0.9,
             "#4d9221"
            ],
            [
             1,
             "#276419"
            ]
           ],
           "sequential": [
            [
             0,
             "#0d0887"
            ],
            [
             0.1111111111111111,
             "#46039f"
            ],
            [
             0.2222222222222222,
             "#7201a8"
            ],
            [
             0.3333333333333333,
             "#9c179e"
            ],
            [
             0.4444444444444444,
             "#bd3786"
            ],
            [
             0.5555555555555556,
             "#d8576b"
            ],
            [
             0.6666666666666666,
             "#ed7953"
            ],
            [
             0.7777777777777778,
             "#fb9f3a"
            ],
            [
             0.8888888888888888,
             "#fdca26"
            ],
            [
             1,
             "#f0f921"
            ]
           ],
           "sequentialminus": [
            [
             0,
             "#0d0887"
            ],
            [
             0.1111111111111111,
             "#46039f"
            ],
            [
             0.2222222222222222,
             "#7201a8"
            ],
            [
             0.3333333333333333,
             "#9c179e"
            ],
            [
             0.4444444444444444,
             "#bd3786"
            ],
            [
             0.5555555555555556,
             "#d8576b"
            ],
            [
             0.6666666666666666,
             "#ed7953"
            ],
            [
             0.7777777777777778,
             "#fb9f3a"
            ],
            [
             0.8888888888888888,
             "#fdca26"
            ],
            [
             1,
             "#f0f921"
            ]
           ]
          },
          "colorway": [
           "#636efa",
           "#EF553B",
           "#00cc96",
           "#ab63fa",
           "#FFA15A",
           "#19d3f3",
           "#FF6692",
           "#B6E880",
           "#FF97FF",
           "#FECB52"
          ],
          "font": {
           "color": "#2a3f5f"
          },
          "geo": {
           "bgcolor": "white",
           "lakecolor": "white",
           "landcolor": "#E5ECF6",
           "showlakes": true,
           "showland": true,
           "subunitcolor": "white"
          },
          "hoverlabel": {
           "align": "left"
          },
          "hovermode": "closest",
          "mapbox": {
           "style": "light"
          },
          "paper_bgcolor": "white",
          "plot_bgcolor": "#E5ECF6",
          "polar": {
           "angularaxis": {
            "gridcolor": "white",
            "linecolor": "white",
            "ticks": ""
           },
           "bgcolor": "#E5ECF6",
           "radialaxis": {
            "gridcolor": "white",
            "linecolor": "white",
            "ticks": ""
           }
          },
          "scene": {
           "xaxis": {
            "backgroundcolor": "#E5ECF6",
            "gridcolor": "white",
            "gridwidth": 2,
            "linecolor": "white",
            "showbackground": true,
            "ticks": "",
            "zerolinecolor": "white"
           },
           "yaxis": {
            "backgroundcolor": "#E5ECF6",
            "gridcolor": "white",
            "gridwidth": 2,
            "linecolor": "white",
            "showbackground": true,
            "ticks": "",
            "zerolinecolor": "white"
           },
           "zaxis": {
            "backgroundcolor": "#E5ECF6",
            "gridcolor": "white",
            "gridwidth": 2,
            "linecolor": "white",
            "showbackground": true,
            "ticks": "",
            "zerolinecolor": "white"
           }
          },
          "shapedefaults": {
           "line": {
            "color": "#2a3f5f"
           }
          },
          "ternary": {
           "aaxis": {
            "gridcolor": "white",
            "linecolor": "white",
            "ticks": ""
           },
           "baxis": {
            "gridcolor": "white",
            "linecolor": "white",
            "ticks": ""
           },
           "bgcolor": "#E5ECF6",
           "caxis": {
            "gridcolor": "white",
            "linecolor": "white",
            "ticks": ""
           }
          },
          "title": {
           "x": 0.05
          },
          "xaxis": {
           "automargin": true,
           "gridcolor": "white",
           "linecolor": "white",
           "ticks": "",
           "title": {
            "standoff": 15
           },
           "zerolinecolor": "white",
           "zerolinewidth": 2
          },
          "yaxis": {
           "automargin": true,
           "gridcolor": "white",
           "linecolor": "white",
           "ticks": "",
           "title": {
            "standoff": 15
           },
           "zerolinecolor": "white",
           "zerolinewidth": 2
          }
         }
        },
        "title": {
         "text": "연령별 분포도"
        },
        "width": 700,
        "xaxis": {
         "anchor": "y2",
         "domain": [
          0,
          1
         ],
         "zeroline": false
        },
        "yaxis": {
         "anchor": "free",
         "domain": [
          0,
          1
         ],
         "position": 0
        }
       }
      }
     },
     "metadata": {},
     "output_type": "display_data"
    },
    {
     "data": {
      "text/plain": [
       "<Figure size 800x800 with 0 Axes>"
      ]
     },
     "metadata": {},
     "output_type": "display_data"
    }
   ],
   "source": [
    "# 연령대에 따른 심장 질환 분포도\n",
    "data = [heart['age']]\n",
    "group = ['age'] \n",
    "\n",
    "# 'thalassemia' 히스토그램 \n",
    "fig = ff.create_distplot(data, group_labels=group,bin_size=10,show_rug=False)\n",
    "fig.update_layout(width=700, title_text='연령별 분포도')\n",
    "fig.show()"
   ]
  },
  {
   "attachments": {},
   "cell_type": "markdown",
   "id": "pointed-myanmar",
   "metadata": {
    "papermill": {
     "duration": 0.055206,
     "end_time": "2021-12-16T07:13:20.825149",
     "exception": false,
     "start_time": "2021-12-16T07:13:20.769943",
     "status": "completed"
    },
    "tags": []
   },
   "source": [
    "<span style='font-size:14px'> - result 해석 <br> - 연령 분포는 정규 분포에 가깝게 보임. <br> - 이 데이터의 환자 연령은 29-77세로 특정 유형에 치우치지 않음."
   ]
  },
  {
   "cell_type": "code",
   "execution_count": 14,
   "id": "superior-bathroom",
   "metadata": {
    "execution": {
     "iopub.execute_input": "2021-12-16T07:13:20.945363Z",
     "iopub.status.busy": "2021-12-16T07:13:20.944643Z",
     "iopub.status.idle": "2021-12-16T07:13:21.970082Z",
     "shell.execute_reply": "2021-12-16T07:13:21.970627Z",
     "shell.execute_reply.started": "2021-06-17T13:37:34.163974Z"
    },
    "papermill": {
     "duration": 1.088048,
     "end_time": "2021-12-16T07:13:21.970806",
     "exception": false,
     "start_time": "2021-12-16T07:13:20.882758",
     "status": "completed"
    },
    "tags": []
   },
   "outputs": [
    {
     "data": {
      "application/vnd.plotly.v1+json": {
       "config": {
        "plotlyServerURL": "https://plot.ly"
       },
       "data": [
        {
         "alignmentgroup": "True",
         "hovertemplate": "sex=male<br>target=%{x}<br>age=%{y}<extra></extra>",
         "legendgroup": "male",
         "marker": {
          "color": "#636efa",
          "pattern": {
           "shape": ""
          }
         },
         "name": "male",
         "offsetgroup": "male",
         "orientation": "v",
         "showlegend": true,
         "textposition": "auto",
         "type": "bar",
         "x": [
          "Heart Disease",
          "Heart Disease",
          "Heart Disease",
          "Heart Disease",
          "Heart Disease",
          "Heart Disease",
          "Heart Disease",
          "Heart Disease",
          "Heart Disease",
          "Heart Disease",
          "Heart Disease",
          "Heart Disease",
          "Heart Disease",
          "Heart Disease",
          "Heart Disease",
          "Heart Disease",
          "Heart Disease",
          "Heart Disease",
          "Heart Disease",
          "Heart Disease",
          "Heart Disease",
          "Heart Disease",
          "Heart Disease",
          "Heart Disease",
          "Heart Disease",
          "Heart Disease",
          "Heart Disease",
          "Heart Disease",
          "Heart Disease",
          "Heart Disease",
          "Heart Disease",
          "Heart Disease",
          "Heart Disease",
          "Heart Disease",
          "Heart Disease",
          "Heart Disease",
          "Heart Disease",
          "Heart Disease",
          "Heart Disease",
          "Heart Disease",
          "Heart Disease",
          "Heart Disease",
          "Heart Disease",
          "Heart Disease",
          "Heart Disease",
          "Heart Disease",
          "Heart Disease",
          "Heart Disease",
          "Heart Disease",
          "Heart Disease",
          "Heart Disease",
          "Heart Disease",
          "Heart Disease",
          "Heart Disease",
          "Heart Disease",
          "Heart Disease",
          "Heart Disease",
          "Heart Disease",
          "Heart Disease",
          "Heart Disease",
          "Heart Disease",
          "Heart Disease",
          "Heart Disease",
          "Heart Disease",
          "Heart Disease",
          "Heart Disease",
          "Heart Disease",
          "Heart Disease",
          "Heart Disease",
          "Heart Disease",
          "Heart Disease",
          "Heart Disease",
          "Heart Disease",
          "Heart Disease",
          "Heart Disease",
          "Heart Disease",
          "Heart Disease",
          "Heart Disease",
          "Heart Disease",
          "Heart Disease",
          "Heart Disease",
          "Heart Disease",
          "Heart Disease",
          "Heart Disease",
          "Heart Disease",
          "Heart Disease",
          "Heart Disease",
          "Heart Disease",
          "Heart Disease",
          "Heart Disease",
          "Heart Disease",
          "Heart Disease",
          "Heart Disease",
          "No Heart Disease",
          "No Heart Disease",
          "No Heart Disease",
          "No Heart Disease",
          "No Heart Disease",
          "No Heart Disease",
          "No Heart Disease",
          "No Heart Disease",
          "No Heart Disease",
          "No Heart Disease",
          "No Heart Disease",
          "No Heart Disease",
          "No Heart Disease",
          "No Heart Disease",
          "No Heart Disease",
          "No Heart Disease",
          "No Heart Disease",
          "No Heart Disease",
          "No Heart Disease",
          "No Heart Disease",
          "No Heart Disease",
          "No Heart Disease",
          "No Heart Disease",
          "No Heart Disease",
          "No Heart Disease",
          "No Heart Disease",
          "No Heart Disease",
          "No Heart Disease",
          "No Heart Disease",
          "No Heart Disease",
          "No Heart Disease",
          "No Heart Disease",
          "No Heart Disease",
          "No Heart Disease",
          "No Heart Disease",
          "No Heart Disease",
          "No Heart Disease",
          "No Heart Disease",
          "No Heart Disease",
          "No Heart Disease",
          "No Heart Disease",
          "No Heart Disease",
          "No Heart Disease",
          "No Heart Disease",
          "No Heart Disease",
          "No Heart Disease",
          "No Heart Disease",
          "No Heart Disease",
          "No Heart Disease",
          "No Heart Disease",
          "No Heart Disease",
          "No Heart Disease",
          "No Heart Disease",
          "No Heart Disease",
          "No Heart Disease",
          "No Heart Disease",
          "No Heart Disease",
          "No Heart Disease",
          "No Heart Disease",
          "No Heart Disease",
          "No Heart Disease",
          "No Heart Disease",
          "No Heart Disease",
          "No Heart Disease",
          "No Heart Disease",
          "No Heart Disease",
          "No Heart Disease",
          "No Heart Disease",
          "No Heart Disease",
          "No Heart Disease",
          "No Heart Disease",
          "No Heart Disease",
          "No Heart Disease",
          "No Heart Disease",
          "No Heart Disease",
          "No Heart Disease",
          "No Heart Disease",
          "No Heart Disease",
          "No Heart Disease",
          "No Heart Disease",
          "No Heart Disease",
          "No Heart Disease",
          "No Heart Disease",
          "No Heart Disease",
          "No Heart Disease",
          "No Heart Disease",
          "No Heart Disease",
          "No Heart Disease",
          "No Heart Disease",
          "No Heart Disease",
          "No Heart Disease",
          "No Heart Disease",
          "No Heart Disease",
          "No Heart Disease",
          "No Heart Disease",
          "No Heart Disease",
          "No Heart Disease",
          "No Heart Disease",
          "No Heart Disease",
          "No Heart Disease",
          "No Heart Disease",
          "No Heart Disease",
          "No Heart Disease",
          "No Heart Disease",
          "No Heart Disease",
          "No Heart Disease",
          "No Heart Disease",
          "No Heart Disease",
          "No Heart Disease",
          "No Heart Disease",
          "No Heart Disease",
          "No Heart Disease",
          "No Heart Disease",
          "No Heart Disease"
         ],
         "xaxis": "x",
         "y": [
          63,
          37,
          56,
          57,
          44,
          52,
          57,
          54,
          49,
          64,
          43,
          59,
          44,
          42,
          61,
          40,
          59,
          51,
          53,
          65,
          44,
          54,
          51,
          54,
          48,
          45,
          39,
          52,
          44,
          47,
          66,
          62,
          52,
          48,
          45,
          34,
          54,
          52,
          41,
          58,
          51,
          44,
          54,
          51,
          29,
          51,
          51,
          59,
          52,
          58,
          41,
          45,
          52,
          68,
          46,
          48,
          57,
          52,
          53,
          52,
          43,
          53,
          42,
          59,
          42,
          50,
          69,
          57,
          43,
          55,
          41,
          56,
          59,
          47,
          42,
          41,
          62,
          57,
          64,
          43,
          70,
          44,
          42,
          66,
          64,
          47,
          35,
          58,
          56,
          56,
          41,
          38,
          38,
          67,
          67,
          63,
          53,
          56,
          48,
          58,
          58,
          60,
          40,
          60,
          64,
          43,
          57,
          55,
          58,
          50,
          44,
          60,
          54,
          50,
          41,
          58,
          54,
          60,
          60,
          59,
          46,
          67,
          62,
          65,
          44,
          60,
          58,
          68,
          52,
          59,
          49,
          59,
          57,
          61,
          39,
          56,
          63,
          65,
          48,
          55,
          65,
          54,
          70,
          62,
          35,
          59,
          64,
          47,
          57,
          55,
          64,
          70,
          51,
          58,
          60,
          77,
          35,
          70,
          64,
          57,
          56,
          48,
          66,
          54,
          69,
          51,
          43,
          67,
          59,
          45,
          58,
          50,
          38,
          52,
          53,
          54,
          66,
          49,
          54,
          56,
          46,
          61,
          67,
          58,
          47,
          52,
          58,
          57,
          61,
          42,
          52,
          59,
          40,
          61,
          46,
          59,
          57,
          57,
          61,
          58,
          67,
          44,
          63,
          59,
          45,
          68,
          57
         ],
         "yaxis": "y"
        },
        {
         "alignmentgroup": "True",
         "hovertemplate": "sex=female<br>target=%{x}<br>age=%{y}<extra></extra>",
         "legendgroup": "female",
         "marker": {
          "color": "#EF553B",
          "pattern": {
           "shape": ""
          }
         },
         "name": "female",
         "offsetgroup": "female",
         "orientation": "v",
         "showlegend": true,
         "textposition": "auto",
         "type": "bar",
         "x": [
          "Heart Disease",
          "Heart Disease",
          "Heart Disease",
          "Heart Disease",
          "Heart Disease",
          "Heart Disease",
          "Heart Disease",
          "Heart Disease",
          "Heart Disease",
          "Heart Disease",
          "Heart Disease",
          "Heart Disease",
          "Heart Disease",
          "Heart Disease",
          "Heart Disease",
          "Heart Disease",
          "Heart Disease",
          "Heart Disease",
          "Heart Disease",
          "Heart Disease",
          "Heart Disease",
          "Heart Disease",
          "Heart Disease",
          "Heart Disease",
          "Heart Disease",
          "Heart Disease",
          "Heart Disease",
          "Heart Disease",
          "Heart Disease",
          "Heart Disease",
          "Heart Disease",
          "Heart Disease",
          "Heart Disease",
          "Heart Disease",
          "Heart Disease",
          "Heart Disease",
          "Heart Disease",
          "Heart Disease",
          "Heart Disease",
          "Heart Disease",
          "Heart Disease",
          "Heart Disease",
          "Heart Disease",
          "Heart Disease",
          "Heart Disease",
          "Heart Disease",
          "Heart Disease",
          "Heart Disease",
          "Heart Disease",
          "Heart Disease",
          "Heart Disease",
          "Heart Disease",
          "Heart Disease",
          "Heart Disease",
          "Heart Disease",
          "Heart Disease",
          "Heart Disease",
          "Heart Disease",
          "Heart Disease",
          "Heart Disease",
          "Heart Disease",
          "Heart Disease",
          "Heart Disease",
          "Heart Disease",
          "Heart Disease",
          "Heart Disease",
          "Heart Disease",
          "Heart Disease",
          "Heart Disease",
          "Heart Disease",
          "Heart Disease",
          "Heart Disease",
          "No Heart Disease",
          "No Heart Disease",
          "No Heart Disease",
          "No Heart Disease",
          "No Heart Disease",
          "No Heart Disease",
          "No Heart Disease",
          "No Heart Disease",
          "No Heart Disease",
          "No Heart Disease",
          "No Heart Disease",
          "No Heart Disease",
          "No Heart Disease",
          "No Heart Disease",
          "No Heart Disease",
          "No Heart Disease",
          "No Heart Disease",
          "No Heart Disease",
          "No Heart Disease",
          "No Heart Disease",
          "No Heart Disease",
          "No Heart Disease",
          "No Heart Disease",
          "No Heart Disease"
         ],
         "xaxis": "x",
         "y": [
          41,
          57,
          56,
          48,
          58,
          50,
          58,
          66,
          69,
          71,
          65,
          41,
          46,
          54,
          65,
          65,
          51,
          53,
          53,
          53,
          51,
          44,
          63,
          57,
          71,
          35,
          45,
          62,
          43,
          55,
          60,
          42,
          67,
          54,
          58,
          54,
          45,
          62,
          63,
          68,
          45,
          50,
          50,
          64,
          64,
          37,
          46,
          46,
          64,
          41,
          54,
          39,
          34,
          67,
          52,
          74,
          54,
          49,
          41,
          49,
          60,
          51,
          42,
          67,
          76,
          44,
          60,
          71,
          66,
          39,
          58,
          55,
          62,
          65,
          61,
          51,
          62,
          60,
          61,
          43,
          62,
          63,
          56,
          59,
          56,
          62,
          62,
          66,
          63,
          55,
          58,
          55,
          58,
          63,
          57,
          57
         ],
         "yaxis": "y"
        }
       ],
       "layout": {
        "barmode": "relative",
        "height": 500,
        "legend": {
         "title": {
          "text": "sex"
         },
         "tracegroupgap": 0
        },
        "margin": {
         "t": 60
        },
        "template": {
         "data": {
          "bar": [
           {
            "error_x": {
             "color": "#2a3f5f"
            },
            "error_y": {
             "color": "#2a3f5f"
            },
            "marker": {
             "line": {
              "color": "#E5ECF6",
              "width": 0.5
             },
             "pattern": {
              "fillmode": "overlay",
              "size": 10,
              "solidity": 0.2
             }
            },
            "type": "bar"
           }
          ],
          "barpolar": [
           {
            "marker": {
             "line": {
              "color": "#E5ECF6",
              "width": 0.5
             },
             "pattern": {
              "fillmode": "overlay",
              "size": 10,
              "solidity": 0.2
             }
            },
            "type": "barpolar"
           }
          ],
          "carpet": [
           {
            "aaxis": {
             "endlinecolor": "#2a3f5f",
             "gridcolor": "white",
             "linecolor": "white",
             "minorgridcolor": "white",
             "startlinecolor": "#2a3f5f"
            },
            "baxis": {
             "endlinecolor": "#2a3f5f",
             "gridcolor": "white",
             "linecolor": "white",
             "minorgridcolor": "white",
             "startlinecolor": "#2a3f5f"
            },
            "type": "carpet"
           }
          ],
          "choropleth": [
           {
            "colorbar": {
             "outlinewidth": 0,
             "ticks": ""
            },
            "type": "choropleth"
           }
          ],
          "contour": [
           {
            "colorbar": {
             "outlinewidth": 0,
             "ticks": ""
            },
            "colorscale": [
             [
              0,
              "#0d0887"
             ],
             [
              0.1111111111111111,
              "#46039f"
             ],
             [
              0.2222222222222222,
              "#7201a8"
             ],
             [
              0.3333333333333333,
              "#9c179e"
             ],
             [
              0.4444444444444444,
              "#bd3786"
             ],
             [
              0.5555555555555556,
              "#d8576b"
             ],
             [
              0.6666666666666666,
              "#ed7953"
             ],
             [
              0.7777777777777778,
              "#fb9f3a"
             ],
             [
              0.8888888888888888,
              "#fdca26"
             ],
             [
              1,
              "#f0f921"
             ]
            ],
            "type": "contour"
           }
          ],
          "contourcarpet": [
           {
            "colorbar": {
             "outlinewidth": 0,
             "ticks": ""
            },
            "type": "contourcarpet"
           }
          ],
          "heatmap": [
           {
            "colorbar": {
             "outlinewidth": 0,
             "ticks": ""
            },
            "colorscale": [
             [
              0,
              "#0d0887"
             ],
             [
              0.1111111111111111,
              "#46039f"
             ],
             [
              0.2222222222222222,
              "#7201a8"
             ],
             [
              0.3333333333333333,
              "#9c179e"
             ],
             [
              0.4444444444444444,
              "#bd3786"
             ],
             [
              0.5555555555555556,
              "#d8576b"
             ],
             [
              0.6666666666666666,
              "#ed7953"
             ],
             [
              0.7777777777777778,
              "#fb9f3a"
             ],
             [
              0.8888888888888888,
              "#fdca26"
             ],
             [
              1,
              "#f0f921"
             ]
            ],
            "type": "heatmap"
           }
          ],
          "heatmapgl": [
           {
            "colorbar": {
             "outlinewidth": 0,
             "ticks": ""
            },
            "colorscale": [
             [
              0,
              "#0d0887"
             ],
             [
              0.1111111111111111,
              "#46039f"
             ],
             [
              0.2222222222222222,
              "#7201a8"
             ],
             [
              0.3333333333333333,
              "#9c179e"
             ],
             [
              0.4444444444444444,
              "#bd3786"
             ],
             [
              0.5555555555555556,
              "#d8576b"
             ],
             [
              0.6666666666666666,
              "#ed7953"
             ],
             [
              0.7777777777777778,
              "#fb9f3a"
             ],
             [
              0.8888888888888888,
              "#fdca26"
             ],
             [
              1,
              "#f0f921"
             ]
            ],
            "type": "heatmapgl"
           }
          ],
          "histogram": [
           {
            "marker": {
             "pattern": {
              "fillmode": "overlay",
              "size": 10,
              "solidity": 0.2
             }
            },
            "type": "histogram"
           }
          ],
          "histogram2d": [
           {
            "colorbar": {
             "outlinewidth": 0,
             "ticks": ""
            },
            "colorscale": [
             [
              0,
              "#0d0887"
             ],
             [
              0.1111111111111111,
              "#46039f"
             ],
             [
              0.2222222222222222,
              "#7201a8"
             ],
             [
              0.3333333333333333,
              "#9c179e"
             ],
             [
              0.4444444444444444,
              "#bd3786"
             ],
             [
              0.5555555555555556,
              "#d8576b"
             ],
             [
              0.6666666666666666,
              "#ed7953"
             ],
             [
              0.7777777777777778,
              "#fb9f3a"
             ],
             [
              0.8888888888888888,
              "#fdca26"
             ],
             [
              1,
              "#f0f921"
             ]
            ],
            "type": "histogram2d"
           }
          ],
          "histogram2dcontour": [
           {
            "colorbar": {
             "outlinewidth": 0,
             "ticks": ""
            },
            "colorscale": [
             [
              0,
              "#0d0887"
             ],
             [
              0.1111111111111111,
              "#46039f"
             ],
             [
              0.2222222222222222,
              "#7201a8"
             ],
             [
              0.3333333333333333,
              "#9c179e"
             ],
             [
              0.4444444444444444,
              "#bd3786"
             ],
             [
              0.5555555555555556,
              "#d8576b"
             ],
             [
              0.6666666666666666,
              "#ed7953"
             ],
             [
              0.7777777777777778,
              "#fb9f3a"
             ],
             [
              0.8888888888888888,
              "#fdca26"
             ],
             [
              1,
              "#f0f921"
             ]
            ],
            "type": "histogram2dcontour"
           }
          ],
          "mesh3d": [
           {
            "colorbar": {
             "outlinewidth": 0,
             "ticks": ""
            },
            "type": "mesh3d"
           }
          ],
          "parcoords": [
           {
            "line": {
             "colorbar": {
              "outlinewidth": 0,
              "ticks": ""
             }
            },
            "type": "parcoords"
           }
          ],
          "pie": [
           {
            "automargin": true,
            "type": "pie"
           }
          ],
          "scatter": [
           {
            "fillpattern": {
             "fillmode": "overlay",
             "size": 10,
             "solidity": 0.2
            },
            "type": "scatter"
           }
          ],
          "scatter3d": [
           {
            "line": {
             "colorbar": {
              "outlinewidth": 0,
              "ticks": ""
             }
            },
            "marker": {
             "colorbar": {
              "outlinewidth": 0,
              "ticks": ""
             }
            },
            "type": "scatter3d"
           }
          ],
          "scattercarpet": [
           {
            "marker": {
             "colorbar": {
              "outlinewidth": 0,
              "ticks": ""
             }
            },
            "type": "scattercarpet"
           }
          ],
          "scattergeo": [
           {
            "marker": {
             "colorbar": {
              "outlinewidth": 0,
              "ticks": ""
             }
            },
            "type": "scattergeo"
           }
          ],
          "scattergl": [
           {
            "marker": {
             "colorbar": {
              "outlinewidth": 0,
              "ticks": ""
             }
            },
            "type": "scattergl"
           }
          ],
          "scattermapbox": [
           {
            "marker": {
             "colorbar": {
              "outlinewidth": 0,
              "ticks": ""
             }
            },
            "type": "scattermapbox"
           }
          ],
          "scatterpolar": [
           {
            "marker": {
             "colorbar": {
              "outlinewidth": 0,
              "ticks": ""
             }
            },
            "type": "scatterpolar"
           }
          ],
          "scatterpolargl": [
           {
            "marker": {
             "colorbar": {
              "outlinewidth": 0,
              "ticks": ""
             }
            },
            "type": "scatterpolargl"
           }
          ],
          "scatterternary": [
           {
            "marker": {
             "colorbar": {
              "outlinewidth": 0,
              "ticks": ""
             }
            },
            "type": "scatterternary"
           }
          ],
          "surface": [
           {
            "colorbar": {
             "outlinewidth": 0,
             "ticks": ""
            },
            "colorscale": [
             [
              0,
              "#0d0887"
             ],
             [
              0.1111111111111111,
              "#46039f"
             ],
             [
              0.2222222222222222,
              "#7201a8"
             ],
             [
              0.3333333333333333,
              "#9c179e"
             ],
             [
              0.4444444444444444,
              "#bd3786"
             ],
             [
              0.5555555555555556,
              "#d8576b"
             ],
             [
              0.6666666666666666,
              "#ed7953"
             ],
             [
              0.7777777777777778,
              "#fb9f3a"
             ],
             [
              0.8888888888888888,
              "#fdca26"
             ],
             [
              1,
              "#f0f921"
             ]
            ],
            "type": "surface"
           }
          ],
          "table": [
           {
            "cells": {
             "fill": {
              "color": "#EBF0F8"
             },
             "line": {
              "color": "white"
             }
            },
            "header": {
             "fill": {
              "color": "#C8D4E3"
             },
             "line": {
              "color": "white"
             }
            },
            "type": "table"
           }
          ]
         },
         "layout": {
          "annotationdefaults": {
           "arrowcolor": "#2a3f5f",
           "arrowhead": 0,
           "arrowwidth": 1
          },
          "autotypenumbers": "strict",
          "coloraxis": {
           "colorbar": {
            "outlinewidth": 0,
            "ticks": ""
           }
          },
          "colorscale": {
           "diverging": [
            [
             0,
             "#8e0152"
            ],
            [
             0.1,
             "#c51b7d"
            ],
            [
             0.2,
             "#de77ae"
            ],
            [
             0.3,
             "#f1b6da"
            ],
            [
             0.4,
             "#fde0ef"
            ],
            [
             0.5,
             "#f7f7f7"
            ],
            [
             0.6,
             "#e6f5d0"
            ],
            [
             0.7,
             "#b8e186"
            ],
            [
             0.8,
             "#7fbc41"
            ],
            [
             0.9,
             "#4d9221"
            ],
            [
             1,
             "#276419"
            ]
           ],
           "sequential": [
            [
             0,
             "#0d0887"
            ],
            [
             0.1111111111111111,
             "#46039f"
            ],
            [
             0.2222222222222222,
             "#7201a8"
            ],
            [
             0.3333333333333333,
             "#9c179e"
            ],
            [
             0.4444444444444444,
             "#bd3786"
            ],
            [
             0.5555555555555556,
             "#d8576b"
            ],
            [
             0.6666666666666666,
             "#ed7953"
            ],
            [
             0.7777777777777778,
             "#fb9f3a"
            ],
            [
             0.8888888888888888,
             "#fdca26"
            ],
            [
             1,
             "#f0f921"
            ]
           ],
           "sequentialminus": [
            [
             0,
             "#0d0887"
            ],
            [
             0.1111111111111111,
             "#46039f"
            ],
            [
             0.2222222222222222,
             "#7201a8"
            ],
            [
             0.3333333333333333,
             "#9c179e"
            ],
            [
             0.4444444444444444,
             "#bd3786"
            ],
            [
             0.5555555555555556,
             "#d8576b"
            ],
            [
             0.6666666666666666,
             "#ed7953"
            ],
            [
             0.7777777777777778,
             "#fb9f3a"
            ],
            [
             0.8888888888888888,
             "#fdca26"
            ],
            [
             1,
             "#f0f921"
            ]
           ]
          },
          "colorway": [
           "#636efa",
           "#EF553B",
           "#00cc96",
           "#ab63fa",
           "#FFA15A",
           "#19d3f3",
           "#FF6692",
           "#B6E880",
           "#FF97FF",
           "#FECB52"
          ],
          "font": {
           "color": "#2a3f5f"
          },
          "geo": {
           "bgcolor": "white",
           "lakecolor": "white",
           "landcolor": "#E5ECF6",
           "showlakes": true,
           "showland": true,
           "subunitcolor": "white"
          },
          "hoverlabel": {
           "align": "left"
          },
          "hovermode": "closest",
          "mapbox": {
           "style": "light"
          },
          "paper_bgcolor": "white",
          "plot_bgcolor": "#E5ECF6",
          "polar": {
           "angularaxis": {
            "gridcolor": "white",
            "linecolor": "white",
            "ticks": ""
           },
           "bgcolor": "#E5ECF6",
           "radialaxis": {
            "gridcolor": "white",
            "linecolor": "white",
            "ticks": ""
           }
          },
          "scene": {
           "xaxis": {
            "backgroundcolor": "#E5ECF6",
            "gridcolor": "white",
            "gridwidth": 2,
            "linecolor": "white",
            "showbackground": true,
            "ticks": "",
            "zerolinecolor": "white"
           },
           "yaxis": {
            "backgroundcolor": "#E5ECF6",
            "gridcolor": "white",
            "gridwidth": 2,
            "linecolor": "white",
            "showbackground": true,
            "ticks": "",
            "zerolinecolor": "white"
           },
           "zaxis": {
            "backgroundcolor": "#E5ECF6",
            "gridcolor": "white",
            "gridwidth": 2,
            "linecolor": "white",
            "showbackground": true,
            "ticks": "",
            "zerolinecolor": "white"
           }
          },
          "shapedefaults": {
           "line": {
            "color": "#2a3f5f"
           }
          },
          "ternary": {
           "aaxis": {
            "gridcolor": "white",
            "linecolor": "white",
            "ticks": ""
           },
           "baxis": {
            "gridcolor": "white",
            "linecolor": "white",
            "ticks": ""
           },
           "bgcolor": "#E5ECF6",
           "caxis": {
            "gridcolor": "white",
            "linecolor": "white",
            "ticks": ""
           }
          },
          "title": {
           "x": 0.05
          },
          "xaxis": {
           "automargin": true,
           "gridcolor": "white",
           "linecolor": "white",
           "ticks": "",
           "title": {
            "standoff": 15
           },
           "zerolinecolor": "white",
           "zerolinewidth": 2
          },
          "yaxis": {
           "automargin": true,
           "gridcolor": "white",
           "linecolor": "white",
           "ticks": "",
           "title": {
            "standoff": 15
           },
           "zerolinecolor": "white",
           "zerolinewidth": 2
          }
         }
        },
        "title": {
         "text": "성별에 따른 나이와 심장질환의 상관관계(막대그래프)"
        },
        "width": 800,
        "xaxis": {
         "anchor": "y",
         "domain": [
          0,
          1
         ],
         "title": {
          "text": "target"
         }
        },
        "yaxis": {
         "anchor": "x",
         "domain": [
          0,
          1
         ],
         "title": {
          "text": "age"
         }
        }
       }
      }
     },
     "metadata": {},
     "output_type": "display_data"
    },
    {
     "data": {
      "text/plain": [
       "<Figure size 400x300 with 0 Axes>"
      ]
     },
     "metadata": {},
     "output_type": "display_data"
    }
   ],
   "source": [
    "# 성별에 따른 나이와 심장질환의 상관관계 (막대그래프)\n",
    "fig = px.bar(heart, x=heart['target'], y=heart['age'], color='sex', height=500, width=800)\n",
    "fig.update_layout(title_text='성별에 따른 나이와 심장질환의 상관관계(막대그래프)')\n",
    "fig.show()"
   ]
  },
  {
   "cell_type": "markdown",
   "id": "pending-lying",
   "metadata": {
    "papermill": {
     "duration": 0.061057,
     "end_time": "2021-12-16T07:13:22.094030",
     "exception": false,
     "start_time": "2021-12-16T07:13:22.032973",
     "status": "completed"
    },
    "tags": []
   },
   "source": [
    "- result 해석\n",
    "- 심장병을 앓고 있는 사람과 심장병을 앓고 있지 않은 사람은 나이가 거의 비슷함.\n",
    "- 심장병을 앓고 있는 남녀 환자의 수가 거의 같음."
   ]
  },
  {
   "cell_type": "code",
   "execution_count": 15,
   "id": "comparable-comparative",
   "metadata": {
    "execution": {
     "iopub.execute_input": "2021-12-16T07:13:22.219075Z",
     "iopub.status.busy": "2021-12-16T07:13:22.218365Z",
     "iopub.status.idle": "2021-12-16T07:13:22.320351Z",
     "shell.execute_reply": "2021-12-16T07:13:22.320913Z",
     "shell.execute_reply.started": "2021-06-17T12:11:07.260461Z"
    },
    "papermill": {
     "duration": 0.167284,
     "end_time": "2021-12-16T07:13:22.321105",
     "exception": false,
     "start_time": "2021-12-16T07:13:22.153821",
     "status": "completed"
    },
    "tags": []
   },
   "outputs": [
    {
     "data": {
      "application/vnd.plotly.v1+json": {
       "config": {
        "plotlyServerURL": "https://plot.ly"
       },
       "data": [
        {
         "alignmentgroup": "True",
         "boxpoints": "all",
         "hovertemplate": "sex=male<br>target=%{x}<br>age=%{y}<extra></extra>",
         "legendgroup": "male",
         "marker": {
          "color": "#636efa"
         },
         "name": "male",
         "notched": false,
         "offsetgroup": "male",
         "orientation": "v",
         "showlegend": true,
         "type": "box",
         "x": [
          "Heart Disease",
          "Heart Disease",
          "Heart Disease",
          "Heart Disease",
          "Heart Disease",
          "Heart Disease",
          "Heart Disease",
          "Heart Disease",
          "Heart Disease",
          "Heart Disease",
          "Heart Disease",
          "Heart Disease",
          "Heart Disease",
          "Heart Disease",
          "Heart Disease",
          "Heart Disease",
          "Heart Disease",
          "Heart Disease",
          "Heart Disease",
          "Heart Disease",
          "Heart Disease",
          "Heart Disease",
          "Heart Disease",
          "Heart Disease",
          "Heart Disease",
          "Heart Disease",
          "Heart Disease",
          "Heart Disease",
          "Heart Disease",
          "Heart Disease",
          "Heart Disease",
          "Heart Disease",
          "Heart Disease",
          "Heart Disease",
          "Heart Disease",
          "Heart Disease",
          "Heart Disease",
          "Heart Disease",
          "Heart Disease",
          "Heart Disease",
          "Heart Disease",
          "Heart Disease",
          "Heart Disease",
          "Heart Disease",
          "Heart Disease",
          "Heart Disease",
          "Heart Disease",
          "Heart Disease",
          "Heart Disease",
          "Heart Disease",
          "Heart Disease",
          "Heart Disease",
          "Heart Disease",
          "Heart Disease",
          "Heart Disease",
          "Heart Disease",
          "Heart Disease",
          "Heart Disease",
          "Heart Disease",
          "Heart Disease",
          "Heart Disease",
          "Heart Disease",
          "Heart Disease",
          "Heart Disease",
          "Heart Disease",
          "Heart Disease",
          "Heart Disease",
          "Heart Disease",
          "Heart Disease",
          "Heart Disease",
          "Heart Disease",
          "Heart Disease",
          "Heart Disease",
          "Heart Disease",
          "Heart Disease",
          "Heart Disease",
          "Heart Disease",
          "Heart Disease",
          "Heart Disease",
          "Heart Disease",
          "Heart Disease",
          "Heart Disease",
          "Heart Disease",
          "Heart Disease",
          "Heart Disease",
          "Heart Disease",
          "Heart Disease",
          "Heart Disease",
          "Heart Disease",
          "Heart Disease",
          "Heart Disease",
          "Heart Disease",
          "Heart Disease",
          "No Heart Disease",
          "No Heart Disease",
          "No Heart Disease",
          "No Heart Disease",
          "No Heart Disease",
          "No Heart Disease",
          "No Heart Disease",
          "No Heart Disease",
          "No Heart Disease",
          "No Heart Disease",
          "No Heart Disease",
          "No Heart Disease",
          "No Heart Disease",
          "No Heart Disease",
          "No Heart Disease",
          "No Heart Disease",
          "No Heart Disease",
          "No Heart Disease",
          "No Heart Disease",
          "No Heart Disease",
          "No Heart Disease",
          "No Heart Disease",
          "No Heart Disease",
          "No Heart Disease",
          "No Heart Disease",
          "No Heart Disease",
          "No Heart Disease",
          "No Heart Disease",
          "No Heart Disease",
          "No Heart Disease",
          "No Heart Disease",
          "No Heart Disease",
          "No Heart Disease",
          "No Heart Disease",
          "No Heart Disease",
          "No Heart Disease",
          "No Heart Disease",
          "No Heart Disease",
          "No Heart Disease",
          "No Heart Disease",
          "No Heart Disease",
          "No Heart Disease",
          "No Heart Disease",
          "No Heart Disease",
          "No Heart Disease",
          "No Heart Disease",
          "No Heart Disease",
          "No Heart Disease",
          "No Heart Disease",
          "No Heart Disease",
          "No Heart Disease",
          "No Heart Disease",
          "No Heart Disease",
          "No Heart Disease",
          "No Heart Disease",
          "No Heart Disease",
          "No Heart Disease",
          "No Heart Disease",
          "No Heart Disease",
          "No Heart Disease",
          "No Heart Disease",
          "No Heart Disease",
          "No Heart Disease",
          "No Heart Disease",
          "No Heart Disease",
          "No Heart Disease",
          "No Heart Disease",
          "No Heart Disease",
          "No Heart Disease",
          "No Heart Disease",
          "No Heart Disease",
          "No Heart Disease",
          "No Heart Disease",
          "No Heart Disease",
          "No Heart Disease",
          "No Heart Disease",
          "No Heart Disease",
          "No Heart Disease",
          "No Heart Disease",
          "No Heart Disease",
          "No Heart Disease",
          "No Heart Disease",
          "No Heart Disease",
          "No Heart Disease",
          "No Heart Disease",
          "No Heart Disease",
          "No Heart Disease",
          "No Heart Disease",
          "No Heart Disease",
          "No Heart Disease",
          "No Heart Disease",
          "No Heart Disease",
          "No Heart Disease",
          "No Heart Disease",
          "No Heart Disease",
          "No Heart Disease",
          "No Heart Disease",
          "No Heart Disease",
          "No Heart Disease",
          "No Heart Disease",
          "No Heart Disease",
          "No Heart Disease",
          "No Heart Disease",
          "No Heart Disease",
          "No Heart Disease",
          "No Heart Disease",
          "No Heart Disease",
          "No Heart Disease",
          "No Heart Disease",
          "No Heart Disease",
          "No Heart Disease",
          "No Heart Disease",
          "No Heart Disease",
          "No Heart Disease"
         ],
         "x0": " ",
         "xaxis": "x",
         "y": [
          63,
          37,
          56,
          57,
          44,
          52,
          57,
          54,
          49,
          64,
          43,
          59,
          44,
          42,
          61,
          40,
          59,
          51,
          53,
          65,
          44,
          54,
          51,
          54,
          48,
          45,
          39,
          52,
          44,
          47,
          66,
          62,
          52,
          48,
          45,
          34,
          54,
          52,
          41,
          58,
          51,
          44,
          54,
          51,
          29,
          51,
          51,
          59,
          52,
          58,
          41,
          45,
          52,
          68,
          46,
          48,
          57,
          52,
          53,
          52,
          43,
          53,
          42,
          59,
          42,
          50,
          69,
          57,
          43,
          55,
          41,
          56,
          59,
          47,
          42,
          41,
          62,
          57,
          64,
          43,
          70,
          44,
          42,
          66,
          64,
          47,
          35,
          58,
          56,
          56,
          41,
          38,
          38,
          67,
          67,
          63,
          53,
          56,
          48,
          58,
          58,
          60,
          40,
          60,
          64,
          43,
          57,
          55,
          58,
          50,
          44,
          60,
          54,
          50,
          41,
          58,
          54,
          60,
          60,
          59,
          46,
          67,
          62,
          65,
          44,
          60,
          58,
          68,
          52,
          59,
          49,
          59,
          57,
          61,
          39,
          56,
          63,
          65,
          48,
          55,
          65,
          54,
          70,
          62,
          35,
          59,
          64,
          47,
          57,
          55,
          64,
          70,
          51,
          58,
          60,
          77,
          35,
          70,
          64,
          57,
          56,
          48,
          66,
          54,
          69,
          51,
          43,
          67,
          59,
          45,
          58,
          50,
          38,
          52,
          53,
          54,
          66,
          49,
          54,
          56,
          46,
          61,
          67,
          58,
          47,
          52,
          58,
          57,
          61,
          42,
          52,
          59,
          40,
          61,
          46,
          59,
          57,
          57,
          61,
          58,
          67,
          44,
          63,
          59,
          45,
          68,
          57
         ],
         "y0": " ",
         "yaxis": "y"
        },
        {
         "alignmentgroup": "True",
         "boxpoints": "all",
         "hovertemplate": "sex=female<br>target=%{x}<br>age=%{y}<extra></extra>",
         "legendgroup": "female",
         "marker": {
          "color": "#EF553B"
         },
         "name": "female",
         "notched": false,
         "offsetgroup": "female",
         "orientation": "v",
         "showlegend": true,
         "type": "box",
         "x": [
          "Heart Disease",
          "Heart Disease",
          "Heart Disease",
          "Heart Disease",
          "Heart Disease",
          "Heart Disease",
          "Heart Disease",
          "Heart Disease",
          "Heart Disease",
          "Heart Disease",
          "Heart Disease",
          "Heart Disease",
          "Heart Disease",
          "Heart Disease",
          "Heart Disease",
          "Heart Disease",
          "Heart Disease",
          "Heart Disease",
          "Heart Disease",
          "Heart Disease",
          "Heart Disease",
          "Heart Disease",
          "Heart Disease",
          "Heart Disease",
          "Heart Disease",
          "Heart Disease",
          "Heart Disease",
          "Heart Disease",
          "Heart Disease",
          "Heart Disease",
          "Heart Disease",
          "Heart Disease",
          "Heart Disease",
          "Heart Disease",
          "Heart Disease",
          "Heart Disease",
          "Heart Disease",
          "Heart Disease",
          "Heart Disease",
          "Heart Disease",
          "Heart Disease",
          "Heart Disease",
          "Heart Disease",
          "Heart Disease",
          "Heart Disease",
          "Heart Disease",
          "Heart Disease",
          "Heart Disease",
          "Heart Disease",
          "Heart Disease",
          "Heart Disease",
          "Heart Disease",
          "Heart Disease",
          "Heart Disease",
          "Heart Disease",
          "Heart Disease",
          "Heart Disease",
          "Heart Disease",
          "Heart Disease",
          "Heart Disease",
          "Heart Disease",
          "Heart Disease",
          "Heart Disease",
          "Heart Disease",
          "Heart Disease",
          "Heart Disease",
          "Heart Disease",
          "Heart Disease",
          "Heart Disease",
          "Heart Disease",
          "Heart Disease",
          "Heart Disease",
          "No Heart Disease",
          "No Heart Disease",
          "No Heart Disease",
          "No Heart Disease",
          "No Heart Disease",
          "No Heart Disease",
          "No Heart Disease",
          "No Heart Disease",
          "No Heart Disease",
          "No Heart Disease",
          "No Heart Disease",
          "No Heart Disease",
          "No Heart Disease",
          "No Heart Disease",
          "No Heart Disease",
          "No Heart Disease",
          "No Heart Disease",
          "No Heart Disease",
          "No Heart Disease",
          "No Heart Disease",
          "No Heart Disease",
          "No Heart Disease",
          "No Heart Disease",
          "No Heart Disease"
         ],
         "x0": " ",
         "xaxis": "x",
         "y": [
          41,
          57,
          56,
          48,
          58,
          50,
          58,
          66,
          69,
          71,
          65,
          41,
          46,
          54,
          65,
          65,
          51,
          53,
          53,
          53,
          51,
          44,
          63,
          57,
          71,
          35,
          45,
          62,
          43,
          55,
          60,
          42,
          67,
          54,
          58,
          54,
          45,
          62,
          63,
          68,
          45,
          50,
          50,
          64,
          64,
          37,
          46,
          46,
          64,
          41,
          54,
          39,
          34,
          67,
          52,
          74,
          54,
          49,
          41,
          49,
          60,
          51,
          42,
          67,
          76,
          44,
          60,
          71,
          66,
          39,
          58,
          55,
          62,
          65,
          61,
          51,
          62,
          60,
          61,
          43,
          62,
          63,
          56,
          59,
          56,
          62,
          62,
          66,
          63,
          55,
          58,
          55,
          58,
          63,
          57,
          57
         ],
         "y0": " ",
         "yaxis": "y"
        }
       ],
       "layout": {
        "boxmode": "group",
        "legend": {
         "title": {
          "text": "sex"
         },
         "tracegroupgap": 0
        },
        "margin": {
         "t": 60
        },
        "template": {
         "data": {
          "bar": [
           {
            "error_x": {
             "color": "#2a3f5f"
            },
            "error_y": {
             "color": "#2a3f5f"
            },
            "marker": {
             "line": {
              "color": "#E5ECF6",
              "width": 0.5
             },
             "pattern": {
              "fillmode": "overlay",
              "size": 10,
              "solidity": 0.2
             }
            },
            "type": "bar"
           }
          ],
          "barpolar": [
           {
            "marker": {
             "line": {
              "color": "#E5ECF6",
              "width": 0.5
             },
             "pattern": {
              "fillmode": "overlay",
              "size": 10,
              "solidity": 0.2
             }
            },
            "type": "barpolar"
           }
          ],
          "carpet": [
           {
            "aaxis": {
             "endlinecolor": "#2a3f5f",
             "gridcolor": "white",
             "linecolor": "white",
             "minorgridcolor": "white",
             "startlinecolor": "#2a3f5f"
            },
            "baxis": {
             "endlinecolor": "#2a3f5f",
             "gridcolor": "white",
             "linecolor": "white",
             "minorgridcolor": "white",
             "startlinecolor": "#2a3f5f"
            },
            "type": "carpet"
           }
          ],
          "choropleth": [
           {
            "colorbar": {
             "outlinewidth": 0,
             "ticks": ""
            },
            "type": "choropleth"
           }
          ],
          "contour": [
           {
            "colorbar": {
             "outlinewidth": 0,
             "ticks": ""
            },
            "colorscale": [
             [
              0,
              "#0d0887"
             ],
             [
              0.1111111111111111,
              "#46039f"
             ],
             [
              0.2222222222222222,
              "#7201a8"
             ],
             [
              0.3333333333333333,
              "#9c179e"
             ],
             [
              0.4444444444444444,
              "#bd3786"
             ],
             [
              0.5555555555555556,
              "#d8576b"
             ],
             [
              0.6666666666666666,
              "#ed7953"
             ],
             [
              0.7777777777777778,
              "#fb9f3a"
             ],
             [
              0.8888888888888888,
              "#fdca26"
             ],
             [
              1,
              "#f0f921"
             ]
            ],
            "type": "contour"
           }
          ],
          "contourcarpet": [
           {
            "colorbar": {
             "outlinewidth": 0,
             "ticks": ""
            },
            "type": "contourcarpet"
           }
          ],
          "heatmap": [
           {
            "colorbar": {
             "outlinewidth": 0,
             "ticks": ""
            },
            "colorscale": [
             [
              0,
              "#0d0887"
             ],
             [
              0.1111111111111111,
              "#46039f"
             ],
             [
              0.2222222222222222,
              "#7201a8"
             ],
             [
              0.3333333333333333,
              "#9c179e"
             ],
             [
              0.4444444444444444,
              "#bd3786"
             ],
             [
              0.5555555555555556,
              "#d8576b"
             ],
             [
              0.6666666666666666,
              "#ed7953"
             ],
             [
              0.7777777777777778,
              "#fb9f3a"
             ],
             [
              0.8888888888888888,
              "#fdca26"
             ],
             [
              1,
              "#f0f921"
             ]
            ],
            "type": "heatmap"
           }
          ],
          "heatmapgl": [
           {
            "colorbar": {
             "outlinewidth": 0,
             "ticks": ""
            },
            "colorscale": [
             [
              0,
              "#0d0887"
             ],
             [
              0.1111111111111111,
              "#46039f"
             ],
             [
              0.2222222222222222,
              "#7201a8"
             ],
             [
              0.3333333333333333,
              "#9c179e"
             ],
             [
              0.4444444444444444,
              "#bd3786"
             ],
             [
              0.5555555555555556,
              "#d8576b"
             ],
             [
              0.6666666666666666,
              "#ed7953"
             ],
             [
              0.7777777777777778,
              "#fb9f3a"
             ],
             [
              0.8888888888888888,
              "#fdca26"
             ],
             [
              1,
              "#f0f921"
             ]
            ],
            "type": "heatmapgl"
           }
          ],
          "histogram": [
           {
            "marker": {
             "pattern": {
              "fillmode": "overlay",
              "size": 10,
              "solidity": 0.2
             }
            },
            "type": "histogram"
           }
          ],
          "histogram2d": [
           {
            "colorbar": {
             "outlinewidth": 0,
             "ticks": ""
            },
            "colorscale": [
             [
              0,
              "#0d0887"
             ],
             [
              0.1111111111111111,
              "#46039f"
             ],
             [
              0.2222222222222222,
              "#7201a8"
             ],
             [
              0.3333333333333333,
              "#9c179e"
             ],
             [
              0.4444444444444444,
              "#bd3786"
             ],
             [
              0.5555555555555556,
              "#d8576b"
             ],
             [
              0.6666666666666666,
              "#ed7953"
             ],
             [
              0.7777777777777778,
              "#fb9f3a"
             ],
             [
              0.8888888888888888,
              "#fdca26"
             ],
             [
              1,
              "#f0f921"
             ]
            ],
            "type": "histogram2d"
           }
          ],
          "histogram2dcontour": [
           {
            "colorbar": {
             "outlinewidth": 0,
             "ticks": ""
            },
            "colorscale": [
             [
              0,
              "#0d0887"
             ],
             [
              0.1111111111111111,
              "#46039f"
             ],
             [
              0.2222222222222222,
              "#7201a8"
             ],
             [
              0.3333333333333333,
              "#9c179e"
             ],
             [
              0.4444444444444444,
              "#bd3786"
             ],
             [
              0.5555555555555556,
              "#d8576b"
             ],
             [
              0.6666666666666666,
              "#ed7953"
             ],
             [
              0.7777777777777778,
              "#fb9f3a"
             ],
             [
              0.8888888888888888,
              "#fdca26"
             ],
             [
              1,
              "#f0f921"
             ]
            ],
            "type": "histogram2dcontour"
           }
          ],
          "mesh3d": [
           {
            "colorbar": {
             "outlinewidth": 0,
             "ticks": ""
            },
            "type": "mesh3d"
           }
          ],
          "parcoords": [
           {
            "line": {
             "colorbar": {
              "outlinewidth": 0,
              "ticks": ""
             }
            },
            "type": "parcoords"
           }
          ],
          "pie": [
           {
            "automargin": true,
            "type": "pie"
           }
          ],
          "scatter": [
           {
            "fillpattern": {
             "fillmode": "overlay",
             "size": 10,
             "solidity": 0.2
            },
            "type": "scatter"
           }
          ],
          "scatter3d": [
           {
            "line": {
             "colorbar": {
              "outlinewidth": 0,
              "ticks": ""
             }
            },
            "marker": {
             "colorbar": {
              "outlinewidth": 0,
              "ticks": ""
             }
            },
            "type": "scatter3d"
           }
          ],
          "scattercarpet": [
           {
            "marker": {
             "colorbar": {
              "outlinewidth": 0,
              "ticks": ""
             }
            },
            "type": "scattercarpet"
           }
          ],
          "scattergeo": [
           {
            "marker": {
             "colorbar": {
              "outlinewidth": 0,
              "ticks": ""
             }
            },
            "type": "scattergeo"
           }
          ],
          "scattergl": [
           {
            "marker": {
             "colorbar": {
              "outlinewidth": 0,
              "ticks": ""
             }
            },
            "type": "scattergl"
           }
          ],
          "scattermapbox": [
           {
            "marker": {
             "colorbar": {
              "outlinewidth": 0,
              "ticks": ""
             }
            },
            "type": "scattermapbox"
           }
          ],
          "scatterpolar": [
           {
            "marker": {
             "colorbar": {
              "outlinewidth": 0,
              "ticks": ""
             }
            },
            "type": "scatterpolar"
           }
          ],
          "scatterpolargl": [
           {
            "marker": {
             "colorbar": {
              "outlinewidth": 0,
              "ticks": ""
             }
            },
            "type": "scatterpolargl"
           }
          ],
          "scatterternary": [
           {
            "marker": {
             "colorbar": {
              "outlinewidth": 0,
              "ticks": ""
             }
            },
            "type": "scatterternary"
           }
          ],
          "surface": [
           {
            "colorbar": {
             "outlinewidth": 0,
             "ticks": ""
            },
            "colorscale": [
             [
              0,
              "#0d0887"
             ],
             [
              0.1111111111111111,
              "#46039f"
             ],
             [
              0.2222222222222222,
              "#7201a8"
             ],
             [
              0.3333333333333333,
              "#9c179e"
             ],
             [
              0.4444444444444444,
              "#bd3786"
             ],
             [
              0.5555555555555556,
              "#d8576b"
             ],
             [
              0.6666666666666666,
              "#ed7953"
             ],
             [
              0.7777777777777778,
              "#fb9f3a"
             ],
             [
              0.8888888888888888,
              "#fdca26"
             ],
             [
              1,
              "#f0f921"
             ]
            ],
            "type": "surface"
           }
          ],
          "table": [
           {
            "cells": {
             "fill": {
              "color": "#EBF0F8"
             },
             "line": {
              "color": "white"
             }
            },
            "header": {
             "fill": {
              "color": "#C8D4E3"
             },
             "line": {
              "color": "white"
             }
            },
            "type": "table"
           }
          ]
         },
         "layout": {
          "annotationdefaults": {
           "arrowcolor": "#2a3f5f",
           "arrowhead": 0,
           "arrowwidth": 1
          },
          "autotypenumbers": "strict",
          "coloraxis": {
           "colorbar": {
            "outlinewidth": 0,
            "ticks": ""
           }
          },
          "colorscale": {
           "diverging": [
            [
             0,
             "#8e0152"
            ],
            [
             0.1,
             "#c51b7d"
            ],
            [
             0.2,
             "#de77ae"
            ],
            [
             0.3,
             "#f1b6da"
            ],
            [
             0.4,
             "#fde0ef"
            ],
            [
             0.5,
             "#f7f7f7"
            ],
            [
             0.6,
             "#e6f5d0"
            ],
            [
             0.7,
             "#b8e186"
            ],
            [
             0.8,
             "#7fbc41"
            ],
            [
             0.9,
             "#4d9221"
            ],
            [
             1,
             "#276419"
            ]
           ],
           "sequential": [
            [
             0,
             "#0d0887"
            ],
            [
             0.1111111111111111,
             "#46039f"
            ],
            [
             0.2222222222222222,
             "#7201a8"
            ],
            [
             0.3333333333333333,
             "#9c179e"
            ],
            [
             0.4444444444444444,
             "#bd3786"
            ],
            [
             0.5555555555555556,
             "#d8576b"
            ],
            [
             0.6666666666666666,
             "#ed7953"
            ],
            [
             0.7777777777777778,
             "#fb9f3a"
            ],
            [
             0.8888888888888888,
             "#fdca26"
            ],
            [
             1,
             "#f0f921"
            ]
           ],
           "sequentialminus": [
            [
             0,
             "#0d0887"
            ],
            [
             0.1111111111111111,
             "#46039f"
            ],
            [
             0.2222222222222222,
             "#7201a8"
            ],
            [
             0.3333333333333333,
             "#9c179e"
            ],
            [
             0.4444444444444444,
             "#bd3786"
            ],
            [
             0.5555555555555556,
             "#d8576b"
            ],
            [
             0.6666666666666666,
             "#ed7953"
            ],
            [
             0.7777777777777778,
             "#fb9f3a"
            ],
            [
             0.8888888888888888,
             "#fdca26"
            ],
            [
             1,
             "#f0f921"
            ]
           ]
          },
          "colorway": [
           "#636efa",
           "#EF553B",
           "#00cc96",
           "#ab63fa",
           "#FFA15A",
           "#19d3f3",
           "#FF6692",
           "#B6E880",
           "#FF97FF",
           "#FECB52"
          ],
          "font": {
           "color": "#2a3f5f"
          },
          "geo": {
           "bgcolor": "white",
           "lakecolor": "white",
           "landcolor": "#E5ECF6",
           "showlakes": true,
           "showland": true,
           "subunitcolor": "white"
          },
          "hoverlabel": {
           "align": "left"
          },
          "hovermode": "closest",
          "mapbox": {
           "style": "light"
          },
          "paper_bgcolor": "white",
          "plot_bgcolor": "#E5ECF6",
          "polar": {
           "angularaxis": {
            "gridcolor": "white",
            "linecolor": "white",
            "ticks": ""
           },
           "bgcolor": "#E5ECF6",
           "radialaxis": {
            "gridcolor": "white",
            "linecolor": "white",
            "ticks": ""
           }
          },
          "scene": {
           "xaxis": {
            "backgroundcolor": "#E5ECF6",
            "gridcolor": "white",
            "gridwidth": 2,
            "linecolor": "white",
            "showbackground": true,
            "ticks": "",
            "zerolinecolor": "white"
           },
           "yaxis": {
            "backgroundcolor": "#E5ECF6",
            "gridcolor": "white",
            "gridwidth": 2,
            "linecolor": "white",
            "showbackground": true,
            "ticks": "",
            "zerolinecolor": "white"
           },
           "zaxis": {
            "backgroundcolor": "#E5ECF6",
            "gridcolor": "white",
            "gridwidth": 2,
            "linecolor": "white",
            "showbackground": true,
            "ticks": "",
            "zerolinecolor": "white"
           }
          },
          "shapedefaults": {
           "line": {
            "color": "#2a3f5f"
           }
          },
          "ternary": {
           "aaxis": {
            "gridcolor": "white",
            "linecolor": "white",
            "ticks": ""
           },
           "baxis": {
            "gridcolor": "white",
            "linecolor": "white",
            "ticks": ""
           },
           "bgcolor": "#E5ECF6",
           "caxis": {
            "gridcolor": "white",
            "linecolor": "white",
            "ticks": ""
           }
          },
          "title": {
           "x": 0.05
          },
          "xaxis": {
           "automargin": true,
           "gridcolor": "white",
           "linecolor": "white",
           "ticks": "",
           "title": {
            "standoff": 15
           },
           "zerolinecolor": "white",
           "zerolinewidth": 2
          },
          "yaxis": {
           "automargin": true,
           "gridcolor": "white",
           "linecolor": "white",
           "ticks": "",
           "title": {
            "standoff": 15
           },
           "zerolinecolor": "white",
           "zerolinewidth": 2
          }
         }
        },
        "title": {
         "text": "성별을 기반으로 한 나이 VS 심장질환"
        },
        "xaxis": {
         "anchor": "y",
         "domain": [
          0,
          1
         ],
         "title": {
          "text": "target"
         }
        },
        "yaxis": {
         "anchor": "x",
         "domain": [
          0,
          1
         ],
         "title": {
          "text": "age"
         }
        }
       }
      }
     },
     "metadata": {},
     "output_type": "display_data"
    }
   ],
   "source": [
    "# 성별에 따른 나이와 심장질환의 상관관계 (박스플랏)\n",
    "\n",
    "fig = px.box(heart, x=\"target\", y=\"age\", points=\"all\", color='sex')\n",
    "fig.update_layout(title_text='성별을 기반으로 한 나이 VS 심장질환')\n",
    "fig.show()"
   ]
  },
  {
   "attachments": {},
   "cell_type": "markdown",
   "id": "million-arena",
   "metadata": {
    "papermill": {
     "duration": 0.060901,
     "end_time": "2021-12-16T07:13:22.441808",
     "exception": false,
     "start_time": "2021-12-16T07:13:22.380907",
     "status": "completed"
    },
    "tags": []
   },
   "source": [
    "<span style='font-size:14px'> - result 해석 <br>- 심장질환이 없는 환자의 연령 중간값은 심장질환 환자보다 약간 높음."
   ]
  },
  {
   "attachments": {},
   "cell_type": "markdown",
   "id": "infinite-procurement",
   "metadata": {
    "papermill": {
     "duration": 0.064395,
     "end_time": "2021-12-16T07:13:22.570461",
     "exception": false,
     "start_time": "2021-12-16T07:13:22.506066",
     "status": "completed"
    },
    "tags": []
   },
   "source": [
    "### Chest Pain"
   ]
  },
  {
   "cell_type": "code",
   "execution_count": 19,
   "id": "color-synthesis",
   "metadata": {
    "execution": {
     "iopub.execute_input": "2021-12-16T07:13:22.697518Z",
     "iopub.status.busy": "2021-12-16T07:13:22.696808Z",
     "iopub.status.idle": "2021-12-16T07:13:22.894560Z",
     "shell.execute_reply": "2021-12-16T07:13:22.895153Z",
     "shell.execute_reply.started": "2021-06-17T13:06:38.642199Z"
    },
    "papermill": {
     "duration": 0.262329,
     "end_time": "2021-12-16T07:13:22.895345",
     "exception": false,
     "start_time": "2021-12-16T07:13:22.633016",
     "status": "completed"
    },
    "tags": []
   },
   "outputs": [
    {
     "data": {
      "text/plain": [
       "<Axes: xlabel='chest_pain', ylabel='count'>"
      ]
     },
     "execution_count": 19,
     "metadata": {},
     "output_type": "execute_result"
    },
    {
     "data": {
      "image/png": "[encoded data removed]",
      "text/plain": [
       "<Figure size 800x400 with 1 Axes>"
      ]
     },
     "metadata": {},
     "output_type": "display_data"
    }
   ],
   "source": [
    "# 심장질환자와 비심장질환자의 흉통유형수\n",
    "plt.figure(figsize=(8,4))\n",
    "sns.countplot(x=\"chest_pain\", hue=\"target\", data=heart)"
   ]
  },
  {
   "attachments": {},
   "cell_type": "markdown",
   "id": "young-indication",
   "metadata": {
    "papermill": {
     "duration": 0.064802,
     "end_time": "2021-12-16T07:13:23.021413",
     "exception": false,
     "start_time": "2021-12-16T07:13:22.956611",
     "status": "completed"
    },
    "tags": []
   },
   "source": [
    "<span style='font-size:14px'> - result 해석 <br> - 가장 흔한 흉통 유형은 \"atypical agina\"이고, \"agina pectoris\"가 다음이다. <br> - 40명 정도의 환자가 가슴통증은 없지만 여전히 심장병을 앓고 있다는 것을 알 수 있기 때문에 가슴통증이 없다고 해서 환자가 심장병이 없다는 것을 보장할 수는 없다."
   ]
  },
  {
   "cell_type": "code",
   "execution_count": 20,
   "id": "local-consequence",
   "metadata": {
    "execution": {
     "iopub.execute_input": "2021-12-16T07:13:23.152101Z",
     "iopub.status.busy": "2021-12-16T07:13:23.151349Z",
     "iopub.status.idle": "2021-12-16T07:13:23.488720Z",
     "shell.execute_reply": "2021-12-16T07:13:23.487781Z",
     "shell.execute_reply.started": "2021-06-17T13:06:47.922895Z"
    },
    "papermill": {
     "duration": 0.403334,
     "end_time": "2021-12-16T07:13:23.488901",
     "exception": false,
     "start_time": "2021-12-16T07:13:23.085567",
     "status": "completed"
    },
    "tags": []
   },
   "outputs": [
    {
     "data": {
      "text/plain": [
       "<Axes: xlabel='chest_pain', ylabel='count'>"
      ]
     },
     "execution_count": 20,
     "metadata": {},
     "output_type": "execute_result"
    },
    {
     "data": {
      "image/png": "[encoded data removed]",
      "text/plain": [
       "<Figure size 800x400 with 1 Axes>"
      ]
     },
     "metadata": {},
     "output_type": "display_data"
    }
   ],
   "source": [
    "# 남성/여성 환자의 흉통유형수\n",
    "plt.figure(figsize=(8,4))\n",
    "sns.countplot(x=\"chest_pain\", hue=\"sex\", data=heart)"
   ]
  },
  {
   "attachments": {},
   "cell_type": "markdown",
   "id": "comic-israeli",
   "metadata": {
    "papermill": {
     "duration": 0.063529,
     "end_time": "2021-12-16T07:13:23.617162",
     "exception": false,
     "start_time": "2021-12-16T07:13:23.553633",
     "status": "completed"
    },
    "tags": []
   },
   "source": [
    "<span style='font-size:14px'> - result 해석 <br> - 가슴에 통증이 없는 남성 환자 > 여성 환자"
   ]
  },
  {
   "attachments": {},
   "cell_type": "markdown",
   "id": "realistic-removal",
   "metadata": {
    "papermill": {
     "duration": 0.058711,
     "end_time": "2021-12-16T07:13:23.736123",
     "exception": false,
     "start_time": "2021-12-16T07:13:23.677412",
     "status": "completed"
    },
    "tags": []
   },
   "source": [
    "### Resting Blood Pressure"
   ]
  },
  {
   "cell_type": "code",
   "execution_count": 21,
   "id": "advance-december",
   "metadata": {
    "execution": {
     "iopub.execute_input": "2021-12-16T07:13:23.860381Z",
     "iopub.status.busy": "2021-12-16T07:13:23.859571Z",
     "iopub.status.idle": "2021-12-16T07:13:23.888578Z",
     "shell.execute_reply": "2021-12-16T07:13:23.887826Z",
     "shell.execute_reply.started": "2021-06-17T12:42:02.222174Z"
    },
    "papermill": {
     "duration": 0.093368,
     "end_time": "2021-12-16T07:13:23.888737",
     "exception": false,
     "start_time": "2021-12-16T07:13:23.795369",
     "status": "completed"
    },
    "tags": []
   },
   "outputs": [
    {
     "data": {
      "application/vnd.plotly.v1+json": {
       "config": {
        "plotlyServerURL": "https://plot.ly"
       },
       "data": [
        {
         "autobinx": false,
         "histnorm": "probability density",
         "legendgroup": "resting_blood_pressure",
         "marker": {
          "color": "rgb(31, 119, 180)"
         },
         "name": "resting_blood_pressure",
         "opacity": 0.7,
         "type": "histogram",
         "x": [
          145,
          130,
          130,
          120,
          120,
          140,
          140,
          120,
          172,
          150,
          140,
          130,
          130,
          110,
          150,
          120,
          120,
          150,
          150,
          140,
          135,
          130,
          140,
          150,
          140,
          160,
          150,
          110,
          140,
          130,
          105,
          120,
          130,
          125,
          125,
          142,
          135,
          150,
          155,
          160,
          140,
          130,
          104,
          130,
          140,
          120,
          140,
          138,
          128,
          138,
          130,
          120,
          130,
          108,
          135,
          134,
          122,
          115,
          118,
          128,
          110,
          108,
          118,
          135,
          140,
          138,
          100,
          130,
          120,
          124,
          120,
          94,
          130,
          140,
          122,
          135,
          125,
          140,
          128,
          105,
          112,
          128,
          102,
          152,
          102,
          115,
          118,
          101,
          110,
          100,
          124,
          132,
          138,
          132,
          112,
          142,
          140,
          108,
          130,
          130,
          148,
          178,
          140,
          120,
          129,
          120,
          160,
          138,
          120,
          110,
          180,
          150,
          140,
          110,
          130,
          120,
          130,
          120,
          105,
          138,
          130,
          138,
          112,
          108,
          94,
          118,
          112,
          152,
          136,
          120,
          160,
          134,
          120,
          110,
          126,
          130,
          120,
          128,
          110,
          128,
          120,
          115,
          120,
          106,
          140,
          156,
          118,
          150,
          120,
          130,
          160,
          112,
          170,
          146,
          138,
          130,
          130,
          122,
          125,
          130,
          120,
          132,
          120,
          138,
          138,
          160,
          120,
          140,
          130,
          140,
          130,
          110,
          120,
          132,
          130,
          110,
          117,
          140,
          120,
          150,
          132,
          150,
          130,
          112,
          150,
          112,
          130,
          124,
          140,
          110,
          130,
          128,
          120,
          145,
          140,
          170,
          150,
          125,
          120,
          110,
          110,
          125,
          150,
          180,
          160,
          128,
          110,
          150,
          120,
          140,
          128,
          120,
          118,
          145,
          125,
          132,
          130,
          130,
          135,
          130,
          150,
          140,
          138,
          200,
          110,
          145,
          120,
          120,
          170,
          125,
          108,
          165,
          160,
          120,
          130,
          140,
          125,
          140,
          125,
          126,
          160,
          174,
          145,
          152,
          132,
          124,
          134,
          160,
          192,
          140,
          140,
          132,
          138,
          100,
          160,
          142,
          128,
          144,
          150,
          120,
          178,
          112,
          123,
          108,
          110,
          112,
          180,
          118,
          122,
          130,
          120,
          134,
          120,
          100,
          110,
          125,
          146,
          124,
          136,
          138,
          136,
          128,
          126,
          152,
          140,
          140,
          134,
          154,
          110,
          128,
          148,
          114,
          170,
          152,
          120,
          140,
          124,
          164,
          140,
          110,
          144,
          130,
          130
         ],
         "xaxis": "x",
         "xbins": {
          "end": 200,
          "size": 10,
          "start": 94
         },
         "yaxis": "y"
        },
        {
         "legendgroup": "resting_blood_pressure",
         "marker": {
          "color": "rgb(31, 119, 180)"
         },
         "mode": "lines",
         "name": "resting_blood_pressure",
         "showlegend": false,
         "type": "scatter",
         "x": [
          94,
          94.212,
          94.424,
          94.636,
          94.848,
          95.06,
          95.272,
          95.484,
          95.696,
          95.908,
          96.12,
          96.332,
          96.544,
          96.756,
          96.968,
          97.18,
          97.392,
          97.604,
          97.816,
          98.028,
          98.24,
          98.452,
          98.664,
          98.876,
          99.088,
          99.3,
          99.512,
          99.724,
          99.936,
          100.148,
          100.36,
          100.572,
          100.784,
          100.996,
          101.208,
          101.42,
          101.632,
          101.844,
          102.056,
          102.268,
          102.48,
          102.69200000000001,
          102.904,
          103.116,
          103.328,
          103.53999999999999,
          103.752,
          103.964,
          104.176,
          104.388,
          104.6,
          104.812,
          105.024,
          105.236,
          105.44800000000001,
          105.66,
          105.872,
          106.084,
          106.29599999999999,
          106.508,
          106.72,
          106.932,
          107.144,
          107.356,
          107.568,
          107.78,
          107.992,
          108.20400000000001,
          108.416,
          108.628,
          108.84,
          109.05199999999999,
          109.264,
          109.476,
          109.688,
          109.9,
          110.112,
          110.324,
          110.536,
          110.748,
          110.96000000000001,
          111.172,
          111.384,
          111.596,
          111.80799999999999,
          112.02,
          112.232,
          112.444,
          112.656,
          112.868,
          113.08,
          113.292,
          113.504,
          113.71600000000001,
          113.928,
          114.14,
          114.352,
          114.564,
          114.776,
          114.988,
          115.2,
          115.412,
          115.624,
          115.836,
          116.048,
          116.26,
          116.47200000000001,
          116.684,
          116.896,
          117.108,
          117.32,
          117.532,
          117.744,
          117.956,
          118.168,
          118.38,
          118.592,
          118.804,
          119.01599999999999,
          119.22800000000001,
          119.44,
          119.652,
          119.864,
          120.076,
          120.288,
          120.5,
          120.712,
          120.924,
          121.136,
          121.348,
          121.56,
          121.77199999999999,
          121.98400000000001,
          122.196,
          122.408,
          122.62,
          122.832,
          123.044,
          123.256,
          123.468,
          123.68,
          123.892,
          124.104,
          124.316,
          124.52799999999999,
          124.74,
          124.952,
          125.164,
          125.376,
          125.588,
          125.8,
          126.012,
          126.22399999999999,
          126.436,
          126.648,
          126.86,
          127.072,
          127.28399999999999,
          127.49600000000001,
          127.708,
          127.92,
          128.132,
          128.344,
          128.55599999999998,
          128.768,
          128.98,
          129.192,
          129.404,
          129.61599999999999,
          129.828,
          130.04,
          130.252,
          130.464,
          130.676,
          130.888,
          131.1,
          131.312,
          131.524,
          131.736,
          131.948,
          132.16,
          132.372,
          132.584,
          132.796,
          133.008,
          133.22,
          133.43200000000002,
          133.644,
          133.856,
          134.06799999999998,
          134.28,
          134.492,
          134.704,
          134.916,
          135.128,
          135.34,
          135.552,
          135.764,
          135.976,
          136.188,
          136.4,
          136.612,
          136.824,
          137.036,
          137.248,
          137.46,
          137.672,
          137.88400000000001,
          138.096,
          138.308,
          138.52,
          138.732,
          138.94400000000002,
          139.156,
          139.368,
          139.57999999999998,
          139.792,
          140.004,
          140.216,
          140.428,
          140.64,
          140.852,
          141.064,
          141.276,
          141.488,
          141.7,
          141.912,
          142.124,
          142.336,
          142.548,
          142.76,
          142.972,
          143.184,
          143.39600000000002,
          143.608,
          143.82,
          144.03199999999998,
          144.244,
          144.45600000000002,
          144.668,
          144.88,
          145.09199999999998,
          145.304,
          145.516,
          145.728,
          145.94,
          146.152,
          146.364,
          146.576,
          146.788,
          147,
          147.212,
          147.424,
          147.636,
          147.848,
          148.06,
          148.272,
          148.484,
          148.696,
          148.90800000000002,
          149.12,
          149.332,
          149.54399999999998,
          149.756,
          149.96800000000002,
          150.18,
          150.392,
          150.60399999999998,
          150.816,
          151.028,
          151.24,
          151.452,
          151.664,
          151.876,
          152.088,
          152.3,
          152.512,
          152.724,
          152.936,
          153.148,
          153.36,
          153.572,
          153.784,
          153.996,
          154.208,
          154.42000000000002,
          154.632,
          154.844,
          155.05599999999998,
          155.268,
          155.48,
          155.692,
          155.904,
          156.11599999999999,
          156.328,
          156.54,
          156.752,
          156.964,
          157.176,
          157.388,
          157.6,
          157.812,
          158.024,
          158.236,
          158.44799999999998,
          158.66,
          158.872,
          159.084,
          159.296,
          159.50799999999998,
          159.72,
          159.93200000000002,
          160.144,
          160.356,
          160.56799999999998,
          160.78,
          160.99200000000002,
          161.204,
          161.416,
          161.628,
          161.84,
          162.05200000000002,
          162.264,
          162.476,
          162.688,
          162.9,
          163.112,
          163.324,
          163.536,
          163.748,
          163.95999999999998,
          164.172,
          164.38400000000001,
          164.596,
          164.808,
          165.01999999999998,
          165.232,
          165.44400000000002,
          165.656,
          165.868,
          166.07999999999998,
          166.292,
          166.50400000000002,
          166.716,
          166.928,
          167.14,
          167.352,
          167.564,
          167.776,
          167.988,
          168.2,
          168.412,
          168.624,
          168.836,
          169.048,
          169.26,
          169.47199999999998,
          169.684,
          169.89600000000002,
          170.108,
          170.32,
          170.53199999999998,
          170.744,
          170.95600000000002,
          171.168,
          171.38,
          171.59199999999998,
          171.804,
          172.01600000000002,
          172.228,
          172.44,
          172.652,
          172.864,
          173.076,
          173.288,
          173.5,
          173.712,
          173.924,
          174.136,
          174.348,
          174.56,
          174.772,
          174.98399999999998,
          175.196,
          175.40800000000002,
          175.62,
          175.832,
          176.04399999999998,
          176.256,
          176.46800000000002,
          176.68,
          176.892,
          177.10399999999998,
          177.316,
          177.52800000000002,
          177.74,
          177.952,
          178.164,
          178.376,
          178.588,
          178.8,
          179.012,
          179.224,
          179.436,
          179.648,
          179.86,
          180.072,
          180.284,
          180.49599999999998,
          180.708,
          180.92000000000002,
          181.132,
          181.344,
          181.55599999999998,
          181.768,
          181.98000000000002,
          182.192,
          182.404,
          182.61599999999999,
          182.828,
          183.04000000000002,
          183.252,
          183.464,
          183.676,
          183.888,
          184.1,
          184.312,
          184.524,
          184.736,
          184.94799999999998,
          185.16,
          185.372,
          185.584,
          185.796,
          186.00799999999998,
          186.22,
          186.43200000000002,
          186.644,
          186.856,
          187.06799999999998,
          187.28,
          187.49200000000002,
          187.704,
          187.916,
          188.128,
          188.34,
          188.55200000000002,
          188.764,
          188.976,
          189.188,
          189.4,
          189.612,
          189.824,
          190.036,
          190.248,
          190.45999999999998,
          190.672,
          190.88400000000001,
          191.096,
          191.308,
          191.51999999999998,
          191.732,
          191.94400000000002,
          192.156,
          192.368,
          192.57999999999998,
          192.792,
          193.00400000000002,
          193.216,
          193.428,
          193.64,
          193.852,
          194.064,
          194.276,
          194.488,
          194.7,
          194.912,
          195.124,
          195.336,
          195.548,
          195.76,
          195.97199999999998,
          196.184,
          196.39600000000002,
          196.608,
          196.82,
          197.03199999999998,
          197.244,
          197.45600000000002,
          197.668,
          197.88,
          198.09199999999998,
          198.304,
          198.51600000000002,
          198.728,
          198.94,
          199.152,
          199.364,
          199.576,
          199.788
         ],
         "xaxis": "x",
         "y": [
          0.0016003631438764505,
          0.0016655035801445993,
          0.0017325858980133443,
          0.0018016530542628252,
          0.0018727489971603075,
          0.0019459186293424903,
          0.0020212077560186267,
          0.002098663016931933,
          0.0021783318004824125,
          0.00226026213840184,
          0.00234450257938714,
          0.0024311020401447865,
          0.0025201096323804314,
          0.0026115744643873205,
          0.0027055454160489715,
          0.0028020708862762284,
          0.0029011985121499186,
          0.0030029748593382714,
          0.003107445083702243,
          0.003214652564393124,
          0.0033246385091811083,
          0.003437441533229464,
          0.0035530972130417586,
          0.0036716376178537228,
          0.003793090821310669,
          0.00391748039685791,
          0.0040448249008662295,
          0.004175137348108783,
          0.0043084246847864905,
          0.004444687264857936,
          0.004583918335951638,
          0.004726103541613733,
          0.004871220447058144,
          0.005019238095927414,
          0.005170116605828829,
          0.005323806810568592,
          0.005480249957060161,
          0.005639377464815674,
          0.005801110755739362,
          0.005965361161618586,
          0.006132029916247859,
          0.006301008238522671,
          0.006472177512100126,
          0.006645409566346925,
          0.00682056706228553,
          0.006997503986113673,
          0.007176066251621514,
          0.007356092411475802,
          0.007537414475899328,
          0.007719858835760245,
          0.007903247285524653,
          0.00808739813993368,
          0.008272127436671271,
          0.008457250215714106,
          0.008642581864526657,
          0.008827939516808906,
          0.009013143491151562,
          0.009198018754724691,
          0.009382396396053452,
          0.00956611509003683,
          0.009749022537670191,
          0.009930976862457582,
          0.010111847945263088,
          0.01029151867936879,
          0.010469886127787414,
          0.010646862565432489,
          0.010822376389574494,
          0.010996372883114046,
          0.011168814816568345,
          0.011339682876291163,
          0.011508975908308556,
          0.011676710969236666,
          0.011842923178026371,
          0.012007665364725433,
          0.01217100751502998,
          0.012333036012076366,
          0.01249385267966568,
          0.012653573633872452,
          0.012812327952727763,
          0.012970256176337616,
          0.01312750865236123,
          0.013284243744182965,
          0.013440625921328988,
          0.01359682375366189,
          0.013753007832600134,
          0.0139093486440179,
          0.014066014418558018,
          0.014223168985812468,
          0.01438096965916809,
          0.014539565178073572,
          0.014699093734043135,
          0.014859681105880746,
          0.015021438928380417,
          0.015184463117160308,
          0.015348832470326614,
          0.015514607465373248,
          0.01568182926712854,
          0.01585051895970645,
          0.016020677012339158,
          0.01619228298571488,
          0.01636529548206615,
          0.01653965233879968,
          0.016715271061992606,
          0.016892049492642735,
          0.017069866695226487,
          0.017248584054923955,
          0.01742804656688357,
          0.01760808429815859,
          0.017788514000508893,
          0.017969140850157748,
          0.01814976028886805,
          0.018330159939381047,
          0.018510121567367453,
          0.018689423061594358,
          0.018867840404017594,
          0.01904514960196926,
          0.019221128555520807,
          0.01939555883444364,
          0.019568227340942063,
          0.019738927836471163,
          0.019907462313431126,
          0.020073642195317338,
          0.020237289351943334,
          0.020398236919602564,
          0.020556329919424132,
          0.020711425670661948,
          0.020863393999167354,
          0.021012117244772328,
          0.021157490074699872,
          0.021299419113349666,
          0.021437822401836955,
          0.021572628703426553,
          0.02170377667346552,
          0.021831213914520108,
          0.02195489593914617,
          0.022074785064022023,
          0.02219084926003526,
          0.022303060983326385,
          0.02241139601223932,
          0.022515832314624333,
          0.02261634896898233,
          0.022712925161558,
          0.022805539279703663,
          0.02289416811968203,
          0.022978786224593574,
          0.023059365365348933,
          0.023135874174608995,
          0.023208277940445696,
          0.02327653856318207,
          0.02334061467552708,
          0.023400461922777078,
          0.02345603339658164,
          0.02350728021262447,
          0.023554152219608316,
          0.023596598824212636,
          0.023634569914263343,
          0.023668016860261244,
          0.02369689357369918,
          0.023721157599291207,
          0.02374077121736012,
          0.023755702532208184,
          0.02376592652233049,
          0.02377142602882763,
          0.023772192659322018,
          0.023768227586069186,
          0.023759542218753173,
          0.023746158734633923,
          0.02372811045123801,
          0.023705442029603417,
          0.02367820949915607,
          0.023646480098556976,
          0.02361033193025264,
          0.02356985342992793,
          0.02352514265553853,
          0.02347630640402458,
          0.023423459167116214,
          0.02336672194077706,
          0.023306220905732936,
          0.023242085999149047,
          0.023174449399800515,
          0.023103443950986718,
          0.02302920154693001,
          0.022951851509452673,
          0.022871518982310806,
          0.022788323370679507,
          0.022702376852914593,
          0.02261378299087433,
          0.022522635463778477,
          0.02242901694883276,
          0.02233299816968291,
          0.022234637131220994,
          0.022133978556386897,
          0.02203105353743907,
          0.021925879410769157,
          0.021818459860750254,
          0.021708785254412766,
          0.02159683320498965,
          0.021482569358624873,
          0.021365948394870816,
          0.021246915228058296,
          0.021125406393279648,
          0.02100135159763125,
          0.020874675414566515,
          0.020745299096770514,
          0.020613142480909657,
          0.020478125955982866,
          0.020340172465819654,
          0.020199209515561665,
          0.020055171151737525,
          0.019907999885795405,
          0.019757648531696394,
          0.019604081929371655,
          0.019447278527497964,
          0.019287231801109875,
          0.01912395148201832,
          0.018957464582796794,
          0.01878781619818312,
          0.018615070071078706,
          0.018439308913847742,
          0.018260634479277962,
          0.01807916737928912,
          0.017895046653223362,
          0.017708429091244714,
          0.017519488321971238,
          0.01732841367689427,
          0.017135408847358584,
          0.016940690352835443,
          0.016744485841869,
          0.016547032249381127,
          0.016348573835947063,
          0.016149360136172068,
          0.015949643844397374,
          0.015749678666622302,
          0.015549717167743879,
          0.015350008642992796,
          0.015150797041785747,
          0.014952318971142577,
          0.01475480180434864,
          0.014558461918708118,
          0.014363503084069284,
          0.01417011502133915,
          0.013978472147494078,
          0.013788732520671448,
          0.013601036995850593,
          0.013415508598445343,
          0.013232252119889085,
          0.013051353936043017,
          0.012872882046056735,
          0.012696886326198044,
          0.012523398990198463,
          0.01235243524487429,
          0.012183994127215728,
          0.012018059506832919,
          0.011854601235628402,
          0.01169357642486333,
          0.011534930828418456,
          0.011378600310031009,
          0.011224512371630392,
          0.011072587719595834,
          0.010922741845819114,
          0.010774886600864205,
          0.01062893173726021,
          0.010484786402026571,
          0.01034236055888276,
          0.01020156632221617,
          0.010062319186736588,
          0.009924539138798155,
          0.009788151637589235,
          0.009653088456729597,
          0.009519288379241424,
          0.009386697741329837,
          0.00925527082288263,
          0.009124970085036769,
          0.008995766257526152,
          0.00886763828078005,
          0.008740573109857624,
          0.00861456538924548,
          0.00848961700928935,
          0.008365736556552587,
          0.008242938671675446,
          0.008121243329335944,
          0.008000675055674833,
          0.007881262099039055,
          0.007763035570118997,
          0.007646028567508443,
          0.007530275304410466,
          0.007415810251659045,
          0.007302667311441473,
          0.007190879035109142,
          0.007080475897275835,
          0.00697148563704934,
          0.006863932675748751,
          0.006757837618857541,
          0.006653216848277351,
          0.006550082209212802,
          0.006448440794261989,
          0.006348294825540254,
          0.006249641633956603,
          0.0061524737331176945,
          0.006056778983782565,
          0.005962540843352056,
          0.005869738693573379,
          0.005778348238490212,
          0.0056883419636854764,
          0.005599689647061629,
          0.005512358910787711,
          0.005426315803620714,
          0.005341525402580482,
          0.00525795242292312,
          0.005175561825509304,
          0.005094319410996663,
          0.005014192390785605,
          0.004935149925303701,
          0.0048571636210094984,
          0.004780207978413547,
          0.004704260784434688,
          0.004629303443512135,
          0.004555321243057396,
          0.00448230355003384,
          0.004410243936673268,
          0.004339140234556848,
          0.004268994517483179,
          0.0041998130146969695,
          0.004131605957142915,
          0.004064387360420882,
          0.0039981747490387375,
          0.003932988827373595,
          0.0038688531034511307,
          0.003805793472228338,
          0.0037438377655107575,
          0.0036830152759490583,
          0.003623356262739985,
          0.0035648914467046014,
          0.003507651502337465,
          0.0034516665542176296,
          0.003396965684856232,
          0.003343576460633529,
          0.003291524481962677,
          0.003240832963220611,
          0.0031915223473206293,
          0.0031436099590817033,
          0.003097109700789931,
          0.0030520317925629144,
          0.0030083825593330946,
          0.0029661642654746126,
          0.0029253749973252117,
          0.0028860085931111915,
          0.0028480546190832005,
          0.0028114983900228967,
          0.002776321031695427,
          0.002742499582307978,
          0.0027100071295963475,
          0.002678812979804639,
          0.0026488828545505167,
          0.002620179111381692,
          0.0025926609837273063,
          0.00256628483593019,
          0.0025410044291076504,
          0.0025167711937258983,
          0.0024935345049800586,
          0.002471241957340681,
          0.0024498396349511503,
          0.0024292723749291018,
          0.0024094840210302517,
          0.002390417665564379,
          0.0023720158779014953,
          0.002354220918361134,
          0.002336974936729587,
          0.0023202201550898667,
          0.002303899035067968,
          0.002287954429989007,
          0.0022723297227907435,
          0.002256968950853389,
          0.002241816919168665,
          0.0022268193034833844,
          0.002211922745210714,
          0.0021970749400038155,
          0.0021822247219315536,
          0.0021673221451846167,
          0.002152318565175044,
          0.00213716672077513,
          0.002121820819277339,
          0.0021062366254495446,
          0.0020903715558154316,
          0.002074184779014321,
          0.002057637322794611,
          0.002040692187877993,
          0.002023314468604044,
          0.0020054714799352946,
          0.00198713289007746,
          0.0019682708576564956,
          0.0019488601720994295,
          0.0019288783955962762,
          0.0019083060047813934,
          0.0018871265300694359,
          0.0018653266904178907,
          0.0018428965211684837,
          0.0018198294925462213,
          0.0017961226163689316,
          0.0017717765385428213,
          0.0017467956149902239,
          0.0017211879687740001,
          0.0016949655263456683,
          0.0016681440310501005,
          0.001640743032263245,
          0.001612785848818172,
          0.001584299505682496,
          0.0015553146431825833,
          0.0015258653984208767,
          0.0014959892588957044,
          0.0014657268887028642,
          0.0014351219280678961,
          0.0014042207673217232,
          0.0013730722967843652,
          0.0013417276343552684,
          0.0013102398329201844,
          0.0012786635699676362,
          0.0012470548220589216,
          0.0012154705270108596,
          0.0011839682368259415,
          0.0011526057645392513,
          0.0011214408282422589,
          0.0010905306955903314,
          0.0010599318321031855,
          0.0010296995565251463,
          0.000999887706427424,
          0.0009705483171081246,
          0.0009417313166805908,
          0.0009134842400397214,
          0.0008858519641620731,
          0.0008588764669334944,
          0.0008325966114111284,
          0.0008070479571198826,
          0.0007822625996615896,
          0.0007582690395822488,
          0.0007350920811048286,
          0.0007127527609958607,
          0.0006912683074989123,
          0.0006706521289413591,
          0.0006509138313065953,
          0.0006320592637665895,
          0.0006140905908925389,
          0.0005970063900078519,
          0.0005808017719207802,
          0.0005654685230754991,
          0.0005509952669930195,
          0.0005373676427375457,
          0.0005245684980412588,
          0.000512578094651198,
          0.00050137432342561,
          0.0004909329267037077,
          0.0004812277255007529,
          0.0004722308491385509,
          0.0004639129650080005,
          0.0004562435062728273,
          0.00044919089545992607,
          0.0004427227620387089,
          0.00043680615226682597,
          0.00043140772976924197,
          0.00042649396551882235,
          0.00042203131609588727,
          0.00041798638931832987,
          0.0004143260965496567,
          0.00041101779120636205,
          0.0004080293931954624,
          0.00040532949921480985,
          0.00040288747904032227,
          0.0004006735581030994,
          0.0003986588868233528,
          0.00039681559731533935,
          0.0003951168482064964,
          0.0003935368584235586,
          0.0003920509308877406,
          0.00039063546712959294,
          0.00038926797388174207,
          0.000387927062734594,
          0.0003865924439467363,
          0.0003852449154890538,
          0.0003838663483705783,
          0.0003824396692462394,
          0.0003809488412435333,
          0.0003793788438685523,
          0.0003777156527637479,
          0.0003759462199923512,
          0.00037405845541975006,
          0.0003720412096525317,
          0.00036988425888360673,
          0.0003675782918790245,
          0.0003651148992309408,
          0.00036248656489371256,
          0.0003596866599182031,
          0.00035670943820480033,
          0.0003535500340099196,
          0.00035020446086523775,
          0.0003466696115046377,
          0.00034294325834174,
          0.0003390240540015187,
          0.00033491153138318894,
          0.00033060610271844296,
          0.0003261090570889778
         ],
         "yaxis": "y"
        }
       ],
       "layout": {
        "barmode": "overlay",
        "hovermode": "closest",
        "legend": {
         "traceorder": "reversed"
        },
        "template": {
         "data": {
          "bar": [
           {
            "error_x": {
             "color": "#2a3f5f"
            },
            "error_y": {
             "color": "#2a3f5f"
            },
            "marker": {
             "line": {
              "color": "#E5ECF6",
              "width": 0.5
             },
             "pattern": {
              "fillmode": "overlay",
              "size": 10,
              "solidity": 0.2
             }
            },
            "type": "bar"
           }
          ],
          "barpolar": [
           {
            "marker": {
             "line": {
              "color": "#E5ECF6",
              "width": 0.5
             },
             "pattern": {
              "fillmode": "overlay",
              "size": 10,
              "solidity": 0.2
             }
            },
            "type": "barpolar"
           }
          ],
          "carpet": [
           {
            "aaxis": {
             "endlinecolor": "#2a3f5f",
             "gridcolor": "white",
             "linecolor": "white",
             "minorgridcolor": "white",
             "startlinecolor": "#2a3f5f"
            },
            "baxis": {
             "endlinecolor": "#2a3f5f",
             "gridcolor": "white",
             "linecolor": "white",
             "minorgridcolor": "white",
             "startlinecolor": "#2a3f5f"
            },
            "type": "carpet"
           }
          ],
          "choropleth": [
           {
            "colorbar": {
             "outlinewidth": 0,
             "ticks": ""
            },
            "type": "choropleth"
           }
          ],
          "contour": [
           {
            "colorbar": {
             "outlinewidth": 0,
             "ticks": ""
            },
            "colorscale": [
             [
              0,
              "#0d0887"
             ],
             [
              0.1111111111111111,
              "#46039f"
             ],
             [
              0.2222222222222222,
              "#7201a8"
             ],
             [
              0.3333333333333333,
              "#9c179e"
             ],
             [
              0.4444444444444444,
              "#bd3786"
             ],
             [
              0.5555555555555556,
              "#d8576b"
             ],
             [
              0.6666666666666666,
              "#ed7953"
             ],
             [
              0.7777777777777778,
              "#fb9f3a"
             ],
             [
              0.8888888888888888,
              "#fdca26"
             ],
             [
              1,
              "#f0f921"
             ]
            ],
            "type": "contour"
           }
          ],
          "contourcarpet": [
           {
            "colorbar": {
             "outlinewidth": 0,
             "ticks": ""
            },
            "type": "contourcarpet"
           }
          ],
          "heatmap": [
           {
            "colorbar": {
             "outlinewidth": 0,
             "ticks": ""
            },
            "colorscale": [
             [
              0,
              "#0d0887"
             ],
             [
              0.1111111111111111,
              "#46039f"
             ],
             [
              0.2222222222222222,
              "#7201a8"
             ],
             [
              0.3333333333333333,
              "#9c179e"
             ],
             [
              0.4444444444444444,
              "#bd3786"
             ],
             [
              0.5555555555555556,
              "#d8576b"
             ],
             [
              0.6666666666666666,
              "#ed7953"
             ],
             [
              0.7777777777777778,
              "#fb9f3a"
             ],
             [
              0.8888888888888888,
              "#fdca26"
             ],
             [
              1,
              "#f0f921"
             ]
            ],
            "type": "heatmap"
           }
          ],
          "heatmapgl": [
           {
            "colorbar": {
             "outlinewidth": 0,
             "ticks": ""
            },
            "colorscale": [
             [
              0,
              "#0d0887"
             ],
             [
              0.1111111111111111,
              "#46039f"
             ],
             [
              0.2222222222222222,
              "#7201a8"
             ],
             [
              0.3333333333333333,
              "#9c179e"
             ],
             [
              0.4444444444444444,
              "#bd3786"
             ],
             [
              0.5555555555555556,
              "#d8576b"
             ],
             [
              0.6666666666666666,
              "#ed7953"
             ],
             [
              0.7777777777777778,
              "#fb9f3a"
             ],
             [
              0.8888888888888888,
              "#fdca26"
             ],
             [
              1,
              "#f0f921"
             ]
            ],
            "type": "heatmapgl"
           }
          ],
          "histogram": [
           {
            "marker": {
             "pattern": {
              "fillmode": "overlay",
              "size": 10,
              "solidity": 0.2
             }
            },
            "type": "histogram"
           }
          ],
          "histogram2d": [
           {
            "colorbar": {
             "outlinewidth": 0,
             "ticks": ""
            },
            "colorscale": [
             [
              0,
              "#0d0887"
             ],
             [
              0.1111111111111111,
              "#46039f"
             ],
             [
              0.2222222222222222,
              "#7201a8"
             ],
             [
              0.3333333333333333,
              "#9c179e"
             ],
             [
              0.4444444444444444,
              "#bd3786"
             ],
             [
              0.5555555555555556,
              "#d8576b"
             ],
             [
              0.6666666666666666,
              "#ed7953"
             ],
             [
              0.7777777777777778,
              "#fb9f3a"
             ],
             [
              0.8888888888888888,
              "#fdca26"
             ],
             [
              1,
              "#f0f921"
             ]
            ],
            "type": "histogram2d"
           }
          ],
          "histogram2dcontour": [
           {
            "colorbar": {
             "outlinewidth": 0,
             "ticks": ""
            },
            "colorscale": [
             [
              0,
              "#0d0887"
             ],
             [
              0.1111111111111111,
              "#46039f"
             ],
             [
              0.2222222222222222,
              "#7201a8"
             ],
             [
              0.3333333333333333,
              "#9c179e"
             ],
             [
              0.4444444444444444,
              "#bd3786"
             ],
             [
              0.5555555555555556,
              "#d8576b"
             ],
             [
              0.6666666666666666,
              "#ed7953"
             ],
             [
              0.7777777777777778,
              "#fb9f3a"
             ],
             [
              0.8888888888888888,
              "#fdca26"
             ],
             [
              1,
              "#f0f921"
             ]
            ],
            "type": "histogram2dcontour"
           }
          ],
          "mesh3d": [
           {
            "colorbar": {
             "outlinewidth": 0,
             "ticks": ""
            },
            "type": "mesh3d"
           }
          ],
          "parcoords": [
           {
            "line": {
             "colorbar": {
              "outlinewidth": 0,
              "ticks": ""
             }
            },
            "type": "parcoords"
           }
          ],
          "pie": [
           {
            "automargin": true,
            "type": "pie"
           }
          ],
          "scatter": [
           {
            "fillpattern": {
             "fillmode": "overlay",
             "size": 10,
             "solidity": 0.2
            },
            "type": "scatter"
           }
          ],
          "scatter3d": [
           {
            "line": {
             "colorbar": {
              "outlinewidth": 0,
              "ticks": ""
             }
            },
            "marker": {
             "colorbar": {
              "outlinewidth": 0,
              "ticks": ""
             }
            },
            "type": "scatter3d"
           }
          ],
          "scattercarpet": [
           {
            "marker": {
             "colorbar": {
              "outlinewidth": 0,
              "ticks": ""
             }
            },
            "type": "scattercarpet"
           }
          ],
          "scattergeo": [
           {
            "marker": {
             "colorbar": {
              "outlinewidth": 0,
              "ticks": ""
             }
            },
            "type": "scattergeo"
           }
          ],
          "scattergl": [
           {
            "marker": {
             "colorbar": {
              "outlinewidth": 0,
              "ticks": ""
             }
            },
            "type": "scattergl"
           }
          ],
          "scattermapbox": [
           {
            "marker": {
             "colorbar": {
              "outlinewidth": 0,
              "ticks": ""
             }
            },
            "type": "scattermapbox"
           }
          ],
          "scatterpolar": [
           {
            "marker": {
             "colorbar": {
              "outlinewidth": 0,
              "ticks": ""
             }
            },
            "type": "scatterpolar"
           }
          ],
          "scatterpolargl": [
           {
            "marker": {
             "colorbar": {
              "outlinewidth": 0,
              "ticks": ""
             }
            },
            "type": "scatterpolargl"
           }
          ],
          "scatterternary": [
           {
            "marker": {
             "colorbar": {
              "outlinewidth": 0,
              "ticks": ""
             }
            },
            "type": "scatterternary"
           }
          ],
          "surface": [
           {
            "colorbar": {
             "outlinewidth": 0,
             "ticks": ""
            },
            "colorscale": [
             [
              0,
              "#0d0887"
             ],
             [
              0.1111111111111111,
              "#46039f"
             ],
             [
              0.2222222222222222,
              "#7201a8"
             ],
             [
              0.3333333333333333,
              "#9c179e"
             ],
             [
              0.4444444444444444,
              "#bd3786"
             ],
             [
              0.5555555555555556,
              "#d8576b"
             ],
             [
              0.6666666666666666,
              "#ed7953"
             ],
             [
              0.7777777777777778,
              "#fb9f3a"
             ],
             [
              0.8888888888888888,
              "#fdca26"
             ],
             [
              1,
              "#f0f921"
             ]
            ],
            "type": "surface"
           }
          ],
          "table": [
           {
            "cells": {
             "fill": {
              "color": "#EBF0F8"
             },
             "line": {
              "color": "white"
             }
            },
            "header": {
             "fill": {
              "color": "#C8D4E3"
             },
             "line": {
              "color": "white"
             }
            },
            "type": "table"
           }
          ]
         },
         "layout": {
          "annotationdefaults": {
           "arrowcolor": "#2a3f5f",
           "arrowhead": 0,
           "arrowwidth": 1
          },
          "autotypenumbers": "strict",
          "coloraxis": {
           "colorbar": {
            "outlinewidth": 0,
            "ticks": ""
           }
          },
          "colorscale": {
           "diverging": [
            [
             0,
             "#8e0152"
            ],
            [
             0.1,
             "#c51b7d"
            ],
            [
             0.2,
             "#de77ae"
            ],
            [
             0.3,
             "#f1b6da"
            ],
            [
             0.4,
             "#fde0ef"
            ],
            [
             0.5,
             "#f7f7f7"
            ],
            [
             0.6,
             "#e6f5d0"
            ],
            [
             0.7,
             "#b8e186"
            ],
            [
             0.8,
             "#7fbc41"
            ],
            [
             0.9,
             "#4d9221"
            ],
            [
             1,
             "#276419"
            ]
           ],
           "sequential": [
            [
             0,
             "#0d0887"
            ],
            [
             0.1111111111111111,
             "#46039f"
            ],
            [
             0.2222222222222222,
             "#7201a8"
            ],
            [
             0.3333333333333333,
             "#9c179e"
            ],
            [
             0.4444444444444444,
             "#bd3786"
            ],
            [
             0.5555555555555556,
             "#d8576b"
            ],
            [
             0.6666666666666666,
             "#ed7953"
            ],
            [
             0.7777777777777778,
             "#fb9f3a"
            ],
            [
             0.8888888888888888,
             "#fdca26"
            ],
            [
             1,
             "#f0f921"
            ]
           ],
           "sequentialminus": [
            [
             0,
             "#0d0887"
            ],
            [
             0.1111111111111111,
             "#46039f"
            ],
            [
             0.2222222222222222,
             "#7201a8"
            ],
            [
             0.3333333333333333,
             "#9c179e"
            ],
            [
             0.4444444444444444,
             "#bd3786"
            ],
            [
             0.5555555555555556,
             "#d8576b"
            ],
            [
             0.6666666666666666,
             "#ed7953"
            ],
            [
             0.7777777777777778,
             "#fb9f3a"
            ],
            [
             0.8888888888888888,
             "#fdca26"
            ],
            [
             1,
             "#f0f921"
            ]
           ]
          },
          "colorway": [
           "#636efa",
           "#EF553B",
           "#00cc96",
           "#ab63fa",
           "#FFA15A",
           "#19d3f3",
           "#FF6692",
           "#B6E880",
           "#FF97FF",
           "#FECB52"
          ],
          "font": {
           "color": "#2a3f5f"
          },
          "geo": {
           "bgcolor": "white",
           "lakecolor": "white",
           "landcolor": "#E5ECF6",
           "showlakes": true,
           "showland": true,
           "subunitcolor": "white"
          },
          "hoverlabel": {
           "align": "left"
          },
          "hovermode": "closest",
          "mapbox": {
           "style": "light"
          },
          "paper_bgcolor": "white",
          "plot_bgcolor": "#E5ECF6",
          "polar": {
           "angularaxis": {
            "gridcolor": "white",
            "linecolor": "white",
            "ticks": ""
           },
           "bgcolor": "#E5ECF6",
           "radialaxis": {
            "gridcolor": "white",
            "linecolor": "white",
            "ticks": ""
           }
          },
          "scene": {
           "xaxis": {
            "backgroundcolor": "#E5ECF6",
            "gridcolor": "white",
            "gridwidth": 2,
            "linecolor": "white",
            "showbackground": true,
            "ticks": "",
            "zerolinecolor": "white"
           },
           "yaxis": {
            "backgroundcolor": "#E5ECF6",
            "gridcolor": "white",
            "gridwidth": 2,
            "linecolor": "white",
            "showbackground": true,
            "ticks": "",
            "zerolinecolor": "white"
           },
           "zaxis": {
            "backgroundcolor": "#E5ECF6",
            "gridcolor": "white",
            "gridwidth": 2,
            "linecolor": "white",
            "showbackground": true,
            "ticks": "",
            "zerolinecolor": "white"
           }
          },
          "shapedefaults": {
           "line": {
            "color": "#2a3f5f"
           }
          },
          "ternary": {
           "aaxis": {
            "gridcolor": "white",
            "linecolor": "white",
            "ticks": ""
           },
           "baxis": {
            "gridcolor": "white",
            "linecolor": "white",
            "ticks": ""
           },
           "bgcolor": "#E5ECF6",
           "caxis": {
            "gridcolor": "white",
            "linecolor": "white",
            "ticks": ""
           }
          },
          "title": {
           "x": 0.05
          },
          "xaxis": {
           "automargin": true,
           "gridcolor": "white",
           "linecolor": "white",
           "ticks": "",
           "title": {
            "standoff": 15
           },
           "zerolinecolor": "white",
           "zerolinewidth": 2
          },
          "yaxis": {
           "automargin": true,
           "gridcolor": "white",
           "linecolor": "white",
           "ticks": "",
           "title": {
            "standoff": 15
           },
           "zerolinecolor": "white",
           "zerolinewidth": 2
          }
         }
        },
        "title": {
         "text": "휴식기 혈압별 분포도"
        },
        "width": 700,
        "xaxis": {
         "anchor": "y2",
         "domain": [
          0,
          1
         ],
         "zeroline": false
        },
        "yaxis": {
         "anchor": "free",
         "domain": [
          0,
          1
         ],
         "position": 0
        }
       }
      }
     },
     "metadata": {},
     "output_type": "display_data"
    }
   ],
   "source": [
    "# 휴식기 혈압에 따른 심장 질환 분포도\n",
    "data = [heart['resting_blood_pressure']]\n",
    "group = ['resting_blood_pressure'] \n",
    "\n",
    "# 'thalassemia' 히스토그램 \n",
    "fig = ff.create_distplot(data, group_labels=group,bin_size=10,show_rug=False)\n",
    "fig.update_layout(width=700, title_text='휴식기 혈압별 분포도')\n",
    "fig.show()"
   ]
  },
  {
   "cell_type": "code",
   "execution_count": 22,
   "id": "danish-matrix",
   "metadata": {
    "execution": {
     "iopub.execute_input": "2021-12-16T07:13:24.018485Z",
     "iopub.status.busy": "2021-12-16T07:13:24.017534Z",
     "iopub.status.idle": "2021-12-16T07:13:24.230761Z",
     "shell.execute_reply": "2021-12-16T07:13:24.230192Z",
     "shell.execute_reply.started": "2021-06-17T13:06:56.406439Z"
    },
    "papermill": {
     "duration": 0.279733,
     "end_time": "2021-12-16T07:13:24.230948",
     "exception": false,
     "start_time": "2021-12-16T07:13:23.951215",
     "status": "completed"
    },
    "tags": []
   },
   "outputs": [
    {
     "data": {
      "image/png": "[encoded data removed]",
      "text/plain": [
       "<Figure size 400x300 with 1 Axes>"
      ]
     },
     "metadata": {},
     "output_type": "display_data"
    }
   ],
   "source": [
    "# 휴식기 혈압과 심장질환의 상관관계 (막대그래프)\n",
    "plt.figure(figsize=(4,3))\n",
    "sns.barplot(x=\"target\", y='resting_blood_pressure',data = heart)\n",
    "plt.show()"
   ]
  },
  {
   "cell_type": "code",
   "execution_count": 23,
   "id": "different-chapel",
   "metadata": {
    "execution": {
     "iopub.execute_input": "2021-12-16T07:13:24.373403Z",
     "iopub.status.busy": "2021-12-16T07:13:24.372641Z",
     "iopub.status.idle": "2021-12-16T07:13:24.442520Z",
     "shell.execute_reply": "2021-12-16T07:13:24.441960Z",
     "shell.execute_reply.started": "2021-06-17T13:36:45.463301Z"
    },
    "papermill": {
     "duration": 0.145167,
     "end_time": "2021-12-16T07:13:24.442676",
     "exception": false,
     "start_time": "2021-12-16T07:13:24.297509",
     "status": "completed"
    },
    "tags": []
   },
   "outputs": [
    {
     "data": {
      "application/vnd.plotly.v1+json": {
       "config": {
        "plotlyServerURL": "https://plot.ly"
       },
       "data": [
        {
         "alignmentgroup": "True",
         "boxpoints": "all",
         "hovertemplate": "sex=male<br>target=%{x}<br>resting_blood_pressure=%{y}<extra></extra>",
         "legendgroup": "male",
         "marker": {
          "color": "#636efa"
         },
         "name": "male",
         "notched": false,
         "offsetgroup": "male",
         "orientation": "v",
         "showlegend": true,
         "type": "box",
         "x": [
          "Heart Disease",
          "Heart Disease",
          "Heart Disease",
          "Heart Disease",
          "Heart Disease",
          "Heart Disease",
          "Heart Disease",
          "Heart Disease",
          "Heart Disease",
          "Heart Disease",
          "Heart Disease",
          "Heart Disease",
          "Heart Disease",
          "Heart Disease",
          "Heart Disease",
          "Heart Disease",
          "Heart Disease",
          "Heart Disease",
          "Heart Disease",
          "Heart Disease",
          "Heart Disease",
          "Heart Disease",
          "Heart Disease",
          "Heart Disease",
          "Heart Disease",
          "Heart Disease",
          "Heart Disease",
          "Heart Disease",
          "Heart Disease",
          "Heart Disease",
          "Heart Disease",
          "Heart Disease",
          "Heart Disease",
          "Heart Disease",
          "Heart Disease",
          "Heart Disease",
          "Heart Disease",
          "Heart Disease",
          "Heart Disease",
          "Heart Disease",
          "Heart Disease",
          "Heart Disease",
          "Heart Disease",
          "Heart Disease",
          "Heart Disease",
          "Heart Disease",
          "Heart Disease",
          "Heart Disease",
          "Heart Disease",
          "Heart Disease",
          "Heart Disease",
          "Heart Disease",
          "Heart Disease",
          "Heart Disease",
          "Heart Disease",
          "Heart Disease",
          "Heart Disease",
          "Heart Disease",
          "Heart Disease",
          "Heart Disease",
          "Heart Disease",
          "Heart Disease",
          "Heart Disease",
          "Heart Disease",
          "Heart Disease",
          "Heart Disease",
          "Heart Disease",
          "Heart Disease",
          "Heart Disease",
          "Heart Disease",
          "Heart Disease",
          "Heart Disease",
          "Heart Disease",
          "Heart Disease",
          "Heart Disease",
          "Heart Disease",
          "Heart Disease",
          "Heart Disease",
          "Heart Disease",
          "Heart Disease",
          "Heart Disease",
          "Heart Disease",
          "Heart Disease",
          "Heart Disease",
          "Heart Disease",
          "Heart Disease",
          "Heart Disease",
          "Heart Disease",
          "Heart Disease",
          "Heart Disease",
          "Heart Disease",
          "Heart Disease",
          "Heart Disease",
          "No Heart Disease",
          "No Heart Disease",
          "No Heart Disease",
          "No Heart Disease",
          "No Heart Disease",
          "No Heart Disease",
          "No Heart Disease",
          "No Heart Disease",
          "No Heart Disease",
          "No Heart Disease",
          "No Heart Disease",
          "No Heart Disease",
          "No Heart Disease",
          "No Heart Disease",
          "No Heart Disease",
          "No Heart Disease",
          "No Heart Disease",
          "No Heart Disease",
          "No Heart Disease",
          "No Heart Disease",
          "No Heart Disease",
          "No Heart Disease",
          "No Heart Disease",
          "No Heart Disease",
          "No Heart Disease",
          "No Heart Disease",
          "No Heart Disease",
          "No Heart Disease",
          "No Heart Disease",
          "No Heart Disease",
          "No Heart Disease",
          "No Heart Disease",
          "No Heart Disease",
          "No Heart Disease",
          "No Heart Disease",
          "No Heart Disease",
          "No Heart Disease",
          "No Heart Disease",
          "No Heart Disease",
          "No Heart Disease",
          "No Heart Disease",
          "No Heart Disease",
          "No Heart Disease",
          "No Heart Disease",
          "No Heart Disease",
          "No Heart Disease",
          "No Heart Disease",
          "No Heart Disease",
          "No Heart Disease",
          "No Heart Disease",
          "No Heart Disease",
          "No Heart Disease",
          "No Heart Disease",
          "No Heart Disease",
          "No Heart Disease",
          "No Heart Disease",
          "No Heart Disease",
          "No Heart Disease",
          "No Heart Disease",
          "No Heart Disease",
          "No Heart Disease",
          "No Heart Disease",
          "No Heart Disease",
          "No Heart Disease",
          "No Heart Disease",
          "No Heart Disease",
          "No Heart Disease",
          "No Heart Disease",
          "No Heart Disease",
          "No Heart Disease",
          "No Heart Disease",
          "No Heart Disease",
          "No Heart Disease",
          "No Heart Disease",
          "No Heart Disease",
          "No Heart Disease",
          "No Heart Disease",
          "No Heart Disease",
          "No Heart Disease",
          "No Heart Disease",
          "No Heart Disease",
          "No Heart Disease",
          "No Heart Disease",
          "No Heart Disease",
          "No Heart Disease",
          "No Heart Disease",
          "No Heart Disease",
          "No Heart Disease",
          "No Heart Disease",
          "No Heart Disease",
          "No Heart Disease",
          "No Heart Disease",
          "No Heart Disease",
          "No Heart Disease",
          "No Heart Disease",
          "No Heart Disease",
          "No Heart Disease",
          "No Heart Disease",
          "No Heart Disease",
          "No Heart Disease",
          "No Heart Disease",
          "No Heart Disease",
          "No Heart Disease",
          "No Heart Disease",
          "No Heart Disease",
          "No Heart Disease",
          "No Heart Disease",
          "No Heart Disease",
          "No Heart Disease",
          "No Heart Disease",
          "No Heart Disease",
          "No Heart Disease",
          "No Heart Disease",
          "No Heart Disease"
         ],
         "x0": " ",
         "xaxis": "x",
         "y": [
          145,
          130,
          120,
          140,
          120,
          172,
          150,
          140,
          130,
          110,
          150,
          135,
          130,
          140,
          150,
          140,
          150,
          110,
          130,
          120,
          130,
          125,
          125,
          150,
          130,
          104,
          140,
          120,
          140,
          138,
          120,
          130,
          134,
          122,
          115,
          118,
          108,
          118,
          135,
          140,
          100,
          120,
          120,
          94,
          130,
          140,
          125,
          140,
          128,
          105,
          112,
          128,
          152,
          118,
          101,
          124,
          132,
          138,
          142,
          108,
          130,
          130,
          148,
          178,
          120,
          129,
          160,
          150,
          110,
          130,
          130,
          120,
          138,
          112,
          120,
          110,
          128,
          110,
          128,
          115,
          156,
          120,
          130,
          160,
          170,
          130,
          122,
          125,
          130,
          120,
          120,
          138,
          138,
          160,
          120,
          130,
          140,
          130,
          110,
          120,
          132,
          130,
          110,
          117,
          140,
          120,
          150,
          132,
          112,
          150,
          112,
          130,
          124,
          140,
          110,
          128,
          120,
          145,
          140,
          170,
          150,
          125,
          120,
          110,
          110,
          125,
          150,
          180,
          128,
          110,
          120,
          140,
          128,
          120,
          118,
          125,
          130,
          135,
          130,
          140,
          138,
          110,
          145,
          120,
          120,
          170,
          125,
          108,
          165,
          160,
          120,
          130,
          140,
          125,
          140,
          125,
          126,
          160,
          145,
          152,
          132,
          124,
          160,
          192,
          140,
          140,
          132,
          100,
          160,
          142,
          128,
          144,
          120,
          112,
          123,
          110,
          112,
          118,
          122,
          130,
          120,
          134,
          120,
          100,
          110,
          125,
          146,
          124,
          138,
          136,
          128,
          126,
          152,
          140,
          140,
          134,
          154,
          110,
          148,
          114,
          152,
          120,
          140,
          164,
          110,
          144,
          130
         ],
         "y0": " ",
         "yaxis": "y"
        },
        {
         "alignmentgroup": "True",
         "boxpoints": "all",
         "hovertemplate": "sex=female<br>target=%{x}<br>resting_blood_pressure=%{y}<extra></extra>",
         "legendgroup": "female",
         "marker": {
          "color": "#EF553B"
         },
         "name": "female",
         "notched": false,
         "offsetgroup": "female",
         "orientation": "v",
         "showlegend": true,
         "type": "box",
         "x": [
          "Heart Disease",
          "Heart Disease",
          "Heart Disease",
          "Heart Disease",
          "Heart Disease",
          "Heart Disease",
          "Heart Disease",
          "Heart Disease",
          "Heart Disease",
          "Heart Disease",
          "Heart Disease",
          "Heart Disease",
          "Heart Disease",
          "Heart Disease",
          "Heart Disease",
          "Heart Disease",
          "Heart Disease",
          "Heart Disease",
          "Heart Disease",
          "Heart Disease",
          "Heart Disease",
          "Heart Disease",
          "Heart Disease",
          "Heart Disease",
          "Heart Disease",
          "Heart Disease",
          "Heart Disease",
          "Heart Disease",
          "Heart Disease",
          "Heart Disease",
          "Heart Disease",
          "Heart Disease",
          "Heart Disease",
          "Heart Disease",
          "Heart Disease",
          "Heart Disease",
          "Heart Disease",
          "Heart Disease",
          "Heart Disease",
          "Heart Disease",
          "Heart Disease",
          "Heart Disease",
          "Heart Disease",
          "Heart Disease",
          "Heart Disease",
          "Heart Disease",
          "Heart Disease",
          "Heart Disease",
          "Heart Disease",
          "Heart Disease",
          "Heart Disease",
          "Heart Disease",
          "Heart Disease",
          "Heart Disease",
          "Heart Disease",
          "Heart Disease",
          "Heart Disease",
          "Heart Disease",
          "Heart Disease",
          "Heart Disease",
          "Heart Disease",
          "Heart Disease",
          "Heart Disease",
          "Heart Disease",
          "Heart Disease",
          "Heart Disease",
          "Heart Disease",
          "Heart Disease",
          "Heart Disease",
          "Heart Disease",
          "Heart Disease",
          "Heart Disease",
          "No Heart Disease",
          "No Heart Disease",
          "No Heart Disease",
          "No Heart Disease",
          "No Heart Disease",
          "No Heart Disease",
          "No Heart Disease",
          "No Heart Disease",
          "No Heart Disease",
          "No Heart Disease",
          "No Heart Disease",
          "No Heart Disease",
          "No Heart Disease",
          "No Heart Disease",
          "No Heart Disease",
          "No Heart Disease",
          "No Heart Disease",
          "No Heart Disease",
          "No Heart Disease",
          "No Heart Disease",
          "No Heart Disease",
          "No Heart Disease",
          "No Heart Disease",
          "No Heart Disease"
         ],
         "x0": " ",
         "xaxis": "x",
         "y": [
          130,
          120,
          140,
          130,
          150,
          120,
          120,
          150,
          140,
          160,
          140,
          105,
          142,
          135,
          155,
          160,
          140,
          130,
          128,
          138,
          130,
          108,
          135,
          128,
          110,
          138,
          130,
          124,
          122,
          135,
          102,
          102,
          115,
          110,
          100,
          132,
          112,
          140,
          140,
          120,
          138,
          120,
          110,
          180,
          140,
          120,
          105,
          138,
          130,
          112,
          108,
          94,
          118,
          152,
          136,
          120,
          160,
          134,
          126,
          130,
          120,
          120,
          120,
          106,
          140,
          118,
          150,
          112,
          146,
          138,
          130,
          132,
          140,
          150,
          130,
          130,
          160,
          150,
          145,
          132,
          130,
          150,
          200,
          174,
          134,
          138,
          150,
          178,
          108,
          180,
          136,
          128,
          170,
          124,
          140,
          130
         ],
         "y0": " ",
         "yaxis": "y"
        }
       ],
       "layout": {
        "boxmode": "group",
        "legend": {
         "title": {
          "text": "sex"
         },
         "tracegroupgap": 0
        },
        "margin": {
         "t": 60
        },
        "template": {
         "data": {
          "bar": [
           {
            "error_x": {
             "color": "#2a3f5f"
            },
            "error_y": {
             "color": "#2a3f5f"
            },
            "marker": {
             "line": {
              "color": "#E5ECF6",
              "width": 0.5
             },
             "pattern": {
              "fillmode": "overlay",
              "size": 10,
              "solidity": 0.2
             }
            },
            "type": "bar"
           }
          ],
          "barpolar": [
           {
            "marker": {
             "line": {
              "color": "#E5ECF6",
              "width": 0.5
             },
             "pattern": {
              "fillmode": "overlay",
              "size": 10,
              "solidity": 0.2
             }
            },
            "type": "barpolar"
           }
          ],
          "carpet": [
           {
            "aaxis": {
             "endlinecolor": "#2a3f5f",
             "gridcolor": "white",
             "linecolor": "white",
             "minorgridcolor": "white",
             "startlinecolor": "#2a3f5f"
            },
            "baxis": {
             "endlinecolor": "#2a3f5f",
             "gridcolor": "white",
             "linecolor": "white",
             "minorgridcolor": "white",
             "startlinecolor": "#2a3f5f"
            },
            "type": "carpet"
           }
          ],
          "choropleth": [
           {
            "colorbar": {
             "outlinewidth": 0,
             "ticks": ""
            },
            "type": "choropleth"
           }
          ],
          "contour": [
           {
            "colorbar": {
             "outlinewidth": 0,
             "ticks": ""
            },
            "colorscale": [
             [
              0,
              "#0d0887"
             ],
             [
              0.1111111111111111,
              "#46039f"
             ],
             [
              0.2222222222222222,
              "#7201a8"
             ],
             [
              0.3333333333333333,
              "#9c179e"
             ],
             [
              0.4444444444444444,
              "#bd3786"
             ],
             [
              0.5555555555555556,
              "#d8576b"
             ],
             [
              0.6666666666666666,
              "#ed7953"
             ],
             [
              0.7777777777777778,
              "#fb9f3a"
             ],
             [
              0.8888888888888888,
              "#fdca26"
             ],
             [
              1,
              "#f0f921"
             ]
            ],
            "type": "contour"
           }
          ],
          "contourcarpet": [
           {
            "colorbar": {
             "outlinewidth": 0,
             "ticks": ""
            },
            "type": "contourcarpet"
           }
          ],
          "heatmap": [
           {
            "colorbar": {
             "outlinewidth": 0,
             "ticks": ""
            },
            "colorscale": [
             [
              0,
              "#0d0887"
             ],
             [
              0.1111111111111111,
              "#46039f"
             ],
             [
              0.2222222222222222,
              "#7201a8"
             ],
             [
              0.3333333333333333,
              "#9c179e"
             ],
             [
              0.4444444444444444,
              "#bd3786"
             ],
             [
              0.5555555555555556,
              "#d8576b"
             ],
             [
              0.6666666666666666,
              "#ed7953"
             ],
             [
              0.7777777777777778,
              "#fb9f3a"
             ],
             [
              0.8888888888888888,
              "#fdca26"
             ],
             [
              1,
              "#f0f921"
             ]
            ],
            "type": "heatmap"
           }
          ],
          "heatmapgl": [
           {
            "colorbar": {
             "outlinewidth": 0,
             "ticks": ""
            },
            "colorscale": [
             [
              0,
              "#0d0887"
             ],
             [
              0.1111111111111111,
              "#46039f"
             ],
             [
              0.2222222222222222,
              "#7201a8"
             ],
             [
              0.3333333333333333,
              "#9c179e"
             ],
             [
              0.4444444444444444,
              "#bd3786"
             ],
             [
              0.5555555555555556,
              "#d8576b"
             ],
             [
              0.6666666666666666,
              "#ed7953"
             ],
             [
              0.7777777777777778,
              "#fb9f3a"
             ],
             [
              0.8888888888888888,
              "#fdca26"
             ],
             [
              1,
              "#f0f921"
             ]
            ],
            "type": "heatmapgl"
           }
          ],
          "histogram": [
           {
            "marker": {
             "pattern": {
              "fillmode": "overlay",
              "size": 10,
              "solidity": 0.2
             }
            },
            "type": "histogram"
           }
          ],
          "histogram2d": [
           {
            "colorbar": {
             "outlinewidth": 0,
             "ticks": ""
            },
            "colorscale": [
             [
              0,
              "#0d0887"
             ],
             [
              0.1111111111111111,
              "#46039f"
             ],
             [
              0.2222222222222222,
              "#7201a8"
             ],
             [
              0.3333333333333333,
              "#9c179e"
             ],
             [
              0.4444444444444444,
              "#bd3786"
             ],
             [
              0.5555555555555556,
              "#d8576b"
             ],
             [
              0.6666666666666666,
              "#ed7953"
             ],
             [
              0.7777777777777778,
              "#fb9f3a"
             ],
             [
              0.8888888888888888,
              "#fdca26"
             ],
             [
              1,
              "#f0f921"
             ]
            ],
            "type": "histogram2d"
           }
          ],
          "histogram2dcontour": [
           {
            "colorbar": {
             "outlinewidth": 0,
             "ticks": ""
            },
            "colorscale": [
             [
              0,
              "#0d0887"
             ],
             [
              0.1111111111111111,
              "#46039f"
             ],
             [
              0.2222222222222222,
              "#7201a8"
             ],
             [
              0.3333333333333333,
              "#9c179e"
             ],
             [
              0.4444444444444444,
              "#bd3786"
             ],
             [
              0.5555555555555556,
              "#d8576b"
             ],
             [
              0.6666666666666666,
              "#ed7953"
             ],
             [
              0.7777777777777778,
              "#fb9f3a"
             ],
             [
              0.8888888888888888,
              "#fdca26"
             ],
             [
              1,
              "#f0f921"
             ]
            ],
            "type": "histogram2dcontour"
           }
          ],
          "mesh3d": [
           {
            "colorbar": {
             "outlinewidth": 0,
             "ticks": ""
            },
            "type": "mesh3d"
           }
          ],
          "parcoords": [
           {
            "line": {
             "colorbar": {
              "outlinewidth": 0,
              "ticks": ""
             }
            },
            "type": "parcoords"
           }
          ],
          "pie": [
           {
            "automargin": true,
            "type": "pie"
           }
          ],
          "scatter": [
           {
            "fillpattern": {
             "fillmode": "overlay",
             "size": 10,
             "solidity": 0.2
            },
            "type": "scatter"
           }
          ],
          "scatter3d": [
           {
            "line": {
             "colorbar": {
              "outlinewidth": 0,
              "ticks": ""
             }
            },
            "marker": {
             "colorbar": {
              "outlinewidth": 0,
              "ticks": ""
             }
            },
            "type": "scatter3d"
           }
          ],
          "scattercarpet": [
           {
            "marker": {
             "colorbar": {
              "outlinewidth": 0,
              "ticks": ""
             }
            },
            "type": "scattercarpet"
           }
          ],
          "scattergeo": [
           {
            "marker": {
             "colorbar": {
              "outlinewidth": 0,
              "ticks": ""
             }
            },
            "type": "scattergeo"
           }
          ],
          "scattergl": [
           {
            "marker": {
             "colorbar": {
              "outlinewidth": 0,
              "ticks": ""
             }
            },
            "type": "scattergl"
           }
          ],
          "scattermapbox": [
           {
            "marker": {
             "colorbar": {
              "outlinewidth": 0,
              "ticks": ""
             }
            },
            "type": "scattermapbox"
           }
          ],
          "scatterpolar": [
           {
            "marker": {
             "colorbar": {
              "outlinewidth": 0,
              "ticks": ""
             }
            },
            "type": "scatterpolar"
           }
          ],
          "scatterpolargl": [
           {
            "marker": {
             "colorbar": {
              "outlinewidth": 0,
              "ticks": ""
             }
            },
            "type": "scatterpolargl"
           }
          ],
          "scatterternary": [
           {
            "marker": {
             "colorbar": {
              "outlinewidth": 0,
              "ticks": ""
             }
            },
            "type": "scatterternary"
           }
          ],
          "surface": [
           {
            "colorbar": {
             "outlinewidth": 0,
             "ticks": ""
            },
            "colorscale": [
             [
              0,
              "#0d0887"
             ],
             [
              0.1111111111111111,
              "#46039f"
             ],
             [
              0.2222222222222222,
              "#7201a8"
             ],
             [
              0.3333333333333333,
              "#9c179e"
             ],
             [
              0.4444444444444444,
              "#bd3786"
             ],
             [
              0.5555555555555556,
              "#d8576b"
             ],
             [
              0.6666666666666666,
              "#ed7953"
             ],
             [
              0.7777777777777778,
              "#fb9f3a"
             ],
             [
              0.8888888888888888,
              "#fdca26"
             ],
             [
              1,
              "#f0f921"
             ]
            ],
            "type": "surface"
           }
          ],
          "table": [
           {
            "cells": {
             "fill": {
              "color": "#EBF0F8"
             },
             "line": {
              "color": "white"
             }
            },
            "header": {
             "fill": {
              "color": "#C8D4E3"
             },
             "line": {
              "color": "white"
             }
            },
            "type": "table"
           }
          ]
         },
         "layout": {
          "annotationdefaults": {
           "arrowcolor": "#2a3f5f",
           "arrowhead": 0,
           "arrowwidth": 1
          },
          "autotypenumbers": "strict",
          "coloraxis": {
           "colorbar": {
            "outlinewidth": 0,
            "ticks": ""
           }
          },
          "colorscale": {
           "diverging": [
            [
             0,
             "#8e0152"
            ],
            [
             0.1,
             "#c51b7d"
            ],
            [
             0.2,
             "#de77ae"
            ],
            [
             0.3,
             "#f1b6da"
            ],
            [
             0.4,
             "#fde0ef"
            ],
            [
             0.5,
             "#f7f7f7"
            ],
            [
             0.6,
             "#e6f5d0"
            ],
            [
             0.7,
             "#b8e186"
            ],
            [
             0.8,
             "#7fbc41"
            ],
            [
             0.9,
             "#4d9221"
            ],
            [
             1,
             "#276419"
            ]
           ],
           "sequential": [
            [
             0,
             "#0d0887"
            ],
            [
             0.1111111111111111,
             "#46039f"
            ],
            [
             0.2222222222222222,
             "#7201a8"
            ],
            [
             0.3333333333333333,
             "#9c179e"
            ],
            [
             0.4444444444444444,
             "#bd3786"
            ],
            [
             0.5555555555555556,
             "#d8576b"
            ],
            [
             0.6666666666666666,
             "#ed7953"
            ],
            [
             0.7777777777777778,
             "#fb9f3a"
            ],
            [
             0.8888888888888888,
             "#fdca26"
            ],
            [
             1,
             "#f0f921"
            ]
           ],
           "sequentialminus": [
            [
             0,
             "#0d0887"
            ],
            [
             0.1111111111111111,
             "#46039f"
            ],
            [
             0.2222222222222222,
             "#7201a8"
            ],
            [
             0.3333333333333333,
             "#9c179e"
            ],
            [
             0.4444444444444444,
             "#bd3786"
            ],
            [
             0.5555555555555556,
             "#d8576b"
            ],
            [
             0.6666666666666666,
             "#ed7953"
            ],
            [
             0.7777777777777778,
             "#fb9f3a"
            ],
            [
             0.8888888888888888,
             "#fdca26"
            ],
            [
             1,
             "#f0f921"
            ]
           ]
          },
          "colorway": [
           "#636efa",
           "#EF553B",
           "#00cc96",
           "#ab63fa",
           "#FFA15A",
           "#19d3f3",
           "#FF6692",
           "#B6E880",
           "#FF97FF",
           "#FECB52"
          ],
          "font": {
           "color": "#2a3f5f"
          },
          "geo": {
           "bgcolor": "white",
           "lakecolor": "white",
           "landcolor": "#E5ECF6",
           "showlakes": true,
           "showland": true,
           "subunitcolor": "white"
          },
          "hoverlabel": {
           "align": "left"
          },
          "hovermode": "closest",
          "mapbox": {
           "style": "light"
          },
          "paper_bgcolor": "white",
          "plot_bgcolor": "#E5ECF6",
          "polar": {
           "angularaxis": {
            "gridcolor": "white",
            "linecolor": "white",
            "ticks": ""
           },
           "bgcolor": "#E5ECF6",
           "radialaxis": {
            "gridcolor": "white",
            "linecolor": "white",
            "ticks": ""
           }
          },
          "scene": {
           "xaxis": {
            "backgroundcolor": "#E5ECF6",
            "gridcolor": "white",
            "gridwidth": 2,
            "linecolor": "white",
            "showbackground": true,
            "ticks": "",
            "zerolinecolor": "white"
           },
           "yaxis": {
            "backgroundcolor": "#E5ECF6",
            "gridcolor": "white",
            "gridwidth": 2,
            "linecolor": "white",
            "showbackground": true,
            "ticks": "",
            "zerolinecolor": "white"
           },
           "zaxis": {
            "backgroundcolor": "#E5ECF6",
            "gridcolor": "white",
            "gridwidth": 2,
            "linecolor": "white",
            "showbackground": true,
            "ticks": "",
            "zerolinecolor": "white"
           }
          },
          "shapedefaults": {
           "line": {
            "color": "#2a3f5f"
           }
          },
          "ternary": {
           "aaxis": {
            "gridcolor": "white",
            "linecolor": "white",
            "ticks": ""
           },
           "baxis": {
            "gridcolor": "white",
            "linecolor": "white",
            "ticks": ""
           },
           "bgcolor": "#E5ECF6",
           "caxis": {
            "gridcolor": "white",
            "linecolor": "white",
            "ticks": ""
           }
          },
          "title": {
           "x": 0.05
          },
          "xaxis": {
           "automargin": true,
           "gridcolor": "white",
           "linecolor": "white",
           "ticks": "",
           "title": {
            "standoff": 15
           },
           "zerolinecolor": "white",
           "zerolinewidth": 2
          },
          "yaxis": {
           "automargin": true,
           "gridcolor": "white",
           "linecolor": "white",
           "ticks": "",
           "title": {
            "standoff": 15
           },
           "zerolinecolor": "white",
           "zerolinewidth": 2
          }
         }
        },
        "title": {
         "text": "휴식기 혈압과 심장질환의 상관관계"
        },
        "xaxis": {
         "anchor": "y",
         "domain": [
          0,
          1
         ],
         "title": {
          "text": "target"
         }
        },
        "yaxis": {
         "anchor": "x",
         "domain": [
          0,
          1
         ],
         "title": {
          "text": "resting_blood_pressure"
         }
        }
       }
      }
     },
     "metadata": {},
     "output_type": "display_data"
    }
   ],
   "source": [
    "# 휴식기 혈압과 심장질환의 상관관계(박스플랏)\n",
    "\n",
    "fig = px.box(heart, x=\"target\", y=\"resting_blood_pressure\", points=\"all\", color='sex')\n",
    "fig.update_layout(title_text='휴식기 혈압과 심장질환의 상관관계')\n",
    "fig.show()"
   ]
  },
  {
   "attachments": {},
   "cell_type": "markdown",
   "id": "verified-marsh",
   "metadata": {
    "papermill": {
     "duration": 0.08236,
     "end_time": "2021-12-16T07:13:24.590100",
     "exception": false,
     "start_time": "2021-12-16T07:13:24.507740",
     "status": "completed"
    },
    "tags": []
   },
   "source": [
    "<span style='font-size:14px'> - result 해석 <br> - 휴식기 혈압 분포는 정상 분포에 가깝다.<br> - 심장질환 환자와 비심장질환 환자의 휴식기 혈압은 비슷하다. <br> - 심장질환이 있는 중간 휴식기 혈압 = 남성(130) / 여성(130) <br>- 심장질환이 없는 중간 휴식기 혈압 = 남성(130) / 여성(140)"
   ]
  },
  {
   "attachments": {},
   "cell_type": "markdown",
   "id": "ongoing-laugh",
   "metadata": {
    "papermill": {
     "duration": 0.063552,
     "end_time": "2021-12-16T07:13:24.729968",
     "exception": false,
     "start_time": "2021-12-16T07:13:24.666416",
     "status": "completed"
    },
    "tags": []
   },
   "source": [
    "### Cholesterol"
   ]
  },
  {
   "cell_type": "code",
   "execution_count": 24,
   "id": "comparable-disposition",
   "metadata": {
    "execution": {
     "iopub.execute_input": "2021-12-16T07:13:24.861073Z",
     "iopub.status.busy": "2021-12-16T07:13:24.860373Z",
     "iopub.status.idle": "2021-12-16T07:13:24.887018Z",
     "shell.execute_reply": "2021-12-16T07:13:24.887806Z",
     "shell.execute_reply.started": "2021-06-17T13:37:59.000439Z"
    },
    "papermill": {
     "duration": 0.095029,
     "end_time": "2021-12-16T07:13:24.888017",
     "exception": false,
     "start_time": "2021-12-16T07:13:24.792988",
     "status": "completed"
    },
    "tags": []
   },
   "outputs": [
    {
     "data": {
      "application/vnd.plotly.v1+json": {
       "config": {
        "plotlyServerURL": "https://plot.ly"
       },
       "data": [
        {
         "autobinx": false,
         "histnorm": "probability density",
         "legendgroup": "cholesterol",
         "marker": {
          "color": "rgb(31, 119, 180)"
         },
         "name": "cholesterol",
         "opacity": 0.7,
         "type": "histogram",
         "x": [
          233,
          250,
          204,
          236,
          354,
          192,
          294,
          263,
          199,
          168,
          239,
          275,
          266,
          211,
          283,
          219,
          340,
          226,
          247,
          239,
          234,
          233,
          226,
          243,
          199,
          302,
          212,
          175,
          417,
          197,
          198,
          177,
          219,
          273,
          213,
          177,
          304,
          232,
          269,
          360,
          308,
          245,
          208,
          264,
          321,
          325,
          235,
          257,
          216,
          234,
          256,
          302,
          231,
          141,
          252,
          201,
          222,
          260,
          182,
          303,
          265,
          309,
          186,
          203,
          211,
          183,
          222,
          234,
          220,
          209,
          258,
          227,
          204,
          261,
          213,
          250,
          245,
          221,
          205,
          240,
          250,
          308,
          318,
          298,
          265,
          564,
          277,
          197,
          214,
          248,
          255,
          207,
          223,
          288,
          160,
          226,
          394,
          233,
          315,
          246,
          244,
          270,
          195,
          240,
          196,
          211,
          234,
          236,
          244,
          254,
          325,
          126,
          313,
          211,
          262,
          215,
          214,
          193,
          204,
          243,
          303,
          271,
          268,
          267,
          199,
          210,
          204,
          277,
          196,
          269,
          201,
          271,
          295,
          235,
          306,
          269,
          178,
          208,
          201,
          263,
          295,
          303,
          209,
          223,
          197,
          245,
          242,
          240,
          226,
          180,
          228,
          149,
          227,
          278,
          220,
          197,
          253,
          192,
          220,
          221,
          240,
          342,
          157,
          175,
          175,
          286,
          229,
          268,
          254,
          203,
          256,
          229,
          284,
          224,
          206,
          167,
          230,
          335,
          177,
          276,
          353,
          225,
          330,
          230,
          243,
          290,
          253,
          266,
          233,
          172,
          305,
          216,
          188,
          282,
          185,
          326,
          231,
          254,
          267,
          248,
          197,
          258,
          270,
          274,
          164,
          255,
          239,
          258,
          188,
          177,
          229,
          260,
          219,
          307,
          249,
          341,
          263,
          330,
          254,
          256,
          407,
          217,
          282,
          288,
          239,
          174,
          281,
          198,
          288,
          309,
          243,
          289,
          289,
          246,
          322,
          299,
          300,
          293,
          304,
          282,
          269,
          249,
          212,
          274,
          184,
          274,
          409,
          246,
          283,
          254,
          298,
          247,
          294,
          299,
          273,
          309,
          259,
          200,
          244,
          231,
          228,
          230,
          282,
          269,
          206,
          212,
          327,
          149,
          286,
          283,
          249,
          234,
          237,
          234,
          275,
          212,
          218,
          261,
          319,
          166,
          315,
          204,
          218,
          223,
          207,
          311,
          204,
          232,
          335,
          205,
          203,
          318,
          225,
          212,
          169,
          187,
          197,
          176,
          241,
          264,
          193,
          131,
          236
         ],
         "xaxis": "x",
         "xbins": {
          "end": 564,
          "size": 10,
          "start": 126
         },
         "yaxis": "y"
        },
        {
         "legendgroup": "cholesterol",
         "marker": {
          "color": "rgb(31, 119, 180)"
         },
         "mode": "lines",
         "name": "cholesterol",
         "showlegend": false,
         "type": "scatter",
         "x": [
          126,
          126.876,
          127.752,
          128.628,
          129.504,
          130.38,
          131.256,
          132.132,
          133.008,
          133.88400000000001,
          134.76,
          135.636,
          136.512,
          137.388,
          138.264,
          139.14,
          140.016,
          140.892,
          141.768,
          142.644,
          143.52,
          144.39600000000002,
          145.272,
          146.148,
          147.024,
          147.9,
          148.776,
          149.652,
          150.528,
          151.404,
          152.28,
          153.156,
          154.032,
          154.90800000000002,
          155.784,
          156.66,
          157.536,
          158.412,
          159.288,
          160.164,
          161.04,
          161.916,
          162.792,
          163.668,
          164.54399999999998,
          165.42000000000002,
          166.296,
          167.172,
          168.048,
          168.924,
          169.8,
          170.676,
          171.552,
          172.428,
          173.304,
          174.18,
          175.05599999999998,
          175.93200000000002,
          176.808,
          177.684,
          178.56,
          179.436,
          180.312,
          181.188,
          182.064,
          182.94,
          183.816,
          184.692,
          185.56799999999998,
          186.44400000000002,
          187.32,
          188.196,
          189.072,
          189.948,
          190.824,
          191.7,
          192.576,
          193.452,
          194.328,
          195.204,
          196.07999999999998,
          196.95600000000002,
          197.832,
          198.708,
          199.584,
          200.45999999999998,
          201.336,
          202.212,
          203.088,
          203.964,
          204.84,
          205.716,
          206.59199999999998,
          207.46800000000002,
          208.344,
          209.22,
          210.096,
          210.97199999999998,
          211.848,
          212.724,
          213.6,
          214.476,
          215.352,
          216.228,
          217.10399999999998,
          217.98000000000002,
          218.856,
          219.732,
          220.608,
          221.48399999999998,
          222.36,
          223.236,
          224.112,
          224.988,
          225.864,
          226.74,
          227.61599999999999,
          228.49200000000002,
          229.368,
          230.244,
          231.12,
          231.99599999999998,
          232.872,
          233.748,
          234.624,
          235.5,
          236.376,
          237.252,
          238.128,
          239.00400000000002,
          239.88,
          240.756,
          241.632,
          242.50799999999998,
          243.38400000000001,
          244.26,
          245.136,
          246.012,
          246.888,
          247.764,
          248.64,
          249.51600000000002,
          250.392,
          251.268,
          252.144,
          253.01999999999998,
          253.89600000000002,
          254.772,
          255.648,
          256.524,
          257.4,
          258.276,
          259.152,
          260.028,
          260.904,
          261.78,
          262.656,
          263.53200000000004,
          264.408,
          265.284,
          266.15999999999997,
          267.036,
          267.91200000000003,
          268.788,
          269.664,
          270.53999999999996,
          271.416,
          272.29200000000003,
          273.168,
          274.044,
          274.91999999999996,
          275.796,
          276.672,
          277.548,
          278.424,
          279.3,
          280.176,
          281.052,
          281.928,
          282.804,
          283.68,
          284.55600000000004,
          285.432,
          286.308,
          287.18399999999997,
          288.06,
          288.93600000000004,
          289.812,
          290.688,
          291.56399999999996,
          292.44,
          293.31600000000003,
          294.192,
          295.068,
          295.94399999999996,
          296.82,
          297.696,
          298.572,
          299.448,
          300.324,
          301.2,
          302.076,
          302.952,
          303.828,
          304.704,
          305.58000000000004,
          306.456,
          307.332,
          308.20799999999997,
          309.084,
          309.96000000000004,
          310.836,
          311.712,
          312.58799999999997,
          313.464,
          314.34000000000003,
          315.216,
          316.092,
          316.96799999999996,
          317.844,
          318.72,
          319.596,
          320.472,
          321.348,
          322.224,
          323.1,
          323.976,
          324.852,
          325.728,
          326.60400000000004,
          327.48,
          328.356,
          329.23199999999997,
          330.108,
          330.98400000000004,
          331.86,
          332.736,
          333.61199999999997,
          334.488,
          335.36400000000003,
          336.24,
          337.116,
          337.99199999999996,
          338.868,
          339.744,
          340.62,
          341.496,
          342.372,
          343.248,
          344.124,
          345,
          345.876,
          346.752,
          347.628,
          348.504,
          349.38,
          350.256,
          351.132,
          352.00800000000004,
          352.884,
          353.76,
          354.63599999999997,
          355.512,
          356.38800000000003,
          357.264,
          358.14,
          359.01599999999996,
          359.892,
          360.76800000000003,
          361.644,
          362.52,
          363.39599999999996,
          364.272,
          365.148,
          366.024,
          366.9,
          367.776,
          368.652,
          369.528,
          370.404,
          371.28,
          372.156,
          373.03200000000004,
          373.908,
          374.784,
          375.65999999999997,
          376.536,
          377.41200000000003,
          378.288,
          379.164,
          380.03999999999996,
          380.916,
          381.79200000000003,
          382.668,
          383.544,
          384.42,
          385.296,
          386.172,
          387.048,
          387.924,
          388.8,
          389.676,
          390.552,
          391.428,
          392.304,
          393.18,
          394.056,
          394.932,
          395.808,
          396.684,
          397.56,
          398.436,
          399.312,
          400.188,
          401.064,
          401.94,
          402.816,
          403.692,
          404.568,
          405.444,
          406.32,
          407.196,
          408.072,
          408.948,
          409.824,
          410.7,
          411.576,
          412.452,
          413.328,
          414.204,
          415.08,
          415.956,
          416.832,
          417.708,
          418.584,
          419.46,
          420.336,
          421.212,
          422.088,
          422.964,
          423.84,
          424.716,
          425.592,
          426.468,
          427.344,
          428.22,
          429.096,
          429.972,
          430.848,
          431.724,
          432.6,
          433.476,
          434.352,
          435.228,
          436.104,
          436.98,
          437.856,
          438.732,
          439.608,
          440.484,
          441.36,
          442.236,
          443.112,
          443.988,
          444.864,
          445.74,
          446.616,
          447.492,
          448.368,
          449.244,
          450.12,
          450.996,
          451.872,
          452.748,
          453.624,
          454.5,
          455.376,
          456.252,
          457.128,
          458.004,
          458.88,
          459.756,
          460.632,
          461.508,
          462.384,
          463.26,
          464.136,
          465.012,
          465.888,
          466.764,
          467.64,
          468.516,
          469.392,
          470.268,
          471.144,
          472.02,
          472.896,
          473.772,
          474.648,
          475.524,
          476.4,
          477.276,
          478.152,
          479.028,
          479.904,
          480.78,
          481.656,
          482.532,
          483.408,
          484.284,
          485.16,
          486.036,
          486.912,
          487.788,
          488.664,
          489.54,
          490.416,
          491.292,
          492.168,
          493.044,
          493.92,
          494.796,
          495.672,
          496.548,
          497.424,
          498.3,
          499.176,
          500.052,
          500.928,
          501.804,
          502.68,
          503.556,
          504.432,
          505.308,
          506.184,
          507.06,
          507.936,
          508.812,
          509.688,
          510.564,
          511.44,
          512.316,
          513.192,
          514.068,
          514.944,
          515.8199999999999,
          516.696,
          517.572,
          518.448,
          519.3240000000001,
          520.2,
          521.076,
          521.952,
          522.828,
          523.704,
          524.5799999999999,
          525.456,
          526.332,
          527.2080000000001,
          528.0840000000001,
          528.96,
          529.836,
          530.712,
          531.588,
          532.4639999999999,
          533.3399999999999,
          534.216,
          535.092,
          535.9680000000001,
          536.844,
          537.72,
          538.596,
          539.472,
          540.348,
          541.2239999999999,
          542.1,
          542.976,
          543.852,
          544.7280000000001,
          545.604,
          546.48,
          547.356,
          548.232,
          549.108,
          549.9839999999999,
          550.86,
          551.736,
          552.6120000000001,
          553.488,
          554.364,
          555.24,
          556.116,
          556.992,
          557.8679999999999,
          558.744,
          559.62,
          560.496,
          561.3720000000001,
          562.248,
          563.124
         ],
         "xaxis": "x",
         "y": [
          0.00032345758155982626,
          0.00033872217664405725,
          0.00035445905450977826,
          0.0003706967632080767,
          0.00038746765990881754,
          0.000404807956652734,
          0.000422757717573408,
          0.00044136080524695,
          0.0004606647744875305,
          0.0004807207126205483,
          0.0005015830260260835,
          0.0005233091735465099,
          0.000545959348186186,
          0.0005695961093898214,
          0.0005942839690596273,
          0.0006200889353492092,
          0.0006470780191418974,
          0.0006753187089690076,
          0.0007048784209337785,
          0.0007358239309620615,
          0.0007682207973823778,
          0.0008021327824252468,
          0.0008376212817036045,
          0.000874744771070561,
          0.0009135582804261265,
          0.0009541129040400585,
          0.0009964553567544784,
          0.0010406275850113385,
          0.001086666441003494,
          0.0011346034273666287,
          0.0011844645187105733,
          0.0012362700649377282,
          0.0012900347797253568,
          0.0013457678157782983,
          0.0014034729265172048,
          0.0014631487117922983,
          0.0015247889430484564,
          0.0015883829611667874,
          0.0016539161380293647,
          0.001721370390761066,
          0.0017907247356628122,
          0.0018619558671316317,
          0.0019350387454328106,
          0.002009947176111421,
          0.0020866543631630954,
          0.002165133417876787,
          0.002245357805554338,
          0.002327301713129386,
          0.0024109403220622626,
          0.0024962499727737455,
          0.0025832082092760544,
          0.0026717936955243378,
          0.0027619859982889452,
          0.002853765234963143,
          0.002947111588583521,
          0.0030420046963480665,
          0.0031384229219569757,
          0.0032363425260531035,
          0.003335736752778544,
          0.0034365748538686975,
          0.003538821074654681,
          0.003642433628731135,
          0.003747363689771134,
          0.0038535544299524733,
          0.003960940134640685,
          0.00406944542231569,
          0.0041789845972186575,
          0.004289461159847586,
          0.004400767497285051,
          0.004512784771466002,
          0.0046253830189799455,
          0.004738421470964702,
          0.004851749096221174,
          0.0049652053650115395,
          0.005078621225255741,
          0.005191820277180972,
          0.0053046201270729254,
          0.005416833895788768,
          0.0055282718532734705,
          0.005638743146609799,
          0.005748057586247621,
          0.0058560274530928625,
          0.005962469288158751,
          0.0060672056265291185,
          0.006170066638462685,
          0.006270891642553574,
          0.006369530458902145,
          0.006465844574156985,
          0.006559708094954295,
          0.006651008471568884,
          0.006739646979353241,
          0.006825538951608117,
          0.0069086137637277625,
          0.006988814574616792,
          0.007066097837308523,
          0.007140432596260894,
          0.007211799593809573,
          0.007280190212585057,
          0.007345605284235524,
          0.007408053797451365,
          0.0074675515399994785,
          0.007524119710211148,
          0.007577783533126892,
          0.0076285709153062495,
          0.007676511170218625,
          0.007721633843218254,
          0.007763967661476514,
          0.007803539630017406,
          0.007840374290313385,
          0.007874493152894638,
          0.007905914310256277,
          0.007934652231168553,
          0.007960717732451906,
          0.007984118119514091,
          0.008004857482586836,
          0.008022937131759196,
          0.008038356150676823,
          0.008051112046234469,
          0.008061201469784014,
          0.00806862098434053,
          0.008073367851997965,
          0.008075440816247422,
          0.008074840855084024,
          0.008071571882637154,
          0.00806564137948424,
          0.00805706093472546,
          0.008045846686201067,
          0.008032019648819048,
          0.008015605924714828,
          0.007996636792773423,
          0.007975148678796605,
          0.007951183011187246,
          0.007924785970352764,
          0.007896008143011127,
          0.007864904095142197,
          0.007831531879403731,
          0.007795952494378793,
          0.007758229314010866,
          0.007718427506001195,
          0.007676613457792439,
          0.007632854228061017,
          0.007587217040421582,
          0.007539768834353899,
          0.007490575886255007,
          0.0074397035110622695,
          0.007387215852161529,
          0.007333175764368701,
          0.007277644791737245,
          0.007220683238881651,
          0.007162350331503243,
          0.007102704458941196,
          0.007041803488922772,
          0.006979705142324734,
          0.006916467413742052,
          0.006852149022043814,
          0.006786809873919208,
          0.006720511522710644,
          0.006653317604611155,
          0.006585294234577085,
          0.006516510345065363,
          0.006447037951930417,
          0.006376952333475161,
          0.006306332110706326,
          0.0062352592192407305,
          0.006163818765991938,
          0.006092098766664974,
          0.006020189763132861,
          0.005948184322885535,
          0.005876176425852838,
          0.005804260746933602,
          0.005732531845434777,
          0.0056610832752697834,
          0.005590006632116225,
          0.005519390555730806,
          0.00544931970721381,
          0.005379873742164408,
          0.005311126301340855,
          0.005243144040616149,
          0.005175985721692538,
          0.005109701384209403,
          0.0050443316185666024,
          0.004979906957013889,
          0.0049164473983669965,
          0.004853962079149214,
          0.0047924491010825805,
          0.004731895521729335,
          0.004672277511784887,
          0.004613560679123505,
          0.004555700556277274,
          0.0044986432446664885,
          0.004442326205675676,
          0.004386679185658367,
          0.004331625259227642,
          0.004277081972810867,
          0.004222962568472793,
          0.004169177266485067,
          0.004115634584077841,
          0.0040622426672705814,
          0.004008910612655271,
          0.003955549756489653,
          0.0039020749094357474,
          0.003848405516717977,
          0.0037944667253355636,
          0.0037401903421926414,
          0.003685515669545892,
          0.0036303902069449783,
          0.0035747702117821735,
          0.003518621113597585,
          0.003461917780328062,
          0.0034046446376649253,
          0.00334679564552616,
          0.003288374138286134,
          0.003229392537780654,
          0.0031698719501689764,
          0.0031098416594460207,
          0.0030493385317315737,
          0.002988406345401307,
          0.002927095062663389,
          0.002865460058332383,
          0.0028035613213268267,
          0.0027414626438474034,
          0.0026792308123165507,
          0.0026169348130208477,
          0.0025546450640454993,
          0.0024924326835773438,
          0.002430368803034153,
          0.0023685239318075577,
          0.002306967378735856,
          0.002245766733799739,
          0.0021849874120010797,
          0.00212469225997813,
          0.0020649412246597563,
          0.002005791082186732,
          0.0019472952244436572,
          0.001889503499855646,
          0.0018324621046071994,
          0.0017762135201277694,
          0.0017207964925440666,
          0.0016662460498026639,
          0.0016125935522949568,
          0.0015598667730425517,
          0.0015080900037975813,
          0.001457284183751874,
          0.0014074670479040372,
          0.0013586532924812066,
          0.00131085475513064,
          0.0012640806078684104,
          0.0012183375609858757,
          0.0011736300762601618,
          0.001129960587889993,
          0.0010873297295835502,
          0.0010457365661656229,
          0.0010051788279570306,
          0.0009656531460216723,
          0.0009271552861903576,
          0.0008896803795726136,
          0.0008532231470737911,
          0.0008177781152630294,
          0.0007833398208031698,
          0.0007499030005708915,
          0.0007174627645767742,
          0.0006860147488490563,
          0.0006555552455782456,
          0.0006260813080348178,
          0.0005975908280680164,
          0.0005700825843662753,
          0.0005435562601012914,
          0.0005180124290778194,
          0.0004934525100574801,
          0.00046987868950202683,
          0.0004472938135741915,
          0.0004257012508254938,
          0.0004051047275736977,
          0.00038550813851224167,
          0.00036691533558473745,
          0.0003493298985869715,
          0.0003327548913155815,
          0.0003171926073583672,
          0.00030264430981055213,
          0.00028910996930129885,
          0.00027658800472528204,
          0.00026507503099823114,
          0.0002545656179978679,
          0.0002450520646203581,
          0.00023652419158637304,
          0.000228969156280756,
          0.0002223712925172992,
          0.00021671197769715004,
          0.00021196952938798812,
          0.0002081191329027887,
          0.0002051328010123385,
          0.0002029793664941073,
          0.0002016245078094399,
          0.0002010308078174306,
          0.0002011578450816539,
          0.00020196231700752196,
          0.00020339819376412484,
          0.0002054169016939803,
          0.0002079675346946979,
          0.00021099709186458136,
          0.00021445073953515036,
          0.0002182720956625266,
          0.00022240353441148987,
          0.00022678650863590738,
          0.00023136188783286256,
          0.00023607030902178246,
          0.00024085253787182114,
          0.00024564983726983584,
          0.00025040434038789807,
          0.00025505942517548886,
          0.00025956008707070475,
          0.0002638533066018882,
          0.00026788840844193043,
          0.00027161740838912215,
          0.00027499534468824,
          0.0002779805900813861,
          0.00028053514099752463,
          0.000282624880359816,
          0.0002842198106168934,
          0.00028529425379309316,
          0.0002858270156066294,
          0.000285801511025236,
          0.00028520584901522923,
          0.0002840328746894371,
          0.0002822801675669072,
          0.0002799499952154518,
          0.00027704922214760275,
          0.0002735891744702378,
          0.00026958546143531354,
          0.0002650577556899197,
          0.00026002953466361373,
          0.00025452778614479325,
          0.00024858268167093613,
          0.00024222722187580662,
          0.00023549685838717506,
          0.00022842909723976219,
          0.0002210630890505021,
          0.00021343921138940148,
          0.00020559864886449792,
          0.00019758297642137387,
          0.00018943375123680006,
          0.00018119211836554054,
          0.00017289843498464964,
          0.00016459191767891136,
          0.00015631031673436654,
          0.000148089620866086,
          0.00013996379521475692,
          0.00013196455481838263,
          0.00012412117511540933,
          0.00011646034037863352,
          0.00010900603032996424,
          0.00010177944455846971,
          0.00009479896377075871,
          0.0000880801463552806,
          0.00008163575825018512,
          0.00007547583367599649,
          0.00006960776393553873,
          0.00006403641119818063,
          0.00005876424397557648,
          0.00005379149086158906,
          0.00004911630904816173,
          0.0000447349641380193,
          0.000040642017849221445,
          0.00003683052033954478,
          0.000033292204063218904,
          0.000030017676300775877,
          0.00002699660776633381,
          0.000024217914986980943,
          0.000021669934457577573,
          0.000019340586893048382,
          0.000017217530221377866,
          0.000015288300276952842,
          0.000013540438459327293,
          0.000011961605911430236,
          0.000010539684039212592,
          0.00000926286143814065,
          0.00000811970750817067,
          0.000007099233226212587,
          0.0000061909397027471395,
          0.000005384855277200961,
          0.000004671562005571419,
          0.0000040422124649131705,
          0.0000034885378444646846,
          0.000003002848314578499,
          0.0000025780266647319363,
          0.0000022075161834088895,
          0.0000018853037183388673,
          0.0000016058988082608453,
          0.000001364309719772319,
          0.0000011560171575475008,
          9.76946345697323e-7,
          8.234381045210155e-7,
          6.922194723498138e-7,
          5.803743483277788e-7,
          4.853145602741748e-7,
          4.047516934186574e-7,
          3.3666995173269106e-7,
          2.793002644966598e-7,
          2.310957971155201e-7,
          1.9070897730411618e-7,
          1.5697010570672566e-7,
          1.2886758374705345e-7,
          1.0552976085312533e-7,
          8.620837789792041e-8,
          7.026356339670382e-8,
          5.715032330941117e-8,
          4.64064537808128e-8,
          3.764179836546184e-8,
          3.0528766779694106e-8,
          2.479403055914659e-8,
          2.0211311756095538e-8,
          1.6595183590044745e-8,
          1.3795806400398305e-8,
          1.1694528006670568e-8,
          1.0200284356480999e-8,
          9.246743862948978e-9,
          8.790146858322143e-9,
          8.807799902641965e-9,
          9.297193089533612e-9,
          1.0275716807280292e-8,
          1.1780962475902183e-8,
          1.3871599430910343e-8,
          1.6628827205230217e-8,
          2.0158408814137045e-8,
          2.459329611009021e-8,
          3.0096862672756207e-8,
          3.686676285154312e-8,
          4.513943728966534e-8,
          5.519528532549594e-8,
          6.736452287547322e-8,
          8.203374053487226e-8,
          9.96531704704757e-8,
          1.2074466201228272e-7,
          1.4591035448605803e-7,
          1.7584202159808545e-7,
          2.1133104446066454e-7,
          2.5327895005760603e-7,
          3.027084285865797e-7,
          3.607747167568822e-7,
          4.287772049421932e-7,
          5.081710943775154e-7,
          6.005788967655662e-7,
          7.078015332756986e-7,
          8.318287536853142e-7,
          9.748485601869467e-7,
          0.0000011392552851791883,
          0.0000013276559393389952,
          0.0000015428744167372944,
          0.0000017879531191310861,
          0.000002066151543355177,
          0.0000023809413655188225,
          0.000002735997555076862,
          0.0000031351850623435827,
          0.00000358254064612222,
          0.000004082249445144576,
          0.000004638615949048792,
          0.000005256029092481282,
          0.000005938921280037214,
          0.000006691721250188295,
          0.0000075188008026271255,
          0.000008424415544604661,
          0.000009412639956280604,
          0.000010487297230697643,
          0.000011651884507956555,
          0.000012909494292169406,
          0.000014262733009888495,
          0.000015713637835567834,
          0.00001726359306840018,
          0.00001891324749052074,
          0.00002066243426378487,
          0.00002251009502590622,
          0.000024454209921528487,
          0.000026491735345081075,
          0.000028618551175789464,
          0.00003082941924744543,
          0.000033117954713884556,
          0.000035476611843974123,
          0.000037896685606906694,
          0.00004036833019064119,
          0.00004288059533571964,
          0.00004542148106712594,
          0.00004797801107340166,
          0.00005053632462133665,
          0.000053081786513811886,
          0.00005559911420644333,
          0.00005807252080508304,
          0.000060485872281033,
          0.00006282285687441542,
          0.00006506716431883978,
          0.00006720267222240113,
          0.00006921363669037488,
          0.00007108488408219062,
          0.00007280200066634683,
          0.00007435151687738264,
          0.00007572108289255536,
          0.00007689963233418005,
          0.00007787753106637234,
          0.00007864670828970464,
          0.00007920076743952983,
          0.00007953507475690691
         ],
         "yaxis": "y"
        }
       ],
       "layout": {
        "barmode": "overlay",
        "hovermode": "closest",
        "legend": {
         "traceorder": "reversed"
        },
        "template": {
         "data": {
          "bar": [
           {
            "error_x": {
             "color": "#2a3f5f"
            },
            "error_y": {
             "color": "#2a3f5f"
            },
            "marker": {
             "line": {
              "color": "#E5ECF6",
              "width": 0.5
             },
             "pattern": {
              "fillmode": "overlay",
              "size": 10,
              "solidity": 0.2
             }
            },
            "type": "bar"
           }
          ],
          "barpolar": [
           {
            "marker": {
             "line": {
              "color": "#E5ECF6",
              "width": 0.5
             },
             "pattern": {
              "fillmode": "overlay",
              "size": 10,
              "solidity": 0.2
             }
            },
            "type": "barpolar"
           }
          ],
          "carpet": [
           {
            "aaxis": {
             "endlinecolor": "#2a3f5f",
             "gridcolor": "white",
             "linecolor": "white",
             "minorgridcolor": "white",
             "startlinecolor": "#2a3f5f"
            },
            "baxis": {
             "endlinecolor": "#2a3f5f",
             "gridcolor": "white",
             "linecolor": "white",
             "minorgridcolor": "white",
             "startlinecolor": "#2a3f5f"
            },
            "type": "carpet"
           }
          ],
          "choropleth": [
           {
            "colorbar": {
             "outlinewidth": 0,
             "ticks": ""
            },
            "type": "choropleth"
           }
          ],
          "contour": [
           {
            "colorbar": {
             "outlinewidth": 0,
             "ticks": ""
            },
            "colorscale": [
             [
              0,
              "#0d0887"
             ],
             [
              0.1111111111111111,
              "#46039f"
             ],
             [
              0.2222222222222222,
              "#7201a8"
             ],
             [
              0.3333333333333333,
              "#9c179e"
             ],
             [
              0.4444444444444444,
              "#bd3786"
             ],
             [
              0.5555555555555556,
              "#d8576b"
             ],
             [
              0.6666666666666666,
              "#ed7953"
             ],
             [
              0.7777777777777778,
              "#fb9f3a"
             ],
             [
              0.8888888888888888,
              "#fdca26"
             ],
             [
              1,
              "#f0f921"
             ]
            ],
            "type": "contour"
           }
          ],
          "contourcarpet": [
           {
            "colorbar": {
             "outlinewidth": 0,
             "ticks": ""
            },
            "type": "contourcarpet"
           }
          ],
          "heatmap": [
           {
            "colorbar": {
             "outlinewidth": 0,
             "ticks": ""
            },
            "colorscale": [
             [
              0,
              "#0d0887"
             ],
             [
              0.1111111111111111,
              "#46039f"
             ],
             [
              0.2222222222222222,
              "#7201a8"
             ],
             [
              0.3333333333333333,
              "#9c179e"
             ],
             [
              0.4444444444444444,
              "#bd3786"
             ],
             [
              0.5555555555555556,
              "#d8576b"
             ],
             [
              0.6666666666666666,
              "#ed7953"
             ],
             [
              0.7777777777777778,
              "#fb9f3a"
             ],
             [
              0.8888888888888888,
              "#fdca26"
             ],
             [
              1,
              "#f0f921"
             ]
            ],
            "type": "heatmap"
           }
          ],
          "heatmapgl": [
           {
            "colorbar": {
             "outlinewidth": 0,
             "ticks": ""
            },
            "colorscale": [
             [
              0,
              "#0d0887"
             ],
             [
              0.1111111111111111,
              "#46039f"
             ],
             [
              0.2222222222222222,
              "#7201a8"
             ],
             [
              0.3333333333333333,
              "#9c179e"
             ],
             [
              0.4444444444444444,
              "#bd3786"
             ],
             [
              0.5555555555555556,
              "#d8576b"
             ],
             [
              0.6666666666666666,
              "#ed7953"
             ],
             [
              0.7777777777777778,
              "#fb9f3a"
             ],
             [
              0.8888888888888888,
              "#fdca26"
             ],
             [
              1,
              "#f0f921"
             ]
            ],
            "type": "heatmapgl"
           }
          ],
          "histogram": [
           {
            "marker": {
             "pattern": {
              "fillmode": "overlay",
              "size": 10,
              "solidity": 0.2
             }
            },
            "type": "histogram"
           }
          ],
          "histogram2d": [
           {
            "colorbar": {
             "outlinewidth": 0,
             "ticks": ""
            },
            "colorscale": [
             [
              0,
              "#0d0887"
             ],
             [
              0.1111111111111111,
              "#46039f"
             ],
             [
              0.2222222222222222,
              "#7201a8"
             ],
             [
              0.3333333333333333,
              "#9c179e"
             ],
             [
              0.4444444444444444,
              "#bd3786"
             ],
             [
              0.5555555555555556,
              "#d8576b"
             ],
             [
              0.6666666666666666,
              "#ed7953"
             ],
             [
              0.7777777777777778,
              "#fb9f3a"
             ],
             [
              0.8888888888888888,
              "#fdca26"
             ],
             [
              1,
              "#f0f921"
             ]
            ],
            "type": "histogram2d"
           }
          ],
          "histogram2dcontour": [
           {
            "colorbar": {
             "outlinewidth": 0,
             "ticks": ""
            },
            "colorscale": [
             [
              0,
              "#0d0887"
             ],
             [
              0.1111111111111111,
              "#46039f"
             ],
             [
              0.2222222222222222,
              "#7201a8"
             ],
             [
              0.3333333333333333,
              "#9c179e"
             ],
             [
              0.4444444444444444,
              "#bd3786"
             ],
             [
              0.5555555555555556,
              "#d8576b"
             ],
             [
              0.6666666666666666,
              "#ed7953"
             ],
             [
              0.7777777777777778,
              "#fb9f3a"
             ],
             [
              0.8888888888888888,
              "#fdca26"
             ],
             [
              1,
              "#f0f921"
             ]
            ],
            "type": "histogram2dcontour"
           }
          ],
          "mesh3d": [
           {
            "colorbar": {
             "outlinewidth": 0,
             "ticks": ""
            },
            "type": "mesh3d"
           }
          ],
          "parcoords": [
           {
            "line": {
             "colorbar": {
              "outlinewidth": 0,
              "ticks": ""
             }
            },
            "type": "parcoords"
           }
          ],
          "pie": [
           {
            "automargin": true,
            "type": "pie"
           }
          ],
          "scatter": [
           {
            "fillpattern": {
             "fillmode": "overlay",
             "size": 10,
             "solidity": 0.2
            },
            "type": "scatter"
           }
          ],
          "scatter3d": [
           {
            "line": {
             "colorbar": {
              "outlinewidth": 0,
              "ticks": ""
             }
            },
            "marker": {
             "colorbar": {
              "outlinewidth": 0,
              "ticks": ""
             }
            },
            "type": "scatter3d"
           }
          ],
          "scattercarpet": [
           {
            "marker": {
             "colorbar": {
              "outlinewidth": 0,
              "ticks": ""
             }
            },
            "type": "scattercarpet"
           }
          ],
          "scattergeo": [
           {
            "marker": {
             "colorbar": {
              "outlinewidth": 0,
              "ticks": ""
             }
            },
            "type": "scattergeo"
           }
          ],
          "scattergl": [
           {
            "marker": {
             "colorbar": {
              "outlinewidth": 0,
              "ticks": ""
             }
            },
            "type": "scattergl"
           }
          ],
          "scattermapbox": [
           {
            "marker": {
             "colorbar": {
              "outlinewidth": 0,
              "ticks": ""
             }
            },
            "type": "scattermapbox"
           }
          ],
          "scatterpolar": [
           {
            "marker": {
             "colorbar": {
              "outlinewidth": 0,
              "ticks": ""
             }
            },
            "type": "scatterpolar"
           }
          ],
          "scatterpolargl": [
           {
            "marker": {
             "colorbar": {
              "outlinewidth": 0,
              "ticks": ""
             }
            },
            "type": "scatterpolargl"
           }
          ],
          "scatterternary": [
           {
            "marker": {
             "colorbar": {
              "outlinewidth": 0,
              "ticks": ""
             }
            },
            "type": "scatterternary"
           }
          ],
          "surface": [
           {
            "colorbar": {
             "outlinewidth": 0,
             "ticks": ""
            },
            "colorscale": [
             [
              0,
              "#0d0887"
             ],
             [
              0.1111111111111111,
              "#46039f"
             ],
             [
              0.2222222222222222,
              "#7201a8"
             ],
             [
              0.3333333333333333,
              "#9c179e"
             ],
             [
              0.4444444444444444,
              "#bd3786"
             ],
             [
              0.5555555555555556,
              "#d8576b"
             ],
             [
              0.6666666666666666,
              "#ed7953"
             ],
             [
              0.7777777777777778,
              "#fb9f3a"
             ],
             [
              0.8888888888888888,
              "#fdca26"
             ],
             [
              1,
              "#f0f921"
             ]
            ],
            "type": "surface"
           }
          ],
          "table": [
           {
            "cells": {
             "fill": {
              "color": "#EBF0F8"
             },
             "line": {
              "color": "white"
             }
            },
            "header": {
             "fill": {
              "color": "#C8D4E3"
             },
             "line": {
              "color": "white"
             }
            },
            "type": "table"
           }
          ]
         },
         "layout": {
          "annotationdefaults": {
           "arrowcolor": "#2a3f5f",
           "arrowhead": 0,
           "arrowwidth": 1
          },
          "autotypenumbers": "strict",
          "coloraxis": {
           "colorbar": {
            "outlinewidth": 0,
            "ticks": ""
           }
          },
          "colorscale": {
           "diverging": [
            [
             0,
             "#8e0152"
            ],
            [
             0.1,
             "#c51b7d"
            ],
            [
             0.2,
             "#de77ae"
            ],
            [
             0.3,
             "#f1b6da"
            ],
            [
             0.4,
             "#fde0ef"
            ],
            [
             0.5,
             "#f7f7f7"
            ],
            [
             0.6,
             "#e6f5d0"
            ],
            [
             0.7,
             "#b8e186"
            ],
            [
             0.8,
             "#7fbc41"
            ],
            [
             0.9,
             "#4d9221"
            ],
            [
             1,
             "#276419"
            ]
           ],
           "sequential": [
            [
             0,
             "#0d0887"
            ],
            [
             0.1111111111111111,
             "#46039f"
            ],
            [
             0.2222222222222222,
             "#7201a8"
            ],
            [
             0.3333333333333333,
             "#9c179e"
            ],
            [
             0.4444444444444444,
             "#bd3786"
            ],
            [
             0.5555555555555556,
             "#d8576b"
            ],
            [
             0.6666666666666666,
             "#ed7953"
            ],
            [
             0.7777777777777778,
             "#fb9f3a"
            ],
            [
             0.8888888888888888,
             "#fdca26"
            ],
            [
             1,
             "#f0f921"
            ]
           ],
           "sequentialminus": [
            [
             0,
             "#0d0887"
            ],
            [
             0.1111111111111111,
             "#46039f"
            ],
            [
             0.2222222222222222,
             "#7201a8"
            ],
            [
             0.3333333333333333,
             "#9c179e"
            ],
            [
             0.4444444444444444,
             "#bd3786"
            ],
            [
             0.5555555555555556,
             "#d8576b"
            ],
            [
             0.6666666666666666,
             "#ed7953"
            ],
            [
             0.7777777777777778,
             "#fb9f3a"
            ],
            [
             0.8888888888888888,
             "#fdca26"
            ],
            [
             1,
             "#f0f921"
            ]
           ]
          },
          "colorway": [
           "#636efa",
           "#EF553B",
           "#00cc96",
           "#ab63fa",
           "#FFA15A",
           "#19d3f3",
           "#FF6692",
           "#B6E880",
           "#FF97FF",
           "#FECB52"
          ],
          "font": {
           "color": "#2a3f5f"
          },
          "geo": {
           "bgcolor": "white",
           "lakecolor": "white",
           "landcolor": "#E5ECF6",
           "showlakes": true,
           "showland": true,
           "subunitcolor": "white"
          },
          "hoverlabel": {
           "align": "left"
          },
          "hovermode": "closest",
          "mapbox": {
           "style": "light"
          },
          "paper_bgcolor": "white",
          "plot_bgcolor": "#E5ECF6",
          "polar": {
           "angularaxis": {
            "gridcolor": "white",
            "linecolor": "white",
            "ticks": ""
           },
           "bgcolor": "#E5ECF6",
           "radialaxis": {
            "gridcolor": "white",
            "linecolor": "white",
            "ticks": ""
           }
          },
          "scene": {
           "xaxis": {
            "backgroundcolor": "#E5ECF6",
            "gridcolor": "white",
            "gridwidth": 2,
            "linecolor": "white",
            "showbackground": true,
            "ticks": "",
            "zerolinecolor": "white"
           },
           "yaxis": {
            "backgroundcolor": "#E5ECF6",
            "gridcolor": "white",
            "gridwidth": 2,
            "linecolor": "white",
            "showbackground": true,
            "ticks": "",
            "zerolinecolor": "white"
           },
           "zaxis": {
            "backgroundcolor": "#E5ECF6",
            "gridcolor": "white",
            "gridwidth": 2,
            "linecolor": "white",
            "showbackground": true,
            "ticks": "",
            "zerolinecolor": "white"
           }
          },
          "shapedefaults": {
           "line": {
            "color": "#2a3f5f"
           }
          },
          "ternary": {
           "aaxis": {
            "gridcolor": "white",
            "linecolor": "white",
            "ticks": ""
           },
           "baxis": {
            "gridcolor": "white",
            "linecolor": "white",
            "ticks": ""
           },
           "bgcolor": "#E5ECF6",
           "caxis": {
            "gridcolor": "white",
            "linecolor": "white",
            "ticks": ""
           }
          },
          "title": {
           "x": 0.05
          },
          "xaxis": {
           "automargin": true,
           "gridcolor": "white",
           "linecolor": "white",
           "ticks": "",
           "title": {
            "standoff": 15
           },
           "zerolinecolor": "white",
           "zerolinewidth": 2
          },
          "yaxis": {
           "automargin": true,
           "gridcolor": "white",
           "linecolor": "white",
           "ticks": "",
           "title": {
            "standoff": 15
           },
           "zerolinecolor": "white",
           "zerolinewidth": 2
          }
         }
        },
        "title": {
         "text": "콜레스테롤별 분포도"
        },
        "width": 700,
        "xaxis": {
         "anchor": "y2",
         "domain": [
          0,
          1
         ],
         "zeroline": false
        },
        "yaxis": {
         "anchor": "free",
         "domain": [
          0,
          1
         ],
         "position": 0
        }
       }
      }
     },
     "metadata": {},
     "output_type": "display_data"
    }
   ],
   "source": [
    "# 콜레스테롤에 따른 심장 질환 분포도\n",
    "data = [heart['cholesterol']]\n",
    "group = ['cholesterol'] \n",
    "\n",
    "# 'thalassemia' 히스토그램 \n",
    "fig = ff.create_distplot(data, group_labels=group,bin_size=10,show_rug=False)\n",
    "fig.update_layout(width=700, title_text='콜레스테롤별 분포도')\n",
    "fig.show()"
   ]
  },
  {
   "cell_type": "code",
   "execution_count": 25,
   "id": "exact-photographer",
   "metadata": {
    "execution": {
     "iopub.execute_input": "2021-12-16T07:13:25.023423Z",
     "iopub.status.busy": "2021-12-16T07:13:25.022679Z",
     "iopub.status.idle": "2021-12-16T07:13:25.224052Z",
     "shell.execute_reply": "2021-12-16T07:13:25.223441Z",
     "shell.execute_reply.started": "2021-06-17T13:39:59.802861Z"
    },
    "papermill": {
     "duration": 0.267558,
     "end_time": "2021-12-16T07:13:25.224214",
     "exception": false,
     "start_time": "2021-12-16T07:13:24.956656",
     "status": "completed"
    },
    "tags": []
   },
   "outputs": [
    {
     "data": {
      "image/png": "[encoded data removed]",
      "text/plain": [
       "<Figure size 400x300 with 1 Axes>"
      ]
     },
     "metadata": {},
     "output_type": "display_data"
    }
   ],
   "source": [
    "# 콜레스테롤과 심장질환의 상관관계 (막대그래프)\n",
    "plt.figure(figsize=(4,3))\n",
    "sns.barplot(x=\"target\", y='cholesterol',data=heart)\n",
    "plt.title('cholesterol vs target')\n",
    "plt.show()"
   ]
  },
  {
   "cell_type": "code",
   "execution_count": 26,
   "id": "corresponding-montgomery",
   "metadata": {
    "execution": {
     "iopub.execute_input": "2021-12-16T07:13:25.374551Z",
     "iopub.status.busy": "2021-12-16T07:13:25.372167Z",
     "iopub.status.idle": "2021-12-16T07:13:25.442354Z",
     "shell.execute_reply": "2021-12-16T07:13:25.441722Z",
     "shell.execute_reply.started": "2021-06-17T13:40:33.304152Z"
    },
    "papermill": {
     "duration": 0.150098,
     "end_time": "2021-12-16T07:13:25.442503",
     "exception": false,
     "start_time": "2021-12-16T07:13:25.292405",
     "status": "completed"
    },
    "tags": []
   },
   "outputs": [
    {
     "data": {
      "application/vnd.plotly.v1+json": {
       "config": {
        "plotlyServerURL": "https://plot.ly"
       },
       "data": [
        {
         "alignmentgroup": "True",
         "boxpoints": "all",
         "hovertemplate": "sex=male<br>target=%{x}<br>cholesterol=%{y}<extra></extra>",
         "legendgroup": "male",
         "marker": {
          "color": "#636efa"
         },
         "name": "male",
         "notched": false,
         "offsetgroup": "male",
         "orientation": "v",
         "showlegend": true,
         "type": "box",
         "x": [
          "Heart Disease",
          "Heart Disease",
          "Heart Disease",
          "Heart Disease",
          "Heart Disease",
          "Heart Disease",
          "Heart Disease",
          "Heart Disease",
          "Heart Disease",
          "Heart Disease",
          "Heart Disease",
          "Heart Disease",
          "Heart Disease",
          "Heart Disease",
          "Heart Disease",
          "Heart Disease",
          "Heart Disease",
          "Heart Disease",
          "Heart Disease",
          "Heart Disease",
          "Heart Disease",
          "Heart Disease",
          "Heart Disease",
          "Heart Disease",
          "Heart Disease",
          "Heart Disease",
          "Heart Disease",
          "Heart Disease",
          "Heart Disease",
          "Heart Disease",
          "Heart Disease",
          "Heart Disease",
          "Heart Disease",
          "Heart Disease",
          "Heart Disease",
          "Heart Disease",
          "Heart Disease",
          "Heart Disease",
          "Heart Disease",
          "Heart Disease",
          "Heart Disease",
          "Heart Disease",
          "Heart Disease",
          "Heart Disease",
          "Heart Disease",
          "Heart Disease",
          "Heart Disease",
          "Heart Disease",
          "Heart Disease",
          "Heart Disease",
          "Heart Disease",
          "Heart Disease",
          "Heart Disease",
          "Heart Disease",
          "Heart Disease",
          "Heart Disease",
          "Heart Disease",
          "Heart Disease",
          "Heart Disease",
          "Heart Disease",
          "Heart Disease",
          "Heart Disease",
          "Heart Disease",
          "Heart Disease",
          "Heart Disease",
          "Heart Disease",
          "Heart Disease",
          "Heart Disease",
          "Heart Disease",
          "Heart Disease",
          "Heart Disease",
          "Heart Disease",
          "Heart Disease",
          "Heart Disease",
          "Heart Disease",
          "Heart Disease",
          "Heart Disease",
          "Heart Disease",
          "Heart Disease",
          "Heart Disease",
          "Heart Disease",
          "Heart Disease",
          "Heart Disease",
          "Heart Disease",
          "Heart Disease",
          "Heart Disease",
          "Heart Disease",
          "Heart Disease",
          "Heart Disease",
          "Heart Disease",
          "Heart Disease",
          "Heart Disease",
          "Heart Disease",
          "No Heart Disease",
          "No Heart Disease",
          "No Heart Disease",
          "No Heart Disease",
          "No Heart Disease",
          "No Heart Disease",
          "No Heart Disease",
          "No Heart Disease",
          "No Heart Disease",
          "No Heart Disease",
          "No Heart Disease",
          "No Heart Disease",
          "No Heart Disease",
          "No Heart Disease",
          "No Heart Disease",
          "No Heart Disease",
          "No Heart Disease",
          "No Heart Disease",
          "No Heart Disease",
          "No Heart Disease",
          "No Heart Disease",
          "No Heart Disease",
          "No Heart Disease",
          "No Heart Disease",
          "No Heart Disease",
          "No Heart Disease",
          "No Heart Disease",
          "No Heart Disease",
          "No Heart Disease",
          "No Heart Disease",
          "No Heart Disease",
          "No Heart Disease",
          "No Heart Disease",
          "No Heart Disease",
          "No Heart Disease",
          "No Heart Disease",
          "No Heart Disease",
          "No Heart Disease",
          "No Heart Disease",
          "No Heart Disease",
          "No Heart Disease",
          "No Heart Disease",
          "No Heart Disease",
          "No Heart Disease",
          "No Heart Disease",
          "No Heart Disease",
          "No Heart Disease",
          "No Heart Disease",
          "No Heart Disease",
          "No Heart Disease",
          "No Heart Disease",
          "No Heart Disease",
          "No Heart Disease",
          "No Heart Disease",
          "No Heart Disease",
          "No Heart Disease",
          "No Heart Disease",
          "No Heart Disease",
          "No Heart Disease",
          "No Heart Disease",
          "No Heart Disease",
          "No Heart Disease",
          "No Heart Disease",
          "No Heart Disease",
          "No Heart Disease",
          "No Heart Disease",
          "No Heart Disease",
          "No Heart Disease",
          "No Heart Disease",
          "No Heart Disease",
          "No Heart Disease",
          "No Heart Disease",
          "No Heart Disease",
          "No Heart Disease",
          "No Heart Disease",
          "No Heart Disease",
          "No Heart Disease",
          "No Heart Disease",
          "No Heart Disease",
          "No Heart Disease",
          "No Heart Disease",
          "No Heart Disease",
          "No Heart Disease",
          "No Heart Disease",
          "No Heart Disease",
          "No Heart Disease",
          "No Heart Disease",
          "No Heart Disease",
          "No Heart Disease",
          "No Heart Disease",
          "No Heart Disease",
          "No Heart Disease",
          "No Heart Disease",
          "No Heart Disease",
          "No Heart Disease",
          "No Heart Disease",
          "No Heart Disease",
          "No Heart Disease",
          "No Heart Disease",
          "No Heart Disease",
          "No Heart Disease",
          "No Heart Disease",
          "No Heart Disease",
          "No Heart Disease",
          "No Heart Disease",
          "No Heart Disease",
          "No Heart Disease",
          "No Heart Disease",
          "No Heart Disease",
          "No Heart Disease",
          "No Heart Disease",
          "No Heart Disease",
          "No Heart Disease",
          "No Heart Disease"
         ],
         "x0": " ",
         "xaxis": "x",
         "y": [
          233,
          250,
          236,
          192,
          263,
          199,
          168,
          239,
          266,
          211,
          247,
          234,
          233,
          226,
          243,
          199,
          212,
          175,
          197,
          177,
          219,
          273,
          213,
          232,
          245,
          208,
          321,
          325,
          235,
          257,
          302,
          231,
          201,
          222,
          260,
          182,
          309,
          186,
          203,
          211,
          222,
          220,
          258,
          227,
          204,
          261,
          245,
          221,
          205,
          240,
          250,
          308,
          298,
          277,
          197,
          255,
          207,
          223,
          226,
          233,
          315,
          246,
          244,
          270,
          240,
          196,
          234,
          126,
          211,
          262,
          214,
          193,
          271,
          204,
          295,
          235,
          208,
          201,
          263,
          303,
          245,
          226,
          180,
          228,
          227,
          253,
          192,
          220,
          221,
          240,
          157,
          175,
          175,
          286,
          229,
          254,
          203,
          256,
          229,
          284,
          224,
          206,
          167,
          230,
          335,
          177,
          276,
          353,
          230,
          243,
          290,
          253,
          266,
          233,
          172,
          216,
          188,
          282,
          185,
          326,
          231,
          254,
          267,
          248,
          197,
          258,
          270,
          274,
          255,
          239,
          188,
          177,
          229,
          260,
          219,
          249,
          330,
          254,
          256,
          217,
          282,
          239,
          174,
          281,
          198,
          288,
          309,
          243,
          289,
          289,
          246,
          322,
          299,
          300,
          293,
          304,
          282,
          269,
          212,
          274,
          184,
          274,
          246,
          283,
          254,
          298,
          247,
          299,
          273,
          309,
          259,
          200,
          231,
          230,
          282,
          206,
          212,
          149,
          286,
          283,
          249,
          234,
          237,
          234,
          275,
          212,
          218,
          261,
          166,
          315,
          204,
          218,
          223,
          207,
          311,
          204,
          232,
          335,
          203,
          318,
          212,
          169,
          187,
          176,
          264,
          193,
          131
         ],
         "y0": " ",
         "yaxis": "y"
        },
        {
         "alignmentgroup": "True",
         "boxpoints": "all",
         "hovertemplate": "sex=female<br>target=%{x}<br>cholesterol=%{y}<extra></extra>",
         "legendgroup": "female",
         "marker": {
          "color": "#EF553B"
         },
         "name": "female",
         "notched": false,
         "offsetgroup": "female",
         "orientation": "v",
         "showlegend": true,
         "type": "box",
         "x": [
          "Heart Disease",
          "Heart Disease",
          "Heart Disease",
          "Heart Disease",
          "Heart Disease",
          "Heart Disease",
          "Heart Disease",
          "Heart Disease",
          "Heart Disease",
          "Heart Disease",
          "Heart Disease",
          "Heart Disease",
          "Heart Disease",
          "Heart Disease",
          "Heart Disease",
          "Heart Disease",
          "Heart Disease",
          "Heart Disease",
          "Heart Disease",
          "Heart Disease",
          "Heart Disease",
          "Heart Disease",
          "Heart Disease",
          "Heart Disease",
          "Heart Disease",
          "Heart Disease",
          "Heart Disease",
          "Heart Disease",
          "Heart Disease",
          "Heart Disease",
          "Heart Disease",
          "Heart Disease",
          "Heart Disease",
          "Heart Disease",
          "Heart Disease",
          "Heart Disease",
          "Heart Disease",
          "Heart Disease",
          "Heart Disease",
          "Heart Disease",
          "Heart Disease",
          "Heart Disease",
          "Heart Disease",
          "Heart Disease",
          "Heart Disease",
          "Heart Disease",
          "Heart Disease",
          "Heart Disease",
          "Heart Disease",
          "Heart Disease",
          "Heart Disease",
          "Heart Disease",
          "Heart Disease",
          "Heart Disease",
          "Heart Disease",
          "Heart Disease",
          "Heart Disease",
          "Heart Disease",
          "Heart Disease",
          "Heart Disease",
          "Heart Disease",
          "Heart Disease",
          "Heart Disease",
          "Heart Disease",
          "Heart Disease",
          "Heart Disease",
          "Heart Disease",
          "Heart Disease",
          "Heart Disease",
          "Heart Disease",
          "Heart Disease",
          "Heart Disease",
          "No Heart Disease",
          "No Heart Disease",
          "No Heart Disease",
          "No Heart Disease",
          "No Heart Disease",
          "No Heart Disease",
          "No Heart Disease",
          "No Heart Disease",
          "No Heart Disease",
          "No Heart Disease",
          "No Heart Disease",
          "No Heart Disease",
          "No Heart Disease",
          "No Heart Disease",
          "No Heart Disease",
          "No Heart Disease",
          "No Heart Disease",
          "No Heart Disease",
          "No Heart Disease",
          "No Heart Disease",
          "No Heart Disease",
          "No Heart Disease",
          "No Heart Disease",
          "No Heart Disease"
         ],
         "x0": " ",
         "xaxis": "x",
         "y": [
          204,
          354,
          294,
          275,
          283,
          219,
          340,
          226,
          239,
          302,
          417,
          198,
          177,
          304,
          269,
          360,
          308,
          264,
          216,
          234,
          256,
          141,
          252,
          303,
          265,
          183,
          234,
          209,
          213,
          250,
          318,
          265,
          564,
          214,
          248,
          288,
          160,
          394,
          195,
          211,
          236,
          244,
          254,
          325,
          313,
          215,
          204,
          243,
          303,
          268,
          267,
          199,
          210,
          277,
          196,
          269,
          201,
          271,
          306,
          269,
          178,
          295,
          209,
          223,
          197,
          242,
          240,
          149,
          278,
          220,
          197,
          342,
          268,
          225,
          330,
          305,
          164,
          258,
          307,
          341,
          263,
          407,
          288,
          249,
          409,
          294,
          244,
          228,
          269,
          327,
          319,
          205,
          225,
          197,
          241,
          236
         ],
         "y0": " ",
         "yaxis": "y"
        }
       ],
       "layout": {
        "boxmode": "group",
        "legend": {
         "title": {
          "text": "sex"
         },
         "tracegroupgap": 0
        },
        "margin": {
         "t": 60
        },
        "template": {
         "data": {
          "bar": [
           {
            "error_x": {
             "color": "#2a3f5f"
            },
            "error_y": {
             "color": "#2a3f5f"
            },
            "marker": {
             "line": {
              "color": "#E5ECF6",
              "width": 0.5
             },
             "pattern": {
              "fillmode": "overlay",
              "size": 10,
              "solidity": 0.2
             }
            },
            "type": "bar"
           }
          ],
          "barpolar": [
           {
            "marker": {
             "line": {
              "color": "#E5ECF6",
              "width": 0.5
             },
             "pattern": {
              "fillmode": "overlay",
              "size": 10,
              "solidity": 0.2
             }
            },
            "type": "barpolar"
           }
          ],
          "carpet": [
           {
            "aaxis": {
             "endlinecolor": "#2a3f5f",
             "gridcolor": "white",
             "linecolor": "white",
             "minorgridcolor": "white",
             "startlinecolor": "#2a3f5f"
            },
            "baxis": {
             "endlinecolor": "#2a3f5f",
             "gridcolor": "white",
             "linecolor": "white",
             "minorgridcolor": "white",
             "startlinecolor": "#2a3f5f"
            },
            "type": "carpet"
           }
          ],
          "choropleth": [
           {
            "colorbar": {
             "outlinewidth": 0,
             "ticks": ""
            },
            "type": "choropleth"
           }
          ],
          "contour": [
           {
            "colorbar": {
             "outlinewidth": 0,
             "ticks": ""
            },
            "colorscale": [
             [
              0,
              "#0d0887"
             ],
             [
              0.1111111111111111,
              "#46039f"
             ],
             [
              0.2222222222222222,
              "#7201a8"
             ],
             [
              0.3333333333333333,
              "#9c179e"
             ],
             [
              0.4444444444444444,
              "#bd3786"
             ],
             [
              0.5555555555555556,
              "#d8576b"
             ],
             [
              0.6666666666666666,
              "#ed7953"
             ],
             [
              0.7777777777777778,
              "#fb9f3a"
             ],
             [
              0.8888888888888888,
              "#fdca26"
             ],
             [
              1,
              "#f0f921"
             ]
            ],
            "type": "contour"
           }
          ],
          "contourcarpet": [
           {
            "colorbar": {
             "outlinewidth": 0,
             "ticks": ""
            },
            "type": "contourcarpet"
           }
          ],
          "heatmap": [
           {
            "colorbar": {
             "outlinewidth": 0,
             "ticks": ""
            },
            "colorscale": [
             [
              0,
              "#0d0887"
             ],
             [
              0.1111111111111111,
              "#46039f"
             ],
             [
              0.2222222222222222,
              "#7201a8"
             ],
             [
              0.3333333333333333,
              "#9c179e"
             ],
             [
              0.4444444444444444,
              "#bd3786"
             ],
             [
              0.5555555555555556,
              "#d8576b"
             ],
             [
              0.6666666666666666,
              "#ed7953"
             ],
             [
              0.7777777777777778,
              "#fb9f3a"
             ],
             [
              0.8888888888888888,
              "#fdca26"
             ],
             [
              1,
              "#f0f921"
             ]
            ],
            "type": "heatmap"
           }
          ],
          "heatmapgl": [
           {
            "colorbar": {
             "outlinewidth": 0,
             "ticks": ""
            },
            "colorscale": [
             [
              0,
              "#0d0887"
             ],
             [
              0.1111111111111111,
              "#46039f"
             ],
             [
              0.2222222222222222,
              "#7201a8"
             ],
             [
              0.3333333333333333,
              "#9c179e"
             ],
             [
              0.4444444444444444,
              "#bd3786"
             ],
             [
              0.5555555555555556,
              "#d8576b"
             ],
             [
              0.6666666666666666,
              "#ed7953"
             ],
             [
              0.7777777777777778,
              "#fb9f3a"
             ],
             [
              0.8888888888888888,
              "#fdca26"
             ],
             [
              1,
              "#f0f921"
             ]
            ],
            "type": "heatmapgl"
           }
          ],
          "histogram": [
           {
            "marker": {
             "pattern": {
              "fillmode": "overlay",
              "size": 10,
              "solidity": 0.2
             }
            },
            "type": "histogram"
           }
          ],
          "histogram2d": [
           {
            "colorbar": {
             "outlinewidth": 0,
             "ticks": ""
            },
            "colorscale": [
             [
              0,
              "#0d0887"
             ],
             [
              0.1111111111111111,
              "#46039f"
             ],
             [
              0.2222222222222222,
              "#7201a8"
             ],
             [
              0.3333333333333333,
              "#9c179e"
             ],
             [
              0.4444444444444444,
              "#bd3786"
             ],
             [
              0.5555555555555556,
              "#d8576b"
             ],
             [
              0.6666666666666666,
              "#ed7953"
             ],
             [
              0.7777777777777778,
              "#fb9f3a"
             ],
             [
              0.8888888888888888,
              "#fdca26"
             ],
             [
              1,
              "#f0f921"
             ]
            ],
            "type": "histogram2d"
           }
          ],
          "histogram2dcontour": [
           {
            "colorbar": {
             "outlinewidth": 0,
             "ticks": ""
            },
            "colorscale": [
             [
              0,
              "#0d0887"
             ],
             [
              0.1111111111111111,
              "#46039f"
             ],
             [
              0.2222222222222222,
              "#7201a8"
             ],
             [
              0.3333333333333333,
              "#9c179e"
             ],
             [
              0.4444444444444444,
              "#bd3786"
             ],
             [
              0.5555555555555556,
              "#d8576b"
             ],
             [
              0.6666666666666666,
              "#ed7953"
             ],
             [
              0.7777777777777778,
              "#fb9f3a"
             ],
             [
              0.8888888888888888,
              "#fdca26"
             ],
             [
              1,
              "#f0f921"
             ]
            ],
            "type": "histogram2dcontour"
           }
          ],
          "mesh3d": [
           {
            "colorbar": {
             "outlinewidth": 0,
             "ticks": ""
            },
            "type": "mesh3d"
           }
          ],
          "parcoords": [
           {
            "line": {
             "colorbar": {
              "outlinewidth": 0,
              "ticks": ""
             }
            },
            "type": "parcoords"
           }
          ],
          "pie": [
           {
            "automargin": true,
            "type": "pie"
           }
          ],
          "scatter": [
           {
            "fillpattern": {
             "fillmode": "overlay",
             "size": 10,
             "solidity": 0.2
            },
            "type": "scatter"
           }
          ],
          "scatter3d": [
           {
            "line": {
             "colorbar": {
              "outlinewidth": 0,
              "ticks": ""
             }
            },
            "marker": {
             "colorbar": {
              "outlinewidth": 0,
              "ticks": ""
             }
            },
            "type": "scatter3d"
           }
          ],
          "scattercarpet": [
           {
            "marker": {
             "colorbar": {
              "outlinewidth": 0,
              "ticks": ""
             }
            },
            "type": "scattercarpet"
           }
          ],
          "scattergeo": [
           {
            "marker": {
             "colorbar": {
              "outlinewidth": 0,
              "ticks": ""
             }
            },
            "type": "scattergeo"
           }
          ],
          "scattergl": [
           {
            "marker": {
             "colorbar": {
              "outlinewidth": 0,
              "ticks": ""
             }
            },
            "type": "scattergl"
           }
          ],
          "scattermapbox": [
           {
            "marker": {
             "colorbar": {
              "outlinewidth": 0,
              "ticks": ""
             }
            },
            "type": "scattermapbox"
           }
          ],
          "scatterpolar": [
           {
            "marker": {
             "colorbar": {
              "outlinewidth": 0,
              "ticks": ""
             }
            },
            "type": "scatterpolar"
           }
          ],
          "scatterpolargl": [
           {
            "marker": {
             "colorbar": {
              "outlinewidth": 0,
              "ticks": ""
             }
            },
            "type": "scatterpolargl"
           }
          ],
          "scatterternary": [
           {
            "marker": {
             "colorbar": {
              "outlinewidth": 0,
              "ticks": ""
             }
            },
            "type": "scatterternary"
           }
          ],
          "surface": [
           {
            "colorbar": {
             "outlinewidth": 0,
             "ticks": ""
            },
            "colorscale": [
             [
              0,
              "#0d0887"
             ],
             [
              0.1111111111111111,
              "#46039f"
             ],
             [
              0.2222222222222222,
              "#7201a8"
             ],
             [
              0.3333333333333333,
              "#9c179e"
             ],
             [
              0.4444444444444444,
              "#bd3786"
             ],
             [
              0.5555555555555556,
              "#d8576b"
             ],
             [
              0.6666666666666666,
              "#ed7953"
             ],
             [
              0.7777777777777778,
              "#fb9f3a"
             ],
             [
              0.8888888888888888,
              "#fdca26"
             ],
             [
              1,
              "#f0f921"
             ]
            ],
            "type": "surface"
           }
          ],
          "table": [
           {
            "cells": {
             "fill": {
              "color": "#EBF0F8"
             },
             "line": {
              "color": "white"
             }
            },
            "header": {
             "fill": {
              "color": "#C8D4E3"
             },
             "line": {
              "color": "white"
             }
            },
            "type": "table"
           }
          ]
         },
         "layout": {
          "annotationdefaults": {
           "arrowcolor": "#2a3f5f",
           "arrowhead": 0,
           "arrowwidth": 1
          },
          "autotypenumbers": "strict",
          "coloraxis": {
           "colorbar": {
            "outlinewidth": 0,
            "ticks": ""
           }
          },
          "colorscale": {
           "diverging": [
            [
             0,
             "#8e0152"
            ],
            [
             0.1,
             "#c51b7d"
            ],
            [
             0.2,
             "#de77ae"
            ],
            [
             0.3,
             "#f1b6da"
            ],
            [
             0.4,
             "#fde0ef"
            ],
            [
             0.5,
             "#f7f7f7"
            ],
            [
             0.6,
             "#e6f5d0"
            ],
            [
             0.7,
             "#b8e186"
            ],
            [
             0.8,
             "#7fbc41"
            ],
            [
             0.9,
             "#4d9221"
            ],
            [
             1,
             "#276419"
            ]
           ],
           "sequential": [
            [
             0,
             "#0d0887"
            ],
            [
             0.1111111111111111,
             "#46039f"
            ],
            [
             0.2222222222222222,
             "#7201a8"
            ],
            [
             0.3333333333333333,
             "#9c179e"
            ],
            [
             0.4444444444444444,
             "#bd3786"
            ],
            [
             0.5555555555555556,
             "#d8576b"
            ],
            [
             0.6666666666666666,
             "#ed7953"
            ],
            [
             0.7777777777777778,
             "#fb9f3a"
            ],
            [
             0.8888888888888888,
             "#fdca26"
            ],
            [
             1,
             "#f0f921"
            ]
           ],
           "sequentialminus": [
            [
             0,
             "#0d0887"
            ],
            [
             0.1111111111111111,
             "#46039f"
            ],
            [
             0.2222222222222222,
             "#7201a8"
            ],
            [
             0.3333333333333333,
             "#9c179e"
            ],
            [
             0.4444444444444444,
             "#bd3786"
            ],
            [
             0.5555555555555556,
             "#d8576b"
            ],
            [
             0.6666666666666666,
             "#ed7953"
            ],
            [
             0.7777777777777778,
             "#fb9f3a"
            ],
            [
             0.8888888888888888,
             "#fdca26"
            ],
            [
             1,
             "#f0f921"
            ]
           ]
          },
          "colorway": [
           "#636efa",
           "#EF553B",
           "#00cc96",
           "#ab63fa",
           "#FFA15A",
           "#19d3f3",
           "#FF6692",
           "#B6E880",
           "#FF97FF",
           "#FECB52"
          ],
          "font": {
           "color": "#2a3f5f"
          },
          "geo": {
           "bgcolor": "white",
           "lakecolor": "white",
           "landcolor": "#E5ECF6",
           "showlakes": true,
           "showland": true,
           "subunitcolor": "white"
          },
          "hoverlabel": {
           "align": "left"
          },
          "hovermode": "closest",
          "mapbox": {
           "style": "light"
          },
          "paper_bgcolor": "white",
          "plot_bgcolor": "#E5ECF6",
          "polar": {
           "angularaxis": {
            "gridcolor": "white",
            "linecolor": "white",
            "ticks": ""
           },
           "bgcolor": "#E5ECF6",
           "radialaxis": {
            "gridcolor": "white",
            "linecolor": "white",
            "ticks": ""
           }
          },
          "scene": {
           "xaxis": {
            "backgroundcolor": "#E5ECF6",
            "gridcolor": "white",
            "gridwidth": 2,
            "linecolor": "white",
            "showbackground": true,
            "ticks": "",
            "zerolinecolor": "white"
           },
           "yaxis": {
            "backgroundcolor": "#E5ECF6",
            "gridcolor": "white",
            "gridwidth": 2,
            "linecolor": "white",
            "showbackground": true,
            "ticks": "",
            "zerolinecolor": "white"
           },
           "zaxis": {
            "backgroundcolor": "#E5ECF6",
            "gridcolor": "white",
            "gridwidth": 2,
            "linecolor": "white",
            "showbackground": true,
            "ticks": "",
            "zerolinecolor": "white"
           }
          },
          "shapedefaults": {
           "line": {
            "color": "#2a3f5f"
           }
          },
          "ternary": {
           "aaxis": {
            "gridcolor": "white",
            "linecolor": "white",
            "ticks": ""
           },
           "baxis": {
            "gridcolor": "white",
            "linecolor": "white",
            "ticks": ""
           },
           "bgcolor": "#E5ECF6",
           "caxis": {
            "gridcolor": "white",
            "linecolor": "white",
            "ticks": ""
           }
          },
          "title": {
           "x": 0.05
          },
          "xaxis": {
           "automargin": true,
           "gridcolor": "white",
           "linecolor": "white",
           "ticks": "",
           "title": {
            "standoff": 15
           },
           "zerolinecolor": "white",
           "zerolinewidth": 2
          },
          "yaxis": {
           "automargin": true,
           "gridcolor": "white",
           "linecolor": "white",
           "ticks": "",
           "title": {
            "standoff": 15
           },
           "zerolinecolor": "white",
           "zerolinewidth": 2
          }
         }
        },
        "title": {
         "text": "성별을 기반으로 한 콜레스테롤과 심장질환의 상관관계"
        },
        "xaxis": {
         "anchor": "y",
         "domain": [
          0,
          1
         ],
         "title": {
          "text": "target"
         }
        },
        "yaxis": {
         "anchor": "x",
         "domain": [
          0,
          1
         ],
         "title": {
          "text": "cholesterol"
         }
        }
       }
      }
     },
     "metadata": {},
     "output_type": "display_data"
    }
   ],
   "source": [
    "# 성별을 기반으로 한 콜레스테롤과 심장질환의 상관관계 (박스플랏)\n",
    "\n",
    "fig = px.box(heart, x=\"target\", y=\"cholesterol\", points=\"all\", color='sex')\n",
    "fig.update_layout(title_text='성별을 기반으로 한 콜레스테롤과 심장질환의 상관관계')\n",
    "fig.show()"
   ]
  },
  {
   "cell_type": "code",
   "execution_count": 27,
   "id": "boring-mobile",
   "metadata": {
    "execution": {
     "iopub.execute_input": "2021-12-16T07:13:25.591548Z",
     "iopub.status.busy": "2021-12-16T07:13:25.589710Z",
     "iopub.status.idle": "2021-12-16T07:13:25.661470Z",
     "shell.execute_reply": "2021-12-16T07:13:25.662039Z",
     "shell.execute_reply.started": "2021-06-17T13:47:14.681113Z"
    },
    "papermill": {
     "duration": 0.152945,
     "end_time": "2021-12-16T07:13:25.662248",
     "exception": false,
     "start_time": "2021-12-16T07:13:25.509303",
     "status": "completed"
    },
    "tags": []
   },
   "outputs": [
    {
     "data": {
      "application/vnd.plotly.v1+json": {
       "config": {
        "plotlyServerURL": "https://plot.ly"
       },
       "data": [
        {
         "alignmentgroup": "True",
         "boxpoints": "all",
         "hovertemplate": "st_slope=absent<br>target=%{x}<br>cholesterol=%{y}<extra></extra>",
         "legendgroup": "absent",
         "marker": {
          "color": "#636efa"
         },
         "name": "absent",
         "notched": false,
         "offsetgroup": "absent",
         "orientation": "v",
         "showlegend": true,
         "type": "box",
         "x": [
          "Heart Disease",
          "Heart Disease",
          "Heart Disease",
          "Heart Disease",
          "Heart Disease",
          "Heart Disease",
          "Heart Disease",
          "Heart Disease",
          "Heart Disease",
          "No Heart Disease",
          "No Heart Disease",
          "No Heart Disease",
          "No Heart Disease",
          "No Heart Disease",
          "No Heart Disease",
          "No Heart Disease",
          "No Heart Disease",
          "No Heart Disease",
          "No Heart Disease",
          "No Heart Disease",
          "No Heart Disease"
         ],
         "x0": " ",
         "xaxis": "x",
         "y": [
          233,
          250,
          226,
          197,
          273,
          177,
          270,
          240,
          240,
          268,
          203,
          229,
          326,
          164,
          217,
          288,
          174,
          246,
          283,
          318,
          169
         ],
         "y0": " ",
         "yaxis": "y"
        },
        {
         "alignmentgroup": "True",
         "boxpoints": "all",
         "hovertemplate": "st_slope=horizontal<br>target=%{x}<br>cholesterol=%{y}<extra></extra>",
         "legendgroup": "horizontal",
         "marker": {
          "color": "#EF553B"
         },
         "name": "horizontal",
         "notched": false,
         "offsetgroup": "horizontal",
         "orientation": "v",
         "showlegend": true,
         "type": "box",
         "x": [
          "Heart Disease",
          "Heart Disease",
          "Heart Disease",
          "Heart Disease",
          "Heart Disease",
          "Heart Disease",
          "Heart Disease",
          "Heart Disease",
          "Heart Disease",
          "Heart Disease",
          "Heart Disease",
          "Heart Disease",
          "Heart Disease",
          "Heart Disease",
          "Heart Disease",
          "Heart Disease",
          "Heart Disease",
          "Heart Disease",
          "Heart Disease",
          "Heart Disease",
          "Heart Disease",
          "Heart Disease",
          "Heart Disease",
          "Heart Disease",
          "Heart Disease",
          "Heart Disease",
          "Heart Disease",
          "Heart Disease",
          "Heart Disease",
          "Heart Disease",
          "Heart Disease",
          "Heart Disease",
          "Heart Disease",
          "Heart Disease",
          "Heart Disease",
          "Heart Disease",
          "Heart Disease",
          "Heart Disease",
          "Heart Disease",
          "Heart Disease",
          "Heart Disease",
          "Heart Disease",
          "Heart Disease",
          "Heart Disease",
          "Heart Disease",
          "Heart Disease",
          "Heart Disease",
          "Heart Disease",
          "Heart Disease",
          "Heart Disease",
          "Heart Disease",
          "Heart Disease",
          "Heart Disease",
          "Heart Disease",
          "Heart Disease",
          "Heart Disease",
          "Heart Disease",
          "Heart Disease",
          "Heart Disease",
          "Heart Disease",
          "Heart Disease",
          "Heart Disease",
          "Heart Disease",
          "Heart Disease",
          "Heart Disease",
          "Heart Disease",
          "Heart Disease",
          "Heart Disease",
          "Heart Disease",
          "Heart Disease",
          "Heart Disease",
          "Heart Disease",
          "Heart Disease",
          "Heart Disease",
          "Heart Disease",
          "Heart Disease",
          "Heart Disease",
          "Heart Disease",
          "Heart Disease",
          "Heart Disease",
          "Heart Disease",
          "Heart Disease",
          "Heart Disease",
          "Heart Disease",
          "Heart Disease",
          "Heart Disease",
          "Heart Disease",
          "Heart Disease",
          "Heart Disease",
          "Heart Disease",
          "Heart Disease",
          "Heart Disease",
          "Heart Disease",
          "Heart Disease",
          "Heart Disease",
          "Heart Disease",
          "Heart Disease",
          "Heart Disease",
          "Heart Disease",
          "Heart Disease",
          "Heart Disease",
          "Heart Disease",
          "Heart Disease",
          "Heart Disease",
          "Heart Disease",
          "Heart Disease",
          "Heart Disease",
          "No Heart Disease",
          "No Heart Disease",
          "No Heart Disease",
          "No Heart Disease",
          "No Heart Disease",
          "No Heart Disease",
          "No Heart Disease",
          "No Heart Disease",
          "No Heart Disease",
          "No Heart Disease",
          "No Heart Disease",
          "No Heart Disease",
          "No Heart Disease",
          "No Heart Disease",
          "No Heart Disease",
          "No Heart Disease",
          "No Heart Disease",
          "No Heart Disease",
          "No Heart Disease",
          "No Heart Disease",
          "No Heart Disease",
          "No Heart Disease",
          "No Heart Disease",
          "No Heart Disease",
          "No Heart Disease",
          "No Heart Disease",
          "No Heart Disease",
          "No Heart Disease",
          "No Heart Disease",
          "No Heart Disease",
          "No Heart Disease",
          "No Heart Disease",
          "No Heart Disease",
          "No Heart Disease",
          "No Heart Disease"
         ],
         "x0": " ",
         "xaxis": "x",
         "y": [
          204,
          236,
          354,
          263,
          199,
          168,
          239,
          275,
          266,
          283,
          340,
          247,
          239,
          233,
          226,
          199,
          302,
          212,
          175,
          417,
          198,
          177,
          219,
          213,
          304,
          232,
          269,
          360,
          308,
          321,
          325,
          235,
          257,
          216,
          234,
          256,
          252,
          201,
          222,
          260,
          182,
          303,
          265,
          309,
          211,
          183,
          220,
          209,
          227,
          204,
          261,
          221,
          205,
          250,
          308,
          318,
          277,
          197,
          255,
          207,
          223,
          288,
          226,
          233,
          315,
          246,
          244,
          195,
          196,
          244,
          254,
          325,
          126,
          313,
          211,
          262,
          215,
          204,
          271,
          268,
          267,
          199,
          210,
          204,
          277,
          269,
          201,
          295,
          235,
          306,
          269,
          178,
          208,
          295,
          223,
          245,
          240,
          226,
          180,
          228,
          253,
          192,
          221,
          342,
          157,
          175,
          175,
          224,
          230,
          335,
          330,
          290,
          253,
          172,
          248,
          197,
          270,
          255,
          177,
          330,
          256,
          243,
          299,
          300,
          304,
          282,
          283,
          273,
          230,
          212,
          149,
          249,
          234,
          212,
          261,
          319,
          223,
          207,
          204,
          232,
          203,
          187
         ],
         "y0": " ",
         "yaxis": "y"
        },
        {
         "alignmentgroup": "True",
         "boxpoints": "all",
         "hovertemplate": "st_slope=upsloping<br>target=%{x}<br>cholesterol=%{y}<extra></extra>",
         "legendgroup": "upsloping",
         "marker": {
          "color": "#00cc96"
         },
         "name": "upsloping",
         "notched": false,
         "offsetgroup": "upsloping",
         "orientation": "v",
         "showlegend": true,
         "type": "box",
         "x": [
          "Heart Disease",
          "Heart Disease",
          "Heart Disease",
          "Heart Disease",
          "Heart Disease",
          "Heart Disease",
          "Heart Disease",
          "Heart Disease",
          "Heart Disease",
          "Heart Disease",
          "Heart Disease",
          "Heart Disease",
          "Heart Disease",
          "Heart Disease",
          "Heart Disease",
          "Heart Disease",
          "Heart Disease",
          "Heart Disease",
          "Heart Disease",
          "Heart Disease",
          "Heart Disease",
          "Heart Disease",
          "Heart Disease",
          "Heart Disease",
          "Heart Disease",
          "Heart Disease",
          "Heart Disease",
          "Heart Disease",
          "Heart Disease",
          "Heart Disease",
          "Heart Disease",
          "Heart Disease",
          "Heart Disease",
          "Heart Disease",
          "Heart Disease",
          "Heart Disease",
          "Heart Disease",
          "Heart Disease",
          "Heart Disease",
          "Heart Disease",
          "Heart Disease",
          "Heart Disease",
          "Heart Disease",
          "Heart Disease",
          "Heart Disease",
          "Heart Disease",
          "Heart Disease",
          "Heart Disease",
          "Heart Disease",
          "No Heart Disease",
          "No Heart Disease",
          "No Heart Disease",
          "No Heart Disease",
          "No Heart Disease",
          "No Heart Disease",
          "No Heart Disease",
          "No Heart Disease",
          "No Heart Disease",
          "No Heart Disease",
          "No Heart Disease",
          "No Heart Disease",
          "No Heart Disease",
          "No Heart Disease",
          "No Heart Disease",
          "No Heart Disease",
          "No Heart Disease",
          "No Heart Disease",
          "No Heart Disease",
          "No Heart Disease",
          "No Heart Disease",
          "No Heart Disease",
          "No Heart Disease",
          "No Heart Disease",
          "No Heart Disease",
          "No Heart Disease",
          "No Heart Disease",
          "No Heart Disease",
          "No Heart Disease",
          "No Heart Disease",
          "No Heart Disease",
          "No Heart Disease",
          "No Heart Disease",
          "No Heart Disease",
          "No Heart Disease",
          "No Heart Disease",
          "No Heart Disease",
          "No Heart Disease",
          "No Heart Disease",
          "No Heart Disease",
          "No Heart Disease",
          "No Heart Disease",
          "No Heart Disease",
          "No Heart Disease",
          "No Heart Disease",
          "No Heart Disease",
          "No Heart Disease",
          "No Heart Disease",
          "No Heart Disease",
          "No Heart Disease",
          "No Heart Disease",
          "No Heart Disease",
          "No Heart Disease",
          "No Heart Disease",
          "No Heart Disease",
          "No Heart Disease",
          "No Heart Disease",
          "No Heart Disease",
          "No Heart Disease",
          "No Heart Disease",
          "No Heart Disease",
          "No Heart Disease",
          "No Heart Disease",
          "No Heart Disease",
          "No Heart Disease",
          "No Heart Disease",
          "No Heart Disease",
          "No Heart Disease",
          "No Heart Disease",
          "No Heart Disease",
          "No Heart Disease",
          "No Heart Disease",
          "No Heart Disease",
          "No Heart Disease",
          "No Heart Disease",
          "No Heart Disease",
          "No Heart Disease",
          "No Heart Disease",
          "No Heart Disease",
          "No Heart Disease",
          "No Heart Disease",
          "No Heart Disease",
          "No Heart Disease",
          "No Heart Disease",
          "No Heart Disease",
          "No Heart Disease",
          "No Heart Disease",
          "No Heart Disease",
          "No Heart Disease",
          "No Heart Disease",
          "No Heart Disease"
         ],
         "x0": " ",
         "xaxis": "x",
         "y": [
          192,
          294,
          211,
          219,
          234,
          243,
          245,
          208,
          264,
          302,
          231,
          141,
          186,
          203,
          222,
          234,
          258,
          213,
          250,
          245,
          240,
          298,
          265,
          564,
          214,
          248,
          160,
          394,
          211,
          234,
          236,
          214,
          193,
          243,
          303,
          196,
          271,
          201,
          263,
          303,
          209,
          197,
          242,
          149,
          227,
          278,
          220,
          197,
          220,
          286,
          229,
          254,
          256,
          284,
          206,
          167,
          177,
          276,
          353,
          225,
          230,
          243,
          266,
          233,
          305,
          216,
          188,
          282,
          185,
          231,
          254,
          267,
          258,
          274,
          239,
          258,
          188,
          229,
          260,
          219,
          307,
          249,
          341,
          263,
          254,
          407,
          282,
          239,
          281,
          198,
          288,
          309,
          289,
          289,
          322,
          293,
          269,
          249,
          212,
          274,
          184,
          274,
          409,
          246,
          254,
          298,
          247,
          294,
          299,
          309,
          259,
          200,
          244,
          231,
          228,
          282,
          269,
          206,
          327,
          286,
          234,
          237,
          275,
          218,
          166,
          315,
          204,
          218,
          311,
          335,
          205,
          225,
          212,
          197,
          176,
          241,
          264,
          193,
          131,
          236
         ],
         "y0": " ",
         "yaxis": "y"
        }
       ],
       "layout": {
        "boxmode": "group",
        "legend": {
         "title": {
          "text": "st_slope"
         },
         "tracegroupgap": 0
        },
        "margin": {
         "t": 60
        },
        "template": {
         "data": {
          "bar": [
           {
            "error_x": {
             "color": "#2a3f5f"
            },
            "error_y": {
             "color": "#2a3f5f"
            },
            "marker": {
             "line": {
              "color": "#E5ECF6",
              "width": 0.5
             },
             "pattern": {
              "fillmode": "overlay",
              "size": 10,
              "solidity": 0.2
             }
            },
            "type": "bar"
           }
          ],
          "barpolar": [
           {
            "marker": {
             "line": {
              "color": "#E5ECF6",
              "width": 0.5
             },
             "pattern": {
              "fillmode": "overlay",
              "size": 10,
              "solidity": 0.2
             }
            },
            "type": "barpolar"
           }
          ],
          "carpet": [
           {
            "aaxis": {
             "endlinecolor": "#2a3f5f",
             "gridcolor": "white",
             "linecolor": "white",
             "minorgridcolor": "white",
             "startlinecolor": "#2a3f5f"
            },
            "baxis": {
             "endlinecolor": "#2a3f5f",
             "gridcolor": "white",
             "linecolor": "white",
             "minorgridcolor": "white",
             "startlinecolor": "#2a3f5f"
            },
            "type": "carpet"
           }
          ],
          "choropleth": [
           {
            "colorbar": {
             "outlinewidth": 0,
             "ticks": ""
            },
            "type": "choropleth"
           }
          ],
          "contour": [
           {
            "colorbar": {
             "outlinewidth": 0,
             "ticks": ""
            },
            "colorscale": [
             [
              0,
              "#0d0887"
             ],
             [
              0.1111111111111111,
              "#46039f"
             ],
             [
              0.2222222222222222,
              "#7201a8"
             ],
             [
              0.3333333333333333,
              "#9c179e"
             ],
             [
              0.4444444444444444,
              "#bd3786"
             ],
             [
              0.5555555555555556,
              "#d8576b"
             ],
             [
              0.6666666666666666,
              "#ed7953"
             ],
             [
              0.7777777777777778,
              "#fb9f3a"
             ],
             [
              0.8888888888888888,
              "#fdca26"
             ],
             [
              1,
              "#f0f921"
             ]
            ],
            "type": "contour"
           }
          ],
          "contourcarpet": [
           {
            "colorbar": {
             "outlinewidth": 0,
             "ticks": ""
            },
            "type": "contourcarpet"
           }
          ],
          "heatmap": [
           {
            "colorbar": {
             "outlinewidth": 0,
             "ticks": ""
            },
            "colorscale": [
             [
              0,
              "#0d0887"
             ],
             [
              0.1111111111111111,
              "#46039f"
             ],
             [
              0.2222222222222222,
              "#7201a8"
             ],
             [
              0.3333333333333333,
              "#9c179e"
             ],
             [
              0.4444444444444444,
              "#bd3786"
             ],
             [
              0.5555555555555556,
              "#d8576b"
             ],
             [
              0.6666666666666666,
              "#ed7953"
             ],
             [
              0.7777777777777778,
              "#fb9f3a"
             ],
             [
              0.8888888888888888,
              "#fdca26"
             ],
             [
              1,
              "#f0f921"
             ]
            ],
            "type": "heatmap"
           }
          ],
          "heatmapgl": [
           {
            "colorbar": {
             "outlinewidth": 0,
             "ticks": ""
            },
            "colorscale": [
             [
              0,
              "#0d0887"
             ],
             [
              0.1111111111111111,
              "#46039f"
             ],
             [
              0.2222222222222222,
              "#7201a8"
             ],
             [
              0.3333333333333333,
              "#9c179e"
             ],
             [
              0.4444444444444444,
              "#bd3786"
             ],
             [
              0.5555555555555556,
              "#d8576b"
             ],
             [
              0.6666666666666666,
              "#ed7953"
             ],
             [
              0.7777777777777778,
              "#fb9f3a"
             ],
             [
              0.8888888888888888,
              "#fdca26"
             ],
             [
              1,
              "#f0f921"
             ]
            ],
            "type": "heatmapgl"
           }
          ],
          "histogram": [
           {
            "marker": {
             "pattern": {
              "fillmode": "overlay",
              "size": 10,
              "solidity": 0.2
             }
            },
            "type": "histogram"
           }
          ],
          "histogram2d": [
           {
            "colorbar": {
             "outlinewidth": 0,
             "ticks": ""
            },
            "colorscale": [
             [
              0,
              "#0d0887"
             ],
             [
              0.1111111111111111,
              "#46039f"
             ],
             [
              0.2222222222222222,
              "#7201a8"
             ],
             [
              0.3333333333333333,
              "#9c179e"
             ],
             [
              0.4444444444444444,
              "#bd3786"
             ],
             [
              0.5555555555555556,
              "#d8576b"
             ],
             [
              0.6666666666666666,
              "#ed7953"
             ],
             [
              0.7777777777777778,
              "#fb9f3a"
             ],
             [
              0.8888888888888888,
              "#fdca26"
             ],
             [
              1,
              "#f0f921"
             ]
            ],
            "type": "histogram2d"
           }
          ],
          "histogram2dcontour": [
           {
            "colorbar": {
             "outlinewidth": 0,
             "ticks": ""
            },
            "colorscale": [
             [
              0,
              "#0d0887"
             ],
             [
              0.1111111111111111,
              "#46039f"
             ],
             [
              0.2222222222222222,
              "#7201a8"
             ],
             [
              0.3333333333333333,
              "#9c179e"
             ],
             [
              0.4444444444444444,
              "#bd3786"
             ],
             [
              0.5555555555555556,
              "#d8576b"
             ],
             [
              0.6666666666666666,
              "#ed7953"
             ],
             [
              0.7777777777777778,
              "#fb9f3a"
             ],
             [
              0.8888888888888888,
              "#fdca26"
             ],
             [
              1,
              "#f0f921"
             ]
            ],
            "type": "histogram2dcontour"
           }
          ],
          "mesh3d": [
           {
            "colorbar": {
             "outlinewidth": 0,
             "ticks": ""
            },
            "type": "mesh3d"
           }
          ],
          "parcoords": [
           {
            "line": {
             "colorbar": {
              "outlinewidth": 0,
              "ticks": ""
             }
            },
            "type": "parcoords"
           }
          ],
          "pie": [
           {
            "automargin": true,
            "type": "pie"
           }
          ],
          "scatter": [
           {
            "fillpattern": {
             "fillmode": "overlay",
             "size": 10,
             "solidity": 0.2
            },
            "type": "scatter"
           }
          ],
          "scatter3d": [
           {
            "line": {
             "colorbar": {
              "outlinewidth": 0,
              "ticks": ""
             }
            },
            "marker": {
             "colorbar": {
              "outlinewidth": 0,
              "ticks": ""
             }
            },
            "type": "scatter3d"
           }
          ],
          "scattercarpet": [
           {
            "marker": {
             "colorbar": {
              "outlinewidth": 0,
              "ticks": ""
             }
            },
            "type": "scattercarpet"
           }
          ],
          "scattergeo": [
           {
            "marker": {
             "colorbar": {
              "outlinewidth": 0,
              "ticks": ""
             }
            },
            "type": "scattergeo"
           }
          ],
          "scattergl": [
           {
            "marker": {
             "colorbar": {
              "outlinewidth": 0,
              "ticks": ""
             }
            },
            "type": "scattergl"
           }
          ],
          "scattermapbox": [
           {
            "marker": {
             "colorbar": {
              "outlinewidth": 0,
              "ticks": ""
             }
            },
            "type": "scattermapbox"
           }
          ],
          "scatterpolar": [
           {
            "marker": {
             "colorbar": {
              "outlinewidth": 0,
              "ticks": ""
             }
            },
            "type": "scatterpolar"
           }
          ],
          "scatterpolargl": [
           {
            "marker": {
             "colorbar": {
              "outlinewidth": 0,
              "ticks": ""
             }
            },
            "type": "scatterpolargl"
           }
          ],
          "scatterternary": [
           {
            "marker": {
             "colorbar": {
              "outlinewidth": 0,
              "ticks": ""
             }
            },
            "type": "scatterternary"
           }
          ],
          "surface": [
           {
            "colorbar": {
             "outlinewidth": 0,
             "ticks": ""
            },
            "colorscale": [
             [
              0,
              "#0d0887"
             ],
             [
              0.1111111111111111,
              "#46039f"
             ],
             [
              0.2222222222222222,
              "#7201a8"
             ],
             [
              0.3333333333333333,
              "#9c179e"
             ],
             [
              0.4444444444444444,
              "#bd3786"
             ],
             [
              0.5555555555555556,
              "#d8576b"
             ],
             [
              0.6666666666666666,
              "#ed7953"
             ],
             [
              0.7777777777777778,
              "#fb9f3a"
             ],
             [
              0.8888888888888888,
              "#fdca26"
             ],
             [
              1,
              "#f0f921"
             ]
            ],
            "type": "surface"
           }
          ],
          "table": [
           {
            "cells": {
             "fill": {
              "color": "#EBF0F8"
             },
             "line": {
              "color": "white"
             }
            },
            "header": {
             "fill": {
              "color": "#C8D4E3"
             },
             "line": {
              "color": "white"
             }
            },
            "type": "table"
           }
          ]
         },
         "layout": {
          "annotationdefaults": {
           "arrowcolor": "#2a3f5f",
           "arrowhead": 0,
           "arrowwidth": 1
          },
          "autotypenumbers": "strict",
          "coloraxis": {
           "colorbar": {
            "outlinewidth": 0,
            "ticks": ""
           }
          },
          "colorscale": {
           "diverging": [
            [
             0,
             "#8e0152"
            ],
            [
             0.1,
             "#c51b7d"
            ],
            [
             0.2,
             "#de77ae"
            ],
            [
             0.3,
             "#f1b6da"
            ],
            [
             0.4,
             "#fde0ef"
            ],
            [
             0.5,
             "#f7f7f7"
            ],
            [
             0.6,
             "#e6f5d0"
            ],
            [
             0.7,
             "#b8e186"
            ],
            [
             0.8,
             "#7fbc41"
            ],
            [
             0.9,
             "#4d9221"
            ],
            [
             1,
             "#276419"
            ]
           ],
           "sequential": [
            [
             0,
             "#0d0887"
            ],
            [
             0.1111111111111111,
             "#46039f"
            ],
            [
             0.2222222222222222,
             "#7201a8"
            ],
            [
             0.3333333333333333,
             "#9c179e"
            ],
            [
             0.4444444444444444,
             "#bd3786"
            ],
            [
             0.5555555555555556,
             "#d8576b"
            ],
            [
             0.6666666666666666,
             "#ed7953"
            ],
            [
             0.7777777777777778,
             "#fb9f3a"
            ],
            [
             0.8888888888888888,
             "#fdca26"
            ],
            [
             1,
             "#f0f921"
            ]
           ],
           "sequentialminus": [
            [
             0,
             "#0d0887"
            ],
            [
             0.1111111111111111,
             "#46039f"
            ],
            [
             0.2222222222222222,
             "#7201a8"
            ],
            [
             0.3333333333333333,
             "#9c179e"
            ],
            [
             0.4444444444444444,
             "#bd3786"
            ],
            [
             0.5555555555555556,
             "#d8576b"
            ],
            [
             0.6666666666666666,
             "#ed7953"
            ],
            [
             0.7777777777777778,
             "#fb9f3a"
            ],
            [
             0.8888888888888888,
             "#fdca26"
            ],
            [
             1,
             "#f0f921"
            ]
           ]
          },
          "colorway": [
           "#636efa",
           "#EF553B",
           "#00cc96",
           "#ab63fa",
           "#FFA15A",
           "#19d3f3",
           "#FF6692",
           "#B6E880",
           "#FF97FF",
           "#FECB52"
          ],
          "font": {
           "color": "#2a3f5f"
          },
          "geo": {
           "bgcolor": "white",
           "lakecolor": "white",
           "landcolor": "#E5ECF6",
           "showlakes": true,
           "showland": true,
           "subunitcolor": "white"
          },
          "hoverlabel": {
           "align": "left"
          },
          "hovermode": "closest",
          "mapbox": {
           "style": "light"
          },
          "paper_bgcolor": "white",
          "plot_bgcolor": "#E5ECF6",
          "polar": {
           "angularaxis": {
            "gridcolor": "white",
            "linecolor": "white",
            "ticks": ""
           },
           "bgcolor": "#E5ECF6",
           "radialaxis": {
            "gridcolor": "white",
            "linecolor": "white",
            "ticks": ""
           }
          },
          "scene": {
           "xaxis": {
            "backgroundcolor": "#E5ECF6",
            "gridcolor": "white",
            "gridwidth": 2,
            "linecolor": "white",
            "showbackground": true,
            "ticks": "",
            "zerolinecolor": "white"
           },
           "yaxis": {
            "backgroundcolor": "#E5ECF6",
            "gridcolor": "white",
            "gridwidth": 2,
            "linecolor": "white",
            "showbackground": true,
            "ticks": "",
            "zerolinecolor": "white"
           },
           "zaxis": {
            "backgroundcolor": "#E5ECF6",
            "gridcolor": "white",
            "gridwidth": 2,
            "linecolor": "white",
            "showbackground": true,
            "ticks": "",
            "zerolinecolor": "white"
           }
          },
          "shapedefaults": {
           "line": {
            "color": "#2a3f5f"
           }
          },
          "ternary": {
           "aaxis": {
            "gridcolor": "white",
            "linecolor": "white",
            "ticks": ""
           },
           "baxis": {
            "gridcolor": "white",
            "linecolor": "white",
            "ticks": ""
           },
           "bgcolor": "#E5ECF6",
           "caxis": {
            "gridcolor": "white",
            "linecolor": "white",
            "ticks": ""
           }
          },
          "title": {
           "x": 0.05
          },
          "xaxis": {
           "automargin": true,
           "gridcolor": "white",
           "linecolor": "white",
           "ticks": "",
           "title": {
            "standoff": 15
           },
           "zerolinecolor": "white",
           "zerolinewidth": 2
          },
          "yaxis": {
           "automargin": true,
           "gridcolor": "white",
           "linecolor": "white",
           "ticks": "",
           "title": {
            "standoff": 15
           },
           "zerolinecolor": "white",
           "zerolinewidth": 2
          }
         }
        },
        "title": {
         "text": "세그먼트 경사를 기반으로 한 콜레스테롤과 심장질환의 상관관계 "
        },
        "xaxis": {
         "anchor": "y",
         "domain": [
          0,
          1
         ],
         "title": {
          "text": "target"
         }
        },
        "yaxis": {
         "anchor": "x",
         "domain": [
          0,
          1
         ],
         "title": {
          "text": "cholesterol"
         }
        }
       }
      }
     },
     "metadata": {},
     "output_type": "display_data"
    }
   ],
   "source": [
    "# 세그먼트 경사를 기반으로 한 콜레스테롤과 심장질환의 상관관계 (박스플랏)\n",
    "\n",
    "fig = px.box(heart,x=\"target\",y=\"cholesterol\",\n",
    "             points=\"all\",color='st_slope')\n",
    "fig.update_layout(title_text='세그먼트 경사를 기반으로 한 콜레스테롤과 심장질환의 상관관계 ')\n",
    "fig.show()"
   ]
  },
  {
   "attachments": {},
   "cell_type": "markdown",
   "id": "advisory-preservation",
   "metadata": {
    "papermill": {
     "duration": 0.066644,
     "end_time": "2021-12-16T07:13:25.801085",
     "exception": false,
     "start_time": "2021-12-16T07:13:25.734441",
     "status": "completed"
    },
    "tags": []
   },
   "source": [
    "<span style='font-size:14px'> - result 해석 <br> - 혈청 콜레스테롤의 분포는 정상 분포에 가깝고 꼬리가 길다. <br> - 심장질환 환자와 비심장질환 환자의 휴식기 혈압은 거의 같다.<br> - 심장질환이 있는 중간 콜레스테롤 = 남성(228) / 여성(249) <br> - 심장질환이 없는 중간 콜레스테롤 = 남성(247.5) / 여성(265.5)<br>- 세그먼트 경사는 차이가 별로 없음."
   ]
  },
  {
   "attachments": {},
   "cell_type": "markdown",
   "id": "fewer-jurisdiction",
   "metadata": {
    "papermill": {
     "duration": 0.070659,
     "end_time": "2021-12-16T07:13:25.942794",
     "exception": false,
     "start_time": "2021-12-16T07:13:25.872135",
     "status": "completed"
    },
    "tags": []
   },
   "source": [
    "### Fasting Blood sugar"
   ]
  },
  {
   "cell_type": "code",
   "execution_count": 28,
   "id": "armed-paintball",
   "metadata": {
    "execution": {
     "iopub.execute_input": "2021-12-16T07:13:26.114817Z",
     "iopub.status.busy": "2021-12-16T07:13:26.105961Z",
     "iopub.status.idle": "2021-12-16T07:13:26.257251Z",
     "shell.execute_reply": "2021-12-16T07:13:26.256555Z",
     "shell.execute_reply.started": "2021-06-17T13:50:08.882307Z"
    },
    "papermill": {
     "duration": 0.245026,
     "end_time": "2021-12-16T07:13:26.257400",
     "exception": false,
     "start_time": "2021-12-16T07:13:26.012374",
     "status": "completed"
    },
    "tags": []
   },
   "outputs": [
    {
     "data": {
      "image/png": "[encoded data removed]",
      "text/plain": [
       "<Figure size 400x300 with 1 Axes>"
      ]
     },
     "metadata": {},
     "output_type": "display_data"
    }
   ],
   "source": [
    "# 공복 혈당이 120mg/dl 이상, 120mg/dl 미만인 남녀 환자의 수\n",
    "plt.figure(figsize=(4,3))\n",
    "sns.countplot(hue='fasting_blood_sugar',x ='sex',data = heart)\n",
    "plt.title('fasting blood sugar (120mg/dl) by sex')\n",
    "plt.show()"
   ]
  },
  {
   "cell_type": "code",
   "execution_count": 29,
   "id": "military-radical",
   "metadata": {
    "execution": {
     "iopub.execute_input": "2021-12-16T07:13:26.409686Z",
     "iopub.status.busy": "2021-12-16T07:13:26.406265Z",
     "iopub.status.idle": "2021-12-16T07:13:26.583235Z",
     "shell.execute_reply": "2021-12-16T07:13:26.582488Z",
     "shell.execute_reply.started": "2021-06-17T14:01:00.562085Z"
    },
    "papermill": {
     "duration": 0.254966,
     "end_time": "2021-12-16T07:13:26.583395",
     "exception": false,
     "start_time": "2021-12-16T07:13:26.328429",
     "status": "completed"
    },
    "tags": []
   },
   "outputs": [
    {
     "data": {
      "image/png": "[encoded data removed]",
      "text/plain": [
       "<Figure size 400x300 with 1 Axes>"
      ]
     },
     "metadata": {},
     "output_type": "display_data"
    }
   ],
   "source": [
    "# 공복 혈당이 120mg/dl 이상, 120mg/dl 미만인 심장질환 환자, 비심장질환 환자의 수\n",
    "plt.figure(figsize=(4,3))\n",
    "sns.countplot(hue='fasting_blood_sugar',x ='target',data = heart)\n",
    "plt.title('fasting blood sugar (120mg/dl) by patient')\n",
    "plt.show()"
   ]
  },
  {
   "attachments": {},
   "cell_type": "markdown",
   "id": "failing-heather",
   "metadata": {
    "papermill": {
     "duration": 0.072363,
     "end_time": "2021-12-16T07:13:26.724518",
     "exception": false,
     "start_time": "2021-12-16T07:13:26.652155",
     "status": "completed"
    },
    "tags": []
   },
   "source": [
    "<span style='font-size:14px'> - result 해석<br>- 공복 혈당이 120mg/dl 미만인 환자는 심장질환을 앓을 가능성이 높음<br>- 여성 환자에 비해 120 mg/dl 이상을 먹는 남성 환자가 더 많다."
   ]
  },
  {
   "attachments": {},
   "cell_type": "markdown",
   "id": "fiscal-peripheral",
   "metadata": {
    "papermill": {
     "duration": 0.071583,
     "end_time": "2021-12-16T07:13:26.866514",
     "exception": false,
     "start_time": "2021-12-16T07:13:26.794931",
     "status": "completed"
    },
    "tags": []
   },
   "source": [
    "### ECG"
   ]
  },
  {
   "cell_type": "code",
   "execution_count": 30,
   "id": "superior-garlic",
   "metadata": {
    "execution": {
     "iopub.execute_input": "2021-12-16T07:13:27.043355Z",
     "iopub.status.busy": "2021-12-16T07:13:27.042139Z",
     "iopub.status.idle": "2021-12-16T07:13:27.196045Z",
     "shell.execute_reply": "2021-12-16T07:13:27.195112Z",
     "shell.execute_reply.started": "2021-06-17T14:57:09.810272Z"
    },
    "papermill": {
     "duration": 0.257078,
     "end_time": "2021-12-16T07:13:27.196203",
     "exception": false,
     "start_time": "2021-12-16T07:13:26.939125",
     "status": "completed"
    },
    "tags": []
   },
   "outputs": [
    {
     "data": {
      "image/png": "[encoded data removed]",
      "text/plain": [
       "<Figure size 400x300 with 1 Axes>"
      ]
     },
     "metadata": {},
     "output_type": "display_data"
    }
   ],
   "source": [
    "# 휴식기 심전도 결과 (values 0,1,2) by disease)\n",
    "plt.figure(figsize=(4,3))\n",
    "sns.countplot(x='rest_ecg', hue ='target', data = heart)\n",
    "plt.title('Resting electrocardiographic Results by disease')\n",
    "plt.show()"
   ]
  },
  {
   "cell_type": "code",
   "execution_count": 31,
   "id": "aggressive-cookbook",
   "metadata": {
    "execution": {
     "iopub.execute_input": "2021-12-16T07:13:27.377325Z",
     "iopub.status.busy": "2021-12-16T07:13:27.376560Z",
     "iopub.status.idle": "2021-12-16T07:13:27.505166Z",
     "shell.execute_reply": "2021-12-16T07:13:27.504597Z",
     "shell.execute_reply.started": "2021-06-17T14:57:28.922816Z"
    },
    "papermill": {
     "duration": 0.239219,
     "end_time": "2021-12-16T07:13:27.505323",
     "exception": false,
     "start_time": "2021-12-16T07:13:27.266104",
     "status": "completed"
    },
    "tags": []
   },
   "outputs": [
    {
     "data": {
      "image/png": "[encoded data removed]",
      "text/plain": [
       "<Figure size 400x300 with 1 Axes>"
      ]
     },
     "metadata": {},
     "output_type": "display_data"
    }
   ],
   "source": [
    "# 휴식기 심전도 결과 (values 0,1,2) by sex)\n",
    "plt.figure(figsize=(4,3))\n",
    "sns.countplot(x='rest_ecg', hue ='sex', data = heart)\n",
    "plt.title('Resting electrocardiographic Results by sex')\n",
    "plt.show()"
   ]
  },
  {
   "attachments": {},
   "cell_type": "markdown",
   "id": "contrary-courtesy",
   "metadata": {
    "papermill": {
     "duration": 0.073535,
     "end_time": "2021-12-16T07:13:27.649018",
     "exception": false,
     "start_time": "2021-12-16T07:13:27.575483",
     "status": "completed"
    },
    "tags": []
   },
   "source": [
    "<span style='font-size:14px'>- result 해석 <br> - 휴식기 심전도가 1인, 즉 심장질환을 앓고 있는 환자가 많다. <br>- rest_computer(2)는 매우 적다. <br> - rest_hyp(0), rest_hyp(1)은 남성 환자에게 더 많이 발견된다."
   ]
  },
  {
   "attachments": {},
   "cell_type": "markdown",
   "id": "apart-jewel",
   "metadata": {
    "papermill": {
     "duration": 0.069175,
     "end_time": "2021-12-16T07:13:27.787976",
     "exception": false,
     "start_time": "2021-12-16T07:13:27.718801",
     "status": "completed"
    },
    "tags": []
   },
   "source": [
    "### Thalassemia"
   ]
  },
  {
   "cell_type": "code",
   "execution_count": 32,
   "id": "handled-commitment",
   "metadata": {
    "execution": {
     "iopub.execute_input": "2021-12-16T07:13:27.936100Z",
     "iopub.status.busy": "2021-12-16T07:13:27.935353Z",
     "iopub.status.idle": "2021-12-16T07:13:28.132317Z",
     "shell.execute_reply": "2021-12-16T07:13:28.132873Z",
     "shell.execute_reply.started": "2021-06-17T15:12:34.249988Z"
    },
    "papermill": {
     "duration": 0.272666,
     "end_time": "2021-12-16T07:13:28.133148",
     "exception": false,
     "start_time": "2021-12-16T07:13:27.860482",
     "status": "completed"
    },
    "tags": []
   },
   "outputs": [
    {
     "data": {
      "image/png": "[encoded data removed]",
      "text/plain": [
       "<Figure size 600x500 with 1 Axes>"
      ]
     },
     "metadata": {},
     "output_type": "display_data"
    }
   ],
   "source": [
    "# 심장질환 기반 Thalassemia 유형 (막대그래프)\n",
    "plt.figure(figsize=(6,5))\n",
    "sns.countplot(hue='thalassemia',x ='target',data = heart)\n",
    "plt.title('Thalassmia')\n",
    "plt.show()"
   ]
  },
  {
   "cell_type": "code",
   "execution_count": 36,
   "id": "reverse-there",
   "metadata": {
    "execution": {
     "iopub.execute_input": "2021-12-16T07:13:28.282726Z",
     "iopub.status.busy": "2021-12-16T07:13:28.282054Z",
     "iopub.status.idle": "2021-12-16T07:13:28.528479Z",
     "shell.execute_reply": "2021-12-16T07:13:28.529116Z",
     "shell.execute_reply.started": "2021-06-17T15:14:43.218252Z"
    },
    "papermill": {
     "duration": 0.324515,
     "end_time": "2021-12-16T07:13:28.529316",
     "exception": false,
     "start_time": "2021-12-16T07:13:28.204801",
     "status": "completed"
    },
    "tags": []
   },
   "outputs": [
    {
     "data": {
      "text/plain": [
       "<Axes: xlabel='chest_pain', ylabel='count'>"
      ]
     },
     "execution_count": 36,
     "metadata": {},
     "output_type": "execute_result"
    },
    {
     "data": {
      "image/png": "[encoded data removed]",
      "text/plain": [
       "<Figure size 700x300 with 1 Axes>"
      ]
     },
     "metadata": {},
     "output_type": "display_data"
    }
   ],
   "source": [
    "# 가슴통증 기반 Thalassemia 유형 \n",
    "plt.figure(figsize=(7,3))\n",
    "sns.countplot(x=\"chest_pain\", hue=\"thalassemia\", data=heart)"
   ]
  },
  {
   "cell_type": "code",
   "execution_count": 33,
   "id": "outdoor-optimization",
   "metadata": {
    "execution": {
     "iopub.execute_input": "2021-12-16T07:13:28.682396Z",
     "iopub.status.busy": "2021-12-16T07:13:28.681670Z",
     "iopub.status.idle": "2021-12-16T07:13:28.881633Z",
     "shell.execute_reply": "2021-12-16T07:13:28.881067Z",
     "shell.execute_reply.started": "2021-06-17T15:17:19.928783Z"
    },
    "papermill": {
     "duration": 0.277769,
     "end_time": "2021-12-16T07:13:28.881795",
     "exception": false,
     "start_time": "2021-12-16T07:13:28.604026",
     "status": "completed"
    },
    "tags": []
   },
   "outputs": [
    {
     "data": {
      "text/plain": [
       "<Axes: xlabel='st_slope', ylabel='count'>"
      ]
     },
     "execution_count": 33,
     "metadata": {},
     "output_type": "execute_result"
    },
    {
     "data": {
      "text/plain": [
       "<Figure size 400x300 with 0 Axes>"
      ]
     },
     "metadata": {},
     "output_type": "display_data"
    },
    {
     "data": {
      "image/png": "[encoded data removed]",
      "text/plain": [
       "<Figure size 1000x500 with 1 Axes>"
      ]
     },
     "metadata": {},
     "output_type": "display_data"
    }
   ],
   "source": [
    "# 세그먼트 경사 기반 Thalassemia 유형\n",
    "plt.figure(figsize=(4,3))\n",
    "plt.figure(figsize=(10,5))\n",
    "sns.countplot(x=\"st_slope\", hue=\"thalassemia\", data=heart)"
   ]
  },
  {
   "cell_type": "code",
   "execution_count": 38,
   "id": "worth-meeting",
   "metadata": {
    "execution": {
     "iopub.execute_input": "2021-12-16T07:13:29.041514Z",
     "iopub.status.busy": "2021-12-16T07:13:29.040453Z",
     "iopub.status.idle": "2021-12-16T07:13:29.209372Z",
     "shell.execute_reply": "2021-12-16T07:13:29.209835Z",
     "shell.execute_reply.started": "2021-06-17T15:18:21.413384Z"
    },
    "papermill": {
     "duration": 0.252105,
     "end_time": "2021-12-16T07:13:29.210037",
     "exception": false,
     "start_time": "2021-12-16T07:13:28.957932",
     "status": "completed"
    },
    "tags": []
   },
   "outputs": [
    {
     "data": {
      "image/png": "[encoded data removed]",
      "text/plain": [
       "<Figure size 700x300 with 1 Axes>"
      ]
     },
     "metadata": {},
     "output_type": "display_data"
    }
   ],
   "source": [
    "# 성별 기반 Thalassemia 유형\n",
    "plt.figure(figsize=(7,3))\n",
    "sns.countplot(hue='thalassemia',x ='sex',data =heart)\n",
    "plt.show()"
   ]
  },
  {
   "attachments": {},
   "cell_type": "markdown",
   "id": "dressed-heaven",
   "metadata": {
    "papermill": {
     "duration": 0.076127,
     "end_time": "2021-12-16T07:13:29.361756",
     "exception": false,
     "start_time": "2021-12-16T07:13:29.285629",
     "status": "completed"
    },
    "tags": []
   },
   "source": [
    "<span style='font-size:14px'> - result 해석 <br><br> - 심장병의 유무와 무관하게 대부분의 환자들이 Thalassemia를 앓음.<br>- fixed defect Thalassemia는 심장질환 환자에게서 더 흔하며, reversable defect Thalassemia는 심장질환이 없는 환자에게서 더 흔하다.<br> - 모든 유형의 흉통에서 fixed defect Thalassemia 환자가 더 많은 반면 흉통이 없는 환자와 reversable defect Thalassemia는 매우 일반적이다.<br> - fixed defect Thalassemia는 남성과 여성 환자 사이에서 매우 흔하지만 여성 환자에 비해 reversable defect Thalassemia 남성 환자가 매우 많다.<br>- horizontal slope 환자 중 fixed defect Thalassemia는 다른 환자보다 더 일반적인 반면, upsloping 환자의 경우 reversable defect Thalassemia 환자 수가 더 많다."
   ]
  },
  {
   "cell_type": "code",
   "execution_count": null,
   "id": "normal-router",
   "metadata": {
    "papermill": {
     "duration": 0.076469,
     "end_time": "2021-12-16T07:13:29.519723",
     "exception": false,
     "start_time": "2021-12-16T07:13:29.443254",
     "status": "completed"
    },
    "tags": []
   },
   "outputs": [],
   "source": []
  },
  {
   "attachments": {},
   "cell_type": "markdown",
   "id": "negative-princess",
   "metadata": {
    "papermill": {
     "duration": 0.075366,
     "end_time": "2021-12-16T07:13:29.670617",
     "exception": false,
     "start_time": "2021-12-16T07:13:29.595251",
     "status": "completed"
    },
    "tags": []
   },
   "source": [
    "### feature engineering\n",
    "<br> - feature들에 대해 TATGET값 분포도 비교 시각화"
   ]
  },
  {
   "cell_type": "code",
   "execution_count": 45,
   "id": "gothic-superintendent",
   "metadata": {
    "execution": {
     "iopub.execute_input": "2021-12-16T07:13:29.826110Z",
     "iopub.status.busy": "2021-12-16T07:13:29.825120Z",
     "iopub.status.idle": "2021-12-16T07:13:30.506682Z",
     "shell.execute_reply": "2021-12-16T07:13:30.506022Z",
     "shell.execute_reply.started": "2021-06-17T16:50:28.127976Z"
    },
    "papermill": {
     "duration": 0.761078,
     "end_time": "2021-12-16T07:13:30.506858",
     "exception": false,
     "start_time": "2021-12-16T07:13:29.745780",
     "status": "completed"
    },
    "tags": []
   },
   "outputs": [],
   "source": [
    "from sklearn.model_selection import train_test_split\n",
    "from sklearn.model_selection import GridSearchCV\n",
    "from sklearn.preprocessing import MinMaxScaler\n",
    "from sklearn.linear_model import LogisticRegression\n",
    "from sklearn.tree import DecisionTreeClassifier\n",
    "from sklearn.neighbors import KNeighborsClassifier\n",
    "from sklearn import metrics\n",
    "import scikitplot as skplt\n",
    "from sklearn.metrics import accuracy_score"
   ]
  },
  {
   "attachments": {},
   "cell_type": "markdown",
   "id": "recovered-costs",
   "metadata": {
    "papermill": {
     "duration": 0.077587,
     "end_time": "2021-12-16T07:13:30.828950",
     "exception": false,
     "start_time": "2021-12-16T07:13:30.751363",
     "status": "completed"
    },
    "tags": []
   },
   "source": [
    "<span style='font-size:14px'> 정확도를 올리기 위해 범주형 변수를 더미 변수화한다"
   ]
  },
  {
   "cell_type": "code",
   "execution_count": 74,
   "id": "a8d7b4f1",
   "metadata": {},
   "outputs": [
    {
     "data": {
      "text/html": [
       "<div>\n",
       "<style scoped>\n",
       "    .dataframe tbody tr th:only-of-type {\n",
       "        vertical-align: middle;\n",
       "    }\n",
       "\n",
       "    .dataframe tbody tr th {\n",
       "        vertical-align: top;\n",
       "    }\n",
       "\n",
       "    .dataframe thead th {\n",
       "        text-align: right;\n",
       "    }\n",
       "</style>\n",
       "<table border=\"1\" class=\"dataframe\">\n",
       "  <thead>\n",
       "    <tr style=\"text-align: right;\">\n",
       "      <th></th>\n",
       "      <th>age</th>\n",
       "      <th>sex</th>\n",
       "      <th>chest_pain</th>\n",
       "      <th>resting_blood_pressure</th>\n",
       "      <th>cholesterol</th>\n",
       "      <th>fasting_blood_sugar</th>\n",
       "      <th>rest_ecg</th>\n",
       "      <th>max_heart_rate</th>\n",
       "      <th>exercise_angina</th>\n",
       "      <th>st_depression</th>\n",
       "      <th>st_slope</th>\n",
       "      <th>num_major_vessels</th>\n",
       "      <th>thalassemia</th>\n",
       "      <th>target</th>\n",
       "    </tr>\n",
       "  </thead>\n",
       "  <tbody>\n",
       "    <tr>\n",
       "      <th>0</th>\n",
       "      <td>63</td>\n",
       "      <td>1</td>\n",
       "      <td>3</td>\n",
       "      <td>145</td>\n",
       "      <td>233</td>\n",
       "      <td>1</td>\n",
       "      <td>0</td>\n",
       "      <td>150</td>\n",
       "      <td>0</td>\n",
       "      <td>2.3</td>\n",
       "      <td>0</td>\n",
       "      <td>0</td>\n",
       "      <td>1</td>\n",
       "      <td>1</td>\n",
       "    </tr>\n",
       "    <tr>\n",
       "      <th>1</th>\n",
       "      <td>37</td>\n",
       "      <td>1</td>\n",
       "      <td>2</td>\n",
       "      <td>130</td>\n",
       "      <td>250</td>\n",
       "      <td>0</td>\n",
       "      <td>1</td>\n",
       "      <td>187</td>\n",
       "      <td>0</td>\n",
       "      <td>3.5</td>\n",
       "      <td>0</td>\n",
       "      <td>0</td>\n",
       "      <td>2</td>\n",
       "      <td>1</td>\n",
       "    </tr>\n",
       "    <tr>\n",
       "      <th>2</th>\n",
       "      <td>41</td>\n",
       "      <td>0</td>\n",
       "      <td>1</td>\n",
       "      <td>130</td>\n",
       "      <td>204</td>\n",
       "      <td>0</td>\n",
       "      <td>0</td>\n",
       "      <td>172</td>\n",
       "      <td>0</td>\n",
       "      <td>1.4</td>\n",
       "      <td>2</td>\n",
       "      <td>0</td>\n",
       "      <td>2</td>\n",
       "      <td>1</td>\n",
       "    </tr>\n",
       "    <tr>\n",
       "      <th>3</th>\n",
       "      <td>56</td>\n",
       "      <td>1</td>\n",
       "      <td>1</td>\n",
       "      <td>120</td>\n",
       "      <td>236</td>\n",
       "      <td>0</td>\n",
       "      <td>1</td>\n",
       "      <td>178</td>\n",
       "      <td>0</td>\n",
       "      <td>0.8</td>\n",
       "      <td>2</td>\n",
       "      <td>0</td>\n",
       "      <td>2</td>\n",
       "      <td>1</td>\n",
       "    </tr>\n",
       "    <tr>\n",
       "      <th>4</th>\n",
       "      <td>57</td>\n",
       "      <td>0</td>\n",
       "      <td>0</td>\n",
       "      <td>120</td>\n",
       "      <td>354</td>\n",
       "      <td>0</td>\n",
       "      <td>1</td>\n",
       "      <td>163</td>\n",
       "      <td>1</td>\n",
       "      <td>0.6</td>\n",
       "      <td>2</td>\n",
       "      <td>0</td>\n",
       "      <td>2</td>\n",
       "      <td>1</td>\n",
       "    </tr>\n",
       "  </tbody>\n",
       "</table>\n",
       "</div>"
      ],
      "text/plain": [
       "   age  sex  chest_pain  resting_blood_pressure  cholesterol  \\\n",
       "0   63    1           3                     145          233   \n",
       "1   37    1           2                     130          250   \n",
       "2   41    0           1                     130          204   \n",
       "3   56    1           1                     120          236   \n",
       "4   57    0           0                     120          354   \n",
       "\n",
       "   fasting_blood_sugar  rest_ecg  max_heart_rate  exercise_angina  \\\n",
       "0                    1         0             150                0   \n",
       "1                    0         1             187                0   \n",
       "2                    0         0             172                0   \n",
       "3                    0         1             178                0   \n",
       "4                    0         1             163                1   \n",
       "\n",
       "   st_depression  st_slope  num_major_vessels  thalassemia  target  \n",
       "0            2.3         0                  0            1       1  \n",
       "1            3.5         0                  0            2       1  \n",
       "2            1.4         2                  0            2       1  \n",
       "3            0.8         2                  0            2       1  \n",
       "4            0.6         2                  0            2       1  "
      ]
     },
     "execution_count": 74,
     "metadata": {},
     "output_type": "execute_result"
    }
   ],
   "source": [
    "heart1.head()"
   ]
  },
  {
   "cell_type": "code",
   "execution_count": 75,
   "id": "e7628d5d",
   "metadata": {},
   "outputs": [
    {
     "data": {
      "text/html": [
       "<div>\n",
       "<style scoped>\n",
       "    .dataframe tbody tr th:only-of-type {\n",
       "        vertical-align: middle;\n",
       "    }\n",
       "\n",
       "    .dataframe tbody tr th {\n",
       "        vertical-align: top;\n",
       "    }\n",
       "\n",
       "    .dataframe thead th {\n",
       "        text-align: right;\n",
       "    }\n",
       "</style>\n",
       "<table border=\"1\" class=\"dataframe\">\n",
       "  <thead>\n",
       "    <tr style=\"text-align: right;\">\n",
       "      <th></th>\n",
       "      <th>age</th>\n",
       "      <th>sex</th>\n",
       "      <th>chest_pain</th>\n",
       "      <th>resting_blood_pressure</th>\n",
       "      <th>cholesterol</th>\n",
       "      <th>fasting_blood_sugar</th>\n",
       "      <th>rest_ecg</th>\n",
       "      <th>max_heart_rate</th>\n",
       "      <th>exercise_angina</th>\n",
       "      <th>st_depression</th>\n",
       "      <th>st_slope</th>\n",
       "      <th>num_major_vessels</th>\n",
       "      <th>thalassemia</th>\n",
       "      <th>target</th>\n",
       "    </tr>\n",
       "  </thead>\n",
       "  <tbody>\n",
       "    <tr>\n",
       "      <th>0</th>\n",
       "      <td>63</td>\n",
       "      <td>male</td>\n",
       "      <td>non-anginal pain</td>\n",
       "      <td>145</td>\n",
       "      <td>233</td>\n",
       "      <td>greater than 120mg/ml</td>\n",
       "      <td>0</td>\n",
       "      <td>150</td>\n",
       "      <td>no</td>\n",
       "      <td>2.3</td>\n",
       "      <td>absent</td>\n",
       "      <td>0</td>\n",
       "      <td>normal</td>\n",
       "      <td>Heart Disease</td>\n",
       "    </tr>\n",
       "    <tr>\n",
       "      <th>1</th>\n",
       "      <td>37</td>\n",
       "      <td>male</td>\n",
       "      <td>atypical angina</td>\n",
       "      <td>130</td>\n",
       "      <td>250</td>\n",
       "      <td>lower than 120mg/ml</td>\n",
       "      <td>1</td>\n",
       "      <td>187</td>\n",
       "      <td>no</td>\n",
       "      <td>3.5</td>\n",
       "      <td>absent</td>\n",
       "      <td>0</td>\n",
       "      <td>fixed defect</td>\n",
       "      <td>Heart Disease</td>\n",
       "    </tr>\n",
       "    <tr>\n",
       "      <th>2</th>\n",
       "      <td>41</td>\n",
       "      <td>female</td>\n",
       "      <td>angina pectoris</td>\n",
       "      <td>130</td>\n",
       "      <td>204</td>\n",
       "      <td>lower than 120mg/ml</td>\n",
       "      <td>0</td>\n",
       "      <td>172</td>\n",
       "      <td>no</td>\n",
       "      <td>1.4</td>\n",
       "      <td>horizontal</td>\n",
       "      <td>0</td>\n",
       "      <td>fixed defect</td>\n",
       "      <td>Heart Disease</td>\n",
       "    </tr>\n",
       "    <tr>\n",
       "      <th>3</th>\n",
       "      <td>56</td>\n",
       "      <td>male</td>\n",
       "      <td>angina pectoris</td>\n",
       "      <td>120</td>\n",
       "      <td>236</td>\n",
       "      <td>lower than 120mg/ml</td>\n",
       "      <td>1</td>\n",
       "      <td>178</td>\n",
       "      <td>no</td>\n",
       "      <td>0.8</td>\n",
       "      <td>horizontal</td>\n",
       "      <td>0</td>\n",
       "      <td>fixed defect</td>\n",
       "      <td>Heart Disease</td>\n",
       "    </tr>\n",
       "    <tr>\n",
       "      <th>4</th>\n",
       "      <td>57</td>\n",
       "      <td>female</td>\n",
       "      <td>absent</td>\n",
       "      <td>120</td>\n",
       "      <td>354</td>\n",
       "      <td>lower than 120mg/ml</td>\n",
       "      <td>1</td>\n",
       "      <td>163</td>\n",
       "      <td>yes</td>\n",
       "      <td>0.6</td>\n",
       "      <td>horizontal</td>\n",
       "      <td>0</td>\n",
       "      <td>fixed defect</td>\n",
       "      <td>Heart Disease</td>\n",
       "    </tr>\n",
       "  </tbody>\n",
       "</table>\n",
       "</div>"
      ],
      "text/plain": [
       "   age     sex        chest_pain  resting_blood_pressure  cholesterol  \\\n",
       "0   63    male  non-anginal pain                     145          233   \n",
       "1   37    male   atypical angina                     130          250   \n",
       "2   41  female   angina pectoris                     130          204   \n",
       "3   56    male   angina pectoris                     120          236   \n",
       "4   57  female            absent                     120          354   \n",
       "\n",
       "     fasting_blood_sugar  rest_ecg  max_heart_rate exercise_angina  \\\n",
       "0  greater than 120mg/ml         0             150              no   \n",
       "1    lower than 120mg/ml         1             187              no   \n",
       "2    lower than 120mg/ml         0             172              no   \n",
       "3    lower than 120mg/ml         1             178              no   \n",
       "4    lower than 120mg/ml         1             163             yes   \n",
       "\n",
       "   st_depression    st_slope  num_major_vessels   thalassemia         target  \n",
       "0            2.3      absent                  0        normal  Heart Disease  \n",
       "1            3.5      absent                  0  fixed defect  Heart Disease  \n",
       "2            1.4  horizontal                  0  fixed defect  Heart Disease  \n",
       "3            0.8  horizontal                  0  fixed defect  Heart Disease  \n",
       "4            0.6  horizontal                  0  fixed defect  Heart Disease  "
      ]
     },
     "execution_count": 75,
     "metadata": {},
     "output_type": "execute_result"
    }
   ],
   "source": [
    "heart.head()"
   ]
  },
  {
   "cell_type": "code",
   "execution_count": 76,
   "id": "220539c8",
   "metadata": {},
   "outputs": [
    {
     "data": {
      "text/plain": [
       "Index(['age', 'sex', 'chest_pain', 'resting_blood_pressure', 'cholesterol',\n",
       "       'fasting_blood_sugar', 'rest_ecg', 'max_heart_rate', 'exercise_angina',\n",
       "       'st_depression', 'st_slope', 'num_major_vessels', 'thalassemia',\n",
       "       'target'],\n",
       "      dtype='object')"
      ]
     },
     "execution_count": 76,
     "metadata": {},
     "output_type": "execute_result"
    }
   ],
   "source": [
    "heart.columns"
   ]
  },
  {
   "cell_type": "code",
   "execution_count": 78,
   "id": "128f0bef",
   "metadata": {},
   "outputs": [
    {
     "name": "stdout",
     "output_type": "stream",
     "text": [
      "<class 'pandas.core.frame.DataFrame'>\n",
      "RangeIndex: 303 entries, 0 to 302\n",
      "Data columns (total 14 columns):\n",
      " #   Column                  Non-Null Count  Dtype  \n",
      "---  ------                  --------------  -----  \n",
      " 0   age                     303 non-null    int64  \n",
      " 1   sex                     303 non-null    int64  \n",
      " 2   chest_pain              303 non-null    object \n",
      " 3   resting_blood_pressure  303 non-null    int64  \n",
      " 4   cholesterol             303 non-null    int64  \n",
      " 5   fasting_blood_sugar     303 non-null    int64  \n",
      " 6   rest_ecg                303 non-null    int64  \n",
      " 7   max_heart_rate          303 non-null    int64  \n",
      " 8   exercise_angina         303 non-null    int64  \n",
      " 9   st_depression           303 non-null    float64\n",
      " 10  st_slope                303 non-null    object \n",
      " 11  num_major_vessels       303 non-null    int64  \n",
      " 12  thalassemia             303 non-null    object \n",
      " 13  target                  303 non-null    int64  \n",
      "dtypes: float64(1), int64(10), object(3)\n",
      "memory usage: 33.3+ KB\n"
     ]
    }
   ],
   "source": [
    "heart.sex = heart.sex.map({'female':0,'male':1})\n",
    "# heart.chest_pain = heart.chest_pain.map({1:'angina pectoris',2:'atypical angina', 3:'non-anginal pain',4:'SMI', 0:'absent'})\n",
    "heart.fasting_blood_sugar = heart.fasting_blood_sugar.map({'lower than 120mg/ml':0,'greater than 120mg/ml':1})\n",
    "heart.exercise_angina = heart.exercise_angina.map({'no':0, 'yes':1})\n",
    "# heart.st_slope = heart.st_slope.map({1:'upsloping', 2:'horizontal',3:'downsloping', 0:'absent'})\n",
    "# heart.thalassemia = heart.thalassemia.map({1:'normal', 2:'fixed defect', 3:'reversable defect',0:'absent'})\n",
    "heart.target = heart.target.map({'No Heart Disease':0,'Heart Disease':1})\n",
    "heart.info()"
   ]
  },
  {
   "cell_type": "code",
   "execution_count": 79,
   "id": "9890051b",
   "metadata": {},
   "outputs": [
    {
     "data": {
      "text/html": [
       "<div>\n",
       "<style scoped>\n",
       "    .dataframe tbody tr th:only-of-type {\n",
       "        vertical-align: middle;\n",
       "    }\n",
       "\n",
       "    .dataframe tbody tr th {\n",
       "        vertical-align: top;\n",
       "    }\n",
       "\n",
       "    .dataframe thead th {\n",
       "        text-align: right;\n",
       "    }\n",
       "</style>\n",
       "<table border=\"1\" class=\"dataframe\">\n",
       "  <thead>\n",
       "    <tr style=\"text-align: right;\">\n",
       "      <th></th>\n",
       "      <th>age</th>\n",
       "      <th>sex</th>\n",
       "      <th>resting_blood_pressure</th>\n",
       "      <th>cholesterol</th>\n",
       "      <th>fasting_blood_sugar</th>\n",
       "      <th>rest_ecg</th>\n",
       "      <th>max_heart_rate</th>\n",
       "      <th>exercise_angina</th>\n",
       "      <th>st_depression</th>\n",
       "      <th>num_major_vessels</th>\n",
       "      <th>target</th>\n",
       "      <th>chest_pain_absent</th>\n",
       "      <th>chest_pain_angina pectoris</th>\n",
       "      <th>chest_pain_atypical angina</th>\n",
       "      <th>chest_pain_non-anginal pain</th>\n",
       "      <th>st_slope_absent</th>\n",
       "      <th>st_slope_horizontal</th>\n",
       "      <th>st_slope_upsloping</th>\n",
       "      <th>thalassemia_absent</th>\n",
       "      <th>thalassemia_fixed defect</th>\n",
       "      <th>thalassemia_normal</th>\n",
       "      <th>thalassemia_reversable defect</th>\n",
       "    </tr>\n",
       "  </thead>\n",
       "  <tbody>\n",
       "    <tr>\n",
       "      <th>0</th>\n",
       "      <td>63</td>\n",
       "      <td>1</td>\n",
       "      <td>145</td>\n",
       "      <td>233</td>\n",
       "      <td>1</td>\n",
       "      <td>0</td>\n",
       "      <td>150</td>\n",
       "      <td>0</td>\n",
       "      <td>2.3</td>\n",
       "      <td>0</td>\n",
       "      <td>1</td>\n",
       "      <td>0</td>\n",
       "      <td>0</td>\n",
       "      <td>0</td>\n",
       "      <td>1</td>\n",
       "      <td>1</td>\n",
       "      <td>0</td>\n",
       "      <td>0</td>\n",
       "      <td>0</td>\n",
       "      <td>0</td>\n",
       "      <td>1</td>\n",
       "      <td>0</td>\n",
       "    </tr>\n",
       "    <tr>\n",
       "      <th>1</th>\n",
       "      <td>37</td>\n",
       "      <td>1</td>\n",
       "      <td>130</td>\n",
       "      <td>250</td>\n",
       "      <td>0</td>\n",
       "      <td>1</td>\n",
       "      <td>187</td>\n",
       "      <td>0</td>\n",
       "      <td>3.5</td>\n",
       "      <td>0</td>\n",
       "      <td>1</td>\n",
       "      <td>0</td>\n",
       "      <td>0</td>\n",
       "      <td>1</td>\n",
       "      <td>0</td>\n",
       "      <td>1</td>\n",
       "      <td>0</td>\n",
       "      <td>0</td>\n",
       "      <td>0</td>\n",
       "      <td>1</td>\n",
       "      <td>0</td>\n",
       "      <td>0</td>\n",
       "    </tr>\n",
       "    <tr>\n",
       "      <th>2</th>\n",
       "      <td>41</td>\n",
       "      <td>0</td>\n",
       "      <td>130</td>\n",
       "      <td>204</td>\n",
       "      <td>0</td>\n",
       "      <td>0</td>\n",
       "      <td>172</td>\n",
       "      <td>0</td>\n",
       "      <td>1.4</td>\n",
       "      <td>0</td>\n",
       "      <td>1</td>\n",
       "      <td>0</td>\n",
       "      <td>1</td>\n",
       "      <td>0</td>\n",
       "      <td>0</td>\n",
       "      <td>0</td>\n",
       "      <td>1</td>\n",
       "      <td>0</td>\n",
       "      <td>0</td>\n",
       "      <td>1</td>\n",
       "      <td>0</td>\n",
       "      <td>0</td>\n",
       "    </tr>\n",
       "    <tr>\n",
       "      <th>3</th>\n",
       "      <td>56</td>\n",
       "      <td>1</td>\n",
       "      <td>120</td>\n",
       "      <td>236</td>\n",
       "      <td>0</td>\n",
       "      <td>1</td>\n",
       "      <td>178</td>\n",
       "      <td>0</td>\n",
       "      <td>0.8</td>\n",
       "      <td>0</td>\n",
       "      <td>1</td>\n",
       "      <td>0</td>\n",
       "      <td>1</td>\n",
       "      <td>0</td>\n",
       "      <td>0</td>\n",
       "      <td>0</td>\n",
       "      <td>1</td>\n",
       "      <td>0</td>\n",
       "      <td>0</td>\n",
       "      <td>1</td>\n",
       "      <td>0</td>\n",
       "      <td>0</td>\n",
       "    </tr>\n",
       "    <tr>\n",
       "      <th>4</th>\n",
       "      <td>57</td>\n",
       "      <td>0</td>\n",
       "      <td>120</td>\n",
       "      <td>354</td>\n",
       "      <td>0</td>\n",
       "      <td>1</td>\n",
       "      <td>163</td>\n",
       "      <td>1</td>\n",
       "      <td>0.6</td>\n",
       "      <td>0</td>\n",
       "      <td>1</td>\n",
       "      <td>1</td>\n",
       "      <td>0</td>\n",
       "      <td>0</td>\n",
       "      <td>0</td>\n",
       "      <td>0</td>\n",
       "      <td>1</td>\n",
       "      <td>0</td>\n",
       "      <td>0</td>\n",
       "      <td>1</td>\n",
       "      <td>0</td>\n",
       "      <td>0</td>\n",
       "    </tr>\n",
       "    <tr>\n",
       "      <th>...</th>\n",
       "      <td>...</td>\n",
       "      <td>...</td>\n",
       "      <td>...</td>\n",
       "      <td>...</td>\n",
       "      <td>...</td>\n",
       "      <td>...</td>\n",
       "      <td>...</td>\n",
       "      <td>...</td>\n",
       "      <td>...</td>\n",
       "      <td>...</td>\n",
       "      <td>...</td>\n",
       "      <td>...</td>\n",
       "      <td>...</td>\n",
       "      <td>...</td>\n",
       "      <td>...</td>\n",
       "      <td>...</td>\n",
       "      <td>...</td>\n",
       "      <td>...</td>\n",
       "      <td>...</td>\n",
       "      <td>...</td>\n",
       "      <td>...</td>\n",
       "      <td>...</td>\n",
       "    </tr>\n",
       "    <tr>\n",
       "      <th>298</th>\n",
       "      <td>57</td>\n",
       "      <td>0</td>\n",
       "      <td>140</td>\n",
       "      <td>241</td>\n",
       "      <td>0</td>\n",
       "      <td>1</td>\n",
       "      <td>123</td>\n",
       "      <td>1</td>\n",
       "      <td>0.2</td>\n",
       "      <td>0</td>\n",
       "      <td>0</td>\n",
       "      <td>1</td>\n",
       "      <td>0</td>\n",
       "      <td>0</td>\n",
       "      <td>0</td>\n",
       "      <td>0</td>\n",
       "      <td>0</td>\n",
       "      <td>1</td>\n",
       "      <td>0</td>\n",
       "      <td>0</td>\n",
       "      <td>0</td>\n",
       "      <td>1</td>\n",
       "    </tr>\n",
       "    <tr>\n",
       "      <th>299</th>\n",
       "      <td>45</td>\n",
       "      <td>1</td>\n",
       "      <td>110</td>\n",
       "      <td>264</td>\n",
       "      <td>0</td>\n",
       "      <td>1</td>\n",
       "      <td>132</td>\n",
       "      <td>0</td>\n",
       "      <td>1.2</td>\n",
       "      <td>0</td>\n",
       "      <td>0</td>\n",
       "      <td>0</td>\n",
       "      <td>0</td>\n",
       "      <td>0</td>\n",
       "      <td>1</td>\n",
       "      <td>0</td>\n",
       "      <td>0</td>\n",
       "      <td>1</td>\n",
       "      <td>0</td>\n",
       "      <td>0</td>\n",
       "      <td>0</td>\n",
       "      <td>1</td>\n",
       "    </tr>\n",
       "    <tr>\n",
       "      <th>300</th>\n",
       "      <td>68</td>\n",
       "      <td>1</td>\n",
       "      <td>144</td>\n",
       "      <td>193</td>\n",
       "      <td>1</td>\n",
       "      <td>1</td>\n",
       "      <td>141</td>\n",
       "      <td>0</td>\n",
       "      <td>3.4</td>\n",
       "      <td>2</td>\n",
       "      <td>0</td>\n",
       "      <td>1</td>\n",
       "      <td>0</td>\n",
       "      <td>0</td>\n",
       "      <td>0</td>\n",
       "      <td>0</td>\n",
       "      <td>0</td>\n",
       "      <td>1</td>\n",
       "      <td>0</td>\n",
       "      <td>0</td>\n",
       "      <td>0</td>\n",
       "      <td>1</td>\n",
       "    </tr>\n",
       "    <tr>\n",
       "      <th>301</th>\n",
       "      <td>57</td>\n",
       "      <td>1</td>\n",
       "      <td>130</td>\n",
       "      <td>131</td>\n",
       "      <td>0</td>\n",
       "      <td>1</td>\n",
       "      <td>115</td>\n",
       "      <td>1</td>\n",
       "      <td>1.2</td>\n",
       "      <td>1</td>\n",
       "      <td>0</td>\n",
       "      <td>1</td>\n",
       "      <td>0</td>\n",
       "      <td>0</td>\n",
       "      <td>0</td>\n",
       "      <td>0</td>\n",
       "      <td>0</td>\n",
       "      <td>1</td>\n",
       "      <td>0</td>\n",
       "      <td>0</td>\n",
       "      <td>0</td>\n",
       "      <td>1</td>\n",
       "    </tr>\n",
       "    <tr>\n",
       "      <th>302</th>\n",
       "      <td>57</td>\n",
       "      <td>0</td>\n",
       "      <td>130</td>\n",
       "      <td>236</td>\n",
       "      <td>0</td>\n",
       "      <td>0</td>\n",
       "      <td>174</td>\n",
       "      <td>0</td>\n",
       "      <td>0.0</td>\n",
       "      <td>1</td>\n",
       "      <td>0</td>\n",
       "      <td>0</td>\n",
       "      <td>1</td>\n",
       "      <td>0</td>\n",
       "      <td>0</td>\n",
       "      <td>0</td>\n",
       "      <td>0</td>\n",
       "      <td>1</td>\n",
       "      <td>0</td>\n",
       "      <td>1</td>\n",
       "      <td>0</td>\n",
       "      <td>0</td>\n",
       "    </tr>\n",
       "  </tbody>\n",
       "</table>\n",
       "<p>303 rows × 22 columns</p>\n",
       "</div>"
      ],
      "text/plain": [
       "     age  sex  resting_blood_pressure  cholesterol  fasting_blood_sugar  \\\n",
       "0     63    1                     145          233                    1   \n",
       "1     37    1                     130          250                    0   \n",
       "2     41    0                     130          204                    0   \n",
       "3     56    1                     120          236                    0   \n",
       "4     57    0                     120          354                    0   \n",
       "..   ...  ...                     ...          ...                  ...   \n",
       "298   57    0                     140          241                    0   \n",
       "299   45    1                     110          264                    0   \n",
       "300   68    1                     144          193                    1   \n",
       "301   57    1                     130          131                    0   \n",
       "302   57    0                     130          236                    0   \n",
       "\n",
       "     rest_ecg  max_heart_rate  exercise_angina  st_depression  \\\n",
       "0           0             150                0            2.3   \n",
       "1           1             187                0            3.5   \n",
       "2           0             172                0            1.4   \n",
       "3           1             178                0            0.8   \n",
       "4           1             163                1            0.6   \n",
       "..        ...             ...              ...            ...   \n",
       "298         1             123                1            0.2   \n",
       "299         1             132                0            1.2   \n",
       "300         1             141                0            3.4   \n",
       "301         1             115                1            1.2   \n",
       "302         0             174                0            0.0   \n",
       "\n",
       "     num_major_vessels  target  chest_pain_absent  chest_pain_angina pectoris  \\\n",
       "0                    0       1                  0                           0   \n",
       "1                    0       1                  0                           0   \n",
       "2                    0       1                  0                           1   \n",
       "3                    0       1                  0                           1   \n",
       "4                    0       1                  1                           0   \n",
       "..                 ...     ...                ...                         ...   \n",
       "298                  0       0                  1                           0   \n",
       "299                  0       0                  0                           0   \n",
       "300                  2       0                  1                           0   \n",
       "301                  1       0                  1                           0   \n",
       "302                  1       0                  0                           1   \n",
       "\n",
       "     chest_pain_atypical angina  chest_pain_non-anginal pain  st_slope_absent  \\\n",
       "0                             0                            1                1   \n",
       "1                             1                            0                1   \n",
       "2                             0                            0                0   \n",
       "3                             0                            0                0   \n",
       "4                             0                            0                0   \n",
       "..                          ...                          ...              ...   \n",
       "298                           0                            0                0   \n",
       "299                           0                            1                0   \n",
       "300                           0                            0                0   \n",
       "301                           0                            0                0   \n",
       "302                           0                            0                0   \n",
       "\n",
       "     st_slope_horizontal  st_slope_upsloping  thalassemia_absent  \\\n",
       "0                      0                   0                   0   \n",
       "1                      0                   0                   0   \n",
       "2                      1                   0                   0   \n",
       "3                      1                   0                   0   \n",
       "4                      1                   0                   0   \n",
       "..                   ...                 ...                 ...   \n",
       "298                    0                   1                   0   \n",
       "299                    0                   1                   0   \n",
       "300                    0                   1                   0   \n",
       "301                    0                   1                   0   \n",
       "302                    0                   1                   0   \n",
       "\n",
       "     thalassemia_fixed defect  thalassemia_normal  \\\n",
       "0                           0                   1   \n",
       "1                           1                   0   \n",
       "2                           1                   0   \n",
       "3                           1                   0   \n",
       "4                           1                   0   \n",
       "..                        ...                 ...   \n",
       "298                         0                   0   \n",
       "299                         0                   0   \n",
       "300                         0                   0   \n",
       "301                         0                   0   \n",
       "302                         1                   0   \n",
       "\n",
       "     thalassemia_reversable defect  \n",
       "0                                0  \n",
       "1                                0  \n",
       "2                                0  \n",
       "3                                0  \n",
       "4                                0  \n",
       "..                             ...  \n",
       "298                              1  \n",
       "299                              1  \n",
       "300                              1  \n",
       "301                              1  \n",
       "302                              0  \n",
       "\n",
       "[303 rows x 22 columns]"
      ]
     },
     "execution_count": 79,
     "metadata": {},
     "output_type": "execute_result"
    }
   ],
   "source": [
    "final = pd.get_dummies(heart)\n",
    "final"
   ]
  },
  {
   "cell_type": "code",
   "execution_count": 80,
   "id": "catholic-marijuana",
   "metadata": {
    "execution": {
     "iopub.execute_input": "2021-12-16T07:13:31.170276Z",
     "iopub.status.busy": "2021-12-16T07:13:31.169598Z",
     "iopub.status.idle": "2021-12-16T07:13:31.177147Z",
     "shell.execute_reply": "2021-12-16T07:13:31.177678Z",
     "shell.execute_reply.started": "2021-06-17T16:48:37.32228Z"
    },
    "papermill": {
     "duration": 0.086871,
     "end_time": "2021-12-16T07:13:31.177876",
     "exception": false,
     "start_time": "2021-12-16T07:13:31.091005",
     "status": "completed"
    },
    "tags": []
   },
   "outputs": [],
   "source": [
    "x = final.drop(['target'], axis = 1)\n",
    "y = final['target']"
   ]
  },
  {
   "cell_type": "code",
   "execution_count": 81,
   "id": "super-michael",
   "metadata": {
    "execution": {
     "iopub.execute_input": "2021-12-16T07:13:31.331828Z",
     "iopub.status.busy": "2021-12-16T07:13:31.331150Z",
     "iopub.status.idle": "2021-12-16T07:13:31.338249Z",
     "shell.execute_reply": "2021-12-16T07:13:31.338791Z",
     "shell.execute_reply.started": "2021-06-17T16:48:39.297981Z"
    },
    "papermill": {
     "duration": 0.08559,
     "end_time": "2021-12-16T07:13:31.338992",
     "exception": false,
     "start_time": "2021-12-16T07:13:31.253402",
     "status": "completed"
    },
    "tags": []
   },
   "outputs": [],
   "source": [
    "x_train, x_test, y_train, y_test = train_test_split(x,y,test_size = 0.20, random_state = 5)"
   ]
  },
  {
   "cell_type": "code",
   "execution_count": 82,
   "id": "inside-implementation",
   "metadata": {
    "execution": {
     "iopub.execute_input": "2021-12-16T07:13:31.494710Z",
     "iopub.status.busy": "2021-12-16T07:13:31.494062Z",
     "iopub.status.idle": "2021-12-16T07:13:31.505893Z",
     "shell.execute_reply": "2021-12-16T07:13:31.506452Z",
     "shell.execute_reply.started": "2021-06-17T16:48:41.34441Z"
    },
    "papermill": {
     "duration": 0.090542,
     "end_time": "2021-12-16T07:13:31.506643",
     "exception": false,
     "start_time": "2021-12-16T07:13:31.416101",
     "status": "completed"
    },
    "tags": []
   },
   "outputs": [],
   "source": [
    "feature_scaler = MinMaxScaler()\n",
    "x_train = feature_scaler.fit_transform(x_train)\n",
    "x_test = feature_scaler.fit_transform(x_test)"
   ]
  },
  {
   "cell_type": "code",
   "execution_count": 83,
   "id": "chemical-contact",
   "metadata": {
    "execution": {
     "iopub.execute_input": "2021-12-16T07:13:31.662647Z",
     "iopub.status.busy": "2021-12-16T07:13:31.661961Z",
     "iopub.status.idle": "2021-12-16T07:13:31.665638Z",
     "shell.execute_reply": "2021-12-16T07:13:31.666183Z",
     "shell.execute_reply.started": "2021-06-17T16:48:43.574963Z"
    },
    "papermill": {
     "duration": 0.082128,
     "end_time": "2021-12-16T07:13:31.666373",
     "exception": false,
     "start_time": "2021-12-16T07:13:31.584245",
     "status": "completed"
    },
    "tags": []
   },
   "outputs": [],
   "source": [
    "# 정확도는 리스트로 설정\n",
    "accuracy = []"
   ]
  },
  {
   "attachments": {},
   "cell_type": "markdown",
   "id": "apart-venue",
   "metadata": {
    "papermill": {
     "duration": 0.074538,
     "end_time": "2021-12-16T07:13:31.974820",
     "exception": false,
     "start_time": "2021-12-16T07:13:31.900282",
     "status": "completed"
    },
    "tags": []
   },
   "source": [
    "## Decision Trees"
   ]
  },
  {
   "cell_type": "code",
   "execution_count": 84,
   "id": "ambient-spectrum",
   "metadata": {
    "execution": {
     "iopub.execute_input": "2021-12-16T07:13:32.132351Z",
     "iopub.status.busy": "2021-12-16T07:13:32.131659Z",
     "iopub.status.idle": "2021-12-16T07:13:32.172156Z",
     "shell.execute_reply": "2021-12-16T07:13:32.171594Z",
     "shell.execute_reply.started": "2021-06-17T16:50:43.049241Z"
    },
    "papermill": {
     "duration": 0.121203,
     "end_time": "2021-12-16T07:13:32.172320",
     "exception": false,
     "start_time": "2021-12-16T07:13:32.051117",
     "status": "completed"
    },
    "tags": []
   },
   "outputs": [
    {
     "data": {
      "text/plain": [
       "{'criterion': 'gini'}"
      ]
     },
     "execution_count": 84,
     "metadata": {},
     "output_type": "execute_result"
    }
   ],
   "source": [
    "criterion = ['gini','entropy']\n",
    "splitter = ['best','random']\n",
    "\n",
    "Tree = DecisionTreeClassifier()\n",
    "\n",
    "parameters = {'criterion': ['gini','entropy']}\n",
    "\n",
    "tree_classifier = GridSearchCV(Tree, parameters, scoring='neg_mean_squared_error' ,cv =5)\n",
    "tree_classifier.fit(x_train, y_train)\n",
    "tree_classifier.best_params_"
   ]
  },
  {
   "cell_type": "code",
   "execution_count": 85,
   "id": "eligible-identity",
   "metadata": {
    "execution": {
     "iopub.execute_input": "2021-12-16T07:13:32.325298Z",
     "iopub.status.busy": "2021-12-16T07:13:32.324642Z",
     "iopub.status.idle": "2021-12-16T07:13:32.333883Z",
     "shell.execute_reply": "2021-12-16T07:13:32.333309Z",
     "shell.execute_reply.started": "2021-06-17T16:50:47.728207Z"
    },
    "papermill": {
     "duration": 0.086776,
     "end_time": "2021-12-16T07:13:32.334027",
     "exception": false,
     "start_time": "2021-12-16T07:13:32.247251",
     "status": "completed"
    },
    "tags": []
   },
   "outputs": [
    {
     "name": "stdout",
     "output_type": "stream",
     "text": [
      "Decision Tree Accuracy --> 75.40983606557377\n"
     ]
    }
   ],
   "source": [
    "model2 = DecisionTreeClassifier(criterion = 'gini')\n",
    "model2.fit(x_train,y_train)\n",
    "accuracy2 = model2.score(x_test,y_test)\n",
    "accuracy.append(accuracy2)\n",
    "print('Decision Tree Accuracy -->',((accuracy2)*100))"
   ]
  },
  {
   "cell_type": "code",
   "execution_count": 86,
   "id": "relative-diploma",
   "metadata": {
    "execution": {
     "iopub.execute_input": "2021-12-16T07:13:32.497095Z",
     "iopub.status.busy": "2021-12-16T07:13:32.496385Z",
     "iopub.status.idle": "2021-12-16T07:13:32.673463Z",
     "shell.execute_reply": "2021-12-16T07:13:32.672772Z",
     "shell.execute_reply.started": "2021-06-17T16:50:49.716601Z"
    },
    "papermill": {
     "duration": 0.262725,
     "end_time": "2021-12-16T07:13:32.673610",
     "exception": false,
     "start_time": "2021-12-16T07:13:32.410885",
     "status": "completed"
    },
    "tags": []
   },
   "outputs": [
    {
     "data": {
      "text/plain": [
       "<Axes: title={'center': 'Confusion Matrix'}, xlabel='Predicted label', ylabel='True label'>"
      ]
     },
     "execution_count": 86,
     "metadata": {},
     "output_type": "execute_result"
    },
    {
     "data": {
      "image/png": "[encoded data removed]",
      "text/plain": [
       "<Figure size 1000x500 with 2 Axes>"
      ]
     },
     "metadata": {},
     "output_type": "display_data"
    }
   ],
   "source": [
    "pred2 = model2.predict(x_test)\n",
    "matrix2 = (y_test,pred2)\n",
    "skplt.metrics.plot_confusion_matrix(y_test ,pred2 ,figsize=(10,5))"
   ]
  },
  {
   "attachments": {},
   "cell_type": "markdown",
   "id": "numerous-example",
   "metadata": {
    "papermill": {
     "duration": 0.077035,
     "end_time": "2021-12-16T07:13:32.826860",
     "exception": false,
     "start_time": "2021-12-16T07:13:32.749825",
     "status": "completed"
    },
    "tags": []
   },
   "source": [
    "- result 해석\n",
    "- 이 결과로 15개의 값에 오류가 있음을 보여주고, 다른 값은 모두 올바르게 예측되었음을 보여줌."
   ]
  },
  {
   "attachments": {},
   "cell_type": "markdown",
   "id": "expressed-front",
   "metadata": {
    "papermill": {
     "duration": 0.078325,
     "end_time": "2021-12-16T07:13:32.983218",
     "exception": false,
     "start_time": "2021-12-16T07:13:32.904893",
     "status": "completed"
    },
    "tags": []
   },
   "source": [
    "## K-Nearest Neighbors"
   ]
  },
  {
   "cell_type": "code",
   "execution_count": 87,
   "id": "dangerous-musician",
   "metadata": {
    "execution": {
     "iopub.execute_input": "2021-12-16T07:13:33.144169Z",
     "iopub.status.busy": "2021-12-16T07:13:33.143515Z",
     "iopub.status.idle": "2021-12-16T07:13:33.511797Z",
     "shell.execute_reply": "2021-12-16T07:13:33.512684Z",
     "shell.execute_reply.started": "2021-06-17T16:51:55.350835Z"
    },
    "papermill": {
     "duration": 0.450318,
     "end_time": "2021-12-16T07:13:33.512917",
     "exception": false,
     "start_time": "2021-12-16T07:13:33.062599",
     "status": "completed"
    },
    "tags": []
   },
   "outputs": [
    {
     "data": {
      "text/plain": [
       "Text(0, 0.5, 'Accuracy')"
      ]
     },
     "execution_count": 87,
     "metadata": {},
     "output_type": "execute_result"
    },
    {
     "data": {
      "image/png": "[encoded data removed]",
      "text/plain": [
       "<Figure size 640x480 with 1 Axes>"
      ]
     },
     "metadata": {},
     "output_type": "display_data"
    }
   ],
   "source": [
    "Krange = range(1,20)\n",
    "scores = {}\n",
    "scores_list = []\n",
    "for k in Krange:\n",
    "    knn = KNeighborsClassifier(n_neighbors = k)\n",
    "    knn.fit(x_train,y_train)\n",
    "    y_pred = knn.predict(x_test)\n",
    "    scores[k] = metrics.accuracy_score(y_test,y_pred)\n",
    "    scores_list.append(metrics.accuracy_score(y_test,y_pred))\n",
    "    \n",
    "plt.plot(Krange,scores_list)\n",
    "plt.xlabel(\"Value of K\")\n",
    "plt.ylabel(\"Accuracy\")"
   ]
  },
  {
   "cell_type": "code",
   "execution_count": 88,
   "id": "colonial-yorkshire",
   "metadata": {
    "execution": {
     "iopub.execute_input": "2021-12-16T07:13:33.694473Z",
     "iopub.status.busy": "2021-12-16T07:13:33.693228Z",
     "iopub.status.idle": "2021-12-16T07:13:33.714900Z",
     "shell.execute_reply": "2021-12-16T07:13:33.716052Z",
     "shell.execute_reply.started": "2021-06-17T16:51:58.162478Z"
    },
    "papermill": {
     "duration": 0.11984,
     "end_time": "2021-12-16T07:13:33.716384",
     "exception": false,
     "start_time": "2021-12-16T07:13:33.596544",
     "status": "completed"
    },
    "tags": []
   },
   "outputs": [
    {
     "name": "stdout",
     "output_type": "stream",
     "text": [
      "Gradient Boosting Classifier Accuracy --> 85.24590163934425\n"
     ]
    }
   ],
   "source": [
    "model8 = KNeighborsClassifier(n_neighbors = 5)\n",
    "model8.fit(x_train,y_train)\n",
    "accuracy8 = model8.score(x_test,y_test)\n",
    "accuracy.append(accuracy8)\n",
    "print('Gradient Boosting Classifier Accuracy -->',((accuracy8)*100))"
   ]
  },
  {
   "cell_type": "code",
   "execution_count": 89,
   "id": "accepted-intention",
   "metadata": {
    "execution": {
     "iopub.execute_input": "2021-12-16T07:13:33.934281Z",
     "iopub.status.busy": "2021-12-16T07:13:33.932943Z",
     "iopub.status.idle": "2021-12-16T07:13:34.182816Z",
     "shell.execute_reply": "2021-12-16T07:13:34.183331Z",
     "shell.execute_reply.started": "2021-06-17T16:52:22.61664Z"
    },
    "papermill": {
     "duration": 0.336074,
     "end_time": "2021-12-16T07:13:34.183522",
     "exception": false,
     "start_time": "2021-12-16T07:13:33.847448",
     "status": "completed"
    },
    "tags": []
   },
   "outputs": [
    {
     "data": {
      "text/plain": [
       "<Axes: title={'center': 'Confusion Matrix'}, xlabel='Predicted label', ylabel='True label'>"
      ]
     },
     "execution_count": 89,
     "metadata": {},
     "output_type": "execute_result"
    },
    {
     "data": {
      "image/png": "[encoded data removed]",
      "text/plain": [
       "<Figure size 1000x500 with 2 Axes>"
      ]
     },
     "metadata": {},
     "output_type": "display_data"
    }
   ],
   "source": [
    "pred8 = model8.predict(x_test)\n",
    "matrix8 = (y_test,pred8)\n",
    "skplt.metrics.plot_confusion_matrix(y_test ,pred8 ,figsize=(10,5))"
   ]
  },
  {
   "attachments": {},
   "cell_type": "markdown",
   "id": "written-fields",
   "metadata": {
    "papermill": {
     "duration": 0.085968,
     "end_time": "2021-12-16T07:13:34.350422",
     "exception": false,
     "start_time": "2021-12-16T07:13:34.264454",
     "status": "completed"
    },
    "tags": []
   },
   "source": [
    "- result 해석\n",
    "- 이 결과로 9개의 값에 오류가 있음을 보여주고, 다른 값은 모두 올바르게 예측되었음을 보여줌."
   ]
  },
  {
   "cell_type": "code",
   "execution_count": null,
   "id": "declared-fishing",
   "metadata": {
    "papermill": {
     "duration": 0.080314,
     "end_time": "2021-12-16T07:13:34.514242",
     "exception": false,
     "start_time": "2021-12-16T07:13:34.433928",
     "status": "completed"
    },
    "tags": []
   },
   "outputs": [],
   "source": []
  }
 ],
 "metadata": {
  "kernelspec": {
   "display_name": "Python 3",
   "language": "python",
   "name": "python3"
  },
  "language_info": {
   "codemirror_mode": {
    "name": "ipython",
    "version": 3
   },
   "file_extension": ".py",
   "mimetype": "text/x-python",
   "name": "python",
   "nbconvert_exporter": "python",
   "pygments_lexer": "ipython3",
   "version": "3.9.13"
  },
  "papermill": {
   "default_parameters": {},
   "duration": 32.03223,
   "end_time": "2021-12-16T07:13:36.376464",
   "environment_variables": {},
   "exception": null,
   "input_path": "__notebook__.ipynb",
   "output_path": "__notebook__.ipynb",
   "parameters": {},
   "start_time": "2021-12-16T07:13:04.344234",
   "version": "2.3.3"
  }
 },
 "nbformat": 4,
 "nbformat_minor": 5
}
