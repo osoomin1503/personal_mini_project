{
 "cells": [
  {
   "cell_type": "markdown",
   "metadata": {},
   "source": [
    "# MNIST 데이터셋 학습 (to do)\n",
    "MNIST 데이터셋은0~9까지 총 10개의 label로 이루어진 이미지 분류를 위한 사이즈의 손글씨 데이터셋이다.  \n",
    "각각의 레이블마다 28×28 크기 이미지인 60,000개의 training 데이터셋, 10,000개의 test 데이터셋이 존재하고, 결과적으로 총 70,000개의 28×28 크기의 이미지로 데이터셋이 구성되어 있다."
   ]
  },
  {
   "cell_type": "code",
   "execution_count": 2,
   "metadata": {},
   "outputs": [
    {
     "name": "stdout",
     "output_type": "stream",
     "text": [
      "현재 가상환경 GPU 사용 가능상태\n"
     ]
    }
   ],
   "source": [
    "import torch\n",
    "if torch.cuda.is_available() == True:\n",
    "    device = 'cuda:0'\n",
    "    print('현재 가상환경 GPU 사용 가능상태')\n",
    "else:\n",
    "    device = 'cpu'\n",
    "    print('GPU 사용 불가능 상태')"
   ]
  },
  {
   "cell_type": "code",
   "execution_count": 180,
   "metadata": {},
   "outputs": [],
   "source": [
    "import tensorflow.keras.utils as utils\n",
    "from tensorflow.keras import datasets\n",
    "from tensorflow.keras.models import Sequential, Model\n",
    "from tensorflow.keras.layers import Input, Dense, Activation\n",
    "from tensorflow.keras.preprocessing.image import ImageDataGenerator, img_to_array\n",
    "from tensorflow.keras import backend\n",
    "\n",
    "import numpy as np\n",
    "import matplotlib.pyplot as plt\n",
    "%matplotlib inline\n",
    "\n",
    "import warnings\n",
    "warnings.filterwarnings('ignore')\n",
    "\n",
    "import tensorflow as tf\n",
    "\n",
    "from tensorflow.keras.layers import Flatten, BatchNormalization, Dropout, ReLU\n",
    "from tensorflow.keras.layers import Conv2D\n",
    "from tensorflow.keras.layers import MaxPooling2D"
   ]
  },
  {
   "cell_type": "markdown",
   "metadata": {},
   "source": [
    "## (1) 데이터셋"
   ]
  },
  {
   "cell_type": "code",
   "execution_count": 181,
   "metadata": {
    "scrolled": true
   },
   "outputs": [
    {
     "name": "stdout",
     "output_type": "stream",
     "text": [
      "(60000, 28, 28) (60000,)\n",
      "(10000, 28, 28) (10000,)\n"
     ]
    }
   ],
   "source": [
    "(X_train, Y_train),(X_test, Y_test) = datasets.mnist.load_data()\n",
    "print(X_train.shape, Y_train.shape)\n",
    "print(X_test.shape, Y_test.shape)"
   ]
  },
  {
   "cell_type": "code",
   "execution_count": 182,
   "metadata": {},
   "outputs": [
    {
     "name": "stdout",
     "output_type": "stream",
     "text": [
      "(60000, 28, 28, 1) (60000, 10)\n"
     ]
    }
   ],
   "source": [
    "X_train = X_train.reshape(X_train.shape[0], X_train.shape[1], X_train.shape[2], 1)\n",
    "X_test = X_test.reshape(X_test.shape[0], X_test.shape[1], X_test.shape[2], 1)\n",
    "\n",
    "Y_train = utils.to_categorical(Y_train)\n",
    "Y_test = utils.to_categorical(Y_test)\n",
    "\n",
    "print(X_train.shape, Y_train.shape)\n",
    "\n",
    "n_in = X_train.shape[1:]\n",
    "n_out = Y_train.shape[-1]"
   ]
  },
  {
   "cell_type": "markdown",
   "metadata": {},
   "source": [
    "## (2) 모델링"
   ]
  },
  {
   "cell_type": "code",
   "execution_count": 193,
   "metadata": {
    "scrolled": false
   },
   "outputs": [
    {
     "name": "stdout",
     "output_type": "stream",
     "text": [
      "Model: \"model_4\"\n",
      "_________________________________________________________________\n",
      "Layer (type)                 Output Shape              Param #   \n",
      "=================================================================\n",
      "input_5 (InputLayer)         [(None, 28, 28, 1)]       0         \n",
      "_________________________________________________________________\n",
      "conv2d_8 (Conv2D)            (None, 28, 28, 16)        160       \n",
      "_________________________________________________________________\n",
      "batch_normalization_12 (Batc (None, 28, 28, 16)        64        \n",
      "_________________________________________________________________\n",
      "activation_16 (Activation)   (None, 28, 28, 16)        0         \n",
      "_________________________________________________________________\n",
      "conv2d_9 (Conv2D)            (None, 28, 28, 32)        4640      \n",
      "_________________________________________________________________\n",
      "max_pooling2d_4 (MaxPooling2 (None, 14, 14, 32)        0         \n",
      "_________________________________________________________________\n",
      "batch_normalization_13 (Batc (None, 14, 14, 32)        128       \n",
      "_________________________________________________________________\n",
      "activation_17 (Activation)   (None, 14, 14, 32)        0         \n",
      "_________________________________________________________________\n",
      "flatten_4 (Flatten)          (None, 6272)              0         \n",
      "_________________________________________________________________\n",
      "dropout_4 (Dropout)          (None, 6272)              0         \n",
      "_________________________________________________________________\n",
      "dense_8 (Dense)              (None, 128)               802944    \n",
      "_________________________________________________________________\n",
      "batch_normalization_14 (Batc (None, 128)               512       \n",
      "_________________________________________________________________\n",
      "activation_18 (Activation)   (None, 128)               0         \n",
      "_________________________________________________________________\n",
      "dense_9 (Dense)              (None, 10)                1290      \n",
      "_________________________________________________________________\n",
      "activation_19 (Activation)   (None, 10)                0         \n",
      "=================================================================\n",
      "Total params: 809,738\n",
      "Trainable params: 809,386\n",
      "Non-trainable params: 352\n",
      "_________________________________________________________________\n"
     ]
    }
   ],
   "source": [
    "def CNN_Dropout(n_in, n_out):\n",
    "    # Feature Extraction\n",
    "    model = Sequential()\n",
    "    model.add(Conv2D(16, kernel_size=(3, 3), padding='same', input_shape=n_in))\n",
    "    model.add(BatchNormalization())\n",
    "    model.add(ReLU())\n",
    "    model.add(Conv2D(32, (3, 3), padding='same',strides=(2, 2)))\n",
    "    model.add(MaxPooling2D(pool_size=(2, 2)))\n",
    "    model.add(BatchNormalization())\n",
    "    model.add(ReLU())\n",
    "    \n",
    "    # Classifier\n",
    "    model.add(Flatten())\n",
    "    model.add(Dropout(0.5))\n",
    "    model.add(Dense(128))\n",
    "    model.add(BatchNormalization())\n",
    "    model.add(ReLU())\n",
    "    model.add(Dense(n_out, activation='softmax'))\n",
    "    return model\n",
    "\n",
    "def CNN_Dropout_func(n_in, n_out):\n",
    "    input = Input(shape=(n_in))\n",
    "    x = Conv2D(16, kernel_size=(3, 3), padding='same', input_shape=n_in)(input)\n",
    "    x = BatchNormalization()(x)\n",
    "    x = Activation('relu')(x)\n",
    "    x = Conv2D(32, kernel_size=(3, 3), padding='same', input_shape=n_in)(x)\n",
    "    x = MaxPooling2D(pool_size=(2, 2))(x)\n",
    "    x = BatchNormalization()(x)\n",
    "    x = Activation('relu')(x)\n",
    "    x = Flatten()(x)\n",
    "    x = Dropout(0.5)(x)\n",
    "    x = Dense(128)(x)\n",
    "    x = BatchNormalization()(x)\n",
    "    x = Activation('relu')(x)\n",
    "    x = Dense(n_out)(x)\n",
    "    y = Activation('softmax')(x)\n",
    "    model = Model(inputs = input, outputs = y)\n",
    "    return model\n",
    "\n",
    "model=CNN_Dropout_func(n_in, n_out)\n",
    "model.summary()"
   ]
  },
  {
   "cell_type": "code",
   "execution_count": null,
   "metadata": {},
   "outputs": [],
   "source": []
  },
  {
   "cell_type": "markdown",
   "metadata": {},
   "source": [
    "## (3) 모델의 학습과정 설정"
   ]
  },
  {
   "cell_type": "code",
   "execution_count": 194,
   "metadata": {},
   "outputs": [],
   "source": [
    "from tensorflow.keras.optimizers import Adam\n",
    "adam = Adam(learning_rate=0.003, decay=1e-5, epsilon=None, amsgrad=False)\n",
    "model.compile(loss='categorical_crossentropy', optimizer=adam, metrics=['accuracy'])"
   ]
  },
  {
   "cell_type": "markdown",
   "metadata": {},
   "source": [
    "## (4) 모델 학습시키기"
   ]
  },
  {
   "cell_type": "code",
   "execution_count": 195,
   "metadata": {},
   "outputs": [],
   "source": [
    "# 학습과정을 저장할 directory 생성\n",
    "import os\n",
    "import datetime\n",
    "\n",
    "def make_dir(path):\n",
    "    today = str(datetime.date.today())\n",
    "    path_date = path+'/'+today\n",
    "    \n",
    "    if not os.path.exists(path_date):\n",
    "        os.makedirs(path_date)\n",
    "    return path_date"
   ]
  },
  {
   "cell_type": "code",
   "execution_count": 196,
   "metadata": {},
   "outputs": [
    {
     "name": "stdout",
     "output_type": "stream",
     "text": [
      "./model/2022-12-10/(28, 28, 1)_10_{epoch:02d}-{loss:.4f}_{val_loss:.4f}_{val_accuracy:.4f}.h5\n",
      "./tensorboard/2022-12-10\n"
     ]
    }
   ],
   "source": [
    "model_path=make_dir('./model')\n",
    "tensorboard_path=make_dir('./tensorboard')\n",
    "\n",
    "modelconfig = str(n_in)+'_'+str(n_out)\n",
    "model_name_path = model_path+'/'+modelconfig+\"_{epoch:02d}-{loss:.4f}_{val_loss:.4f}_{val_accuracy:.4f}.h5\"\n",
    "\n",
    "print(model_name_path)\n",
    "print(tensorboard_path)"
   ]
  },
  {
   "cell_type": "code",
   "execution_count": null,
   "metadata": {},
   "outputs": [],
   "source": []
  },
  {
   "cell_type": "code",
   "execution_count": 212,
   "metadata": {},
   "outputs": [
    {
     "name": "stderr",
     "output_type": "stream",
     "text": [
      "2022-12-10 21:48:29.005755: I tensorflow/core/profiler/lib/profiler_session.cc:131] Profiler session initializing.\n",
      "2022-12-10 21:48:29.005861: I tensorflow/core/profiler/lib/profiler_session.cc:146] Profiler session started.\n",
      "2022-12-10 21:48:29.913540: I tensorflow/core/profiler/lib/profiler_session.cc:164] Profiler session tear down.\n",
      "2022-12-10 21:48:29.913712: I tensorflow/core/profiler/internal/gpu/cupti_tracer.cc:1748] CUPTI activity buffer flushed\n",
      "2022-12-10 21:48:30.069501: I tensorflow/core/profiler/lib/profiler_session.cc:131] Profiler session initializing.\n",
      "2022-12-10 21:48:30.069535: I tensorflow/core/profiler/lib/profiler_session.cc:146] Profiler session started.\n"
     ]
    },
    {
     "name": "stdout",
     "output_type": "stream",
     "text": [
      "Epoch 1/30\n"
     ]
    },
    {
     "name": "stderr",
     "output_type": "stream",
     "text": [
      "2022-12-10 21:48:31.047274: I tensorflow/core/profiler/lib/profiler_session.cc:66] Profiler session collecting data.\n",
      "2022-12-10 21:48:31.047793: I tensorflow/core/profiler/internal/gpu/cupti_tracer.cc:1748] CUPTI activity buffer flushed\n",
      "2022-12-10 21:48:31.143709: I tensorflow/core/profiler/internal/gpu/cupti_collector.cc:673]  GpuTracer has collected 173 callback api events and 172 activity events. \n",
      "2022-12-10 21:48:31.155535: I tensorflow/core/profiler/lib/profiler_session.cc:164] Profiler session tear down.\n",
      "2022-12-10 21:48:31.164250: I tensorflow/core/profiler/rpc/client/save_profile.cc:136] Creating directory: ./tensorboard/2022-12-10/train/plugins/profile/2022_12_10_21_48_31\n",
      "\n",
      "2022-12-10 21:48:31.170318: I tensorflow/core/profiler/rpc/client/save_profile.cc:142] Dumped gzipped tool data for trace.json.gz to ./tensorboard/2022-12-10/train/plugins/profile/2022_12_10_21_48_31/piai-Precision-7920-Tower.trace.json.gz\n",
      "2022-12-10 21:48:31.179422: I tensorflow/core/profiler/rpc/client/save_profile.cc:136] Creating directory: ./tensorboard/2022-12-10/train/plugins/profile/2022_12_10_21_48_31\n",
      "\n",
      "2022-12-10 21:48:31.181209: I tensorflow/core/profiler/rpc/client/save_profile.cc:142] Dumped gzipped tool data for memory_profile.json.gz to ./tensorboard/2022-12-10/train/plugins/profile/2022_12_10_21_48_31/piai-Precision-7920-Tower.memory_profile.json.gz\n",
      "2022-12-10 21:48:31.181677: I tensorflow/core/profiler/rpc/client/capture_profile.cc:251] Creating directory: ./tensorboard/2022-12-10/train/plugins/profile/2022_12_10_21_48_31\n",
      "Dumped tool data for xplane.pb to ./tensorboard/2022-12-10/train/plugins/profile/2022_12_10_21_48_31/piai-Precision-7920-Tower.xplane.pb\n",
      "Dumped tool data for overview_page.pb to ./tensorboard/2022-12-10/train/plugins/profile/2022_12_10_21_48_31/piai-Precision-7920-Tower.overview_page.pb\n",
      "Dumped tool data for input_pipeline.pb to ./tensorboard/2022-12-10/train/plugins/profile/2022_12_10_21_48_31/piai-Precision-7920-Tower.input_pipeline.pb\n",
      "Dumped tool data for tensorflow_stats.pb to ./tensorboard/2022-12-10/train/plugins/profile/2022_12_10_21_48_31/piai-Precision-7920-Tower.tensorflow_stats.pb\n",
      "Dumped tool data for kernel_stats.pb to ./tensorboard/2022-12-10/train/plugins/profile/2022_12_10_21_48_31/piai-Precision-7920-Tower.kernel_stats.pb\n",
      "\n"
     ]
    },
    {
     "name": "stdout",
     "output_type": "stream",
     "text": [
      "211/211 - 3s - loss: 0.0035 - accuracy: 0.9989 - val_loss: 0.0337 - val_accuracy: 0.9938\n",
      "Epoch 2/30\n",
      "211/211 - 2s - loss: 0.0022 - accuracy: 0.9994 - val_loss: 0.0356 - val_accuracy: 0.9945\n",
      "Epoch 3/30\n",
      "211/211 - 2s - loss: 0.0017 - accuracy: 0.9995 - val_loss: 0.0328 - val_accuracy: 0.9945\n",
      "Epoch 4/30\n",
      "211/211 - 2s - loss: 0.0013 - accuracy: 0.9996 - val_loss: 0.0296 - val_accuracy: 0.9940\n",
      "Epoch 5/30\n",
      "211/211 - 2s - loss: 0.0010 - accuracy: 0.9998 - val_loss: 0.0325 - val_accuracy: 0.9942\n",
      "Epoch 6/30\n",
      "211/211 - 2s - loss: 0.0012 - accuracy: 0.9996 - val_loss: 0.0339 - val_accuracy: 0.9933\n",
      "Epoch 7/30\n",
      "211/211 - 2s - loss: 0.0011 - accuracy: 0.9997 - val_loss: 0.0334 - val_accuracy: 0.9942\n"
     ]
    }
   ],
   "source": [
    "from tensorflow.keras.callbacks import ModelCheckpoint, EarlyStopping, TensorBoard\n",
    "\n",
    "# Coding Time\n",
    "# Callback list (checkpointer, earlystopper, tb_saver)\n",
    "checkpointer = ModelCheckpoint(filepath = model_name_path,\n",
    "                              monitor='val_accuracy',\n",
    "                              verbose = 0,\n",
    "                              save_best_only=True)\n",
    "earlystopper = EarlyStopping(monitor='val_accuracy',\n",
    "                            patience = 5,\n",
    "                            verbose=0,\n",
    "                            mode='auto')\n",
    "tb_saver = TensorBoard(log_dir=tensorboard_path,\n",
    "                      write_graph = True)\n",
    "callback_list=[checkpointer, tb_saver, earlystopper]\n",
    "\n",
    "\n",
    "# Train (batch : 256, epochs : 50, validation_split : 0.3, verbose : 2, including callback list)\n",
    "history = model.fit(X_train,Y_train,batch_size=256, epochs=30, validation_split=0.1,verbose=2, callbacks=callback_list)"
   ]
  },
  {
   "cell_type": "markdown",
   "metadata": {},
   "source": [
    "- 모델 학습을 통해 train 모델의 성능이 최대 99.7%, test 모델의 성능이 최대 99.45%인 모델을 생성함."
   ]
  },
  {
   "cell_type": "markdown",
   "metadata": {},
   "source": [
    "## (5) 모델 평가하기"
   ]
  },
  {
   "cell_type": "code",
   "execution_count": 213,
   "metadata": {},
   "outputs": [
    {
     "name": "stdout",
     "output_type": "stream",
     "text": [
      "[0.0035455706529319286, 0.0022004437632858753, 0.0016667826566845179, 0.001273171161301434, 0.001011285581625998, 0.0012123630149289966, 0.001127733150497079]\n",
      "[0.9938333630561829, 0.9944999814033508, 0.9944999814033508, 0.9940000176429749, 0.9941666722297668, 0.9933333396911621, 0.9941666722297668]\n"
     ]
    }
   ],
   "source": [
    "print(history.history['loss'])\n",
    "print(history.history['val_accuracy'])"
   ]
  },
  {
   "cell_type": "code",
   "execution_count": 214,
   "metadata": {},
   "outputs": [
    {
     "data": {
      "image/png": "[encoded data removed]",
      "text/plain": [
       "<Figure size 640x480 with 2 Axes>"
      ]
     },
     "metadata": {},
     "output_type": "display_data"
    }
   ],
   "source": [
    "# matplotlib를 이용하여 history 객체 내부에 저장된 값들을 graph로 표현\n",
    "fig, loss_ax = plt.subplots()\n",
    "acc_ax = loss_ax.twinx()\n",
    "\n",
    "loss_ax.plot(history.history['loss'], 'y', label='train loss')\n",
    "loss_ax.plot(history.history['val_loss'], 'r', label='val loss')\n",
    "\n",
    "acc_ax.plot(history.history['accuracy'], 'b', label='train acc')\n",
    "acc_ax.plot(history.history['val_accuracy'], 'g', label='val acc')\n",
    "\n",
    "loss_ax.set_xlabel('epoch')\n",
    "loss_ax.set_ylabel('loss')\n",
    "acc_ax.set_ylabel('accuray')\n",
    "\n",
    "loss_ax.legend(loc='upper left')\n",
    "acc_ax.legend(loc='lower left')\n",
    "\n",
    "plt.show()\n",
    "\n",
    "# 저장하고 싶을 경우\n",
    "#fig.savefig('final.png')"
   ]
  },
  {
   "cell_type": "markdown",
   "metadata": {},
   "source": [
    "- History 확인\n",
    "    - epoch = 0 부터 train 모델과 test 모델의 정확도가 99%대로 들어섰다.\n",
    "    - 과소적합(underfitting)과 과대적합(overfitting)의 양상은 보이지 않는다.\n",
    "    - epoch = 1일 때 일반화 성능이 가장 좋은 것으로 보인다."
   ]
  },
  {
   "cell_type": "markdown",
   "metadata": {},
   "source": [
    "## (6) 결과 분석하기"
   ]
  },
  {
   "cell_type": "markdown",
   "metadata": {},
   "source": [
    "## 잘못 분류된 케이스 확인"
   ]
  },
  {
   "cell_type": "code",
   "execution_count": 216,
   "metadata": {
    "scrolled": false
   },
   "outputs": [
    {
     "name": "stdout",
     "output_type": "stream",
     "text": [
      "real label : 2, predict label : 9\n"
     ]
    },
    {
     "data": {
      "image/png": "[encoded data removed]",
      "text/plain": [
       "<Figure size 640x480 with 1 Axes>"
      ]
     },
     "metadata": {},
     "output_type": "display_data"
    },
    {
     "name": "stdout",
     "output_type": "stream",
     "text": [
      "real label : 2, predict label : 7\n"
     ]
    },
    {
     "data": {
      "image/png": "[encoded data removed]",
      "text/plain": [
       "<Figure size 640x480 with 1 Axes>"
      ]
     },
     "metadata": {},
     "output_type": "display_data"
    },
    {
     "name": "stdout",
     "output_type": "stream",
     "text": [
      "real label : 6, predict label : 0\n"
     ]
    },
    {
     "data": {
      "image/png": "[encoded data removed]",
      "text/plain": [
       "<Figure size 640x480 with 1 Axes>"
      ]
     },
     "metadata": {},
     "output_type": "display_data"
    },
    {
     "name": "stdout",
     "output_type": "stream",
     "text": [
      "real label : 8, predict label : 2\n"
     ]
    },
    {
     "data": {
      "image/png": "[encoded data removed]",
      "text/plain": [
       "<Figure size 640x480 with 1 Axes>"
      ]
     },
     "metadata": {},
     "output_type": "display_data"
    },
    {
     "name": "stdout",
     "output_type": "stream",
     "text": [
      "real label : 5, predict label : 3\n"
     ]
    },
    {
     "data": {
      "image/png": "[encoded data removed]",
      "text/plain": [
       "<Figure size 640x480 with 1 Axes>"
      ]
     },
     "metadata": {},
     "output_type": "display_data"
    }
   ],
   "source": [
    "def check_error(Number_Of_Error):\n",
    "    \n",
    "    # Coding Time\n",
    "    cnt = 0 \n",
    "    for i in range(len(Y_test)):\n",
    "        test_data = X_test[i].reshape(-1,28,28,1)\n",
    "        pred_y=model.predict(test_data,verbose=0)\n",
    "        pred_y = pred_y.argmax()\n",
    "    \n",
    "        if pred_y!= list(Y_test[i]).index(1):\n",
    "            print('real label : {}, predict label : {}'.format(list(Y_test[i]).index(1),pred_y))\n",
    "            plt.imshow(X_test[i],cmap = 'gray')\n",
    "            plt.show()\n",
    "            cnt+=1\n",
    "\n",
    "        if cnt >= Number_Of_Error:\n",
    "            break   \n",
    "            \n",
    "check_error(5)"
   ]
  },
  {
   "cell_type": "markdown",
   "metadata": {},
   "source": [
    "- 총 다섯가지의 케이스를 확인했다.\n",
    "- 기존의 Y_test[i]였던 부분을 list(Y_test[i]).index(1)으로 변경하여 프로그래밍하였다.\n",
    "- 잘못 읽을 가능성이 높은 숫자에서만 에러가 발생했음을 알 수 있었다."
   ]
  },
  {
   "cell_type": "markdown",
   "metadata": {},
   "source": [
    "## 현실적인 최대 정확도 제안"
   ]
  },
  {
   "cell_type": "code",
   "execution_count": 217,
   "metadata": {},
   "outputs": [
    {
     "name": "stdout",
     "output_type": "stream",
     "text": [
      "Predict    0     1     2     3    4    5    6     7    8     9\n",
      "Real                                                          \n",
      "0        979     0     0     0    0    0    0     1    0     0\n",
      "1          0  1132     2     0    0    0    0     1    0     0\n",
      "2          1     0  1025     0    1    0    0     4    0     1\n",
      "3          0     0     1  1004    0    2    0     1    1     1\n",
      "4          0     0     0     0  978    0    0     0    0     4\n",
      "5          1     0     0     5    0  885    1     0    0     0\n",
      "6          4     4     1     0    1    3  943     0    2     0\n",
      "7          0     2     6     0    1    0    0  1017    0     2\n",
      "8          1     0     2     1    0    0    0     0  968     2\n",
      "9          0     0     0     0    5    2    0     1    1  1000\n"
     ]
    }
   ],
   "source": [
    "import pandas as pd\n",
    "\n",
    "# Coding Time\n",
    "#X_test_flat, batch_size 활용하여 predict된 결과 list 만들기\n",
    "pred_y = model.predict(X_test, batch_size = 10000, verbose =0)\n",
    "Y_pred = [x.argmax() for x in pred_y]\n",
    "\n",
    "# Pandas를 활용하여 confusion matrix 만들기 \n",
    "data = {'Real':[list(i).index(1) for i in Y_test], 'Predict':Y_pred}\n",
    "df = pd.DataFrame(data, columns=['Real','Predict'])\n",
    "conf_mat = pd.crosstab(df['Real'], df['Predict'], rownames=['Real'], colnames=['Predict'])\n",
    "print(conf_mat)\n"
   ]
  },
  {
   "cell_type": "markdown",
   "metadata": {},
   "source": [
    "- 다음의 confusion matrix를 보면 오분류된 케이스는 9994개의 데이터 중 63개이며 모델의 성능은 99.36%이다.\n",
    "- 오분류된 데이터를 확인했을 때 숫자의 필기가 명확하지 않다는 점을 고려했을 때 99.36%의 성능은 단일모델로 구현했을 때 최선의 성능이라고 판단됨."
   ]
  },
  {
   "cell_type": "code",
   "execution_count": 215,
   "metadata": {},
   "outputs": [
    {
     "name": "stdout",
     "output_type": "stream",
     "text": [
      "79/79 [==============================] - 0s 5ms/step - loss: 0.0315 - accuracy: 0.9931\n",
      "loss : 0.0315, accruracy : 0.9931\n"
     ]
    }
   ],
   "source": [
    "loss_and_accuracy = model.evaluate(X_test, Y_test, batch_size=128)\n",
    "print('loss : %.4f, accruracy : %.4f'%(loss_and_accuracy[0],loss_and_accuracy[1]))"
   ]
  },
  {
   "cell_type": "markdown",
   "metadata": {},
   "source": [
    "- test 데이터로 성능을 확인해본 결과, confusion matrix에서 확인한 것과 같은 성능이 출력됨."
   ]
  },
  {
   "cell_type": "markdown",
   "metadata": {},
   "source": [
    "## 개선방향\n",
    "\n",
    "- 앙상블 기법 활용\n",
    "    - 앙상블 기법은 대체로 성능을 높이는 대표적인 방법 중 하나다. \n",
    "    - 따라서 여러 CNN 모델을 생성하여 도출된 결과를 앙상블할 것을 제안한다.\n",
    "<br>\n",
    "<br>\n",
    "- layer 갯수 및 파라미터 조정\n",
    "    - 주어진 시간 및 컴퓨터 환경 여건 상, 다양한 시도를 해보지 못했다. \n",
    "    - 따라서 더 많은 layer를 두어 계산해볼 것을 제안한다. \n",
    "    - 또한 모델 학습과정 설정(compile)과 학습(fit)에 사용하는 파라미터 종류와 시도횟수를 늘려 계산해볼 것을 제안한다."
   ]
  },
  {
   "cell_type": "markdown",
   "metadata": {},
   "source": [
    "\n"
   ]
  },
  {
   "cell_type": "markdown",
   "metadata": {},
   "source": [
    "## 시행착오"
   ]
  },
  {
   "cell_type": "markdown",
   "metadata": {},
   "source": [
    "- 하나의 모델로 바로 결정하지 않고 실습시간에 다루었던 세가지 모델과 Pytorch까지 전부 활용해보았습니다.\n",
    "- Pytorch을 이용한 CNN 모델도 성능을 99.3%까지 끌어올렸으나 Keras를 이용한 모델에 더 시간을 많이 투자했기에 Keras 라이브러리 모델로 보고서를 작성했습니다.\n",
    "- 구현해본 Keras 라이브러리를 활용한 CNN 모델 중 성능이 가장 좋게 나온 Dropout 모델을 이용해 과제를 제출하기로 결정하였고, 파라미터 조정을 통해 성능을 99.4까지 올렸습니다."
   ]
  },
  {
   "cell_type": "code",
   "execution_count": null,
   "metadata": {},
   "outputs": [],
   "source": [
    "# from tensorflow.keras.layers import Flatten, BatchNormalization, Dropout, ReLU\n",
    "# from tensorflow.keras.layers import Conv2D, MaxPooling2D\n",
    "\n",
    "# n_in = X_train.shape[1:]\n",
    "# n_out = Y_train.shape[-1]\n",
    "\n",
    "# def conv_maxpool_layers(n_in):\n",
    "#     model = Sequential()\n",
    "#     model.add(Conv2D(16,kernel_size=(3,3),padding='same',activation='relu',input_shape=(n_in)))\n",
    "#     model.add(Conv2D(32,kernel_size=(3,3),padding='same',strides=(2,2),activation='relu'))\n",
    "#     model.add(MaxPooling2D(pool_size=(2,2)))\n",
    "#     model.add(Flatten())\n",
    "#     model.compile(loss='categorical_crossentropy',optimizer='adam',metrics=['accuracy'])    \n",
    "#     return model\n",
    "\n",
    "# def fc_layers(n_out):\n",
    "#     model = Sequential()\n",
    "#     model.add(Dense(units=128,input_shape=(1568,),activation='relu'))\n",
    "#     model.add(Dense(units=n_out,activation='softmax'))\n",
    "#     return model\n",
    "\n",
    "# def CNN_sum(n_in, n_out):    \n",
    "#     #각 부분 모델\n",
    "#     feature_extractor = conv_maxpool_layers(n_in)\n",
    "#     feature_extractor.trainable = True\n",
    "#     ann_classifier = fc_layers(n_out)\n",
    "#     ann_classifier.trainable=True\n",
    "    \n",
    "#     #두 모델을 합쳐 새로운 모델 정의(Functional Style)\n",
    "#     x = Input(shape=n_in)\n",
    "#     feature = feature_extractor(x)\n",
    "#     y = ann_classifier(feature)\n",
    "#     model = Model(inputs=x, outputs=y)\n",
    "    \n",
    "#     '''\n",
    "#     Sequential Style\n",
    "#     model = Sequential()\n",
    "#     model.add(feature_extractor)\n",
    "#     model.add(ann_classifier)\n",
    "#     '''\n",
    "#     return model\n",
    "\n",
    "# model = CNN_sum(n_in, n_out)\n",
    "# model.summary()"
   ]
  },
  {
   "cell_type": "code",
   "execution_count": null,
   "metadata": {},
   "outputs": [],
   "source": [
    "# Pytorch\n",
    "\n",
    "# maximum_epoch = 70\n",
    "# learning_rate = 0.0073\n",
    "\n",
    "# def init_model():\n",
    "#     global net, loss_fn, optim\n",
    "#     net = CNN_model().to(device)\n",
    "#     loss_fn = nn.CrossEntropyLoss()\n",
    "#     optim = Adam(net.parameters(), lr=learning_rate)\n",
    "    \n",
    "# class CNN_model(nn.Module):\n",
    "#     def __init__(self):\n",
    "#         super(CNN_model, self).__init__()\n",
    "#         # 1번 레이어 생성\n",
    "#         self.layer1 = nn.Sequential(\n",
    "#             nn.Conv2d(in_channels=1, out_channels=32, kernel_size=3, stride=1, padding=1), # padding으로 인해 사이즈 보존\n",
    "#             nn.BatchNorm2d(32),\n",
    "#             nn.ReLU(),\n",
    "#             nn.Dropout(0.5),\n",
    "#             nn.MaxPool2d(kernel_size = 2, stride = 2),\n",
    "#         )\n",
    "        \n",
    "#         # 2번 레이어 생성\n",
    "#         self.layer2 = nn.Sequential(\n",
    "#             nn.Conv2d(in_channels=32, out_channels=64, kernel_size=3, stride=1, padding=1),\n",
    "#             nn.BatchNorm2d(64),\n",
    "#             nn.ReLU(),\n",
    "#             nn.Dropout(0.5),\n",
    "#             nn.MaxPool2d(kernel_size = 2, stride = 2))\n",
    "        \n",
    "#         #마지막 0 ~ 9 classification을 위한 fully connected layer 생성\n",
    "#         self.fc1 = nn.Linear(7 * 7 * 64, 10, bias = True) \n",
    "        \n",
    "#         #가중치 초기화\n",
    "#         nn.init.xavier_uniform_(self.fc1.weight)\n",
    "\n",
    "#    #모델 설계 후 데이터셋이 layer들을 통과할 수 있게 함.\n",
    "#     def forward(self, x):\n",
    "#         conv_out = self.layer1(x)\n",
    "#         out = self.layer2(conv_out)\n",
    "#         out = out.view(out.size(0), -1) # 설명 1\n",
    "#         out = self.fc1(out)\n",
    "#         return out, conv_out\n",
    "\n",
    "# # Model structure check\n",
    "# Summary(CNN_model().to(device),(1, 28, 28))"
   ]
  },
  {
   "cell_type": "markdown",
   "metadata": {},
   "source": [
    "- 파라미터 조정도 결코 쉽지 않았습니다.\n",
    "- loss, optimizer, metrics 전부 다르게 설정하면서 성능을 비교했습니다. learning_rate는 소수점자리를 낮추고 높여가면서 최적점을 찾으려 노력했습니다."
   ]
  },
  {
   "cell_type": "code",
   "execution_count": null,
   "metadata": {},
   "outputs": [],
   "source": [
    "# model.compile(optimizer=tf.keras.optimizers.Adam(learning_rate=0.002), \n",
    "#               loss='categorical_crossentropy', \n",
    "#               metrics='accuracy')\n",
    "\n",
    "\n",
    "# model.compile(optimizer=tf.keras.optimizers.RMSprop(), \n",
    "#               loss='categorical_crossentropy', \n",
    "#               metrics='accuracy')\n",
    "\n",
    "\n",
    "# from tensorflow.keras.optimizers import RMSprop\n",
    "# model.compile(loss=\"categorical_crossentropy\",\n",
    "#               optimizer=RMSprop(lr=0.003,rho=0.9, epsilon=1e-08, decay=0.00001),\n",
    "#             metrics='binary_accuracy')"
   ]
  },
  {
   "cell_type": "code",
   "execution_count": null,
   "metadata": {},
   "outputs": [],
   "source": []
  },
  {
   "cell_type": "code",
   "execution_count": null,
   "metadata": {},
   "outputs": [],
   "source": []
  }
 ],
 "metadata": {
  "kernelspec": {
   "display_name": "Python 3",
   "language": "python",
   "name": "python3"
  },
  "language_info": {
   "codemirror_mode": {
    "name": "ipython",
    "version": 3
   },
   "file_extension": ".py",
   "mimetype": "text/x-python",
   "name": "python",
   "nbconvert_exporter": "python",
   "pygments_lexer": "ipython3",
   "version": "3.9.13"
  }
 },
 "nbformat": 4,
 "nbformat_minor": 4
}
